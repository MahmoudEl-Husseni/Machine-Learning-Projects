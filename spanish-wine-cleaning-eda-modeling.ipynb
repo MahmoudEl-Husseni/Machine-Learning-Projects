{
 "cells": [
  {
   "cell_type": "markdown",
   "id": "e15112bc",
   "metadata": {},
   "source": [
    "<h1 style=\"color:#681c0b\"><strong>For better visualizations experience check this notebook at: </strong>\n",
    "<a href='https://www.kaggle.com/code/mahmoudelhusseni/spanish-wine-cleaning-eda-modeling/notebook'>\n",
    "<img src='https://img.shields.io/static/v1?style=for-the-badge&message=Kaggle&color=222222&logo=Kaggle&logoColor=20BEFF&label=' alt='Kaggle'></img></a></h1>"
   ]
  },
  {
   "cell_type": "markdown",
   "id": "29e2b76a",
   "metadata": {
    "_cell_guid": "b1076dfc-b9ad-4769-8c92-a6c4dae69d19",
    "_uuid": "8f2839f25d086af736a60e9eeb907d3b93b6e0e5",
    "papermill": {
     "duration": 0.017387,
     "end_time": "2022-08-18T19:03:43.124315",
     "exception": false,
     "start_time": "2022-08-18T19:03:43.106928",
     "status": "completed"
    },
    "tags": []
   },
   "source": [
    "<font size=3>In this notebook, I have [**spanish wine dataset**](https://www.kaggle.com/datasets/fedesoriano/spanish-wine-quality-dataset), I am going to do some data preprocessing, analysis and finally I will create a machine learning model to predict quality and price of wine.<br></font>\n",
    "> <font size=3>Data Info</font>:<br>\n",
    "This dataset is related to red variants of spanish wines. The dataset describes several popularity and description metrics their effect on it's quality. The datasets can be used for classification or regression tasks. The classes are ordered and not balanced (i.e. the quality goes from almost 5 to 4 points). The task is to predict either the quality of wine or the prices using the given data."
   ]
  },
  {
   "cell_type": "markdown",
   "id": "f00e799b",
   "metadata": {
    "papermill": {
     "duration": 0.013637,
     "end_time": "2022-08-18T19:03:43.152334",
     "exception": false,
     "start_time": "2022-08-18T19:03:43.138697",
     "status": "completed"
    },
    "tags": []
   },
   "source": [
    "<a id='main'></a>\n",
    "<font color='#681c0b'><h2>Contents:</h2></font><br>[1. Prepairing enviroment](#1)<br>[2. Data Preprocessing](#2)<br>[3. EDA](#3)<br>[4. Feature Engineering](#4)<br>[5. Model Training](#5)"
   ]
  },
  {
   "cell_type": "markdown",
   "id": "12869d61",
   "metadata": {
    "papermill": {
     "duration": 0.013732,
     "end_time": "2022-08-18T19:03:43.181715",
     "exception": false,
     "start_time": "2022-08-18T19:03:43.167983",
     "status": "completed"
    },
    "tags": []
   },
   "source": [
    "<a id=1></a>\n",
    "<font color='#681c0b'><h2>Prepairing enviroment</h2>"
   ]
  },
  {
   "cell_type": "code",
   "execution_count": 1,
   "id": "9ec8a63a",
   "metadata": {
    "execution": {
     "iopub.execute_input": "2022-08-18T19:03:43.212629Z",
     "iopub.status.busy": "2022-08-18T19:03:43.211829Z",
     "iopub.status.idle": "2022-08-18T19:03:46.995991Z",
     "shell.execute_reply": "2022-08-18T19:03:46.994863Z"
    },
    "papermill": {
     "duration": 3.803717,
     "end_time": "2022-08-18T19:03:46.999395",
     "exception": false,
     "start_time": "2022-08-18T19:03:43.195678",
     "status": "completed"
    },
    "tags": []
   },
   "outputs": [],
   "source": [
    "import pandas as pd\n",
    "import numpy as np\n",
    "from matplotlib import pyplot as plt\n",
    "import seaborn as sns\n",
    "\n",
    "import warnings\n",
    "warnings.simplefilter('ignore')\n",
    "\n",
    "\n",
    "import plotly.express as px\n",
    "import plotly.graph_objects as go\n",
    "from plotly.subplots import make_subplots\n",
    "\n",
    "from sklearn.preprocessing import OrdinalEncoder, OneHotEncoder, StandardScaler\n",
    "from sklearn.model_selection import train_test_split\n",
    "from sklearn.ensemble import RandomForestClassifier\n",
    "from sklearn.cluster import KMeans\n",
    "from sklearn.manifold import TSNE\n",
    "from sklearn.decomposition import PCA\n",
    "from sklearn.model_selection import GridSearchCV\n",
    "from sklearn.ensemble import ExtraTreesRegressor, VotingRegressor\n",
    "from sklearn.metrics import mean_absolute_error, mean_squared_error\n",
    "\n",
    "\n",
    "from statsmodels.api import OLS\n",
    "from xgboost import XGBRegressor\n",
    "\n",
    "\n",
    "plt.style.use('ggplot')\n",
    "sns.set_style('darkgrid')"
   ]
  },
  {
   "cell_type": "code",
   "execution_count": 2,
   "id": "2fca0196",
   "metadata": {
    "execution": {
     "iopub.execute_input": "2022-08-18T19:03:47.029754Z",
     "iopub.status.busy": "2022-08-18T19:03:47.029352Z",
     "iopub.status.idle": "2022-08-18T19:03:47.088757Z",
     "shell.execute_reply": "2022-08-18T19:03:47.087587Z"
    },
    "papermill": {
     "duration": 0.077862,
     "end_time": "2022-08-18T19:03:47.091680",
     "exception": false,
     "start_time": "2022-08-18T19:03:47.013818",
     "status": "completed"
    },
    "tags": []
   },
   "outputs": [
    {
     "data": {
      "text/html": [
       "<div>\n",
       "<style scoped>\n",
       "    .dataframe tbody tr th:only-of-type {\n",
       "        vertical-align: middle;\n",
       "    }\n",
       "\n",
       "    .dataframe tbody tr th {\n",
       "        vertical-align: top;\n",
       "    }\n",
       "\n",
       "    .dataframe thead th {\n",
       "        text-align: right;\n",
       "    }\n",
       "</style>\n",
       "<table border=\"1\" class=\"dataframe\">\n",
       "  <thead>\n",
       "    <tr style=\"text-align: right;\">\n",
       "      <th></th>\n",
       "      <th>winery</th>\n",
       "      <th>wine</th>\n",
       "      <th>year</th>\n",
       "      <th>rating</th>\n",
       "      <th>num_reviews</th>\n",
       "      <th>country</th>\n",
       "      <th>region</th>\n",
       "      <th>price</th>\n",
       "      <th>type</th>\n",
       "      <th>body</th>\n",
       "      <th>acidity</th>\n",
       "    </tr>\n",
       "  </thead>\n",
       "  <tbody>\n",
       "    <tr>\n",
       "      <th>0</th>\n",
       "      <td>Teso La Monja</td>\n",
       "      <td>Tinto</td>\n",
       "      <td>2013</td>\n",
       "      <td>4.9</td>\n",
       "      <td>58</td>\n",
       "      <td>Espana</td>\n",
       "      <td>Toro</td>\n",
       "      <td>995.00</td>\n",
       "      <td>Toro Red</td>\n",
       "      <td>5.0</td>\n",
       "      <td>3.0</td>\n",
       "    </tr>\n",
       "    <tr>\n",
       "      <th>1</th>\n",
       "      <td>Artadi</td>\n",
       "      <td>Vina El Pison</td>\n",
       "      <td>2018</td>\n",
       "      <td>4.9</td>\n",
       "      <td>31</td>\n",
       "      <td>Espana</td>\n",
       "      <td>Vino de Espana</td>\n",
       "      <td>313.50</td>\n",
       "      <td>Tempranillo</td>\n",
       "      <td>4.0</td>\n",
       "      <td>2.0</td>\n",
       "    </tr>\n",
       "    <tr>\n",
       "      <th>2</th>\n",
       "      <td>Vega Sicilia</td>\n",
       "      <td>Unico</td>\n",
       "      <td>2009</td>\n",
       "      <td>4.8</td>\n",
       "      <td>1793</td>\n",
       "      <td>Espana</td>\n",
       "      <td>Ribera del Duero</td>\n",
       "      <td>324.95</td>\n",
       "      <td>Ribera Del Duero Red</td>\n",
       "      <td>5.0</td>\n",
       "      <td>3.0</td>\n",
       "    </tr>\n",
       "    <tr>\n",
       "      <th>3</th>\n",
       "      <td>Vega Sicilia</td>\n",
       "      <td>Unico</td>\n",
       "      <td>1999</td>\n",
       "      <td>4.8</td>\n",
       "      <td>1705</td>\n",
       "      <td>Espana</td>\n",
       "      <td>Ribera del Duero</td>\n",
       "      <td>692.96</td>\n",
       "      <td>Ribera Del Duero Red</td>\n",
       "      <td>5.0</td>\n",
       "      <td>3.0</td>\n",
       "    </tr>\n",
       "    <tr>\n",
       "      <th>4</th>\n",
       "      <td>Vega Sicilia</td>\n",
       "      <td>Unico</td>\n",
       "      <td>1996</td>\n",
       "      <td>4.8</td>\n",
       "      <td>1309</td>\n",
       "      <td>Espana</td>\n",
       "      <td>Ribera del Duero</td>\n",
       "      <td>778.06</td>\n",
       "      <td>Ribera Del Duero Red</td>\n",
       "      <td>5.0</td>\n",
       "      <td>3.0</td>\n",
       "    </tr>\n",
       "  </tbody>\n",
       "</table>\n",
       "</div>"
      ],
      "text/plain": [
       "          winery           wine  year  rating  num_reviews country  \\\n",
       "0  Teso La Monja          Tinto  2013     4.9           58  Espana   \n",
       "1         Artadi  Vina El Pison  2018     4.9           31  Espana   \n",
       "2   Vega Sicilia          Unico  2009     4.8         1793  Espana   \n",
       "3   Vega Sicilia          Unico  1999     4.8         1705  Espana   \n",
       "4   Vega Sicilia          Unico  1996     4.8         1309  Espana   \n",
       "\n",
       "             region   price                  type  body  acidity  \n",
       "0              Toro  995.00              Toro Red   5.0      3.0  \n",
       "1    Vino de Espana  313.50           Tempranillo   4.0      2.0  \n",
       "2  Ribera del Duero  324.95  Ribera Del Duero Red   5.0      3.0  \n",
       "3  Ribera del Duero  692.96  Ribera Del Duero Red   5.0      3.0  \n",
       "4  Ribera del Duero  778.06  Ribera Del Duero Red   5.0      3.0  "
      ]
     },
     "execution_count": 2,
     "metadata": {},
     "output_type": "execute_result"
    }
   ],
   "source": [
    "DIR = '../input/spanish-wine-quality-dataset/'\n",
    "\n",
    "df = pd.read_csv(DIR + 'wines_SPA.csv')\n",
    "df.head()"
   ]
  },
  {
   "cell_type": "code",
   "execution_count": 3,
   "id": "59265891",
   "metadata": {
    "execution": {
     "iopub.execute_input": "2022-08-18T19:03:47.123434Z",
     "iopub.status.busy": "2022-08-18T19:03:47.122994Z",
     "iopub.status.idle": "2022-08-18T19:03:47.183204Z",
     "shell.execute_reply": "2022-08-18T19:03:47.181720Z"
    },
    "papermill": {
     "duration": 0.078125,
     "end_time": "2022-08-18T19:03:47.185568",
     "exception": false,
     "start_time": "2022-08-18T19:03:47.107443",
     "status": "completed"
    },
    "tags": []
   },
   "outputs": [
    {
     "data": {
      "text/html": [
       "<div>\n",
       "<style scoped>\n",
       "    .dataframe tbody tr th:only-of-type {\n",
       "        vertical-align: middle;\n",
       "    }\n",
       "\n",
       "    .dataframe tbody tr th {\n",
       "        vertical-align: top;\n",
       "    }\n",
       "\n",
       "    .dataframe thead th {\n",
       "        text-align: right;\n",
       "    }\n",
       "</style>\n",
       "<table border=\"1\" class=\"dataframe\">\n",
       "  <thead>\n",
       "    <tr style=\"text-align: right;\">\n",
       "      <th></th>\n",
       "      <th>rating</th>\n",
       "      <th>num_reviews</th>\n",
       "      <th>price</th>\n",
       "      <th>body</th>\n",
       "      <th>acidity</th>\n",
       "    </tr>\n",
       "  </thead>\n",
       "  <tbody>\n",
       "    <tr>\n",
       "      <th>count</th>\n",
       "      <td>7500.000000</td>\n",
       "      <td>7500.000000</td>\n",
       "      <td>7500.000000</td>\n",
       "      <td>6331.000000</td>\n",
       "      <td>6331.000000</td>\n",
       "    </tr>\n",
       "    <tr>\n",
       "      <th>mean</th>\n",
       "      <td>4.254933</td>\n",
       "      <td>451.109067</td>\n",
       "      <td>60.095822</td>\n",
       "      <td>4.158427</td>\n",
       "      <td>2.946612</td>\n",
       "    </tr>\n",
       "    <tr>\n",
       "      <th>std</th>\n",
       "      <td>0.118029</td>\n",
       "      <td>723.001856</td>\n",
       "      <td>150.356676</td>\n",
       "      <td>0.583352</td>\n",
       "      <td>0.248202</td>\n",
       "    </tr>\n",
       "    <tr>\n",
       "      <th>min</th>\n",
       "      <td>4.200000</td>\n",
       "      <td>25.000000</td>\n",
       "      <td>4.990000</td>\n",
       "      <td>2.000000</td>\n",
       "      <td>1.000000</td>\n",
       "    </tr>\n",
       "    <tr>\n",
       "      <th>25%</th>\n",
       "      <td>4.200000</td>\n",
       "      <td>389.000000</td>\n",
       "      <td>18.900000</td>\n",
       "      <td>4.000000</td>\n",
       "      <td>3.000000</td>\n",
       "    </tr>\n",
       "    <tr>\n",
       "      <th>50%</th>\n",
       "      <td>4.200000</td>\n",
       "      <td>404.000000</td>\n",
       "      <td>28.530000</td>\n",
       "      <td>4.000000</td>\n",
       "      <td>3.000000</td>\n",
       "    </tr>\n",
       "    <tr>\n",
       "      <th>75%</th>\n",
       "      <td>4.200000</td>\n",
       "      <td>415.000000</td>\n",
       "      <td>51.350000</td>\n",
       "      <td>5.000000</td>\n",
       "      <td>3.000000</td>\n",
       "    </tr>\n",
       "    <tr>\n",
       "      <th>max</th>\n",
       "      <td>4.900000</td>\n",
       "      <td>32624.000000</td>\n",
       "      <td>3119.080000</td>\n",
       "      <td>5.000000</td>\n",
       "      <td>3.000000</td>\n",
       "    </tr>\n",
       "  </tbody>\n",
       "</table>\n",
       "</div>"
      ],
      "text/plain": [
       "            rating   num_reviews        price         body      acidity\n",
       "count  7500.000000   7500.000000  7500.000000  6331.000000  6331.000000\n",
       "mean      4.254933    451.109067    60.095822     4.158427     2.946612\n",
       "std       0.118029    723.001856   150.356676     0.583352     0.248202\n",
       "min       4.200000     25.000000     4.990000     2.000000     1.000000\n",
       "25%       4.200000    389.000000    18.900000     4.000000     3.000000\n",
       "50%       4.200000    404.000000    28.530000     4.000000     3.000000\n",
       "75%       4.200000    415.000000    51.350000     5.000000     3.000000\n",
       "max       4.900000  32624.000000  3119.080000     5.000000     3.000000"
      ]
     },
     "metadata": {},
     "output_type": "display_data"
    },
    {
     "name": "stdout",
     "output_type": "stream",
     "text": [
      "############################################################\n",
      "\n",
      "<class 'pandas.core.frame.DataFrame'>\n",
      "RangeIndex: 7500 entries, 0 to 7499\n",
      "Data columns (total 11 columns):\n",
      " #   Column       Non-Null Count  Dtype  \n",
      "---  ------       --------------  -----  \n",
      " 0   winery       7500 non-null   object \n",
      " 1   wine         7500 non-null   object \n",
      " 2   year         7498 non-null   object \n",
      " 3   rating       7500 non-null   float64\n",
      " 4   num_reviews  7500 non-null   int64  \n",
      " 5   country      7500 non-null   object \n",
      " 6   region       7500 non-null   object \n",
      " 7   price        7500 non-null   float64\n",
      " 8   type         6955 non-null   object \n",
      " 9   body         6331 non-null   float64\n",
      " 10  acidity      6331 non-null   float64\n",
      "dtypes: float64(4), int64(1), object(6)\n",
      "memory usage: 644.7+ KB\n"
     ]
    },
    {
     "data": {
      "text/plain": [
       "None"
      ]
     },
     "metadata": {},
     "output_type": "display_data"
    }
   ],
   "source": [
    "display(df.describe())\n",
    "print(60*'#', end='\\n\\n')\n",
    "display(df.info())"
   ]
  },
  {
   "cell_type": "markdown",
   "id": "9fb489d4",
   "metadata": {
    "papermill": {
     "duration": 0.014375,
     "end_time": "2022-08-18T19:03:47.214946",
     "exception": false,
     "start_time": "2022-08-18T19:03:47.200571",
     "status": "completed"
    },
    "tags": []
   },
   "source": [
    "Year Column is behaved as a categorical variable in df.info() results, year should have been numerical variable so there must be an inaccurate data inputs we need to drop them "
   ]
  },
  {
   "cell_type": "code",
   "execution_count": 4,
   "id": "d1aac4e6",
   "metadata": {
    "execution": {
     "iopub.execute_input": "2022-08-18T19:03:47.246684Z",
     "iopub.status.busy": "2022-08-18T19:03:47.246243Z",
     "iopub.status.idle": "2022-08-18T19:03:47.266155Z",
     "shell.execute_reply": "2022-08-18T19:03:47.264807Z"
    },
    "papermill": {
     "duration": 0.038792,
     "end_time": "2022-08-18T19:03:47.268445",
     "exception": false,
     "start_time": "2022-08-18T19:03:47.229653",
     "status": "completed"
    },
    "tags": []
   },
   "outputs": [
    {
     "name": "stdout",
     "output_type": "stream",
     "text": [
      "20      N.V.\n",
      "133     N.V.\n",
      "142     N.V.\n",
      "143     N.V.\n",
      "267     N.V.\n",
      "        ... \n",
      "7388    N.V.\n",
      "7413    N.V.\n",
      "7438    N.V.\n",
      "7463    N.V.\n",
      "7488    N.V.\n",
      "Name: year, Length: 288, dtype: object\n"
     ]
    }
   ],
   "source": [
    "def func(x):\n",
    "    try :\n",
    "        return int(x)\n",
    "    except ValueError:\n",
    "        return x\n",
    "l = df['year'].apply(func)\n",
    "l = [*map(lambda x : type(x) == str, l.tolist())]\n",
    "\n",
    "print(df.loc[l, 'year'])\n",
    "\n",
    "df.loc[l, 'year'] = np.NaN\n",
    "df['year'] = df.year.values.astype(float)"
   ]
  },
  {
   "cell_type": "code",
   "execution_count": 5,
   "id": "d2d8aeb7",
   "metadata": {
    "execution": {
     "iopub.execute_input": "2022-08-18T19:03:47.300411Z",
     "iopub.status.busy": "2022-08-18T19:03:47.299980Z",
     "iopub.status.idle": "2022-08-18T19:03:47.329717Z",
     "shell.execute_reply": "2022-08-18T19:03:47.328485Z"
    },
    "papermill": {
     "duration": 0.049031,
     "end_time": "2022-08-18T19:03:47.332512",
     "exception": false,
     "start_time": "2022-08-18T19:03:47.283481",
     "status": "completed"
    },
    "tags": []
   },
   "outputs": [
    {
     "data": {
      "text/html": [
       "<div>\n",
       "<style scoped>\n",
       "    .dataframe tbody tr th:only-of-type {\n",
       "        vertical-align: middle;\n",
       "    }\n",
       "\n",
       "    .dataframe tbody tr th {\n",
       "        vertical-align: top;\n",
       "    }\n",
       "\n",
       "    .dataframe thead th {\n",
       "        text-align: right;\n",
       "    }\n",
       "</style>\n",
       "<table border=\"1\" class=\"dataframe\">\n",
       "  <thead>\n",
       "    <tr style=\"text-align: right;\">\n",
       "      <th></th>\n",
       "      <th>winery</th>\n",
       "      <th>wine</th>\n",
       "      <th>country</th>\n",
       "      <th>region</th>\n",
       "      <th>type</th>\n",
       "    </tr>\n",
       "  </thead>\n",
       "  <tbody>\n",
       "    <tr>\n",
       "      <th>count</th>\n",
       "      <td>7500</td>\n",
       "      <td>7500</td>\n",
       "      <td>7500</td>\n",
       "      <td>7500</td>\n",
       "      <td>6955</td>\n",
       "    </tr>\n",
       "    <tr>\n",
       "      <th>unique</th>\n",
       "      <td>480</td>\n",
       "      <td>847</td>\n",
       "      <td>1</td>\n",
       "      <td>76</td>\n",
       "      <td>21</td>\n",
       "    </tr>\n",
       "    <tr>\n",
       "      <th>top</th>\n",
       "      <td>Contino</td>\n",
       "      <td>Reserva</td>\n",
       "      <td>Espana</td>\n",
       "      <td>Rioja</td>\n",
       "      <td>Rioja Red</td>\n",
       "    </tr>\n",
       "    <tr>\n",
       "      <th>freq</th>\n",
       "      <td>457</td>\n",
       "      <td>467</td>\n",
       "      <td>7500</td>\n",
       "      <td>2440</td>\n",
       "      <td>2357</td>\n",
       "    </tr>\n",
       "  </tbody>\n",
       "</table>\n",
       "</div>"
      ],
      "text/plain": [
       "         winery     wine country region       type\n",
       "count      7500     7500    7500   7500       6955\n",
       "unique      480      847       1     76         21\n",
       "top     Contino  Reserva  Espana  Rioja  Rioja Red\n",
       "freq        457      467    7500   2440       2357"
      ]
     },
     "execution_count": 5,
     "metadata": {},
     "output_type": "execute_result"
    }
   ],
   "source": [
    "# split categorical data and numerical data\n",
    "cat_data = df.select_dtypes(include='object')\n",
    "num_data = df.select_dtypes(exclude='object')\n",
    "\n",
    "cat_data.describe()"
   ]
  },
  {
   "cell_type": "markdown",
   "id": "683ec2e7",
   "metadata": {
    "papermill": {
     "duration": 0.01475,
     "end_time": "2022-08-18T19:03:47.362525",
     "exception": false,
     "start_time": "2022-08-18T19:03:47.347775",
     "status": "completed"
    },
    "tags": []
   },
   "source": [
    "### [Return to main ⬆️](#main)"
   ]
  },
  {
   "cell_type": "markdown",
   "id": "a3dd3cdc",
   "metadata": {
    "papermill": {
     "duration": 0.014727,
     "end_time": "2022-08-18T19:03:47.392378",
     "exception": false,
     "start_time": "2022-08-18T19:03:47.377651",
     "status": "completed"
    },
    "tags": []
   },
   "source": [
    "<a id=2></a>\n",
    "<font color='#681c0b'><h2>Data Preprocessing</h2>"
   ]
  },
  {
   "cell_type": "code",
   "execution_count": 6,
   "id": "ca3c0d6b",
   "metadata": {
    "execution": {
     "iopub.execute_input": "2022-08-18T19:03:47.424654Z",
     "iopub.status.busy": "2022-08-18T19:03:47.424219Z",
     "iopub.status.idle": "2022-08-18T19:03:47.460943Z",
     "shell.execute_reply": "2022-08-18T19:03:47.459746Z"
    },
    "papermill": {
     "duration": 0.05598,
     "end_time": "2022-08-18T19:03:47.463714",
     "exception": false,
     "start_time": "2022-08-18T19:03:47.407734",
     "status": "completed"
    },
    "tags": []
   },
   "outputs": [],
   "source": [
    "# Preprocess categorical data\n",
    "OE = OrdinalEncoder()\n",
    "df.loc[:, [*cat_data.drop('type', axis=1).columns]] = OE.fit_transform(cat_data.drop('type', axis=1))"
   ]
  },
  {
   "cell_type": "code",
   "execution_count": 7,
   "id": "87997864",
   "metadata": {
    "execution": {
     "iopub.execute_input": "2022-08-18T19:03:47.497361Z",
     "iopub.status.busy": "2022-08-18T19:03:47.496375Z",
     "iopub.status.idle": "2022-08-18T19:03:47.508183Z",
     "shell.execute_reply": "2022-08-18T19:03:47.506788Z"
    },
    "papermill": {
     "duration": 0.031574,
     "end_time": "2022-08-18T19:03:47.511151",
     "exception": false,
     "start_time": "2022-08-18T19:03:47.479577",
     "status": "completed"
    },
    "tags": []
   },
   "outputs": [
    {
     "name": "stdout",
     "output_type": "stream",
     "text": [
      "Done\n"
     ]
    }
   ],
   "source": [
    "# 1) Country column has only one value so I need to drop this column\n",
    "try:\n",
    "    df.drop(labels=['country'], axis=1, inplace=True) \n",
    "    cat_data.drop(labels=['country'], axis=1, inplace=True)\n",
    "    print('Done')\n",
    "except KeyError:\n",
    "    print('Not found')\n",
    "    pass"
   ]
  },
  {
   "cell_type": "code",
   "execution_count": 8,
   "id": "1256936c",
   "metadata": {
    "execution": {
     "iopub.execute_input": "2022-08-18T19:03:47.544036Z",
     "iopub.status.busy": "2022-08-18T19:03:47.543296Z",
     "iopub.status.idle": "2022-08-18T19:03:47.554376Z",
     "shell.execute_reply": "2022-08-18T19:03:47.553467Z"
    },
    "papermill": {
     "duration": 0.030473,
     "end_time": "2022-08-18T19:03:47.557040",
     "exception": false,
     "start_time": "2022-08-18T19:03:47.526567",
     "status": "completed"
    },
    "tags": []
   },
   "outputs": [],
   "source": [
    "nulls = df.isnull().sum()\n",
    "nulls = pd.DataFrame({'Nulls':nulls, 'Percentage':nulls / df.count() * 100}).sort_values(by=['Nulls'], ascending=False)"
   ]
  },
  {
   "cell_type": "code",
   "execution_count": 9,
   "id": "4fdc6396",
   "metadata": {
    "_kg_hide-input": false,
    "execution": {
     "iopub.execute_input": "2022-08-18T19:03:47.590163Z",
     "iopub.status.busy": "2022-08-18T19:03:47.589296Z",
     "iopub.status.idle": "2022-08-18T19:03:48.697997Z",
     "shell.execute_reply": "2022-08-18T19:03:48.696891Z"
    },
    "papermill": {
     "duration": 1.129044,
     "end_time": "2022-08-18T19:03:48.701421",
     "exception": false,
     "start_time": "2022-08-18T19:03:47.572377",
     "status": "completed"
    },
    "tags": []
   },
   "outputs": [
    {
     "data": {
      "text/html": [
       "        <script type=\"text/javascript\">\n",
       "        window.PlotlyConfig = {MathJaxConfig: 'local'};\n",
       "        if (window.MathJax && window.MathJax.Hub && window.MathJax.Hub.Config) {window.MathJax.Hub.Config({SVG: {font: \"STIX-Web\"}});}\n",
       "        if (typeof require !== 'undefined') {\n",
       "        require.undef(\"plotly\");\n",
       "        requirejs.config({\n",
       "            paths: {\n",
       "                'plotly': ['https://cdn.plot.ly/plotly-2.12.1.min']\n",
       "            }\n",
       "        });\n",
       "        require(['plotly'], function(Plotly) {\n",
       "            window._Plotly = Plotly;\n",
       "        });\n",
       "        }\n",
       "        </script>\n",
       "        "
      ]
     },
     "metadata": {},
     "output_type": "display_data"
    },
    {
     "data": {
      "text/html": [
       "<div>                            <div id=\"e15b40e8-48d4-45fb-a504-e8eca17251e4\" class=\"plotly-graph-div\" style=\"height:525px; width:100%;\"></div>            <script type=\"text/javascript\">                require([\"plotly\"], function(Plotly) {                    window.PLOTLYENV=window.PLOTLYENV || {};                                    if (document.getElementById(\"e15b40e8-48d4-45fb-a504-e8eca17251e4\")) {                    Plotly.newPlot(                        \"e15b40e8-48d4-45fb-a504-e8eca17251e4\",                        [{\"alignmentgroup\":\"True\",\"hovertemplate\":\"index=%{x}<br>Nulls=%{marker.color}<extra></extra>\",\"legendgroup\":\"\",\"marker\":{\"color\":[1169,1169,545,290,0,0,0,0,0,0],\"coloraxis\":\"coloraxis\",\"pattern\":{\"shape\":\"\"}},\"name\":\"\",\"offsetgroup\":\"\",\"orientation\":\"v\",\"showlegend\":false,\"textposition\":\"auto\",\"x\":[\"body\",\"acidity\",\"type\",\"year\",\"winery\",\"wine\",\"rating\",\"num_reviews\",\"region\",\"price\"],\"xaxis\":\"x\",\"y\":[1169,1169,545,290,0,0,0,0,0,0],\"yaxis\":\"y\",\"type\":\"bar\"}],                        {\"template\":{\"data\":{\"histogram2dcontour\":[{\"type\":\"histogram2dcontour\",\"colorbar\":{\"outlinewidth\":0,\"ticks\":\"\"},\"colorscale\":[[0.0,\"#0d0887\"],[0.1111111111111111,\"#46039f\"],[0.2222222222222222,\"#7201a8\"],[0.3333333333333333,\"#9c179e\"],[0.4444444444444444,\"#bd3786\"],[0.5555555555555556,\"#d8576b\"],[0.6666666666666666,\"#ed7953\"],[0.7777777777777778,\"#fb9f3a\"],[0.8888888888888888,\"#fdca26\"],[1.0,\"#f0f921\"]]}],\"choropleth\":[{\"type\":\"choropleth\",\"colorbar\":{\"outlinewidth\":0,\"ticks\":\"\"}}],\"histogram2d\":[{\"type\":\"histogram2d\",\"colorbar\":{\"outlinewidth\":0,\"ticks\":\"\"},\"colorscale\":[[0.0,\"#0d0887\"],[0.1111111111111111,\"#46039f\"],[0.2222222222222222,\"#7201a8\"],[0.3333333333333333,\"#9c179e\"],[0.4444444444444444,\"#bd3786\"],[0.5555555555555556,\"#d8576b\"],[0.6666666666666666,\"#ed7953\"],[0.7777777777777778,\"#fb9f3a\"],[0.8888888888888888,\"#fdca26\"],[1.0,\"#f0f921\"]]}],\"heatmap\":[{\"type\":\"heatmap\",\"colorbar\":{\"outlinewidth\":0,\"ticks\":\"\"},\"colorscale\":[[0.0,\"#0d0887\"],[0.1111111111111111,\"#46039f\"],[0.2222222222222222,\"#7201a8\"],[0.3333333333333333,\"#9c179e\"],[0.4444444444444444,\"#bd3786\"],[0.5555555555555556,\"#d8576b\"],[0.6666666666666666,\"#ed7953\"],[0.7777777777777778,\"#fb9f3a\"],[0.8888888888888888,\"#fdca26\"],[1.0,\"#f0f921\"]]}],\"heatmapgl\":[{\"type\":\"heatmapgl\",\"colorbar\":{\"outlinewidth\":0,\"ticks\":\"\"},\"colorscale\":[[0.0,\"#0d0887\"],[0.1111111111111111,\"#46039f\"],[0.2222222222222222,\"#7201a8\"],[0.3333333333333333,\"#9c179e\"],[0.4444444444444444,\"#bd3786\"],[0.5555555555555556,\"#d8576b\"],[0.6666666666666666,\"#ed7953\"],[0.7777777777777778,\"#fb9f3a\"],[0.8888888888888888,\"#fdca26\"],[1.0,\"#f0f921\"]]}],\"contourcarpet\":[{\"type\":\"contourcarpet\",\"colorbar\":{\"outlinewidth\":0,\"ticks\":\"\"}}],\"contour\":[{\"type\":\"contour\",\"colorbar\":{\"outlinewidth\":0,\"ticks\":\"\"},\"colorscale\":[[0.0,\"#0d0887\"],[0.1111111111111111,\"#46039f\"],[0.2222222222222222,\"#7201a8\"],[0.3333333333333333,\"#9c179e\"],[0.4444444444444444,\"#bd3786\"],[0.5555555555555556,\"#d8576b\"],[0.6666666666666666,\"#ed7953\"],[0.7777777777777778,\"#fb9f3a\"],[0.8888888888888888,\"#fdca26\"],[1.0,\"#f0f921\"]]}],\"surface\":[{\"type\":\"surface\",\"colorbar\":{\"outlinewidth\":0,\"ticks\":\"\"},\"colorscale\":[[0.0,\"#0d0887\"],[0.1111111111111111,\"#46039f\"],[0.2222222222222222,\"#7201a8\"],[0.3333333333333333,\"#9c179e\"],[0.4444444444444444,\"#bd3786\"],[0.5555555555555556,\"#d8576b\"],[0.6666666666666666,\"#ed7953\"],[0.7777777777777778,\"#fb9f3a\"],[0.8888888888888888,\"#fdca26\"],[1.0,\"#f0f921\"]]}],\"mesh3d\":[{\"type\":\"mesh3d\",\"colorbar\":{\"outlinewidth\":0,\"ticks\":\"\"}}],\"scatter\":[{\"fillpattern\":{\"fillmode\":\"overlay\",\"size\":10,\"solidity\":0.2},\"type\":\"scatter\"}],\"parcoords\":[{\"type\":\"parcoords\",\"line\":{\"colorbar\":{\"outlinewidth\":0,\"ticks\":\"\"}}}],\"scatterpolargl\":[{\"type\":\"scatterpolargl\",\"marker\":{\"colorbar\":{\"outlinewidth\":0,\"ticks\":\"\"}}}],\"bar\":[{\"error_x\":{\"color\":\"#2a3f5f\"},\"error_y\":{\"color\":\"#2a3f5f\"},\"marker\":{\"line\":{\"color\":\"#E5ECF6\",\"width\":0.5},\"pattern\":{\"fillmode\":\"overlay\",\"size\":10,\"solidity\":0.2}},\"type\":\"bar\"}],\"scattergeo\":[{\"type\":\"scattergeo\",\"marker\":{\"colorbar\":{\"outlinewidth\":0,\"ticks\":\"\"}}}],\"scatterpolar\":[{\"type\":\"scatterpolar\",\"marker\":{\"colorbar\":{\"outlinewidth\":0,\"ticks\":\"\"}}}],\"histogram\":[{\"marker\":{\"pattern\":{\"fillmode\":\"overlay\",\"size\":10,\"solidity\":0.2}},\"type\":\"histogram\"}],\"scattergl\":[{\"type\":\"scattergl\",\"marker\":{\"colorbar\":{\"outlinewidth\":0,\"ticks\":\"\"}}}],\"scatter3d\":[{\"type\":\"scatter3d\",\"line\":{\"colorbar\":{\"outlinewidth\":0,\"ticks\":\"\"}},\"marker\":{\"colorbar\":{\"outlinewidth\":0,\"ticks\":\"\"}}}],\"scattermapbox\":[{\"type\":\"scattermapbox\",\"marker\":{\"colorbar\":{\"outlinewidth\":0,\"ticks\":\"\"}}}],\"scatterternary\":[{\"type\":\"scatterternary\",\"marker\":{\"colorbar\":{\"outlinewidth\":0,\"ticks\":\"\"}}}],\"scattercarpet\":[{\"type\":\"scattercarpet\",\"marker\":{\"colorbar\":{\"outlinewidth\":0,\"ticks\":\"\"}}}],\"carpet\":[{\"aaxis\":{\"endlinecolor\":\"#2a3f5f\",\"gridcolor\":\"white\",\"linecolor\":\"white\",\"minorgridcolor\":\"white\",\"startlinecolor\":\"#2a3f5f\"},\"baxis\":{\"endlinecolor\":\"#2a3f5f\",\"gridcolor\":\"white\",\"linecolor\":\"white\",\"minorgridcolor\":\"white\",\"startlinecolor\":\"#2a3f5f\"},\"type\":\"carpet\"}],\"table\":[{\"cells\":{\"fill\":{\"color\":\"#EBF0F8\"},\"line\":{\"color\":\"white\"}},\"header\":{\"fill\":{\"color\":\"#C8D4E3\"},\"line\":{\"color\":\"white\"}},\"type\":\"table\"}],\"barpolar\":[{\"marker\":{\"line\":{\"color\":\"#E5ECF6\",\"width\":0.5},\"pattern\":{\"fillmode\":\"overlay\",\"size\":10,\"solidity\":0.2}},\"type\":\"barpolar\"}],\"pie\":[{\"automargin\":true,\"type\":\"pie\"}]},\"layout\":{\"autotypenumbers\":\"strict\",\"colorway\":[\"#636efa\",\"#EF553B\",\"#00cc96\",\"#ab63fa\",\"#FFA15A\",\"#19d3f3\",\"#FF6692\",\"#B6E880\",\"#FF97FF\",\"#FECB52\"],\"font\":{\"color\":\"#2a3f5f\"},\"hovermode\":\"closest\",\"hoverlabel\":{\"align\":\"left\"},\"paper_bgcolor\":\"white\",\"plot_bgcolor\":\"#E5ECF6\",\"polar\":{\"bgcolor\":\"#E5ECF6\",\"angularaxis\":{\"gridcolor\":\"white\",\"linecolor\":\"white\",\"ticks\":\"\"},\"radialaxis\":{\"gridcolor\":\"white\",\"linecolor\":\"white\",\"ticks\":\"\"}},\"ternary\":{\"bgcolor\":\"#E5ECF6\",\"aaxis\":{\"gridcolor\":\"white\",\"linecolor\":\"white\",\"ticks\":\"\"},\"baxis\":{\"gridcolor\":\"white\",\"linecolor\":\"white\",\"ticks\":\"\"},\"caxis\":{\"gridcolor\":\"white\",\"linecolor\":\"white\",\"ticks\":\"\"}},\"coloraxis\":{\"colorbar\":{\"outlinewidth\":0,\"ticks\":\"\"}},\"colorscale\":{\"sequential\":[[0.0,\"#0d0887\"],[0.1111111111111111,\"#46039f\"],[0.2222222222222222,\"#7201a8\"],[0.3333333333333333,\"#9c179e\"],[0.4444444444444444,\"#bd3786\"],[0.5555555555555556,\"#d8576b\"],[0.6666666666666666,\"#ed7953\"],[0.7777777777777778,\"#fb9f3a\"],[0.8888888888888888,\"#fdca26\"],[1.0,\"#f0f921\"]],\"sequentialminus\":[[0.0,\"#0d0887\"],[0.1111111111111111,\"#46039f\"],[0.2222222222222222,\"#7201a8\"],[0.3333333333333333,\"#9c179e\"],[0.4444444444444444,\"#bd3786\"],[0.5555555555555556,\"#d8576b\"],[0.6666666666666666,\"#ed7953\"],[0.7777777777777778,\"#fb9f3a\"],[0.8888888888888888,\"#fdca26\"],[1.0,\"#f0f921\"]],\"diverging\":[[0,\"#8e0152\"],[0.1,\"#c51b7d\"],[0.2,\"#de77ae\"],[0.3,\"#f1b6da\"],[0.4,\"#fde0ef\"],[0.5,\"#f7f7f7\"],[0.6,\"#e6f5d0\"],[0.7,\"#b8e186\"],[0.8,\"#7fbc41\"],[0.9,\"#4d9221\"],[1,\"#276419\"]]},\"xaxis\":{\"gridcolor\":\"white\",\"linecolor\":\"white\",\"ticks\":\"\",\"title\":{\"standoff\":15},\"zerolinecolor\":\"white\",\"automargin\":true,\"zerolinewidth\":2},\"yaxis\":{\"gridcolor\":\"white\",\"linecolor\":\"white\",\"ticks\":\"\",\"title\":{\"standoff\":15},\"zerolinecolor\":\"white\",\"automargin\":true,\"zerolinewidth\":2},\"scene\":{\"xaxis\":{\"backgroundcolor\":\"#E5ECF6\",\"gridcolor\":\"white\",\"linecolor\":\"white\",\"showbackground\":true,\"ticks\":\"\",\"zerolinecolor\":\"white\",\"gridwidth\":2},\"yaxis\":{\"backgroundcolor\":\"#E5ECF6\",\"gridcolor\":\"white\",\"linecolor\":\"white\",\"showbackground\":true,\"ticks\":\"\",\"zerolinecolor\":\"white\",\"gridwidth\":2},\"zaxis\":{\"backgroundcolor\":\"#E5ECF6\",\"gridcolor\":\"white\",\"linecolor\":\"white\",\"showbackground\":true,\"ticks\":\"\",\"zerolinecolor\":\"white\",\"gridwidth\":2}},\"shapedefaults\":{\"line\":{\"color\":\"#2a3f5f\"}},\"annotationdefaults\":{\"arrowcolor\":\"#2a3f5f\",\"arrowhead\":0,\"arrowwidth\":1},\"geo\":{\"bgcolor\":\"white\",\"landcolor\":\"#E5ECF6\",\"subunitcolor\":\"white\",\"showland\":true,\"showlakes\":true,\"lakecolor\":\"white\"},\"title\":{\"x\":0.05},\"mapbox\":{\"style\":\"light\"}}},\"xaxis\":{\"anchor\":\"y\",\"domain\":[0.0,1.0],\"title\":{\"text\":\"columns\"}},\"yaxis\":{\"anchor\":\"x\",\"domain\":[0.0,1.0],\"title\":{\"text\":\"Nulls\"}},\"coloraxis\":{\"colorbar\":{\"title\":{\"text\":\"Nulls\"}},\"colorscale\":[[0.0,\"rgb(103,0,31)\"],[0.1,\"rgb(178,24,43)\"],[0.2,\"rgb(214,96,77)\"],[0.3,\"rgb(244,165,130)\"],[0.4,\"rgb(253,219,199)\"],[0.5,\"rgb(247,247,247)\"],[0.6,\"rgb(209,229,240)\"],[0.7,\"rgb(146,197,222)\"],[0.8,\"rgb(67,147,195)\"],[0.9,\"rgb(33,102,172)\"],[1.0,\"rgb(5,48,97)\"]]},\"legend\":{\"tracegroupgap\":0},\"title\":{\"text\":\"Number of Nulls in Each column\"},\"barmode\":\"relative\"},                        {\"responsive\": true}                    ).then(function(){\n",
       "                            \n",
       "var gd = document.getElementById('e15b40e8-48d4-45fb-a504-e8eca17251e4');\n",
       "var x = new MutationObserver(function (mutations, observer) {{\n",
       "        var display = window.getComputedStyle(gd).display;\n",
       "        if (!display || display === 'none') {{\n",
       "            console.log([gd, 'removed!']);\n",
       "            Plotly.purge(gd);\n",
       "            observer.disconnect();\n",
       "        }}\n",
       "}});\n",
       "\n",
       "// Listen for the removal of the full notebook cells\n",
       "var notebookContainer = gd.closest('#notebook-container');\n",
       "if (notebookContainer) {{\n",
       "    x.observe(notebookContainer, {childList: true});\n",
       "}}\n",
       "\n",
       "// Listen for the clearing of the current output cell\n",
       "var outputEl = gd.closest('.output');\n",
       "if (outputEl) {{\n",
       "    x.observe(outputEl, {childList: true});\n",
       "}}\n",
       "\n",
       "                        })                };                });            </script>        </div>"
      ]
     },
     "metadata": {},
     "output_type": "display_data"
    }
   ],
   "source": [
    "fig = px.bar(data_frame=nulls, y='Nulls', color_continuous_scale='rdbu',\n",
    "           title='Number of Nulls in Each column', color='Nulls')\n",
    "fig.update_layout(dict(xaxis={'title':{'text':'columns'}}))"
   ]
  },
  {
   "cell_type": "markdown",
   "id": "95f821ef",
   "metadata": {
    "papermill": {
     "duration": 0.015187,
     "end_time": "2022-08-18T19:03:48.732725",
     "exception": false,
     "start_time": "2022-08-18T19:03:48.717538",
     "status": "completed"
    },
    "tags": []
   },
   "source": [
    "### Handle Nulls"
   ]
  },
  {
   "cell_type": "code",
   "execution_count": 10,
   "id": "8e2a9ea8",
   "metadata": {
    "execution": {
     "iopub.execute_input": "2022-08-18T19:03:48.765528Z",
     "iopub.status.busy": "2022-08-18T19:03:48.765089Z",
     "iopub.status.idle": "2022-08-18T19:03:50.697808Z",
     "shell.execute_reply": "2022-08-18T19:03:50.696401Z"
    },
    "papermill": {
     "duration": 1.95243,
     "end_time": "2022-08-18T19:03:50.700732",
     "exception": false,
     "start_time": "2022-08-18T19:03:48.748302",
     "status": "completed"
    },
    "tags": []
   },
   "outputs": [],
   "source": [
    "# 1) body nulls\n",
    "# we can fill body na values using mean as its std is small so data are almost in very narrow range\n",
    "df['body'] = df['body'].fillna(value=df['body'].mode().iloc[0])\n",
    "\n",
    "# 2) year nulls\n",
    "# we can impute nulls in year using mode (they are 290 records wouldn't effect our data much)\n",
    "df['year'] = df['year'].fillna(value=df['year'].mean())\n",
    "# 3) type nulls\n",
    "'''\n",
    "from correlation map provided below, It seems that ['region', 'body', 'price', 'rating'] are more related to type,\n",
    "So we can use clustering algorithm to fill nulls in type\n",
    "'''\n",
    "\n",
    "most_related_cols = ['region', 'body', 'price', 'rating']\n",
    "train_data = df[most_related_cols]\n",
    "\n",
    "cluster_filler = KMeans(n_clusters=5, init='k-means++', tol=1e-3)\n",
    "cluster_filler.fit(train_data)\n",
    "\n",
    "# create mode groups\n",
    "mode_groups = []\n",
    "for i in range(5):\n",
    "    mode_groups.append(df.loc[cluster_filler.predict(train_data)==i, 'type'].mode().iloc[0])\n",
    "\n",
    "def fill_based_cluster(model:KMeans, df:pd.DataFrame(), groups_list, col:str, cols:list):\n",
    "    '''\n",
    "    input:  model             ==> the clustering model\n",
    "            df (pd.DataFrame) ==> the entire datafarame that has the column\n",
    "            groups(list)      ==> list of mode of each group\n",
    "            col(str)          ==> the name of column that have nulls\n",
    "            cols              ==> columns used in clustering\n",
    "            \n",
    "    output: out(int)\n",
    "    this method checks if x (element in col) is null, it returns the corrseponding value in dic\n",
    "    '''\n",
    "    col_idx = [*df.columns].index(col)\n",
    "    cols_idx = [[*df.columns].index(col) for col in cols]\n",
    "    for i, row in enumerate(df.values):\n",
    "        if pd.isnull(row[col_idx]):\n",
    "            group = model.predict(row[cols_idx].reshape(1, -1))\n",
    "            df['type'].iloc[i] = groups_list[int(group)]\n",
    "\n",
    "fill_based_cluster(cluster_filler, df, mode_groups, 'type', most_related_cols)\n",
    "\n",
    "df['type'] = OrdinalEncoder().fit_transform(df['type'].values.reshape(-1, 1))"
   ]
  },
  {
   "cell_type": "code",
   "execution_count": 11,
   "id": "9e1f3318",
   "metadata": {
    "execution": {
     "iopub.execute_input": "2022-08-18T19:03:50.734463Z",
     "iopub.status.busy": "2022-08-18T19:03:50.733545Z",
     "iopub.status.idle": "2022-08-18T19:03:51.842339Z",
     "shell.execute_reply": "2022-08-18T19:03:51.841007Z"
    },
    "papermill": {
     "duration": 1.128417,
     "end_time": "2022-08-18T19:03:51.844895",
     "exception": false,
     "start_time": "2022-08-18T19:03:50.716478",
     "status": "completed"
    },
    "tags": []
   },
   "outputs": [
    {
     "data": {
      "text/plain": [
       "<Figure size 864x432 with 0 Axes>"
      ]
     },
     "metadata": {},
     "output_type": "display_data"
    },
    {
     "data": {
      "image/png": "[encoded data removed]",
      "text/plain": [
       "<Figure size 720x720 with 4 Axes>"
      ]
     },
     "metadata": {},
     "output_type": "display_data"
    }
   ],
   "source": [
    "plt.figure(figsize=(12, 6))\n",
    "sns.clustermap(df.corr(), center=True, annot=True, fmt='.2f');"
   ]
  },
  {
   "cell_type": "code",
   "execution_count": 12,
   "id": "cbffbf98",
   "metadata": {
    "execution": {
     "iopub.execute_input": "2022-08-18T19:03:51.882093Z",
     "iopub.status.busy": "2022-08-18T19:03:51.880403Z",
     "iopub.status.idle": "2022-08-18T19:03:51.960801Z",
     "shell.execute_reply": "2022-08-18T19:03:51.959514Z"
    },
    "papermill": {
     "duration": 0.101859,
     "end_time": "2022-08-18T19:03:51.964084",
     "exception": false,
     "start_time": "2022-08-18T19:03:51.862225",
     "status": "completed"
    },
    "tags": []
   },
   "outputs": [
    {
     "name": "stdout",
     "output_type": "stream",
     "text": [
      "Score of the model: 1.0\n"
     ]
    }
   ],
   "source": [
    "# 4) acidity nulls\n",
    "# I will use classification model to predict null values in acidity\n",
    "\n",
    "X = df.drop('acidity', axis=1)\n",
    "y = df['acidity'].dropna()\n",
    "\n",
    "X_train = X.loc[~ df['acidity'].isnull()]\n",
    "y_train = y[~ df['acidity'].isnull()]\n",
    "X_test = X.loc[df['acidity'].isnull()]\n",
    "\n",
    "classifier_filler = RandomForestClassifier(n_estimators=10, bootstrap=True, max_depth=50)\n",
    "classifier_filler.fit(X_train, y_train)\n",
    "\n",
    "print(f\"Score of the model: {classifier_filler.score(X_train, y_train)}\")\n",
    "try:\n",
    "    df.loc[df['acidity'].isnull(), 'acidity'] = classifier_filler.predict(X_test)\n",
    "except ValueError:\n",
    "    pass"
   ]
  },
  {
   "cell_type": "code",
   "execution_count": 13,
   "id": "eb51717b",
   "metadata": {
    "execution": {
     "iopub.execute_input": "2022-08-18T19:03:52.001029Z",
     "iopub.status.busy": "2022-08-18T19:03:52.000187Z",
     "iopub.status.idle": "2022-08-18T19:03:52.009774Z",
     "shell.execute_reply": "2022-08-18T19:03:52.007977Z"
    },
    "papermill": {
     "duration": 0.030018,
     "end_time": "2022-08-18T19:03:52.012014",
     "exception": false,
     "start_time": "2022-08-18T19:03:51.981996",
     "status": "completed"
    },
    "tags": []
   },
   "outputs": [
    {
     "name": "stdout",
     "output_type": "stream",
     "text": [
      "Number of Nulls: 0\n"
     ]
    }
   ],
   "source": [
    "print(f'Number of Nulls: {df.isnull().sum().sum()}')"
   ]
  },
  {
   "cell_type": "markdown",
   "id": "799f004a",
   "metadata": {
    "papermill": {
     "duration": 0.016724,
     "end_time": "2022-08-18T19:03:52.045758",
     "exception": false,
     "start_time": "2022-08-18T19:03:52.029034",
     "status": "completed"
    },
    "tags": []
   },
   "source": [
    "<font size=3>Finally, there is no nulls in our dataset anymore 🥳️</font>"
   ]
  },
  {
   "cell_type": "markdown",
   "id": "4ba9f8fb",
   "metadata": {
    "papermill": {
     "duration": 0.016714,
     "end_time": "2022-08-18T19:03:52.079433",
     "exception": false,
     "start_time": "2022-08-18T19:03:52.062719",
     "status": "completed"
    },
    "tags": []
   },
   "source": [
    "### Duplicates"
   ]
  },
  {
   "cell_type": "code",
   "execution_count": 14,
   "id": "8da32c31",
   "metadata": {
    "execution": {
     "iopub.execute_input": "2022-08-18T19:03:52.116168Z",
     "iopub.status.busy": "2022-08-18T19:03:52.115407Z",
     "iopub.status.idle": "2022-08-18T19:03:52.128243Z",
     "shell.execute_reply": "2022-08-18T19:03:52.126981Z"
    },
    "papermill": {
     "duration": 0.035092,
     "end_time": "2022-08-18T19:03:52.131301",
     "exception": false,
     "start_time": "2022-08-18T19:03:52.096209",
     "status": "completed"
    },
    "tags": []
   },
   "outputs": [
    {
     "name": "stdout",
     "output_type": "stream",
     "text": [
      "Number of Duplicates: 5468\n"
     ]
    }
   ],
   "source": [
    "# number of duplicates in dataset\n",
    "print(f'Number of Duplicates: {df.duplicated().sum()}')"
   ]
  },
  {
   "cell_type": "code",
   "execution_count": 15,
   "id": "9d2cba70",
   "metadata": {
    "execution": {
     "iopub.execute_input": "2022-08-18T19:03:52.168972Z",
     "iopub.status.busy": "2022-08-18T19:03:52.167836Z",
     "iopub.status.idle": "2022-08-18T19:03:56.748627Z",
     "shell.execute_reply": "2022-08-18T19:03:56.747390Z"
    },
    "papermill": {
     "duration": 4.602352,
     "end_time": "2022-08-18T19:03:56.751396",
     "exception": false,
     "start_time": "2022-08-18T19:03:52.149044",
     "status": "completed"
    },
    "tags": []
   },
   "outputs": [
    {
     "data": {
      "text/html": [
       "<div>\n",
       "<style scoped>\n",
       "    .dataframe tbody tr th:only-of-type {\n",
       "        vertical-align: middle;\n",
       "    }\n",
       "\n",
       "    .dataframe tbody tr th {\n",
       "        vertical-align: top;\n",
       "    }\n",
       "\n",
       "    .dataframe thead th {\n",
       "        text-align: right;\n",
       "    }\n",
       "</style>\n",
       "<table border=\"1\" class=\"dataframe\">\n",
       "  <thead>\n",
       "    <tr style=\"text-align: right;\">\n",
       "      <th></th>\n",
       "      <th>winery</th>\n",
       "      <th>wine</th>\n",
       "      <th>year</th>\n",
       "      <th>rating</th>\n",
       "      <th>num_reviews</th>\n",
       "      <th>region</th>\n",
       "      <th>price</th>\n",
       "      <th>type</th>\n",
       "      <th>body</th>\n",
       "      <th>acidity</th>\n",
       "    </tr>\n",
       "  </thead>\n",
       "  <tbody>\n",
       "    <tr>\n",
       "      <th>2002</th>\n",
       "      <td>152.0</td>\n",
       "      <td>675.0</td>\n",
       "      <td>2011.0</td>\n",
       "      <td>4.2</td>\n",
       "      <td>420</td>\n",
       "      <td>21.0</td>\n",
       "      <td>23.95</td>\n",
       "      <td>10.0</td>\n",
       "      <td>4.0</td>\n",
       "      <td>3.0</td>\n",
       "    </tr>\n",
       "    <tr>\n",
       "      <th>2027</th>\n",
       "      <td>152.0</td>\n",
       "      <td>675.0</td>\n",
       "      <td>2011.0</td>\n",
       "      <td>4.2</td>\n",
       "      <td>420</td>\n",
       "      <td>21.0</td>\n",
       "      <td>23.95</td>\n",
       "      <td>10.0</td>\n",
       "      <td>4.0</td>\n",
       "      <td>3.0</td>\n",
       "    </tr>\n",
       "    <tr>\n",
       "      <th>2052</th>\n",
       "      <td>152.0</td>\n",
       "      <td>675.0</td>\n",
       "      <td>2011.0</td>\n",
       "      <td>4.2</td>\n",
       "      <td>420</td>\n",
       "      <td>21.0</td>\n",
       "      <td>23.95</td>\n",
       "      <td>10.0</td>\n",
       "      <td>4.0</td>\n",
       "      <td>3.0</td>\n",
       "    </tr>\n",
       "    <tr>\n",
       "      <th>2077</th>\n",
       "      <td>152.0</td>\n",
       "      <td>675.0</td>\n",
       "      <td>2011.0</td>\n",
       "      <td>4.2</td>\n",
       "      <td>420</td>\n",
       "      <td>21.0</td>\n",
       "      <td>23.95</td>\n",
       "      <td>10.0</td>\n",
       "      <td>4.0</td>\n",
       "      <td>3.0</td>\n",
       "    </tr>\n",
       "    <tr>\n",
       "      <th>2102</th>\n",
       "      <td>152.0</td>\n",
       "      <td>675.0</td>\n",
       "      <td>2011.0</td>\n",
       "      <td>4.2</td>\n",
       "      <td>420</td>\n",
       "      <td>21.0</td>\n",
       "      <td>23.95</td>\n",
       "      <td>10.0</td>\n",
       "      <td>4.0</td>\n",
       "      <td>3.0</td>\n",
       "    </tr>\n",
       "    <tr>\n",
       "      <th>...</th>\n",
       "      <td>...</td>\n",
       "      <td>...</td>\n",
       "      <td>...</td>\n",
       "      <td>...</td>\n",
       "      <td>...</td>\n",
       "      <td>...</td>\n",
       "      <td>...</td>\n",
       "      <td>...</td>\n",
       "      <td>...</td>\n",
       "      <td>...</td>\n",
       "    </tr>\n",
       "    <tr>\n",
       "      <th>7378</th>\n",
       "      <td>152.0</td>\n",
       "      <td>675.0</td>\n",
       "      <td>2011.0</td>\n",
       "      <td>4.2</td>\n",
       "      <td>420</td>\n",
       "      <td>21.0</td>\n",
       "      <td>23.95</td>\n",
       "      <td>10.0</td>\n",
       "      <td>4.0</td>\n",
       "      <td>3.0</td>\n",
       "    </tr>\n",
       "    <tr>\n",
       "      <th>7403</th>\n",
       "      <td>152.0</td>\n",
       "      <td>675.0</td>\n",
       "      <td>2011.0</td>\n",
       "      <td>4.2</td>\n",
       "      <td>420</td>\n",
       "      <td>21.0</td>\n",
       "      <td>23.95</td>\n",
       "      <td>10.0</td>\n",
       "      <td>4.0</td>\n",
       "      <td>3.0</td>\n",
       "    </tr>\n",
       "    <tr>\n",
       "      <th>7428</th>\n",
       "      <td>152.0</td>\n",
       "      <td>675.0</td>\n",
       "      <td>2011.0</td>\n",
       "      <td>4.2</td>\n",
       "      <td>420</td>\n",
       "      <td>21.0</td>\n",
       "      <td>23.95</td>\n",
       "      <td>10.0</td>\n",
       "      <td>4.0</td>\n",
       "      <td>3.0</td>\n",
       "    </tr>\n",
       "    <tr>\n",
       "      <th>7453</th>\n",
       "      <td>152.0</td>\n",
       "      <td>675.0</td>\n",
       "      <td>2011.0</td>\n",
       "      <td>4.2</td>\n",
       "      <td>420</td>\n",
       "      <td>21.0</td>\n",
       "      <td>23.95</td>\n",
       "      <td>10.0</td>\n",
       "      <td>4.0</td>\n",
       "      <td>3.0</td>\n",
       "    </tr>\n",
       "    <tr>\n",
       "      <th>7478</th>\n",
       "      <td>152.0</td>\n",
       "      <td>675.0</td>\n",
       "      <td>2011.0</td>\n",
       "      <td>4.2</td>\n",
       "      <td>420</td>\n",
       "      <td>21.0</td>\n",
       "      <td>23.95</td>\n",
       "      <td>10.0</td>\n",
       "      <td>4.0</td>\n",
       "      <td>3.0</td>\n",
       "    </tr>\n",
       "  </tbody>\n",
       "</table>\n",
       "<p>220 rows × 10 columns</p>\n",
       "</div>"
      ],
      "text/plain": [
       "      winery   wine    year  rating  num_reviews  region  price  type  body  \\\n",
       "2002   152.0  675.0  2011.0     4.2          420    21.0  23.95  10.0   4.0   \n",
       "2027   152.0  675.0  2011.0     4.2          420    21.0  23.95  10.0   4.0   \n",
       "2052   152.0  675.0  2011.0     4.2          420    21.0  23.95  10.0   4.0   \n",
       "2077   152.0  675.0  2011.0     4.2          420    21.0  23.95  10.0   4.0   \n",
       "2102   152.0  675.0  2011.0     4.2          420    21.0  23.95  10.0   4.0   \n",
       "...      ...    ...     ...     ...          ...     ...    ...   ...   ...   \n",
       "7378   152.0  675.0  2011.0     4.2          420    21.0  23.95  10.0   4.0   \n",
       "7403   152.0  675.0  2011.0     4.2          420    21.0  23.95  10.0   4.0   \n",
       "7428   152.0  675.0  2011.0     4.2          420    21.0  23.95  10.0   4.0   \n",
       "7453   152.0  675.0  2011.0     4.2          420    21.0  23.95  10.0   4.0   \n",
       "7478   152.0  675.0  2011.0     4.2          420    21.0  23.95  10.0   4.0   \n",
       "\n",
       "      acidity  \n",
       "2002      3.0  \n",
       "2027      3.0  \n",
       "2052      3.0  \n",
       "2077      3.0  \n",
       "2102      3.0  \n",
       "...       ...  \n",
       "7378      3.0  \n",
       "7403      3.0  \n",
       "7428      3.0  \n",
       "7453      3.0  \n",
       "7478      3.0  \n",
       "\n",
       "[220 rows x 10 columns]"
      ]
     },
     "execution_count": 15,
     "metadata": {},
     "output_type": "execute_result"
    }
   ],
   "source": [
    "l = {}\n",
    "for j in range(4000, 4200):\n",
    "    val = df.iloc[j].values\n",
    "    l[j] = []\n",
    "    for i, row in enumerate(df.values):\n",
    "        if [*row] == [*val]: l[j].append(i)  \n",
    "            \n",
    "df.iloc[l[4002]]"
   ]
  },
  {
   "cell_type": "markdown",
   "id": "288f12c4",
   "metadata": {
    "papermill": {
     "duration": 0.016881,
     "end_time": "2022-08-18T19:03:56.785740",
     "exception": false,
     "start_time": "2022-08-18T19:03:56.768859",
     "status": "completed"
    },
    "tags": []
   },
   "source": [
    "> It seems that every data point is repeated almost each **25** row, which explains the reason for all this amount of duplicates.<br>\n",
    "So, We need to remove all these duplicates"
   ]
  },
  {
   "cell_type": "code",
   "execution_count": 16,
   "id": "b5ebb102",
   "metadata": {
    "execution": {
     "iopub.execute_input": "2022-08-18T19:03:56.829735Z",
     "iopub.status.busy": "2022-08-18T19:03:56.829303Z",
     "iopub.status.idle": "2022-08-18T19:03:56.850120Z",
     "shell.execute_reply": "2022-08-18T19:03:56.848820Z"
    },
    "papermill": {
     "duration": 0.045999,
     "end_time": "2022-08-18T19:03:56.853963",
     "exception": false,
     "start_time": "2022-08-18T19:03:56.807964",
     "status": "completed"
    },
    "tags": []
   },
   "outputs": [
    {
     "name": "stdout",
     "output_type": "stream",
     "text": [
      "Number of Duplicates: 0\n"
     ]
    }
   ],
   "source": [
    "df = df.drop(df[df.duplicated()].index, axis=0)\n",
    "df.reset_index()\n",
    "print(f'Number of Duplicates: {df.duplicated().sum()}')"
   ]
  },
  {
   "cell_type": "markdown",
   "id": "d048c8c4",
   "metadata": {
    "papermill": {
     "duration": 0.018038,
     "end_time": "2022-08-18T19:03:56.893412",
     "exception": false,
     "start_time": "2022-08-18T19:03:56.875374",
     "status": "completed"
    },
    "tags": []
   },
   "source": [
    "<font size=3>Finally, there is no duplicates in our dataset anymore 🥳️</font>"
   ]
  },
  {
   "cell_type": "code",
   "execution_count": 17,
   "id": "15c3d55f",
   "metadata": {
    "execution": {
     "iopub.execute_input": "2022-08-18T19:03:56.933841Z",
     "iopub.status.busy": "2022-08-18T19:03:56.933398Z",
     "iopub.status.idle": "2022-08-18T19:03:56.964931Z",
     "shell.execute_reply": "2022-08-18T19:03:56.963538Z"
    },
    "papermill": {
     "duration": 0.052818,
     "end_time": "2022-08-18T19:03:56.967260",
     "exception": false,
     "start_time": "2022-08-18T19:03:56.914442",
     "status": "completed"
    },
    "tags": []
   },
   "outputs": [
    {
     "data": {
      "text/html": [
       "<div>\n",
       "<style scoped>\n",
       "    .dataframe tbody tr th:only-of-type {\n",
       "        vertical-align: middle;\n",
       "    }\n",
       "\n",
       "    .dataframe tbody tr th {\n",
       "        vertical-align: top;\n",
       "    }\n",
       "\n",
       "    .dataframe thead th {\n",
       "        text-align: right;\n",
       "    }\n",
       "</style>\n",
       "<table border=\"1\" class=\"dataframe\">\n",
       "  <thead>\n",
       "    <tr style=\"text-align: right;\">\n",
       "      <th></th>\n",
       "      <th>winery</th>\n",
       "      <th>wine</th>\n",
       "      <th>year</th>\n",
       "      <th>rating</th>\n",
       "      <th>num_reviews</th>\n",
       "      <th>region</th>\n",
       "      <th>price</th>\n",
       "      <th>type</th>\n",
       "      <th>body</th>\n",
       "      <th>acidity</th>\n",
       "    </tr>\n",
       "  </thead>\n",
       "  <tbody>\n",
       "    <tr>\n",
       "      <th>0</th>\n",
       "      <td>422.0</td>\n",
       "      <td>759.0</td>\n",
       "      <td>2013.0</td>\n",
       "      <td>4.9</td>\n",
       "      <td>58</td>\n",
       "      <td>69.0</td>\n",
       "      <td>995.00</td>\n",
       "      <td>19.0</td>\n",
       "      <td>5.0</td>\n",
       "      <td>3.0</td>\n",
       "    </tr>\n",
       "    <tr>\n",
       "      <th>1</th>\n",
       "      <td>33.0</td>\n",
       "      <td>819.0</td>\n",
       "      <td>2018.0</td>\n",
       "      <td>4.9</td>\n",
       "      <td>31</td>\n",
       "      <td>74.0</td>\n",
       "      <td>313.50</td>\n",
       "      <td>18.0</td>\n",
       "      <td>4.0</td>\n",
       "      <td>2.0</td>\n",
       "    </tr>\n",
       "    <tr>\n",
       "      <th>2</th>\n",
       "      <td>447.0</td>\n",
       "      <td>778.0</td>\n",
       "      <td>2009.0</td>\n",
       "      <td>4.8</td>\n",
       "      <td>1793</td>\n",
       "      <td>57.0</td>\n",
       "      <td>324.95</td>\n",
       "      <td>11.0</td>\n",
       "      <td>5.0</td>\n",
       "      <td>3.0</td>\n",
       "    </tr>\n",
       "    <tr>\n",
       "      <th>3</th>\n",
       "      <td>447.0</td>\n",
       "      <td>778.0</td>\n",
       "      <td>1999.0</td>\n",
       "      <td>4.8</td>\n",
       "      <td>1705</td>\n",
       "      <td>57.0</td>\n",
       "      <td>692.96</td>\n",
       "      <td>11.0</td>\n",
       "      <td>5.0</td>\n",
       "      <td>3.0</td>\n",
       "    </tr>\n",
       "    <tr>\n",
       "      <th>4</th>\n",
       "      <td>447.0</td>\n",
       "      <td>778.0</td>\n",
       "      <td>1996.0</td>\n",
       "      <td>4.8</td>\n",
       "      <td>1309</td>\n",
       "      <td>57.0</td>\n",
       "      <td>778.06</td>\n",
       "      <td>11.0</td>\n",
       "      <td>5.0</td>\n",
       "      <td>3.0</td>\n",
       "    </tr>\n",
       "  </tbody>\n",
       "</table>\n",
       "</div>"
      ],
      "text/plain": [
       "   winery   wine    year  rating  num_reviews  region   price  type  body  \\\n",
       "0   422.0  759.0  2013.0     4.9           58    69.0  995.00  19.0   5.0   \n",
       "1    33.0  819.0  2018.0     4.9           31    74.0  313.50  18.0   4.0   \n",
       "2   447.0  778.0  2009.0     4.8         1793    57.0  324.95  11.0   5.0   \n",
       "3   447.0  778.0  1999.0     4.8         1705    57.0  692.96  11.0   5.0   \n",
       "4   447.0  778.0  1996.0     4.8         1309    57.0  778.06  11.0   5.0   \n",
       "\n",
       "   acidity  \n",
       "0      3.0  \n",
       "1      2.0  \n",
       "2      3.0  \n",
       "3      3.0  \n",
       "4      3.0  "
      ]
     },
     "metadata": {},
     "output_type": "display_data"
    },
    {
     "name": "stdout",
     "output_type": "stream",
     "text": [
      "############################################################\n",
      "\n",
      "<class 'pandas.core.frame.DataFrame'>\n",
      "Int64Index: 2032 entries, 0 to 6100\n",
      "Data columns (total 10 columns):\n",
      " #   Column       Non-Null Count  Dtype  \n",
      "---  ------       --------------  -----  \n",
      " 0   winery       2032 non-null   float64\n",
      " 1   wine         2032 non-null   float64\n",
      " 2   year         2032 non-null   float64\n",
      " 3   rating       2032 non-null   float64\n",
      " 4   num_reviews  2032 non-null   int64  \n",
      " 5   region       2032 non-null   float64\n",
      " 6   price        2032 non-null   float64\n",
      " 7   type         2032 non-null   float64\n",
      " 8   body         2032 non-null   float64\n",
      " 9   acidity      2032 non-null   float64\n",
      "dtypes: float64(9), int64(1)\n",
      "memory usage: 174.6 KB\n"
     ]
    },
    {
     "data": {
      "text/plain": [
       "None"
      ]
     },
     "metadata": {},
     "output_type": "display_data"
    }
   ],
   "source": [
    "display(df.head())\n",
    "print(60*'#', end='\\n\\n')\n",
    "display(df.info())"
   ]
  },
  {
   "cell_type": "markdown",
   "id": "91ddac84",
   "metadata": {
    "papermill": {
     "duration": 0.01764,
     "end_time": "2022-08-18T19:03:57.002895",
     "exception": false,
     "start_time": "2022-08-18T19:03:56.985255",
     "status": "completed"
    },
    "tags": []
   },
   "source": [
    "### Outliers"
   ]
  },
  {
   "cell_type": "code",
   "execution_count": 18,
   "id": "331ef312",
   "metadata": {
    "execution": {
     "iopub.execute_input": "2022-08-18T19:03:57.040422Z",
     "iopub.status.busy": "2022-08-18T19:03:57.040030Z",
     "iopub.status.idle": "2022-08-18T19:03:57.082950Z",
     "shell.execute_reply": "2022-08-18T19:03:57.081659Z"
    },
    "papermill": {
     "duration": 0.064614,
     "end_time": "2022-08-18T19:03:57.085330",
     "exception": false,
     "start_time": "2022-08-18T19:03:57.020716",
     "status": "completed"
    },
    "tags": []
   },
   "outputs": [
    {
     "data": {
      "text/html": [
       "<div>\n",
       "<style scoped>\n",
       "    .dataframe tbody tr th:only-of-type {\n",
       "        vertical-align: middle;\n",
       "    }\n",
       "\n",
       "    .dataframe tbody tr th {\n",
       "        vertical-align: top;\n",
       "    }\n",
       "\n",
       "    .dataframe thead th {\n",
       "        text-align: right;\n",
       "    }\n",
       "</style>\n",
       "<table border=\"1\" class=\"dataframe\">\n",
       "  <thead>\n",
       "    <tr style=\"text-align: right;\">\n",
       "      <th></th>\n",
       "      <th>winery</th>\n",
       "      <th>wine</th>\n",
       "      <th>year</th>\n",
       "      <th>rating</th>\n",
       "      <th>num_reviews</th>\n",
       "      <th>region</th>\n",
       "      <th>price</th>\n",
       "      <th>type</th>\n",
       "      <th>body</th>\n",
       "      <th>acidity</th>\n",
       "    </tr>\n",
       "  </thead>\n",
       "  <tbody>\n",
       "    <tr>\n",
       "      <th>count</th>\n",
       "      <td>2032.000000</td>\n",
       "      <td>2032.000000</td>\n",
       "      <td>2032.000000</td>\n",
       "      <td>2032.000000</td>\n",
       "      <td>2032.000000</td>\n",
       "      <td>2032.000000</td>\n",
       "      <td>2032.000000</td>\n",
       "      <td>2032.000000</td>\n",
       "      <td>2032.000000</td>\n",
       "      <td>2032.000000</td>\n",
       "    </tr>\n",
       "    <tr>\n",
       "      <th>mean</th>\n",
       "      <td>243.866142</td>\n",
       "      <td>468.613189</td>\n",
       "      <td>2011.218112</td>\n",
       "      <td>4.402707</td>\n",
       "      <td>575.326772</td>\n",
       "      <td>51.072835</td>\n",
       "      <td>136.047103</td>\n",
       "      <td>11.081201</td>\n",
       "      <td>4.226378</td>\n",
       "      <td>2.930118</td>\n",
       "    </tr>\n",
       "    <tr>\n",
       "      <th>std</th>\n",
       "      <td>147.624265</td>\n",
       "      <td>246.146536</td>\n",
       "      <td>11.032908</td>\n",
       "      <td>0.146509</td>\n",
       "      <td>1381.480469</td>\n",
       "      <td>16.036413</td>\n",
       "      <td>273.090116</td>\n",
       "      <td>3.591911</td>\n",
       "      <td>0.616476</td>\n",
       "      <td>0.315430</td>\n",
       "    </tr>\n",
       "    <tr>\n",
       "      <th>min</th>\n",
       "      <td>0.000000</td>\n",
       "      <td>0.000000</td>\n",
       "      <td>1910.000000</td>\n",
       "      <td>4.200000</td>\n",
       "      <td>25.000000</td>\n",
       "      <td>0.000000</td>\n",
       "      <td>4.990000</td>\n",
       "      <td>0.000000</td>\n",
       "      <td>2.000000</td>\n",
       "      <td>1.000000</td>\n",
       "    </tr>\n",
       "    <tr>\n",
       "      <th>25%</th>\n",
       "      <td>103.000000</td>\n",
       "      <td>252.000000</td>\n",
       "      <td>2010.000000</td>\n",
       "      <td>4.300000</td>\n",
       "      <td>57.000000</td>\n",
       "      <td>53.000000</td>\n",
       "      <td>32.000000</td>\n",
       "      <td>10.000000</td>\n",
       "      <td>4.000000</td>\n",
       "      <td>3.000000</td>\n",
       "    </tr>\n",
       "    <tr>\n",
       "      <th>50%</th>\n",
       "      <td>255.500000</td>\n",
       "      <td>496.000000</td>\n",
       "      <td>2015.000000</td>\n",
       "      <td>4.400000</td>\n",
       "      <td>139.500000</td>\n",
       "      <td>57.000000</td>\n",
       "      <td>53.905000</td>\n",
       "      <td>11.000000</td>\n",
       "      <td>4.000000</td>\n",
       "      <td>3.000000</td>\n",
       "    </tr>\n",
       "    <tr>\n",
       "      <th>75%</th>\n",
       "      <td>381.000000</td>\n",
       "      <td>676.000000</td>\n",
       "      <td>2017.000000</td>\n",
       "      <td>4.500000</td>\n",
       "      <td>490.750000</td>\n",
       "      <td>59.000000</td>\n",
       "      <td>110.117500</td>\n",
       "      <td>12.000000</td>\n",
       "      <td>5.000000</td>\n",
       "      <td>3.000000</td>\n",
       "    </tr>\n",
       "    <tr>\n",
       "      <th>max</th>\n",
       "      <td>479.000000</td>\n",
       "      <td>846.000000</td>\n",
       "      <td>2021.000000</td>\n",
       "      <td>4.900000</td>\n",
       "      <td>32624.000000</td>\n",
       "      <td>75.000000</td>\n",
       "      <td>3119.080000</td>\n",
       "      <td>20.000000</td>\n",
       "      <td>5.000000</td>\n",
       "      <td>3.000000</td>\n",
       "    </tr>\n",
       "  </tbody>\n",
       "</table>\n",
       "</div>"
      ],
      "text/plain": [
       "            winery         wine         year       rating   num_reviews  \\\n",
       "count  2032.000000  2032.000000  2032.000000  2032.000000   2032.000000   \n",
       "mean    243.866142   468.613189  2011.218112     4.402707    575.326772   \n",
       "std     147.624265   246.146536    11.032908     0.146509   1381.480469   \n",
       "min       0.000000     0.000000  1910.000000     4.200000     25.000000   \n",
       "25%     103.000000   252.000000  2010.000000     4.300000     57.000000   \n",
       "50%     255.500000   496.000000  2015.000000     4.400000    139.500000   \n",
       "75%     381.000000   676.000000  2017.000000     4.500000    490.750000   \n",
       "max     479.000000   846.000000  2021.000000     4.900000  32624.000000   \n",
       "\n",
       "            region        price         type         body      acidity  \n",
       "count  2032.000000  2032.000000  2032.000000  2032.000000  2032.000000  \n",
       "mean     51.072835   136.047103    11.081201     4.226378     2.930118  \n",
       "std      16.036413   273.090116     3.591911     0.616476     0.315430  \n",
       "min       0.000000     4.990000     0.000000     2.000000     1.000000  \n",
       "25%      53.000000    32.000000    10.000000     4.000000     3.000000  \n",
       "50%      57.000000    53.905000    11.000000     4.000000     3.000000  \n",
       "75%      59.000000   110.117500    12.000000     5.000000     3.000000  \n",
       "max      75.000000  3119.080000    20.000000     5.000000     3.000000  "
      ]
     },
     "execution_count": 18,
     "metadata": {},
     "output_type": "execute_result"
    }
   ],
   "source": [
    "df.describe()"
   ]
  },
  {
   "cell_type": "markdown",
   "id": "b4d9020a",
   "metadata": {
    "papermill": {
     "duration": 0.018623,
     "end_time": "2022-08-18T19:03:57.122421",
     "exception": false,
     "start_time": "2022-08-18T19:03:57.103798",
     "status": "completed"
    },
    "tags": []
   },
   "source": [
    "#### From describe:\n",
    "num_reviews, price, body may have outliers"
   ]
  },
  {
   "cell_type": "code",
   "execution_count": 19,
   "id": "caf37042",
   "metadata": {
    "execution": {
     "iopub.execute_input": "2022-08-18T19:03:57.161233Z",
     "iopub.status.busy": "2022-08-18T19:03:57.160834Z",
     "iopub.status.idle": "2022-08-18T19:03:57.283842Z",
     "shell.execute_reply": "2022-08-18T19:03:57.282630Z"
    },
    "papermill": {
     "duration": 0.145499,
     "end_time": "2022-08-18T19:03:57.286289",
     "exception": false,
     "start_time": "2022-08-18T19:03:57.140790",
     "status": "completed"
    },
    "tags": []
   },
   "outputs": [
    {
     "data": {
      "text/html": [
       "<div>                            <div id=\"2f783b1e-4341-4edb-a2d2-b8845fd7cefc\" class=\"plotly-graph-div\" style=\"height:525px; width:100%;\"></div>            <script type=\"text/javascript\">                require([\"plotly\"], function(Plotly) {                    window.PLOTLYENV=window.PLOTLYENV || {};                                    if (document.getElementById(\"2f783b1e-4341-4edb-a2d2-b8845fd7cefc\")) {                    Plotly.newPlot(                        \"2f783b1e-4341-4edb-a2d2-b8845fd7cefc\",                        [{\"name\":\"num_reviews\",\"x\":[58,31,1793,1705,1309,1209,1201,926,643,630,591,454,438,417,398,372,295,250,217,211,174,172,145,139,125,118,103,87,87,84,79,70,69,68,68,56,52,50,40,40,32,31,28,26,26,26,12421,5266,4350,3929,3437,3164,3127,2935,2826,2765,2480,2419,2177,1892,1199,1141,940,935,690,685,675,593,560,543,511,476,442,425,393,347,312,308,303,300,295,292,291,285,280,268,264,256,254,251,243,240,225,220,214,205,203,196,184,173,171,137,136,134,133,132,131,131,127,123,118,117,116,112,110,108,102,102,100,94,92,89,87,82,80,74,72,67,65,64,63,60,59,58,57,53,51,50,49,49,47,45,42,41,41,40,39,37,35,33,32,31,31,30,29,28,27,27,6803,5938,5545,5116,4747,4685,4516,3383,3239,2416,2208,1608,1363,1108,1015,936,840,790,700,693,595,516,410,405,400,388,369,323,313,304,293,286,274,244,242,231,225,222,218,214,211,205,202,200,197,186,176,172,169,165,165,164,160,159,157,157,153,150,147,146,145,143,143,142,139,136,136,135,133,131,128,127,124,124,123,123,122,122,122,116,115,114,113,113,112,111,111,107,105,105,102,100,99,98,97,95,94,93,91,90,87,86,85,85,84,83,80,79,75,74,72,70,70,69,66,66,65,65,64,63,63,60,60,59,59,58,58,58,57,53,53,51,51,50,49,48,47,47,47,46,46,46,45,45,45,44,43,42,42,41,41,41,41,40,39,39,39,38,38,38,37,36,35,34,34,33,33,33,32,32,32,30,30,30,30,29,29,28,28,28,28,28,28,27,27,27,26,25,25,25,25,7529,7435,7237,5863,5372,5365,4979,4935,4411,3521,3443,3148,3118,2887,2858,2712,2710,2551,2530,2228,2220,2207,2144,1910,1864,1520,1503,1393,1346,1345,1236,1192,1163,1148,1094,1089,1014,1012,990,961,955,854,838,813,729,719,666,642,629,595,574,550,529,529,505,503,501,500,499,493,488,477,469,462,420,406,384,365,353,336,322,318,316,301,297,292,286,264,261,249,246,230,229,229,226,222,221,218,217,214,213,213,207,205,203,201,197,196,194,194,190,189,189,189,188,187,186,186,184,178,174,173,171,170,165,163,162,161,156,154,147,144,142,141,141,140,140,137,134,134,132,132,128,128,126,121,121,117,115,115,113,113,110,107,106,104,104,103,103,103,103,104,102,102,99,99,97,97,96,95,94,92,88,88,87,82,81,81,81,81,81,81,82,80,79,78,78,76,75,75,75,74,73,73,74,72,72,71,71,70,69,69,69,66,66,66,66,65,61,61,61,60,60,59,59,58,57,57,56,55,54,54,53,53,53,52,51,51,50,49,49,48,47,49,46,46,46,45,44,44,43,43,43,42,42,42,42,41,40,39,38,38,37,37,37,36,36,36,35,34,33,33,32,32,32,32,32,32,32,31,31,31,30,30,30,30,29,29,29,29,28,28,28,28,27,27,27,27,26,26,26,25,6395,5732,5614,5204,5109,4851,4625,4357,4121,3589,3456,3406,3327,3197,3095,3093,3089,2546,2418,2370,2228,2133,2080,2053,1993,1949,1948,1943,1853,1842,1777,1701,1561,1519,1514,1475,1463,1438,1372,1339,1326,1269,1266,1255,1226,1172,1166,1158,1121,1104,1098,1087,1069,1064,1048,1047,1039,1040,1018,995,966,941,927,925,915,852,827,825,812,809,799,798,787,783,778,746,726,695,683,681,667,664,639,624,618,617,609,581,575,561,560,550,550,542,527,527,523,516,514,512,506,499,498,495,485,481,471,450,443,442,436,421,414,412,406,389,389,376,367,363,360,351,349,343,336,334,333,328,319,316,313,309,306,305,298,296,296,293,292,269,269,267,267,262,259,258,252,249,245,243,241,239,236,234,233,225,224,222,220,219,218,217,215,208,207,206,204,201,201,200,196,195,194,189,187,185,180,177,173,172,172,172,169,168,168,166,165,165,164,164,162,162,161,160,159,159,159,158,158,155,155,154,152,151,150,149,148,147,146,145,143,142,141,141,142,136,135,134,134,134,131,130,130,128,128,127,126,123,123,122,122,122,120,119,119,117,117,116,115,114,114,113,112,112,109,109,108,106,106,106,106,105,104,102,102,101,101,100,99,99,99,99,98,98,98,98,97,97,96,95,95,95,95,94,94,92,89,90,88,88,88,86,85,85,85,85,85,83,82,80,80,80,80,79,79,78,77,77,75,75,75,74,74,74,73,73,73,72,72,72,71,71,70,70,70,70,69,69,69,69,68,68,67,67,66,66,65,65,66,65,65,64,65,64,64,64,64,63,63,63,62,61,61,60,60,60,59,59,59,59,59,58,58,58,57,56,56,56,56,55,55,55,55,54,54,54,53,52,52,52,51,51,51,51,50,50,50,49,49,49,48,48,47,47,46,45,45,45,44,44,44,43,43,44,43,43,43,42,43,41,41,41,41,41,41,41,40,40,39,39,39,39,38,37,37,37,38,37,37,37,37,36,36,36,36,35,35,35,35,35,35,35,34,34,34,34,34,34,34,34,33,33,33,33,33,32,32,32,32,32,32,31,31,31,31,31,30,30,30,29,28,28,28,28,28,28,28,27,27,27,27,27,27,27,27,27,26,26,26,25,25,25,25,10273,9092,7401,7293,6521,6345,5152,4994,4767,4457,4266,4023,3997,3829,3660,3620,3608,3587,3524,2990,2936,2923,2911,2844,2783,2705,2575,2453,2423,2341,2295,2241,2241,2062,2013,1924,1914,1884,1846,1824,1797,1749,1743,1645,1638,1615,1544,1528,1525,1493,1471,1465,1452,1367,1362,1330,1282,1247,1230,1230,1230,1181,1178,1119,1118,1116,1114,1067,1057,1022,1011,995,930,929,916,912,901,900,885,878,835,828,818,814,811,799,783,760,760,754,749,740,728,724,723,716,693,687,685,682,676,675,674,665,663,661,658,641,613,605,603,598,592,590,582,577,569,567,559,556,553,535,533,530,530,527,527,522,517,511,512,501,495,481,474,474,473,468,463,461,461,456,454,453,452,449,449,445,431,429,427,424,422,422,419,419,418,411,410,405,407,404,398,397,397,384,375,375,374,371,370,370,368,366,364,358,355,345,345,344,344,334,327,322,317,315,312,309,301,301,299,298,298,297,296,293,292,290,287,290,284,281,279,278,275,272,272,270,264,263,260,260,258,257,251,249,247,244,242,242,241,241,239,239,239,239,237,237,234,232,232,227,228,227,223,223,222,221,220,219,218,216,215,215,213,211,211,210,209,207,205,202,202,201,200,200,198,197,197,196,195,194,193,193,192,191,191,190,190,189,189,188,187,186,184,184,184,178,177,176,175,175,174,174,172,172,171,171,171,171,170,168,167,166,166,163,163,161,160,159,155,155,155,154,153,153,151,150,149,150,149,148,151,146,145,145,144,142,141,140,140,140,140,139,138,138,137,137,136,136,136,135,135,135,135,134,133,133,133,132,131,131,130,129,128,128,128,127,126,125,124,123,122,122,122,122,122,119,119,118,120,117,117,116,114,114,112,112,111,111,111,111,111,110,109,108,108,108,108,108,108,107,106,104,102,102,101,100,100,100,99,99,99,97,95,95,94,94,93,92,94,91,91,90,90,89,89,89,88,88,88,87,88,86,86,85,83,83,83,83,82,83,82,82,82,81,81,81,80,80,80,80,80,80,80,80,79,79,79,78,77,77,77,77,77,76,76,76,75,74,74,74,74,74,73,73,73,72,72,72,72,72,71,71,70,70,70,69,68,68,68,67,67,67,67,66,66,65,64,64,64,64,64,63,62,62,62,62,62,62,62,61,61,60,60,60,60,60,59,59,57,57,57,57,57,57,57,57,57,56,56,56,56,56,56,55,55,54,54,53,53,53,53,53,53,53,53,52,52,52,52,51,51,51,51,51,50,50,50,50,49,49,49,49,49,49,49,48,48,48,48,48,47,47,47,46,46,46,46,46,45,45,45,45,45,45,45,45,45,45,44,44,44,44,44,44,43,43,42,42,42,42,42,41,40,40,40,40,40,40,40,39,39,38,38,38,38,38,38,38,38,38,38,38,37,37,37,37,37,37,37,37,36,36,36,36,35,35,35,35,35,35,35,35,35,35,34,34,34,34,34,34,35,34,33,33,33,33,32,32,32,32,33,32,31,31,31,31,31,31,32,31,31,30,30,30,30,30,29,29,29,29,29,29,29,29,29,29,29,28,28,28,28,28,28,28,28,28,28,27,27,27,27,27,27,27,27,26,26,26,26,26,26,26,26,26,25,25,25,25,25,25,25,25,25,25,25,32624,16505,9098,8318,7825,7294,6567,6532,6256,6163,5802,5178,4610,4127,4091,3825,3788,3725,3648,3545,3453,3354,3225,3224,3101,2901,2820,2820,2788,2685,2676,2478,2375,2364,2271,2234,2135,2074,2050,2022,1981,1931,1921,1768,1688,1686,1665,1645,1627,1611,1573,1355,1343,1341,1337,1319,1308,1301,1267,1209,1164,1159,1155,1125,1095,1093,1086,1078,1070,1058,1048,1043,1040,1030,1016,1016,1008,998,970,969,964,918,918,915,900,897,883,879,876,865,855,852,842,840,834,832,811,806,778,778,777,776,769,753,745,740,733,732,731,721,707,696,692,684,682,676,671,668,668,667,666,648,647,645,633,630,628,627,624,622,612,611,600,599,592,591,587,576,570,559,559,558,557,555,540,528,527,520,519,519,518,514,513,505,499,490,488,487,485,483,484,481,480,473,466,459,447,442,441,439,438,436,433,432,429,424,423,421,420,420,420,420,417,415,414,410,412,410,410,407,405,404,404,402,400,398,395,392,390,390,389,388,384,415,414,412,410,400,389,388,421],\"type\":\"box\",\"xaxis\":\"x\",\"yaxis\":\"y\"},{\"name\":\"price\",\"x\":[995.0,313.5,324.95,692.96,778.06,490.0,349.0,810.89,345.0,315.0,514.85,105.15,430.0,925.0,350.0,166.18,1620.0,431.36,195.627379550654,824.43,253.0,570.51,1280.0,244.85,719.34,815.0,285.86,1410.26,813.96,435.75,369.05,1182.77,227.95,999.0,360.0,1190.0,1150.0,950.0,1021.21,544.5,1295.0,992.2,1289.44,1098.9,215.34,1094.9,423.5,239.5,175.5,194.0,381.15,584.43,555.2,445.28,189.0,362.25,289.0,325.0,107.57,234.0,500.94,698.9,872.47,877.85,827.94,113.18,679.72,787.59,480.06,75.1,154.9,145.0,290.0,795.0,371.78009750522,134.19,82.58,873.86,774.4,84.95,940.0,812.63,116.54,1500.0,1190.0,154.85,135.0,63.75,827.94,66.07,213.9,234.9,2087.25,89.9,1384.54,820.98,1250.0,1500.0,1715.18,932.3,1372.14,78.9,660.96,154.0,134.89,1422.96,207.11,340.49,317.63,108.9,700.0,185.0,911.43,1150.0,698.95,2814.16,1325.0,527.26,1071.45,299.0,43.13,1207.6,175.0,1252.35,145.9,447.95,813.96,1410.26,182.9,99.0,1113.2,654.31,134.26,380.0,292.09,400.85,202.01,250.0,88.9,77.9,191.61,123.89,114.28,95.57,93.95,248.0,397.0,194.86,65.05,86.9,472.5,379.0,185.15,94.2,46.0,919.6,81.9,680.0,218.0,177.0,187.3,195.59,135.0,225.2,79.8,116.187943627787,89.3,438.9,79.9,249.0,129.95,76.95,252.0,232.0,214.0,205.0,49.95,125.0,276.8,75.0,1359.75,81.5,890.0,43.5,99.0,1198.72,94.95,89.0,1785.96,108.21,391.5,1350.0,145.0,173.38,220.0,85.7,2884.04,79.9,68.7,1638.95,150.0,48.95,109.41,119.0,195.0,1595.0,519.55,89.0,511.9,980.0,73.0,280.0,932.3,251.99,61.69,1372.14,210.5,285.0,245.75,228.57,319.9,325.0,345.0,58.9,159.0,69.9,895.4,147.85,88.05,1080.0,301.0,275.0,1106.24,64.9,1503.0,1372.14,241.55,89.17,769.9,67.94,44.0,445.0,87.02,747.17,49.95,50.51,157.4,120.9,1746.94,75.3,47.5,359.9,43.5,136.0,117.239420060872,135.0,82.5,149.9,1260.0,59.0,82.5,195.0,195.0,54.5,79.1,272.0,99.0,189.99,317.63,399.6,701.05,74.9,654.31,247.75,144.99,945.0,50.0,126.64,162.38,81.0,2750.0,121.0,355.95,164.66,120.9,218.9,65.95,86.0,34.5,282.65,259.9,1099.28,35.0,269.95,27.2693427,1250.0,52.95,114.95,89.9,195.0,29.35,79.9,53.95,26.2,270.44,187.5,210.0,85.63,304.54,34.3,993.28,85.95,12.0,249.9,1238.43,128.0,135.5,40.5,43.1,85.0,123.0,106.35,207.0,75.95,185.3,205.95,40.45,176.89,79.9,79.0,195.27,58.9,1660.0,111.9,29.95,129.9,69.95,299.0,3119.08,99.95,41.69,374.35,46.45,2750.0,42.5,95.0,197.3,130.0,181.5,29.8,73.0,56.27,69.0,45.0,75.0,69.8,121.936825872994,78.65,400.0,125.0,229.0,40.41,101.94,172.5,33.2,125.0,125.0,125.0,31.75,39.5,64.0,33.8,58.95,33.25,61.8491765262698,44.27,45.9,239.2,68.9,164.0,32.85,40.95,69.5803235920536,110.0,49.75,51.0,59.9,290.7,37.7,146.95,68.9,70.5,64.0,168.0,173.95,65.0,67.6,53.95,42.95,127.23,47.3,169.4,121.838963251908,34.8,55.35,75.95,48.7,118.89,92.8716274104906,290.4,31.8,149.5,35.85,82.95,59.0,37.7,42.75,175.57,61.64,30.7,56.5,207.11,110.5,55.95,170.0,107.9,69.9,49.5,176.98,90.0,65.0,95.0,39.0,193.0,174.91,312.0,52.9,40.9,157.95,77.5,116.0,75.0,80.98,64.5,118.5,64.0,95.0,125.97,26.5,54.01,104.9,170.5,315.0,34.9,51.5,112.26,71.85,38.9,54.09,67.9,80.95,114.5,50.34,57.96,73.62,144.78,90.0,89.95,92.8,48.9,70.55,110.0,139.3,59.8,75.0,57.0,253.47,49.95,298.0,73.6,58.0,54.0,78.38,228.63,228.9,81.3,165.0,54.9,55.0,131.85,148.39,39.0,67.1,199.45,52.0,34.9,75.81,84.36,47.95,391.65,32.5,198.0,40.33,302.5,62.0,49.1,75.0,200.13,113.0,68.4059721390231,37.5,165.0,415.0,74.0,192.16,59.82,164.9,94.9,199.0,85.95,125.05,85.55,317.75,35.0,274.95,82.55,63.9,29.95,312.6,58.95,99.35,49.5,234.98,78.5,56.95,40.0,100.0,79.9,63.5,38.9,154.5,374.66,143.51,59.95,467.65,65.5,88.5,25.92,95.0,559.02,115.85,976.83,266.81,26.9,89.66,64.3,190.0,141.2,32.0,61.0,140.0,169.95,49.9,65.9,25.9,58.19,295.0,35.5,53.7,9.9,40.8333333333333,299.286840932831,43.6838985,1372.14,79.55,57.0,14.96,60.06,237.0,993.28,71.9,270.0,48.5,200.0,107.5,77.5,32.9,93.51,96.38,75.0,44.95,75.0,143.38,195.0,20.15,1373.66,320.0,157.0,295.0,29.95,187.91,113.2,120.0,89.9,59.25,89.0,71.3,34.5,195.0,160.81,38.75,75.04,230.0,40.0,225.0,69.0,55.14,90.0,56.5,54.9,132.95,142.0,53.25,16.9,13.45,29.5,29.9168517,69.0,73.0,51.5,38.0,189.0,39.5,89.9,76.8,47.5,31.5,47.95,47.95,38.61,27.9,37.25,37.8,61.55,43.95,31.95,25.5,35.65,125.0,125.0,23.0,43.5,24.7,27.4,96.0,37.52,43.95,19.6,160.0,43.5,27.75,32.5,29.45,51.526827174062,216.0,119.7,66.73,39.95,32.01,28.9,36.0,105.12,52.5,33.31,73.65,33.95,74.0,169.0,24.8,140.840866321332,175.5,37.57,26.24,28.5,178.0,78.65,125.0,35.9,35.7,33.0,60.95,21.95,82.5,109.9,33.5,38.95,34.9,37.8,59.9,38.7,90.0,69.79,59.9,27.39,93.0,73.57,49.67,91.57,90.0,69.95,190.0,140.0,35.75,52.5,95.0,45.15,58.2142247461506,42.7,28.7315367295517,32.65,43.86,36.9,54.83,55.33,26.9,57.9,74.0,34.35,76.3,45.3,299.0,56.5,54.9,55.31,53.91,35.1,38.5,49.97,32.9,34.0,90.5,38.3,41.32,98.0,55.71,35.2,73.6,41.0,31.5,56.75,20.9,30.73,49.9,52.0,90.0,26.63,32.58,46.5,32.5811870756681,29.95,34.9,43.9,65.0,35.9,210.5,55.95,92.8716274104906,65.4,45.890156,304.0,47.5,29.9,40.45,49.65,57.11,141.0,133.75,67.9,75.92,47.52,29.9,19.99,59.25,73.9,39.35,40.3,42.75,149.5,76.5,113.2,26.9,249.8,29.95,33.0,37.0,37.13,49.95,50.9,51.95,49.2,35.2,20.74,87.3,45.95,64.99,350.03,69.9,36.95,154.37,43.85,77.98,91.43,195.0,125.84,69.0,17.49,44.41,149.0,73.6,82.75,78.38,59.95,80.95,95.9,75.0,58.95,125.0,64.0,78.9,35.5,42.35,28.95,495.0,63.95,99.0,379.0,56.95,65.34,22.35,18.99,79.95,78.49,49.9,35.5,34.9,50.76,29.95,36.75,37.6,100.0,25.0,40.0,52.0,34.25,35.4,32.15,62.75,58.3,58.9,59.0,42.95,43.95,41.9188925,91.03,25.1,104.0,295.3,79.9,71.95,57.9,465.0,116.0,158.88,165.85,101.01,56.95,48.69,56.0,217.2,89.9,48.9,145.0,54.5,42.0,59.75,49.95,36.0,16.39,95.0,51.05,52.9,17.5,33.8,419.85,33.03,189.0,39.22,19.5,44.0,101.1,36.95,225.0,77.0,69.0,90.0,50.0,125.97,87.9,63.46,69.0,64.0,57.9,143.51,54.05,102.0,95.0,37.65,340.0,28.9,84.55,940.0,152.6,32.45,34.9,35.0,24.9,53.9,21.38,385.0,53.4,14.65,54.9,62.02,26.85,126.5,35.9,64.35,115.2,17.95,140.0,167.0,33.9,45.95,44.0,31.94,32.49,36.75,26.84,36.9,59.95,241.4,27.6,37.98,32.23,123.76,34.55,155.0,68.0,59.9,112.0,14.18,106.0,105.8121097,31.5,42.12,21.5,75.0,15.9,53.9,30.86,235.95,38.5,56.75,59.9,122.667917,34.56,65.9,59.75,509.25,158.88,37.66,62.7,60.73,27.25,49.6,43.5,225.0,89.97,37.9,18.9,53.8,55.25,44.9,32.9,82.5,33.78,34.9,367.39,104.5,74.55,119.0,31.9239296995019,27.35,33.0,280.0,140.0,32.0,91.5,52.95,35.15,23.0,37.9,119.95,42.9,39.9,50.0,209.31,165.0,97.0,26.5,32.5,194.0,74.95,28.9,18.99,19.95,38.66,180.0,75.5,7.89,18.0,17.9,15.4438025,33.55,19.8,145.0,189.99,59.9,29.9,33.8,43.5,39.9,119.35,60.0,40.0,34.75,24.0,59.9,245.25,109.76,59.9,130.5,61.5,33.23,38.5,38.12,65.0,41.0,74.5,45.39,26.0,39.75,29.89,38.0,132.4,69.0,13.99,24.5,16.25,39.95,138.0,35.4,20.95,39.99,159.8,139.63,19.97,75.8,52.5,20.95,51.95,43.44,35.48,28.0,239.5,60.61,35.35,89.9,74.56,33.4,29.25,15.84,173.0,34.5,21.88,27.9,54.9,31.99,24.9,11.5,140.0,15.5,95.0,40.2,26.45,7.9,29.95,59.9,115.9,33.0,72.0,13.95,195.99,46.0,24.38,20.0,6.95,17.48,37.9,79.75,24.95,29.9,29.13,33.9,28.0,25.8,37.86,34.0,33.64,36.35,35.5,66.75,19.01,75.9,38.05,40.4,63.33,26.9,34.95,24.5,93.5,99.9,35.09,36.8,80.35,46.0,50.41,150.0,33.95,48.6377226796774,27.29,65.9,33.66,190.0,55.0,26.9,36.9,25.95,34.5,47.9,36.94,75.0,24.9,58.0,32.55,26.9,63.34,37.9,46.95,39.22,18.5,74.0,35.0,26.7597646010531,32.7,49.0,38.0,33.59,94.95,36.91,30.67,86.15,32.9,17.07,19.45,39.9,28.65,33.82,67.95,60.95,35.01,69.95,28.18,34.22,49.75,33.95,21.5,80.0,36.0,25.45,17.16,116.9,39.5,40.0,39.78,39.98,69.9,77.7,95.0,24.9,25.9,22.5,50.0,57.8,21.24,70.0,15.75,26.0,25.8208254922442,62.95,17.15,33.9,80.0,80.0,16.9,40.92,95.0,58.9,30.887605,67.5,67.45,16.5,30.71,25.25,41.95,38.3,19.95,59.87,63.5,46.88,95.0,99.9,47.01,15.9,21.15,49.9,23.83,40.0,33.0,67.82,48.34,99.9,54.9,116.05,48.75,98.0,272.0,40.45,81.35,206.91,42.0,34.9,53.95,56.7603202298046,62.74,10.89,107.0,32.33,21.95,28.85,160.0,26.9,21.3,42.0,30.5,160.0,21.02,22.8,36.57,85.0,23.4,110.0,53.5,35.95,16.25,498.614195,25.95,29.0132184621944,40.5,35.85,38.4,20.65,39.53,25.31,53.95,27.0,36.95,26.5,27.9,189.45,90.0,34.1,35.51,27.7,75.0,425.0,35.51,33.9,65.0,45.0,84.9,27.85,30.99,36.5,25.9,13.75,53.35,54.5,90.15,18.48,92.0,22.55,17.95,85.0,26.9,63.95,12.9,24.61,107.74,162.5,33.6,16.9,84.9,30.9,21.8,19.9,24.3677926503816,18.88,30.3,42.35,64.5,49.61,145.0,21.4,21.5,55.0,27.9,28.5,25.65,43.95,60.45,30.3,62.5,57.49,127.2,182.0,34.25,15.9,37.35,259.0,20.5,24.0,80.0,59.55,50.67,91.0,88.0,70.89,59.9,32.9,21.4,64.0,47.0,60.25,15.9,32.0,62.5,24.5,110.0,82.0,55.0,36.5,123.82,114.6,130.0,33.5,62.8,34.5,92.24,36.111307180686,56.92,117.3,41.9,32.9,23.5,48.5,28.38,64.75,19.9,33.95,42.25,27.8,26.9,245.53,28.3,37.29,23.5,18.9,8.95,32.45,41.28,33.77,23.0,67.0,31.45,33.67,87.39,150.0,45.48,125.0,39.5,90.0,44.41,21.5,20.59,13.95,28.9,56.89,30.9166666666667,39.9,65.0,146.05,44.05,62.56,9.8840336,46.16,48.537665,97.5,42.0,75.0,85.0,52.8,20.4,26.2902950466486,19.9,92.45,17.95,130.5,39.0,34.9,28.5,25.89,27.5,35.9,63.53,112.76,18.95,10.45,40.95,39.75,23.44,133.34,35.0,57.5,23.95,77.9,97.35,84.95,53.9,12.19,43.95,85.4,23.43,43.24,35.0,54.52,24.0,176.5,18.5,23.5,28.0,73.9,100.0,62.9,265.0,49.0,30.75,50.0,32.18,34.9,33.5,92.24,52.95,33.15,24.51,135.95,46.9,19.8,39.51,119.95,249.0,95.25,24.95,36.91,158.88,90.6,24.9,18.35,65.25,23.95,148.65,21.95,37.49,16.5,33.95,10.76,118.0,34.9,150.0,64.8,35.15,145.0,26.9,42.9,215.34,29.9,20.45,15.71,39.99,34.95,88.0,25.5,79.9,45.9,24.0,8.9,65.0,47.0,20.5,62.9,31.13,73.0,58.0,34.5,41.9,33.9,28.5,24.1,27.9,84.5,36.78,54.5,21.4,217.8,23.22,51.2,38.0,67.9,32.9,45.0,260.0,69.0,98.0,348.85,23.95,27.9,15.0,155.0,57.9,36.93,52.0,31.5,654.31,75.0,113.72,27.45,69.9,40.5,39.95,55.45,177.45,11.91,54.95,25.88,34.85,37.0,75.0,47.45,22.8,199.0,59.9,120.13,47.0,84.9,78.95,9.99,31.5,29.95,36.95,32.0,25.95,21.5,23.3863295,43.8,123.75,75.5,29.9,24.0,150.0,29.4,170.0,93.26,75.95,23.77,27.11,42.5,75.0,68.99,21.95,13.237545,13.65,23.5,17.9,49.95,348.85,11.95,28.6,21.3,44.95,36.3,32.0,39.712635,17.9,39.9,140.0,249.95,28.83,196.29,28.4,14.5,260.0,36.9,25.8,38.0,137.75,79.9,41.5,24.5,68.55,81.35,121.5,79.98,60.0,13.99,195.52,68.0,16.9,27.5,29.25,75.0,23.9,34.9,532.0,95.0,44.1,17.7,18.9,35.35,270.0,34.95,348.85,14.9,39.7,75.5,189.9,21.01,23.9,12.8,39.95,22.35,27.25,16.99,55.0,21.5,106.92,37.065126,38.5,69.95,43.5,36.5,213.5,21.89,21.9,33.0,38.0,24.77,17.75,40.9,52.5,48.91,27.1,58.25,24.9,67.95,74.9,25.95,119.0,13.5,51.45,56.27,11.65,32.9,197.0,14.71,16.45,53.55,18.9,53.3,31.9,55.5,40.75,22.9,76.87,79.98,35.0,21.65,20.95,243.8,80.0,60.4,65.9,10.2,26.75,47.95,18.58,27.7,11.94,45.0,13.45,180.0,29.0,15.9,65.0,21.6,46.5,37.9,35.5,27.9,110.47,32.46,15.56,23.7,18.5,36.85,23.9,38.0,101.01,13.75,29.38,44.9,12.0,38.5,28.35,65.22,6.26,40.55,31.9,26.1,73.95,48.9,11.99,44.8,76.17,120.0,39.5,19.03,230.0,110.0,310.0,28.7550102072719,39.9,34.65,211.92,43.9,25.9,35.0,160.0,32.0,74.9,30.0,49.0,39.55,45.0,47.7,14.9,46.45,15.45,31.75,110.0,29.75,18.5,19.8563175,23.1,97.07,8.57,67.95,17.74,37.9,68.0,39.89,68.9,35.0,32.5,16.9,23.6,46.95,36.9,48.81,33.5,56.95,8.9,4.99,15.9,23.7,23.0,19.5,21.2,27.0,33.0,16.14,37.95,17.02,49.85,14.95,9.76,19.16,15.8,19.8333333333333,21.0,12.29,23.75,15.83,15.45,24.85,20.95,28.43,22.58,58.26,20.95,48.4,19.7,24.75,55.47,28.4,27.6,24.76,24.6,22.5,124.5,19.99,11.8,23.74,30.35,38.84,21.5,29.95,59.0,98.9,59.9,19.94,23.52,33.3733333333333,34.5,21.6,11.2,32.0010770950795,39.5,33.59,29.15,28.75,16.88,9.95,25.71,18.87,17.04,18.9,55.75,37.9,39.0,16.49,11.9,11.66,26.9,22.95,31.95,77.22,85.9,20.99,51.19,32.25,39.0,56.26,23.4,11.35,37.5,40.76,21.9,161.0,34.41,16.95,52.5,19.53,30.0,5.5,35.63,25.5,19.38,20.9,18.5,23.0,38.37,25.5,35.0,30.0,18.95,8.95,25.35,18.5,36.0,85.8,19.25,37.5,19.4,11.2,29.5,15.95,18.4,59.95,15.88,26.95,25.0,32.16,60.0,55.0,86.95,20.0,6.99,29.93,17.84,34.5,55.0,21.85,21.8,20.5,17.25,35.09,24.9,20.4532878069468,24.8,16.767557,17.7,54.0,16.2,19.9,25.35,17.75,18.9,25.9,18.25,23.89,36.9,33.9,14.6,139.9,20.9,48.0,39.5,24.5,33.5,36.97,26.3,21.95,21.5,28.95,126.2,11.9,37.9,65.0,21.65,22.95,14.8,18.46,16.45,16.9,49.95,21.7,13.95,32.0,29.15,17.5,18.9,23.95,28.3,45.0,17.9,16.78,13.58,37.9,51.35,22.99,11.95,7.1,77.36,19.9,28.53,27.89,48.96,61.94,19.98,16.76,24.45,64.5,31.63,73.0,17.9,16.78,37.9,51.35,27.89,64.5,31.63,29.15],\"type\":\"box\",\"xaxis\":\"x2\",\"yaxis\":\"y2\"},{\"name\":\"body\",\"x\":[5.0,4.0,5.0,5.0,5.0,5.0,5.0,5.0,5.0,5.0,5.0,5.0,5.0,5.0,5.0,5.0,5.0,5.0,4.0,5.0,4.0,5.0,5.0,5.0,5.0,5.0,5.0,4.0,5.0,5.0,5.0,5.0,5.0,5.0,5.0,5.0,5.0,5.0,4.0,4.0,5.0,4.0,5.0,4.0,4.0,4.0,5.0,5.0,5.0,5.0,5.0,5.0,5.0,5.0,5.0,5.0,5.0,5.0,5.0,5.0,5.0,5.0,5.0,5.0,5.0,5.0,5.0,5.0,5.0,5.0,4.0,4.0,5.0,3.0,4.0,4.0,4.0,5.0,5.0,5.0,5.0,5.0,5.0,5.0,5.0,4.0,5.0,5.0,5.0,4.0,4.0,4.0,5.0,4.0,5.0,5.0,5.0,5.0,5.0,5.0,4.0,5.0,5.0,5.0,5.0,4.0,5.0,5.0,5.0,5.0,5.0,5.0,5.0,4.0,5.0,5.0,5.0,4.0,5.0,4.0,4.0,5.0,4.0,4.0,4.0,4.0,5.0,4.0,4.0,2.0,5.0,4.0,5.0,4.0,4.0,4.0,4.0,5.0,4.0,4.0,5.0,5.0,5.0,4.0,5.0,5.0,4.0,4.0,2.0,4.0,5.0,4.0,5.0,5.0,4.0,4.0,4.0,4.0,5.0,5.0,5.0,5.0,5.0,5.0,5.0,5.0,5.0,4.0,5.0,5.0,5.0,5.0,5.0,5.0,5.0,5.0,5.0,5.0,5.0,5.0,5.0,5.0,5.0,5.0,5.0,5.0,4.0,4.0,5.0,4.0,4.0,5.0,4.0,4.0,4.0,4.0,5.0,4.0,5.0,5.0,4.0,5.0,5.0,5.0,5.0,5.0,4.0,5.0,4.0,4.0,4.0,4.0,5.0,4.0,5.0,4.0,5.0,5.0,5.0,5.0,4.0,4.0,4.0,4.0,4.0,4.0,5.0,5.0,4.0,4.0,4.0,4.0,5.0,5.0,5.0,4.0,4.0,4.0,5.0,5.0,5.0,4.0,4.0,5.0,5.0,3.0,5.0,5.0,5.0,5.0,5.0,5.0,5.0,4.0,4.0,5.0,4.0,4.0,5.0,5.0,5.0,4.0,5.0,5.0,5.0,4.0,4.0,4.0,5.0,4.0,5.0,2.0,4.0,5.0,5.0,4.0,5.0,4.0,4.0,4.0,4.0,4.0,4.0,2.0,5.0,5.0,5.0,4.0,4.0,4.0,4.0,5.0,5.0,3.0,4.0,5.0,4.0,4.0,4.0,5.0,4.0,4.0,5.0,4.0,4.0,4.0,4.0,5.0,4.0,4.0,4.0,4.0,4.0,5.0,5.0,4.0,3.0,4.0,4.0,4.0,4.0,5.0,5.0,3.0,5.0,4.0,5.0,4.0,4.0,4.0,4.0,4.0,4.0,5.0,4.0,4.0,4.0,4.0,4.0,4.0,4.0,4.0,5.0,4.0,4.0,5.0,4.0,2.0,5.0,5.0,5.0,5.0,5.0,5.0,5.0,5.0,5.0,5.0,4.0,4.0,4.0,5.0,5.0,5.0,4.0,5.0,5.0,5.0,4.0,4.0,5.0,5.0,4.0,5.0,4.0,5.0,5.0,5.0,4.0,5.0,3.0,5.0,5.0,5.0,4.0,4.0,4.0,4.0,3.0,4.0,5.0,4.0,4.0,5.0,5.0,4.0,4.0,5.0,5.0,4.0,4.0,4.0,4.0,4.0,5.0,5.0,5.0,4.0,4.0,5.0,5.0,4.0,5.0,5.0,5.0,5.0,4.0,4.0,4.0,5.0,4.0,5.0,4.0,5.0,4.0,4.0,5.0,5.0,4.0,4.0,4.0,4.0,5.0,5.0,4.0,5.0,5.0,5.0,4.0,5.0,5.0,4.0,5.0,4.0,5.0,4.0,4.0,4.0,5.0,5.0,5.0,4.0,5.0,3.0,5.0,4.0,4.0,3.0,5.0,4.0,4.0,5.0,3.0,5.0,4.0,3.0,2.0,4.0,5.0,4.0,5.0,2.0,4.0,5.0,4.0,5.0,4.0,4.0,5.0,4.0,4.0,5.0,5.0,5.0,4.0,4.0,5.0,5.0,4.0,4.0,5.0,5.0,4.0,5.0,5.0,4.0,5.0,4.0,5.0,4.0,5.0,4.0,2.0,4.0,5.0,4.0,4.0,4.0,5.0,4.0,4.0,4.0,4.0,5.0,2.0,4.0,4.0,4.0,4.0,4.0,4.0,5.0,4.0,5.0,3.0,4.0,4.0,5.0,5.0,4.0,4.0,5.0,4.0,4.0,4.0,4.0,4.0,4.0,5.0,4.0,5.0,4.0,4.0,5.0,4.0,3.0,4.0,4.0,4.0,5.0,4.0,5.0,4.0,4.0,4.0,5.0,4.0,4.0,5.0,4.0,4.0,5.0,5.0,4.0,5.0,5.0,5.0,4.0,2.0,3.0,5.0,5.0,4.0,4.0,4.0,4.0,4.0,5.0,5.0,4.0,5.0,4.0,4.0,4.0,4.0,5.0,3.0,4.0,4.0,4.0,5.0,4.0,5.0,5.0,4.0,4.0,5.0,5.0,5.0,5.0,4.0,4.0,3.0,4.0,4.0,4.0,5.0,3.0,5.0,4.0,4.0,4.0,4.0,4.0,4.0,4.0,5.0,5.0,4.0,4.0,4.0,2.0,4.0,4.0,3.0,4.0,4.0,4.0,4.0,4.0,4.0,4.0,4.0,4.0,4.0,4.0,4.0,4.0,4.0,4.0,4.0,4.0,4.0,4.0,4.0,4.0,4.0,4.0,4.0,4.0,4.0,4.0,4.0,5.0,5.0,4.0,4.0,5.0,4.0,4.0,5.0,5.0,4.0,5.0,4.0,5.0,4.0,4.0,5.0,5.0,5.0,4.0,2.0,5.0,4.0,5.0,4.0,5.0,5.0,5.0,4.0,4.0,5.0,5.0,4.0,5.0,5.0,4.0,5.0,5.0,4.0,4.0,4.0,5.0,4.0,5.0,4.0,4.0,4.0,5.0,4.0,4.0,4.0,5.0,4.0,5.0,4.0,4.0,4.0,4.0,5.0,4.0,4.0,4.0,4.0,5.0,4.0,4.0,5.0,4.0,4.0,4.0,4.0,4.0,4.0,4.0,4.0,4.0,4.0,4.0,4.0,4.0,4.0,4.0,4.0,4.0,4.0,4.0,4.0,4.0,4.0,4.0,4.0,4.0,4.0,4.0,4.0,4.0,4.0,4.0,5.0,4.0,5.0,4.0,4.0,5.0,4.0,4.0,5.0,4.0,4.0,4.0,4.0,5.0,5.0,2.0,4.0,4.0,4.0,4.0,4.0,4.0,4.0,4.0,4.0,5.0,4.0,4.0,4.0,2.0,4.0,4.0,4.0,4.0,4.0,4.0,5.0,4.0,4.0,4.0,3.0,5.0,5.0,4.0,5.0,5.0,4.0,4.0,2.0,3.0,5.0,4.0,4.0,4.0,4.0,4.0,4.0,4.0,4.0,4.0,5.0,4.0,5.0,4.0,4.0,3.0,2.0,4.0,4.0,4.0,4.0,5.0,4.0,4.0,5.0,4.0,4.0,4.0,4.0,4.0,4.0,5.0,4.0,4.0,4.0,5.0,5.0,5.0,5.0,4.0,4.0,4.0,4.0,4.0,3.0,5.0,4.0,4.0,4.0,5.0,4.0,4.0,3.0,3.0,3.0,5.0,4.0,2.0,4.0,4.0,3.0,4.0,5.0,4.0,5.0,4.0,4.0,4.0,5.0,4.0,5.0,4.0,4.0,4.0,4.0,4.0,5.0,4.0,4.0,4.0,5.0,4.0,4.0,5.0,2.0,4.0,4.0,4.0,4.0,4.0,5.0,5.0,4.0,4.0,4.0,4.0,4.0,4.0,5.0,5.0,3.0,5.0,4.0,5.0,4.0,4.0,4.0,4.0,4.0,4.0,4.0,4.0,4.0,4.0,4.0,4.0,4.0,4.0,5.0,4.0,4.0,4.0,5.0,4.0,5.0,4.0,5.0,5.0,4.0,4.0,5.0,5.0,4.0,4.0,4.0,5.0,4.0,5.0,4.0,4.0,4.0,5.0,4.0,5.0,4.0,4.0,3.0,4.0,4.0,3.0,4.0,4.0,3.0,4.0,4.0,3.0,4.0,4.0,5.0,4.0,4.0,4.0,4.0,5.0,4.0,4.0,4.0,4.0,4.0,4.0,4.0,4.0,4.0,4.0,5.0,2.0,4.0,2.0,5.0,4.0,4.0,4.0,4.0,4.0,4.0,2.0,5.0,5.0,4.0,4.0,4.0,5.0,4.0,5.0,4.0,2.0,4.0,4.0,4.0,5.0,5.0,5.0,4.0,4.0,4.0,4.0,4.0,3.0,2.0,4.0,4.0,4.0,4.0,4.0,4.0,4.0,4.0,5.0,4.0,3.0,5.0,3.0,4.0,5.0,3.0,4.0,4.0,4.0,4.0,2.0,4.0,3.0,5.0,4.0,4.0,4.0,4.0,5.0,5.0,4.0,4.0,5.0,5.0,5.0,4.0,4.0,4.0,4.0,4.0,5.0,4.0,4.0,3.0,5.0,4.0,4.0,4.0,5.0,5.0,4.0,4.0,4.0,5.0,4.0,4.0,4.0,4.0,4.0,4.0,3.0,5.0,4.0,4.0,4.0,4.0,3.0,3.0,4.0,4.0,4.0,4.0,4.0,5.0,4.0,4.0,4.0,5.0,2.0,4.0,4.0,4.0,4.0,5.0,4.0,4.0,4.0,4.0,4.0,5.0,4.0,5.0,4.0,4.0,4.0,3.0,5.0,2.0,5.0,4.0,3.0,4.0,5.0,5.0,5.0,4.0,4.0,4.0,4.0,4.0,5.0,4.0,4.0,5.0,5.0,4.0,4.0,4.0,4.0,4.0,4.0,4.0,4.0,4.0,4.0,4.0,4.0,4.0,4.0,4.0,4.0,4.0,4.0,4.0,4.0,4.0,4.0,4.0,4.0,4.0,4.0,5.0,5.0,5.0,5.0,4.0,5.0,5.0,5.0,5.0,4.0,5.0,4.0,4.0,4.0,4.0,5.0,4.0,4.0,5.0,4.0,4.0,4.0,4.0,5.0,3.0,3.0,5.0,5.0,4.0,4.0,4.0,4.0,5.0,4.0,5.0,4.0,5.0,4.0,4.0,4.0,4.0,4.0,3.0,5.0,4.0,4.0,4.0,4.0,4.0,4.0,4.0,5.0,4.0,4.0,4.0,4.0,4.0,4.0,4.0,5.0,5.0,4.0,4.0,4.0,4.0,5.0,4.0,5.0,4.0,4.0,4.0,5.0,4.0,4.0,4.0,5.0,4.0,4.0,3.0,5.0,4.0,5.0,4.0,5.0,5.0,5.0,5.0,5.0,4.0,4.0,4.0,4.0,5.0,5.0,4.0,4.0,3.0,5.0,4.0,4.0,4.0,4.0,4.0,4.0,4.0,5.0,4.0,4.0,4.0,4.0,3.0,4.0,5.0,4.0,5.0,4.0,5.0,3.0,4.0,5.0,4.0,5.0,5.0,4.0,5.0,4.0,5.0,4.0,4.0,4.0,4.0,4.0,5.0,4.0,5.0,5.0,4.0,4.0,4.0,4.0,5.0,4.0,5.0,4.0,4.0,4.0,4.0,4.0,5.0,5.0,4.0,4.0,4.0,4.0,4.0,4.0,4.0,4.0,4.0,4.0,4.0,4.0,4.0,4.0,4.0,4.0,4.0,4.0,4.0,4.0,4.0,4.0,4.0,4.0,4.0,4.0,4.0,4.0,5.0,4.0,5.0,4.0,4.0,5.0,4.0,4.0,4.0,4.0,4.0,5.0,4.0,4.0,4.0,4.0,4.0,3.0,4.0,4.0,5.0,4.0,4.0,4.0,4.0,4.0,4.0,4.0,5.0,4.0,3.0,5.0,4.0,5.0,4.0,4.0,4.0,4.0,4.0,4.0,5.0,4.0,4.0,4.0,4.0,3.0,4.0,4.0,4.0,3.0,4.0,4.0,4.0,4.0,4.0,4.0,4.0,5.0,5.0,4.0,5.0,4.0,4.0,4.0,4.0,5.0,4.0,5.0,4.0,4.0,5.0,3.0,4.0,4.0,4.0,4.0,4.0,4.0,4.0,4.0,4.0,4.0,4.0,4.0,4.0,4.0,4.0,4.0,4.0,4.0,4.0,4.0,4.0,4.0,4.0,4.0,4.0,4.0,5.0,3.0,5.0,4.0,5.0,5.0,4.0,5.0,4.0,4.0,4.0,4.0,5.0,4.0,4.0,5.0,4.0,5.0,4.0,4.0,5.0,4.0,4.0,4.0,3.0,4.0,4.0,3.0,3.0,4.0,5.0,4.0,5.0,5.0,5.0,4.0,5.0,4.0,4.0,3.0,3.0,4.0,4.0,4.0,4.0,4.0,4.0,4.0,5.0,4.0,3.0,4.0,4.0,5.0,4.0,4.0,4.0,4.0,4.0,4.0,3.0,4.0,4.0,4.0,5.0,5.0,4.0,4.0,4.0,5.0,4.0,5.0,4.0,4.0,4.0,3.0,4.0,3.0,4.0,4.0,4.0,3.0,4.0,4.0,4.0,4.0,4.0,4.0,4.0,4.0,4.0,4.0,4.0,4.0,5.0,5.0,5.0,3.0,4.0,4.0,4.0,4.0,4.0,4.0,4.0,4.0,4.0,4.0,4.0,4.0,4.0,4.0,4.0,4.0,4.0,4.0,4.0,4.0,4.0,4.0,4.0,4.0,4.0,4.0,4.0,4.0,4.0,4.0,2.0,5.0,5.0,4.0,4.0,4.0,4.0,4.0,4.0,4.0,4.0,5.0,3.0,4.0,4.0,4.0,5.0,3.0,4.0,4.0,4.0,4.0,5.0,3.0,4.0,4.0,4.0,4.0,4.0,4.0,5.0,4.0,4.0,4.0,4.0,4.0,4.0,4.0,4.0,4.0,4.0,5.0,4.0,4.0,4.0,4.0,4.0,3.0,4.0,4.0,4.0,4.0,5.0,4.0,4.0,3.0,4.0,4.0,5.0,5.0,4.0,4.0,4.0,5.0,4.0,4.0,4.0,4.0,4.0,4.0,4.0,4.0,5.0,4.0,3.0,4.0,4.0,4.0,4.0,4.0,4.0,4.0,5.0,5.0,4.0,3.0,4.0,5.0,4.0,3.0,4.0,4.0,4.0,4.0,4.0,4.0,5.0,5.0,4.0,5.0,4.0,5.0,4.0,3.0,5.0,3.0,4.0,4.0,4.0,5.0,4.0,4.0,4.0,4.0,4.0,4.0,4.0,4.0,5.0,2.0,4.0,4.0,3.0,4.0,4.0,4.0,3.0,2.0,4.0,3.0,3.0,5.0,5.0,4.0,4.0,4.0,4.0,3.0,4.0,5.0,3.0,4.0,4.0,4.0,4.0,4.0,4.0,4.0,4.0,5.0,4.0,4.0,4.0,4.0,3.0,4.0,3.0,5.0,5.0,5.0,4.0,4.0,4.0,4.0,5.0,4.0,4.0,4.0,5.0,5.0,5.0,4.0,4.0,5.0,4.0,4.0,4.0,4.0,4.0,4.0,4.0,5.0,5.0,4.0,3.0,4.0,4.0,4.0,4.0,2.0,5.0,4.0,4.0,5.0,4.0,4.0,4.0,4.0,4.0,4.0,3.0,5.0,5.0,4.0,4.0,3.0,3.0,4.0,4.0,4.0,3.0,4.0,4.0,4.0,4.0,5.0,4.0,4.0,2.0,4.0,4.0,3.0,4.0,4.0,4.0,4.0,4.0,4.0,4.0,4.0,4.0,5.0,4.0,5.0,4.0,4.0,4.0,5.0,4.0,4.0,4.0,4.0,4.0,4.0,4.0,4.0,2.0,5.0,4.0,5.0,5.0,5.0,4.0,4.0,4.0,4.0,5.0,4.0,4.0,3.0,4.0,4.0,5.0,4.0,4.0,4.0,5.0,4.0,4.0,4.0,4.0,5.0,5.0,5.0,4.0,4.0,5.0,4.0,4.0,3.0,5.0,5.0,4.0,4.0,5.0,3.0,5.0,4.0,5.0,4.0,5.0,4.0,4.0,4.0,4.0,4.0,4.0,4.0,4.0,4.0,4.0,4.0,4.0,4.0,4.0,5.0,4.0,5.0,4.0,5.0,4.0,5.0,4.0,5.0,4.0,5.0,4.0,5.0,5.0,5.0,4.0,4.0,4.0,5.0,3.0,5.0,5.0,4.0,5.0,5.0,4.0,5.0,5.0,5.0,5.0,5.0,4.0,4.0,3.0,5.0,5.0,4.0,4.0,4.0,5.0,4.0,4.0,4.0,5.0,4.0,5.0,4.0,4.0,4.0,4.0,5.0,4.0,5.0,5.0,4.0,4.0,4.0,4.0,4.0,5.0,4.0,4.0,4.0,4.0,3.0,4.0,5.0,4.0,5.0,4.0,4.0,4.0,4.0,4.0,4.0,4.0,5.0,3.0,4.0,4.0,5.0,2.0,4.0,4.0,4.0,4.0,4.0,3.0,5.0,4.0,4.0,4.0,4.0,2.0,4.0,5.0,5.0,5.0,4.0,4.0,4.0,4.0,5.0,4.0,5.0,4.0,3.0,5.0,4.0,5.0,4.0,4.0,5.0,4.0,4.0,4.0,4.0,4.0,5.0,4.0,4.0,5.0,4.0,5.0,4.0,4.0,3.0,3.0,4.0,5.0,4.0,3.0,3.0,5.0,5.0,4.0,4.0,4.0,5.0,3.0,4.0,4.0,4.0,4.0,4.0,4.0,4.0,4.0,4.0,4.0,4.0,4.0,4.0,4.0,4.0,4.0,4.0,4.0,4.0,4.0,4.0,4.0,4.0,4.0,4.0,3.0,3.0,5.0,5.0,5.0,5.0,5.0,4.0],\"type\":\"box\",\"xaxis\":\"x3\",\"yaxis\":\"y3\"}],                        {\"template\":{\"data\":{\"histogram2dcontour\":[{\"type\":\"histogram2dcontour\",\"colorbar\":{\"outlinewidth\":0,\"ticks\":\"\"},\"colorscale\":[[0.0,\"#0d0887\"],[0.1111111111111111,\"#46039f\"],[0.2222222222222222,\"#7201a8\"],[0.3333333333333333,\"#9c179e\"],[0.4444444444444444,\"#bd3786\"],[0.5555555555555556,\"#d8576b\"],[0.6666666666666666,\"#ed7953\"],[0.7777777777777778,\"#fb9f3a\"],[0.8888888888888888,\"#fdca26\"],[1.0,\"#f0f921\"]]}],\"choropleth\":[{\"type\":\"choropleth\",\"colorbar\":{\"outlinewidth\":0,\"ticks\":\"\"}}],\"histogram2d\":[{\"type\":\"histogram2d\",\"colorbar\":{\"outlinewidth\":0,\"ticks\":\"\"},\"colorscale\":[[0.0,\"#0d0887\"],[0.1111111111111111,\"#46039f\"],[0.2222222222222222,\"#7201a8\"],[0.3333333333333333,\"#9c179e\"],[0.4444444444444444,\"#bd3786\"],[0.5555555555555556,\"#d8576b\"],[0.6666666666666666,\"#ed7953\"],[0.7777777777777778,\"#fb9f3a\"],[0.8888888888888888,\"#fdca26\"],[1.0,\"#f0f921\"]]}],\"heatmap\":[{\"type\":\"heatmap\",\"colorbar\":{\"outlinewidth\":0,\"ticks\":\"\"},\"colorscale\":[[0.0,\"#0d0887\"],[0.1111111111111111,\"#46039f\"],[0.2222222222222222,\"#7201a8\"],[0.3333333333333333,\"#9c179e\"],[0.4444444444444444,\"#bd3786\"],[0.5555555555555556,\"#d8576b\"],[0.6666666666666666,\"#ed7953\"],[0.7777777777777778,\"#fb9f3a\"],[0.8888888888888888,\"#fdca26\"],[1.0,\"#f0f921\"]]}],\"heatmapgl\":[{\"type\":\"heatmapgl\",\"colorbar\":{\"outlinewidth\":0,\"ticks\":\"\"},\"colorscale\":[[0.0,\"#0d0887\"],[0.1111111111111111,\"#46039f\"],[0.2222222222222222,\"#7201a8\"],[0.3333333333333333,\"#9c179e\"],[0.4444444444444444,\"#bd3786\"],[0.5555555555555556,\"#d8576b\"],[0.6666666666666666,\"#ed7953\"],[0.7777777777777778,\"#fb9f3a\"],[0.8888888888888888,\"#fdca26\"],[1.0,\"#f0f921\"]]}],\"contourcarpet\":[{\"type\":\"contourcarpet\",\"colorbar\":{\"outlinewidth\":0,\"ticks\":\"\"}}],\"contour\":[{\"type\":\"contour\",\"colorbar\":{\"outlinewidth\":0,\"ticks\":\"\"},\"colorscale\":[[0.0,\"#0d0887\"],[0.1111111111111111,\"#46039f\"],[0.2222222222222222,\"#7201a8\"],[0.3333333333333333,\"#9c179e\"],[0.4444444444444444,\"#bd3786\"],[0.5555555555555556,\"#d8576b\"],[0.6666666666666666,\"#ed7953\"],[0.7777777777777778,\"#fb9f3a\"],[0.8888888888888888,\"#fdca26\"],[1.0,\"#f0f921\"]]}],\"surface\":[{\"type\":\"surface\",\"colorbar\":{\"outlinewidth\":0,\"ticks\":\"\"},\"colorscale\":[[0.0,\"#0d0887\"],[0.1111111111111111,\"#46039f\"],[0.2222222222222222,\"#7201a8\"],[0.3333333333333333,\"#9c179e\"],[0.4444444444444444,\"#bd3786\"],[0.5555555555555556,\"#d8576b\"],[0.6666666666666666,\"#ed7953\"],[0.7777777777777778,\"#fb9f3a\"],[0.8888888888888888,\"#fdca26\"],[1.0,\"#f0f921\"]]}],\"mesh3d\":[{\"type\":\"mesh3d\",\"colorbar\":{\"outlinewidth\":0,\"ticks\":\"\"}}],\"scatter\":[{\"fillpattern\":{\"fillmode\":\"overlay\",\"size\":10,\"solidity\":0.2},\"type\":\"scatter\"}],\"parcoords\":[{\"type\":\"parcoords\",\"line\":{\"colorbar\":{\"outlinewidth\":0,\"ticks\":\"\"}}}],\"scatterpolargl\":[{\"type\":\"scatterpolargl\",\"marker\":{\"colorbar\":{\"outlinewidth\":0,\"ticks\":\"\"}}}],\"bar\":[{\"error_x\":{\"color\":\"#2a3f5f\"},\"error_y\":{\"color\":\"#2a3f5f\"},\"marker\":{\"line\":{\"color\":\"#E5ECF6\",\"width\":0.5},\"pattern\":{\"fillmode\":\"overlay\",\"size\":10,\"solidity\":0.2}},\"type\":\"bar\"}],\"scattergeo\":[{\"type\":\"scattergeo\",\"marker\":{\"colorbar\":{\"outlinewidth\":0,\"ticks\":\"\"}}}],\"scatterpolar\":[{\"type\":\"scatterpolar\",\"marker\":{\"colorbar\":{\"outlinewidth\":0,\"ticks\":\"\"}}}],\"histogram\":[{\"marker\":{\"pattern\":{\"fillmode\":\"overlay\",\"size\":10,\"solidity\":0.2}},\"type\":\"histogram\"}],\"scattergl\":[{\"type\":\"scattergl\",\"marker\":{\"colorbar\":{\"outlinewidth\":0,\"ticks\":\"\"}}}],\"scatter3d\":[{\"type\":\"scatter3d\",\"line\":{\"colorbar\":{\"outlinewidth\":0,\"ticks\":\"\"}},\"marker\":{\"colorbar\":{\"outlinewidth\":0,\"ticks\":\"\"}}}],\"scattermapbox\":[{\"type\":\"scattermapbox\",\"marker\":{\"colorbar\":{\"outlinewidth\":0,\"ticks\":\"\"}}}],\"scatterternary\":[{\"type\":\"scatterternary\",\"marker\":{\"colorbar\":{\"outlinewidth\":0,\"ticks\":\"\"}}}],\"scattercarpet\":[{\"type\":\"scattercarpet\",\"marker\":{\"colorbar\":{\"outlinewidth\":0,\"ticks\":\"\"}}}],\"carpet\":[{\"aaxis\":{\"endlinecolor\":\"#2a3f5f\",\"gridcolor\":\"white\",\"linecolor\":\"white\",\"minorgridcolor\":\"white\",\"startlinecolor\":\"#2a3f5f\"},\"baxis\":{\"endlinecolor\":\"#2a3f5f\",\"gridcolor\":\"white\",\"linecolor\":\"white\",\"minorgridcolor\":\"white\",\"startlinecolor\":\"#2a3f5f\"},\"type\":\"carpet\"}],\"table\":[{\"cells\":{\"fill\":{\"color\":\"#EBF0F8\"},\"line\":{\"color\":\"white\"}},\"header\":{\"fill\":{\"color\":\"#C8D4E3\"},\"line\":{\"color\":\"white\"}},\"type\":\"table\"}],\"barpolar\":[{\"marker\":{\"line\":{\"color\":\"#E5ECF6\",\"width\":0.5},\"pattern\":{\"fillmode\":\"overlay\",\"size\":10,\"solidity\":0.2}},\"type\":\"barpolar\"}],\"pie\":[{\"automargin\":true,\"type\":\"pie\"}]},\"layout\":{\"autotypenumbers\":\"strict\",\"colorway\":[\"#636efa\",\"#EF553B\",\"#00cc96\",\"#ab63fa\",\"#FFA15A\",\"#19d3f3\",\"#FF6692\",\"#B6E880\",\"#FF97FF\",\"#FECB52\"],\"font\":{\"color\":\"#2a3f5f\"},\"hovermode\":\"closest\",\"hoverlabel\":{\"align\":\"left\"},\"paper_bgcolor\":\"white\",\"plot_bgcolor\":\"#E5ECF6\",\"polar\":{\"bgcolor\":\"#E5ECF6\",\"angularaxis\":{\"gridcolor\":\"white\",\"linecolor\":\"white\",\"ticks\":\"\"},\"radialaxis\":{\"gridcolor\":\"white\",\"linecolor\":\"white\",\"ticks\":\"\"}},\"ternary\":{\"bgcolor\":\"#E5ECF6\",\"aaxis\":{\"gridcolor\":\"white\",\"linecolor\":\"white\",\"ticks\":\"\"},\"baxis\":{\"gridcolor\":\"white\",\"linecolor\":\"white\",\"ticks\":\"\"},\"caxis\":{\"gridcolor\":\"white\",\"linecolor\":\"white\",\"ticks\":\"\"}},\"coloraxis\":{\"colorbar\":{\"outlinewidth\":0,\"ticks\":\"\"}},\"colorscale\":{\"sequential\":[[0.0,\"#0d0887\"],[0.1111111111111111,\"#46039f\"],[0.2222222222222222,\"#7201a8\"],[0.3333333333333333,\"#9c179e\"],[0.4444444444444444,\"#bd3786\"],[0.5555555555555556,\"#d8576b\"],[0.6666666666666666,\"#ed7953\"],[0.7777777777777778,\"#fb9f3a\"],[0.8888888888888888,\"#fdca26\"],[1.0,\"#f0f921\"]],\"sequentialminus\":[[0.0,\"#0d0887\"],[0.1111111111111111,\"#46039f\"],[0.2222222222222222,\"#7201a8\"],[0.3333333333333333,\"#9c179e\"],[0.4444444444444444,\"#bd3786\"],[0.5555555555555556,\"#d8576b\"],[0.6666666666666666,\"#ed7953\"],[0.7777777777777778,\"#fb9f3a\"],[0.8888888888888888,\"#fdca26\"],[1.0,\"#f0f921\"]],\"diverging\":[[0,\"#8e0152\"],[0.1,\"#c51b7d\"],[0.2,\"#de77ae\"],[0.3,\"#f1b6da\"],[0.4,\"#fde0ef\"],[0.5,\"#f7f7f7\"],[0.6,\"#e6f5d0\"],[0.7,\"#b8e186\"],[0.8,\"#7fbc41\"],[0.9,\"#4d9221\"],[1,\"#276419\"]]},\"xaxis\":{\"gridcolor\":\"white\",\"linecolor\":\"white\",\"ticks\":\"\",\"title\":{\"standoff\":15},\"zerolinecolor\":\"white\",\"automargin\":true,\"zerolinewidth\":2},\"yaxis\":{\"gridcolor\":\"white\",\"linecolor\":\"white\",\"ticks\":\"\",\"title\":{\"standoff\":15},\"zerolinecolor\":\"white\",\"automargin\":true,\"zerolinewidth\":2},\"scene\":{\"xaxis\":{\"backgroundcolor\":\"#E5ECF6\",\"gridcolor\":\"white\",\"linecolor\":\"white\",\"showbackground\":true,\"ticks\":\"\",\"zerolinecolor\":\"white\",\"gridwidth\":2},\"yaxis\":{\"backgroundcolor\":\"#E5ECF6\",\"gridcolor\":\"white\",\"linecolor\":\"white\",\"showbackground\":true,\"ticks\":\"\",\"zerolinecolor\":\"white\",\"gridwidth\":2},\"zaxis\":{\"backgroundcolor\":\"#E5ECF6\",\"gridcolor\":\"white\",\"linecolor\":\"white\",\"showbackground\":true,\"ticks\":\"\",\"zerolinecolor\":\"white\",\"gridwidth\":2}},\"shapedefaults\":{\"line\":{\"color\":\"#2a3f5f\"}},\"annotationdefaults\":{\"arrowcolor\":\"#2a3f5f\",\"arrowhead\":0,\"arrowwidth\":1},\"geo\":{\"bgcolor\":\"white\",\"landcolor\":\"#E5ECF6\",\"subunitcolor\":\"white\",\"showland\":true,\"showlakes\":true,\"lakecolor\":\"white\"},\"title\":{\"x\":0.05},\"mapbox\":{\"style\":\"light\"}}},\"xaxis\":{\"anchor\":\"y\",\"domain\":[0.0,1.0]},\"yaxis\":{\"anchor\":\"x\",\"domain\":[0.7333333333333333,1.0]},\"xaxis2\":{\"anchor\":\"y2\",\"domain\":[0.0,1.0]},\"yaxis2\":{\"anchor\":\"x2\",\"domain\":[0.36666666666666664,0.6333333333333333]},\"xaxis3\":{\"anchor\":\"y3\",\"domain\":[0.0,1.0]},\"yaxis3\":{\"anchor\":\"x3\",\"domain\":[0.0,0.26666666666666666]}},                        {\"responsive\": true}                    ).then(function(){\n",
       "                            \n",
       "var gd = document.getElementById('2f783b1e-4341-4edb-a2d2-b8845fd7cefc');\n",
       "var x = new MutationObserver(function (mutations, observer) {{\n",
       "        var display = window.getComputedStyle(gd).display;\n",
       "        if (!display || display === 'none') {{\n",
       "            console.log([gd, 'removed!']);\n",
       "            Plotly.purge(gd);\n",
       "            observer.disconnect();\n",
       "        }}\n",
       "}});\n",
       "\n",
       "// Listen for the removal of the full notebook cells\n",
       "var notebookContainer = gd.closest('#notebook-container');\n",
       "if (notebookContainer) {{\n",
       "    x.observe(notebookContainer, {childList: true});\n",
       "}}\n",
       "\n",
       "// Listen for the clearing of the current output cell\n",
       "var outputEl = gd.closest('.output');\n",
       "if (outputEl) {{\n",
       "    x.observe(outputEl, {childList: true});\n",
       "}}\n",
       "\n",
       "                        })                };                });            </script>        </div>"
      ]
     },
     "metadata": {},
     "output_type": "display_data"
    }
   ],
   "source": [
    "cols = ['num_reviews', 'price', 'body']\n",
    "px.box(data_frame=df, x='body')\n",
    "fig = make_subplots(rows=3, cols=1, shared_xaxes=False)\n",
    "\n",
    "for i, col in zip(range(1, 4), cols):\n",
    "    fig.add_trace(go.Box(x=df[col], name=col), row=i, col=1)\n",
    "\n",
    "fig.show()"
   ]
  },
  {
   "cell_type": "code",
   "execution_count": 20,
   "id": "c4c76138",
   "metadata": {
    "execution": {
     "iopub.execute_input": "2022-08-18T19:03:57.326353Z",
     "iopub.status.busy": "2022-08-18T19:03:57.325294Z",
     "iopub.status.idle": "2022-08-18T19:03:57.383232Z",
     "shell.execute_reply": "2022-08-18T19:03:57.381540Z"
    },
    "papermill": {
     "duration": 0.080536,
     "end_time": "2022-08-18T19:03:57.385850",
     "exception": false,
     "start_time": "2022-08-18T19:03:57.305314",
     "status": "completed"
    },
    "tags": []
   },
   "outputs": [
    {
     "name": "stdout",
     "output_type": "stream",
     "text": [
      "Number of Outliers 58, with threshold, with threshold 4\n"
     ]
    }
   ],
   "source": [
    "def drop_outliers_zscore(dfcopy:pd.DataFrame, cols, threshold:int=3, inplace:bool=False):\n",
    "    '''\n",
    "    input:  dfcopy            ==> the dataframe that contains outliers\n",
    "            cols  list / str  ==> list of strings (names of columns that have outliers)\n",
    "            inplace           ==> if True,  method will edit the original dataframe\n",
    "                                if False, method will return the new dataframe\n",
    "            threshold         ==> maximum and minimun threshold of zscore\n",
    "    \n",
    "    output: df:        ==>clean dataframe\n",
    "    this method drops outliers from data using zscore method\n",
    "    '''\n",
    "    if inplace:\n",
    "        global df\n",
    "    else:\n",
    "        df = dfcopy.copy()\n",
    "\n",
    "    def drop_col(df_, col):\n",
    "        \n",
    "        mean, std = np.mean(df_[col]), np.std(df_[col])\n",
    "        df_['is_outlier'] = df_[col].apply(lambda x : np.abs((x - mean) / std) > threshold)\n",
    "        outliers_idx = df_.loc[df_['is_outlier']].index\n",
    "        df_ = df_.drop(outliers_idx, axis=0)\n",
    "        \n",
    "        df = df_.drop('is_outlier', axis=1)\n",
    "        return df\n",
    "\n",
    "    \n",
    "    if type(cols) == str:\n",
    "        df = drop_col(df, cols)\n",
    "    elif type(cols) == list:\n",
    "        for col in cols:\n",
    "            df = drop_col(df, col)\n",
    "    else :\n",
    "        raise ValueError('Pass neither list nor string in {Cols}')\n",
    "    \n",
    "    if inplace:\n",
    "        dfcopy = df\n",
    "    else:\n",
    "        return df\n",
    "    \n",
    "THRESHOLD = 4\n",
    "num_outlier_records =  df.shape[0] - drop_outliers_zscore(df, cols, threshold=THRESHOLD).shape[0]\n",
    "print(f'Number of Outliers {num_outlier_records}, with threshold, with threshold {THRESHOLD}')\n",
    "\n",
    "drop_outliers_zscore(df, cols, threshold=THRESHOLD, inplace=True)"
   ]
  },
  {
   "cell_type": "code",
   "execution_count": 21,
   "id": "0cffa759",
   "metadata": {
    "execution": {
     "iopub.execute_input": "2022-08-18T19:03:57.426290Z",
     "iopub.status.busy": "2022-08-18T19:03:57.425078Z",
     "iopub.status.idle": "2022-08-18T19:03:57.432110Z",
     "shell.execute_reply": "2022-08-18T19:03:57.430955Z"
    },
    "papermill": {
     "duration": 0.029705,
     "end_time": "2022-08-18T19:03:57.434469",
     "exception": false,
     "start_time": "2022-08-18T19:03:57.404764",
     "status": "completed"
    },
    "tags": []
   },
   "outputs": [
    {
     "data": {
      "text/plain": [
       "(1896, 10)"
      ]
     },
     "execution_count": 21,
     "metadata": {},
     "output_type": "execute_result"
    }
   ],
   "source": [
    "df.shape"
   ]
  },
  {
   "cell_type": "markdown",
   "id": "89550d38",
   "metadata": {
    "papermill": {
     "duration": 0.019386,
     "end_time": "2022-08-18T19:03:57.473660",
     "exception": false,
     "start_time": "2022-08-18T19:03:57.454274",
     "status": "completed"
    },
    "tags": []
   },
   "source": [
    "> Our data is ready to analysis step"
   ]
  },
  {
   "cell_type": "markdown",
   "id": "006a10a8",
   "metadata": {
    "papermill": {
     "duration": 0.018822,
     "end_time": "2022-08-18T19:03:57.511706",
     "exception": false,
     "start_time": "2022-08-18T19:03:57.492884",
     "status": "completed"
    },
    "tags": []
   },
   "source": [
    "### [Return to main ⬆️](#main)"
   ]
  },
  {
   "cell_type": "markdown",
   "id": "bddeb183",
   "metadata": {
    "papermill": {
     "duration": 0.018722,
     "end_time": "2022-08-18T19:03:57.549597",
     "exception": false,
     "start_time": "2022-08-18T19:03:57.530875",
     "status": "completed"
    },
    "tags": []
   },
   "source": [
    "<a id=3></a>\n",
    "<font color='#681c0b'><h2>EDA</h2>"
   ]
  },
  {
   "cell_type": "markdown",
   "id": "ae1fe719",
   "metadata": {
    "papermill": {
     "duration": 0.018851,
     "end_time": "2022-08-18T19:03:57.587451",
     "exception": false,
     "start_time": "2022-08-18T19:03:57.568600",
     "status": "completed"
    },
    "tags": []
   },
   "source": [
    "### Univariate Analysis"
   ]
  },
  {
   "cell_type": "code",
   "execution_count": 22,
   "id": "da158ab3",
   "metadata": {
    "execution": {
     "iopub.execute_input": "2022-08-18T19:03:57.628503Z",
     "iopub.status.busy": "2022-08-18T19:03:57.627455Z",
     "iopub.status.idle": "2022-08-18T19:03:57.768580Z",
     "shell.execute_reply": "2022-08-18T19:03:57.767524Z"
    },
    "papermill": {
     "duration": 0.164879,
     "end_time": "2022-08-18T19:03:57.771384",
     "exception": false,
     "start_time": "2022-08-18T19:03:57.606505",
     "status": "completed"
    },
    "tags": []
   },
   "outputs": [
    {
     "data": {
      "text/html": [
       "<div>                            <div id=\"d2d2b1df-c5c4-433e-9e57-43f75b807c58\" class=\"plotly-graph-div\" style=\"height:525px; width:100%;\"></div>            <script type=\"text/javascript\">                require([\"plotly\"], function(Plotly) {                    window.PLOTLYENV=window.PLOTLYENV || {};                                    if (document.getElementById(\"d2d2b1df-c5c4-433e-9e57-43f75b807c58\")) {                    Plotly.newPlot(                        \"d2d2b1df-c5c4-433e-9e57-43f75b807c58\",                        [{\"histfunc\":\"avg\",\"name\":\"winery\",\"nbinsx\":20,\"x\":[33.0,447.0,447.0,447.0,447.0,447.0,447.0,447.0,447.0,353.0,447.0,428.0,353.0,447.0,80.0,441.0,447.0,428.0,447.0,428.0,447.0,346.0,428.0,456.0,409.0,268.0,447.0,447.0,447.0,447.0,447.0,447.0,447.0,447.0,447.0,447.0,447.0,447.0,447.0,353.0,447.0,447.0,447.0,353.0,80.0,80.0,447.0,297.0,80.0,80.0,461.0,447.0,196.0,196.0,80.0,422.0,380.0,91.0,59.0,390.0,461.0,98.0,447.0,355.0,447.0,62.0,447.0,196.0,19.0,447.0,428.0,447.0,24.0,309.0,217.0,97.0,80.0,309.0,305.0,388.0,148.0,355.0,49.0,268.0,232.0,148.0,428.0,461.0,71.0,428.0,422.0,25.0,201.0,329.0,420.0,33.0,382.0,388.0,91.0,456.0,417.0,168.0,456.0,322.0,237.0,297.0,2.0,2.0,297.0,13.0,447.0,183.0,2.0,447.0,447.0,62.0,62.0,127.0,196.0,447.0,196.0,353.0,186.0,196.0,91.0,91.0,461.0,33.0,97.0,97.0,59.0,297.0,409.0,456.0,313.0,127.0,355.0,196.0,447.0,33.0,355.0,33.0,129.0,33.0,59.0,98.0,62.0,447.0,316.0,447.0,59.0,33.0,339.0,91.0,390.0,459.0,422.0,91.0,298.0,33.0,34.0,33.0,90.0,447.0,180.0,426.0,33.0,117.0,447.0,186.0,348.0,34.0,19.0,140.0,127.0,447.0,104.0,14.0,161.0,355.0,390.0,97.0,355.0,103.0,297.0,447.0,34.0,241.0,313.0,136.0,347.0,196.0,409.0,428.0,388.0,148.0,447.0,428.0,241.0,476.0,296.0,159.0,297.0,24.0,234.0,19.0,185.0,242.0,90.0,225.0,29.0,309.0,132.0,171.0,267.0,137.0,350.0,107.0,447.0,70.0,377.0,316.0,131.0,309.0,33.0,297.0,241.0,33.0,443.0,409.0,354.0,196.0,409.0,171.0,435.0,217.0,90.0,455.0,178.0,428.0,321.0,185.0,421.0,219.0,33.0,248.0,231.0,134.0,4.0,178.0,70.0,198.0,52.0,309.0,72.0,416.0,29.0,426.0,6.0,453.0,347.0,388.0,428.0,297.0,268.0,297.0,371.0,183.0,2.0,80.0,183.0,183.0,183.0,80.0,80.0,2.0,353.0,52.0,2.0,80.0,19.0,355.0,447.0,52.0,13.0,51.0,355.0,353.0,183.0,390.0,330.0,390.0,268.0,51.0,151.0,100.0,330.0,52.0,62.0,196.0,151.0,297.0,241.0,355.0,268.0,80.0,330.0,390.0,407.0,127.0,456.0,103.0,390.0,161.0,447.0,34.0,268.0,224.0,456.0,103.0,264.0,276.0,97.0,151.0,264.0,91.0,62.0,390.0,241.0,381.0,4.0,426.0,186.0,4.0,409.0,305.0,390.0,7.0,13.0,330.0,447.0,323.0,456.0,203.0,423.0,456.0,24.0,34.0,159.0,183.0,215.0,151.0,14.0,103.0,316.0,456.0,207.0,456.0,361.0,34.0,424.0,4.0,51.0,371.0,59.0,409.0,25.0,59.0,426.0,298.0,348.0,388.0,409.0,456.0,296.0,456.0,388.0,305.0,185.0,409.0,162.0,33.0,197.0,456.0,4.0,90.0,420.0,13.0,447.0,29.0,161.0,181.0,456.0,382.0,305.0,355.0,7.0,256.0,423.0,93.0,295.0,181.0,409.0,434.0,33.0,264.0,330.0,320.0,24.0,380.0,144.0,297.0,198.0,428.0,65.0,458.0,33.0,24.0,93.0,315.0,143.0,29.0,173.0,441.0,409.0,207.0,196.0,59.0,7.0,381.0,305.0,151.0,294.0,456.0,90.0,33.0,365.0,90.0,161.0,330.0,425.0,432.0,309.0,406.0,322.0,221.0,148.0,33.0,469.0,33.0,390.0,390.0,396.0,14.0,185.0,305.0,403.0,169.0,415.0,242.0,268.0,296.0,7.0,54.0,326.0,428.0,103.0,198.0,174.0,457.0,185.0,301.0,9.0,365.0,127.0,179.0,444.0,305.0,117.0,449.0,472.0,316.0,279.0,209.0,297.0,29.0,462.0,98.0,285.0,153.0,397.0,248.0,436.0,476.0,221.0,447.0,169.0,195.0,22.0,428.0,329.0,381.0,305.0,171.0,136.0,462.0,194.0,440.0,262.0,447.0,4.0,26.0,404.0,232.0,33.0,148.0,102.0,5.0,423.0,71.0,27.0,134.0,234.0,410.0,169.0,464.0,142.0,20.0,78.0,272.0,451.0,364.0,330.0,316.0,241.0,268.0,330.0,91.0,4.0,80.0,183.0,183.0,268.0,97.0,97.0,426.0,13.0,52.0,97.0,37.0,297.0,97.0,426.0,241.0,91.0,2.0,52.0,13.0,330.0,97.0,317.0,103.0,98.0,300.0,9.0,241.0,390.0,19.0,390.0,13.0,37.0,13.0,151.0,462.0,34.0,196.0,91.0,241.0,183.0,97.0,355.0,2.0,91.0,264.0,100.0,241.0,407.0,19.0,473.0,295.0,100.0,422.0,151.0,151.0,276.0,37.0,97.0,185.0,300.0,4.0,151.0,298.0,13.0,298.0,433.0,24.0,151.0,41.0,330.0,407.0,432.0,215.0,295.0,52.0,390.0,297.0,71.0,100.0,423.0,241.0,34.0,41.0,447.0,91.0,456.0,346.0,146.0,298.0,422.0,250.0,127.0,385.0,33.0,29.0,316.0,62.0,382.0,69.0,59.0,41.0,329.0,127.0,393.0,276.0,162.0,462.0,59.0,30.0,4.0,382.0,111.0,70.0,18.0,389.0,368.0,428.0,453.0,9.0,161.0,305.0,444.0,207.0,137.0,276.0,159.0,461.0,33.0,13.0,390.0,59.0,305.0,9.0,473.0,473.0,271.0,325.0,23.0,90.0,146.0,159.0,59.0,305.0,348.0,447.0,127.0,284.0,179.0,64.0,381.0,144.0,234.0,389.0,132.0,187.0,14.0,389.0,4.0,309.0,215.0,443.0,305.0,293.0,129.0,409.0,196.0,203.0,276.0,254.0,388.0,203.0,4.0,390.0,309.0,376.0,409.0,33.0,423.0,244.0,295.0,159.0,409.0,345.0,33.0,252.0,33.0,4.0,59.0,456.0,185.0,456.0,105.0,81.0,334.0,305.0,390.0,443.0,454.0,36.0,319.0,240.0,91.0,19.0,138.0,269.0,389.0,362.0,210.0,34.0,207.0,234.0,215.0,319.0,231.0,443.0,391.0,404.0,216.0,33.0,33.0,347.0,456.0,369.0,456.0,309.0,421.0,305.0,33.0,373.0,456.0,90.0,147.0,339.0,130.0,268.0,24.0,93.0,234.0,147.0,331.0,355.0,309.0,466.0,406.0,105.0,4.0,33.0,373.0,421.0,136.0,356.0,219.0,456.0,206.0,428.0,298.0,129.0,59.0,400.0,14.0,170.0,90.0,459.0,319.0,437.0,33.0,311.0,203.0,151.0,287.0,33.0,127.0,24.0,305.0,472.0,145.0,104.0,356.0,16.0,196.0,33.0,149.0,92.0,16.0,397.0,344.0,305.0,428.0,215.0,178.0,17.0,330.0,330.0,422.0,97.0,60.0,433.0,258.0,240.0,120.0,265.0,361.0,403.0,4.0,5.0,310.0,207.0,285.0,33.0,300.0,376.0,84.0,395.0,350.0,368.0,140.0,396.0,43.0,24.0,260.0,389.0,136.0,29.0,462.0,383.0,151.0,453.0,388.0,4.0,234.0,456.0,421.0,278.0,199.0,78.0,202.0,116.0,281.0,447.0,374.0,90.0,284.0,271.0,453.0,349.0,220.0,454.0,388.0,433.0,443.0,45.0,316.0,470.0,156.0,155.0,78.0,306.0,378.0,256.0,14.0,281.0,11.0,268.0,265.0,342.0,71.0,99.0,429.0,148.0,428.0,326.0,175.0,279.0,59.0,459.0,420.0,304.0,460.0,147.0,33.0,305.0,226.0,44.0,234.0,452.0,460.0,150.0,250.0,347.0,87.0,302.0,11.0,90.0,450.0,196.0,216.0,45.0,352.0,471.0,212.0,14.0,428.0,333.0,378.0,462.0,428.0,136.0,298.0,244.0,208.0,423.0,199.0,227.0,201.0,279.0,77.0,378.0,78.0,133.0,50.0,259.0,304.0,423.0,475.0,70.0,404.0,417.0,14.0,84.0,125.0,89.0,273.0,158.0,134.0,430.0,425.0,24.0,59.0,283.0,154.0,151.0,412.0,53.0,396.0,428.0,308.0,126.0,268.0,27.0,165.0,453.0,189.0,62.0,237.0,298.0,439.0,390.0,113.0,236.0,48.0,4.0,425.0,454.0,360.0,85.0,75.0,196.0,330.0,316.0,316.0,330.0,91.0,34.0,241.0,196.0,330.0,207.0,2.0,241.0,355.0,371.0,62.0,381.0,52.0,355.0,62.0,52.0,371.0,317.0,355.0,426.0,2.0,98.0,98.0,207.0,98.0,62.0,103.0,355.0,250.0,19.0,268.0,268.0,390.0,268.0,111.0,232.0,300.0,103.0,97.0,288.0,232.0,462.0,423.0,51.0,348.0,422.0,229.0,297.0,295.0,473.0,461.0,474.0,288.0,355.0,298.0,432.0,461.0,297.0,297.0,300.0,330.0,348.0,422.0,250.0,215.0,271.0,24.0,407.0,250.0,268.0,371.0,462.0,461.0,297.0,29.0,330.0,407.0,151.0,104.0,98.0,136.0,297.0,389.0,298.0,157.0,198.0,346.0,276.0,298.0,473.0,34.0,24.0,24.0,198.0,229.0,151.0,100.0,362.0,127.0,4.0,216.0,276.0,178.0,376.0,179.0,127.0,376.0,207.0,148.0,151.0,24.0,422.0,179.0,429.0,215.0,390.0,289.0,461.0,4.0,383.0,330.0,24.0,305.0,24.0,13.0,83.0,159.0,97.0,83.0,348.0,326.0,241.0,390.0,376.0,413.0,371.0,297.0,280.0,219.0,297.0,35.0,156.0,297.0,103.0,297.0,72.0,334.0,148.0,24.0,42.0,151.0,140.0,461.0,329.0,453.0,299.0,409.0,443.0,379.0,156.0,3.0,62.0,356.0,24.0,245.0,4.0,55.0,112.0,371.0,59.0,4.0,375.0,419.0,4.0,83.0,422.0,383.0,298.0,30.0,24.0,252.0,355.0,151.0,68.0,363.0,14.0,313.0,59.0,230.0,159.0,186.0,150.0,24.0,111.0,159.0,95.0,134.0,178.0,305.0,346.0,198.0,404.0,224.0,187.0,414.0,137.0,136.0,345.0,365.0,4.0,149.0,297.0,260.0,344.0,389.0,207.0,411.0,252.0,33.0,305.0,465.0,159.0,149.0,305.0,297.0,432.0,68.0,285.0,453.0,144.0,69.0,24.0,451.0,443.0,97.0,24.0,149.0,129.0,191.0,433.0,215.0,296.0,389.0,166.0,119.0,33.0,426.0,305.0,309.0,4.0,153.0,4.0,305.0,33.0,229.0,103.0,91.0,181.0,356.0,153.0,305.0,255.0,76.0,198.0,58.0,278.0,159.0,105.0,175.0,466.0,213.0,167.0,453.0,327.0,350.0,366.0,166.0,463.0,337.0,162.0,132.0,404.0,453.0,418.0,477.0,9.0,268.0,472.0,313.0,466.0,14.0,388.0,340.0,303.0,413.0,359.0,389.0,375.0,435.0,423.0,423.0,312.0,34.0,82.0,54.0,444.0,59.0,416.0,378.0,97.0,406.0,90.0,252.0,70.0,91.0,166.0,305.0,289.0,231.0,372.0,66.0,139.0,285.0,389.0,32.0,357.0,167.0,472.0,416.0,103.0,203.0,337.0,305.0,238.0,389.0,231.0,305.0,313.0,394.0,118.0,193.0,429.0,147.0,93.0,349.0,351.0,441.0,356.0,446.0,71.0,459.0,151.0,159.0,33.0,160.0,206.0,101.0,63.0,367.0,60.0,181.0,32.0,343.0,97.0,221.0,378.0,428.0,147.0,147.0,381.0,171.0,17.0,285.0,421.0,24.0,79.0,285.0,32.0,119.0,14.0,280.0,379.0,17.0,215.0,94.0,288.0,115.0,330.0,347.0,219.0,369.0,263.0,231.0,268.0,223.0,239.0,364.0,124.0,151.0,122.0,158.0,309.0,386.0,186.0,262.0,185.0,417.0,166.0,281.0,349.0,423.0,90.0,122.0,2.0,184.0,391.0,266.0,111.0,409.0,404.0,300.0,314.0,193.0,235.0,34.0,36.0,59.0,407.0,83.0,268.0,479.0,330.0,421.0,404.0,261.0,364.0,159.0,421.0,466.0,420.0,5.0,148.0,268.0,201.0,43.0,456.0,298.0,352.0,454.0,305.0,303.0,400.0,215.0,216.0,46.0,378.0,290.0,204.0,381.0,73.0,5.0,158.0,404.0,387.0,104.0,468.0,20.0,404.0,445.0,299.0,408.0,218.0,14.0,199.0,305.0,105.0,286.0,313.0,262.0,24.0,33.0,181.0,176.0,108.0,52.0,297.0,440.0,433.0,338.0,219.0,198.0,375.0,443.0,421.0,57.0,440.0,3.0,386.0,373.0,45.0,128.0,150.0,65.0,14.0,198.0,192.0,221.0,63.0,262.0,268.0,428.0,143.0,28.0,207.0,161.0,98.0,218.0,143.0,404.0,456.0,472.0,295.0,48.0,309.0,21.0,354.0,10.0,474.0,378.0,218.0,350.0,297.0,178.0,121.0,39.0,38.0,451.0,268.0,341.0,421.0,277.0,450.0,266.0,59.0,288.0,270.0,431.0,386.0,253.0,58.0,17.0,159.0,419.0,171.0,275.0,415.0,89.0,293.0,471.0,207.0,40.0,322.0,399.0,362.0,42.0,125.0,85.0,462.0,417.0,116.0,383.0,401.0,257.0,246.0,144.0,203.0,228.0,462.0,128.0,31.0,125.0,257.0,96.0,237.0,249.0,38.0,416.0,74.0,114.0,287.0,135.0,472.0,472.0,442.0,196.0,18.0,106.0,33.0,387.0,33.0,414.0,405.0,381.0,234.0,233.0,96.0,295.0,402.0,421.0,378.0,318.0,220.0,307.0,86.0,188.0,243.0,446.0,427.0,123.0,136.0,0.0,405.0,139.0,15.0,71.0,257.0,94.0,291.0,61.0,438.0,12.0,405.0,416.0,324.0,205.0,67.0,251.0,416.0,434.0,222.0,274.0,320.0,330.0,119.0,335.0,1.0,297.0,298.0,336.0,18.0,23.0,14.0,61.0,467.0,141.0,83.0,182.0,194.0,476.0,30.0,478.0,396.0,18.0,473.0,298.0,394.0,110.0,409.0,67.0,392.0,370.0,238.0,257.0,282.0,257.0,254.0,177.0,71.0,231.0,242.0,20.0,398.0,346.0,263.0,163.0,86.0,322.0,284.0,339.0,478.0,268.0,250.0,376.0,419.0,376.0,389.0,34.0,207.0,355.0,298.0,381.0,91.0,381.0,207.0,382.0,250.0,97.0,97.0,250.0,264.0,264.0,264.0,83.0,127.0,37.0,376.0,97.0,376.0,389.0,423.0,298.0,371.0,97.0,19.0,381.0,130.0,183.0,19.0,268.0,248.0,298.0,229.0,297.0,35.0,316.0,234.0,178.0,105.0,248.0,328.0,111.0,229.0,88.0,127.0,289.0,37.0,381.0,376.0,196.0,232.0,24.0,207.0,62.0,24.0,319.0,207.0,88.0,136.0,88.0,379.0,305.0,268.0,461.0,196.0,24.0,376.0,103.0,47.0,298.0,97.0,71.0,297.0,34.0,298.0,207.0,207.0,383.0,348.0,247.0,332.0,136.0,328.0,159.0,159.0,247.0,379.0,437.0,234.0,390.0,48.0,285.0,24.0,190.0,317.0,388.0,474.0,24.0,24.0,297.0,425.0,295.0,453.0,136.0,159.0,91.0,373.0,388.0,429.0,423.0,168.0,406.0,172.0,313.0,145.0,448.0,283.0,150.0,103.0,284.0,437.0,168.0,358.0,168.0,83.0,214.0,317.0,276.0,29.0,90.0,462.0,159.0,406.0,474.0,433.0,196.0,196.0,440.0,276.0,207.0,419.0,362.0,330.0,109.0,3.0,292.0,8.0,375.0,328.0,164.0,373.0,136.0,132.0,390.0,271.0,200.0,152.0,409.0,250.0,285.0,292.0,268.0,88.0,453.0,119.0,384.0,289.0,373.0,56.0,383.0,317.0,33.0,159.0,159.0,158.0,334.0,316.0,406.0,461.0,285.0,292.0,88.0,453.0,317.0,316.0,406.0,390.0],\"type\":\"histogram\",\"xaxis\":\"x\",\"yaxis\":\"y\"},{\"histfunc\":\"avg\",\"name\":\"wine\",\"nbinsx\":20,\"x\":[819.0,778.0,778.0,778.0,778.0,778.0,779.0,778.0,779.0,241.0,779.0,231.0,206.0,779.0,252.0,762.0,779.0,231.0,779.0,233.0,779.0,793.0,231.0,579.0,456.0,343.0,786.0,778.0,778.0,778.0,778.0,786.0,778.0,778.0,778.0,786.0,786.0,778.0,778.0,206.0,778.0,778.0,779.0,241.0,252.0,252.0,779.0,132.0,252.0,252.0,413.0,779.0,463.0,462.0,252.0,35.0,411.0,750.0,193.0,469.0,413.0,129.0,779.0,567.0,786.0,748.0,779.0,168.0,76.0,778.0,231.0,778.0,610.0,4.0,758.0,165.0,252.0,4.0,112.0,776.0,600.0,567.0,617.0,343.0,67.0,215.0,233.0,413.0,255.0,231.0,35.0,31.0,396.0,769.0,452.0,819.0,729.0,625.0,750.0,579.0,782.0,342.0,615.0,407.0,613.0,133.0,544.0,544.0,133.0,646.0,786.0,311.0,544.0,786.0,786.0,748.0,748.0,546.0,462.0,786.0,463.0,206.0,258.0,462.0,750.0,750.0,413.0,819.0,165.0,165.0,193.0,214.0,304.0,553.0,173.0,546.0,567.0,462.0,786.0,819.0,567.0,819.0,209.0,819.0,193.0,129.0,748.0,786.0,649.0,786.0,193.0,819.0,517.0,785.0,469.0,101.0,35.0,750.0,318.0,819.0,59.0,819.0,401.0,778.0,759.0,23.0,819.0,589.0,779.0,258.0,123.0,338.0,76.0,373.0,546.0,778.0,759.0,88.0,224.0,567.0,772.0,165.0,236.0,756.0,133.0,786.0,623.0,621.0,340.0,286.0,725.0,168.0,58.0,331.0,625.0,600.0,786.0,234.0,619.0,294.0,29.0,828.0,214.0,439.0,140.0,76.0,346.0,572.0,401.0,34.0,728.0,4.0,130.0,501.0,124.0,153.0,387.0,191.0,786.0,636.0,250.0,648.0,300.0,4.0,416.0,629.0,621.0,819.0,376.0,58.0,679.0,168.0,304.0,788.0,759.0,758.0,401.0,666.0,789.0,234.0,637.0,346.0,445.0,768.0,245.0,740.0,822.0,682.0,211.0,789.0,636.0,780.0,453.0,5.0,322.0,498.0,728.0,23.0,271.0,18.0,724.0,195.0,233.0,133.0,343.0,133.0,763.0,311.0,544.0,167.0,311.0,311.0,311.0,167.0,167.0,544.0,759.0,453.0,759.0,167.0,325.0,566.0,786.0,453.0,646.0,96.0,566.0,619.0,311.0,669.0,595.0,669.0,343.0,96.0,600.0,571.0,767.0,453.0,748.0,463.0,600.0,214.0,619.0,566.0,343.0,167.0,80.0,342.0,688.0,652.0,553.0,645.0,772.0,176.0,786.0,628.0,343.0,641.0,553.0,645.0,105.0,207.0,165.0,600.0,105.0,785.0,748.0,772.0,619.0,823.0,580.0,23.0,258.0,580.0,58.0,174.0,772.0,759.0,646.0,80.0,786.0,759.0,553.0,759.0,490.0,615.0,283.0,347.0,828.0,311.0,695.0,600.0,111.0,655.0,648.0,615.0,359.0,579.0,352.0,623.0,205.0,548.0,96.0,763.0,403.0,304.0,723.0,606.0,23.0,91.0,123.0,776.0,58.0,615.0,263.0,615.0,776.0,112.0,619.0,58.0,295.0,819.0,98.0,579.0,548.0,393.0,752.0,646.0,786.0,728.0,176.0,833.0,554.0,83.0,112.0,567.0,759.0,703.0,491.0,32.0,329.0,833.0,304.0,582.0,354.0,105.0,80.0,479.0,439.0,411.0,511.0,214.0,162.0,235.0,640.0,150.0,245.0,610.0,32.0,482.0,270.0,728.0,309.0,187.0,304.0,359.0,463.0,193.0,759.0,824.0,112.0,600.0,25.0,579.0,393.0,416.0,495.0,401.0,497.0,595.0,47.0,760.0,222.0,759.0,407.0,514.0,600.0,245.0,244.0,354.0,663.0,342.0,148.0,111.0,346.0,112.0,361.0,183.0,284.0,281.0,667.0,29.0,759.0,666.0,342.0,472.0,645.0,621.0,590.0,55.0,120.0,473.0,145.0,37.0,652.0,574.0,784.0,112.0,589.0,98.0,149.0,649.0,110.0,342.0,214.0,728.0,192.0,129.0,394.0,697.0,681.0,740.0,563.0,356.0,514.0,786.0,580.0,689.0,208.0,234.0,325.0,823.0,112.0,432.0,286.0,10.0,321.0,761.0,293.0,786.0,580.0,220.0,730.0,67.0,790.0,600.0,694.0,357.0,619.0,128.0,326.0,682.0,141.0,683.0,108.0,289.0,227.0,54.0,838.0,423.0,802.0,797.0,698.0,651.0,197.0,667.0,595.0,614.0,697.0,167.0,311.0,311.0,815.0,676.0,676.0,16.0,646.0,454.0,676.0,36.0,133.0,676.0,16.0,197.0,614.0,759.0,453.0,646.0,767.0,676.0,260.0,655.0,759.0,366.0,145.0,197.0,669.0,325.0,669.0,646.0,36.0,646.0,600.0,9.0,628.0,461.0,785.0,619.0,311.0,676.0,632.0,759.0,785.0,386.0,561.0,619.0,688.0,325.0,775.0,329.0,64.0,811.0,600.0,600.0,207.0,36.0,676.0,619.0,626.0,549.0,600.0,91.0,646.0,91.0,616.0,283.0,600.0,379.0,767.0,688.0,798.0,601.0,329.0,454.0,669.0,214.0,746.0,201.0,491.0,197.0,347.0,379.0,786.0,785.0,553.0,794.0,226.0,666.0,811.0,666.0,619.0,759.0,557.0,66.0,648.0,525.0,83.0,735.0,403.0,379.0,325.0,652.0,845.0,26.0,295.0,8.0,403.0,406.0,436.0,83.0,238.0,759.0,438.0,355.0,600.0,233.0,575.0,145.0,497.0,174.0,784.0,359.0,153.0,26.0,666.0,254.0,557.0,646.0,772.0,403.0,174.0,145.0,775.0,210.0,342.0,313.0,3.0,164.0,226.0,828.0,403.0,174.0,832.0,786.0,619.0,743.0,757.0,759.0,350.0,511.0,137.0,662.0,130.0,428.0,111.0,355.0,549.0,222.0,695.0,376.0,174.0,169.0,583.0,58.0,462.0,759.0,207.0,717.0,711.0,759.0,549.0,772.0,222.0,700.0,304.0,416.0,491.0,15.0,329.0,828.0,304.0,464.0,790.0,159.0,819.0,549.0,422.0,579.0,619.0,615.0,218.0,84.0,609.0,262.0,669.0,376.0,835.0,163.0,219.0,345.0,335.0,76.0,560.0,317.0,662.0,704.0,42.0,628.0,578.0,137.0,695.0,246.0,503.0,593.0,351.0,368.0,829.0,416.0,245.0,712.0,554.0,1.0,579.0,222.0,445.0,112.0,416.0,179.0,553.0,393.0,166.0,517.0,493.0,667.0,810.0,32.0,137.0,166.0,796.0,530.0,222.0,745.0,759.0,68.0,436.0,819.0,178.0,442.0,264.0,504.0,768.0,615.0,455.0,233.0,91.0,583.0,403.0,175.0,111.0,89.0,420.0,101.0,246.0,670.0,245.0,577.0,759.0,600.0,827.0,819.0,619.0,283.0,112.0,654.0,243.0,597.0,369.0,470.0,799.0,819.0,172.0,134.0,470.0,63.0,608.0,112.0,232.0,695.0,446.0,223.0,595.0,595.0,811.0,676.0,764.0,616.0,441.0,344.0,753.0,60.0,400.0,361.0,697.0,21.0,280.0,359.0,394.0,245.0,702.0,700.0,74.0,113.0,387.0,0.0,459.0,534.0,633.0,283.0,519.0,355.0,265.0,728.0,9.0,427.0,468.0,342.0,711.0,550.0,137.0,579.0,445.0,363.0,527.0,838.0,448.0,20.0,142.0,786.0,733.0,164.0,547.0,342.0,575.0,333.0,581.0,51.0,711.0,616.0,481.0,661.0,342.0,759.0,229.0,716.0,838.0,671.0,664.0,703.0,477.0,146.0,475.0,816.0,536.0,594.0,248.0,242.0,93.0,600.0,234.0,342.0,152.0,389.0,586.0,101.0,371.0,81.0,430.0,721.0,354.0,112.0,138.0,276.0,693.0,125.0,290.0,320.0,669.0,726.0,287.0,599.0,475.0,420.0,402.0,462.0,523.0,216.0,341.0,17.0,535.0,88.0,233.0,526.0,664.0,11.0,232.0,264.0,666.0,14.0,117.0,342.0,527.0,414.0,397.0,506.0,181.0,664.0,838.0,731.0,419.0,588.0,323.0,342.0,499.0,759.0,368.0,782.0,477.0,804.0,820.0,580.0,94.0,844.0,240.0,787.0,542.0,391.0,403.0,696.0,139.0,468.0,759.0,449.0,532.0,231.0,691.0,540.0,814.0,127.0,843.0,412.0,488.0,748.0,131.0,91.0,551.0,662.0,799.0,143.0,846.0,580.0,46.0,619.0,328.0,251.0,715.0,461.0,698.0,651.0,651.0,595.0,614.0,647.0,197.0,461.0,595.0,478.0,759.0,197.0,203.0,763.0,525.0,825.0,454.0,632.0,525.0,454.0,763.0,260.0,632.0,16.0,759.0,759.0,759.0,478.0,759.0,525.0,655.0,632.0,666.0,325.0,667.0,814.0,669.0,814.0,102.0,487.0,626.0,655.0,676.0,630.0,75.0,9.0,619.0,96.0,832.0,811.0,646.0,349.0,329.0,775.0,253.0,228.0,630.0,203.0,666.0,798.0,253.0,214.0,214.0,348.0,767.0,832.0,811.0,666.0,601.0,619.0,283.0,688.0,669.0,815.0,763.0,9.0,254.0,349.0,66.0,767.0,688.0,600.0,392.0,759.0,297.0,349.0,355.0,635.0,43.0,160.0,794.0,26.0,91.0,45.0,628.0,283.0,283.0,160.0,646.0,600.0,539.0,704.0,652.0,550.0,829.0,26.0,225.0,342.0,757.0,202.0,700.0,578.0,435.0,600.0,283.0,811.0,701.0,298.0,601.0,662.0,570.0,253.0,549.0,496.0,767.0,810.0,174.0,810.0,646.0,374.0,666.0,677.0,374.0,832.0,342.0,619.0,674.0,700.0,806.0,763.0,122.0,450.0,766.0,133.0,285.0,274.0,349.0,755.0,133.0,272.0,302.0,435.0,283.0,334.0,600.0,459.0,253.0,336.0,575.0,666.0,183.0,593.0,605.0,230.0,13.0,525.0,504.0,810.0,288.0,436.0,279.0,104.0,763.0,403.0,436.0,261.0,409.0,548.0,374.0,811.0,496.0,669.0,406.0,283.0,159.0,632.0,515.0,77.0,38.0,111.0,173.0,403.0,151.0,828.0,434.0,320.0,283.0,102.0,828.0,154.0,239.0,446.0,174.0,794.0,160.0,483.0,641.0,428.0,565.0,708.0,297.0,464.0,714.0,550.0,172.0,133.0,519.0,607.0,662.0,604.0,576.0,159.0,790.0,174.0,161.0,665.0,172.0,174.0,133.0,798.0,30.0,394.0,575.0,512.0,735.0,283.0,801.0,593.0,676.0,283.0,172.0,583.0,362.0,598.0,695.0,263.0,662.0,720.0,282.0,557.0,277.0,174.0,222.0,550.0,759.0,436.0,174.0,557.0,646.0,642.0,335.0,833.0,369.0,759.0,174.0,837.0,85.0,737.0,115.0,831.0,665.0,218.0,152.0,745.0,841.0,447.0,575.0,299.0,736.0,332.0,720.0,634.0,603.0,295.0,130.0,587.0,342.0,781.0,771.0,145.0,667.0,654.0,173.0,745.0,111.0,711.0,38.0,484.0,103.0,558.0,662.0,261.0,759.0,619.0,342.0,415.0,347.0,722.0,375.0,784.0,422.0,486.0,668.0,676.0,759.0,82.0,159.0,759.0,335.0,385.0,174.0,382.0,564.0,87.0,186.0,312.0,57.0,662.0,353.0,204.0,807.0,654.0,486.0,278.0,759.0,653.0,174.0,520.0,662.0,503.0,262.0,173.0,759.0,398.0,559.0,474.0,166.0,32.0,333.0,836.0,126.0,791.0,305.0,746.0,101.0,600.0,665.0,354.0,171.0,135.0,65.0,50.0,339.0,765.0,833.0,353.0,79.0,677.0,514.0,668.0,232.0,166.0,166.0,825.0,432.0,541.0,394.0,442.0,283.0,460.0,56.0,353.0,624.0,88.0,421.0,605.0,223.0,601.0,800.0,370.0,774.0,595.0,61.0,213.0,759.0,458.0,503.0,343.0,316.0,307.0,40.0,480.0,188.0,257.0,380.0,222.0,777.0,399.0,692.0,619.0,170.0,720.0,146.0,424.0,619.0,393.0,257.0,100.0,306.0,618.0,136.0,738.0,58.0,485.0,702.0,528.0,538.0,509.0,59.0,163.0,403.0,688.0,275.0,667.0,830.0,595.0,442.0,587.0,383.0,40.0,828.0,569.0,840.0,371.0,465.0,600.0,815.0,395.0,72.0,615.0,92.0,341.0,51.0,174.0,484.0,175.0,600.0,489.0,429.0,668.0,418.0,189.0,823.0,562.0,358.0,844.0,483.0,759.0,202.0,680.0,52.0,485.0,301.0,666.0,365.0,22.0,324.0,527.0,262.0,792.0,247.0,173.0,293.0,283.0,416.0,833.0,619.0,705.0,454.0,214.0,761.0,598.0,327.0,573.0,107.0,249.0,593.0,442.0,744.0,384.0,13.0,719.0,178.0,216.0,505.0,320.0,718.0,88.0,162.0,799.0,514.0,552.0,805.0,667.0,233.0,839.0,818.0,359.0,176.0,465.0,158.0,270.0,483.0,615.0,149.0,329.0,734.0,222.0,291.0,621.0,48.0,118.0,660.0,22.0,736.0,133.0,446.0,502.0,98.0,24.0,801.0,343.0,795.0,442.0,746.0,402.0,144.0,182.0,666.0,41.0,522.0,612.0,709.0,116.0,97.0,619.0,409.0,432.0,829.0,739.0,310.0,169.0,568.0,627.0,86.0,842.0,686.0,770.0,334.0,106.0,408.0,8.0,170.0,360.0,426.0,537.0,256.0,62.0,513.0,759.0,467.0,7.0,505.0,268.0,303.0,121.0,747.0,613.0,273.0,269.0,498.0,70.0,591.0,28.0,199.0,377.0,377.0,372.0,417.0,180.0,114.0,410.0,759.0,611.0,619.0,685.0,825.0,809.0,296.0,747.0,669.0,39.0,442.0,658.0,834.0,669.0,78.0,531.0,292.0,457.0,657.0,592.0,713.0,266.0,6.0,367.0,109.0,732.0,325.0,121.0,800.0,585.0,155.0,212.0,69.0,685.0,742.0,699.0,198.0,466.0,425.0,259.0,582.0,99.0,27.0,479.0,595.0,282.0,510.0,319.0,214.0,669.0,494.0,184.0,2.0,88.0,156.0,529.0,518.0,374.0,697.0,321.0,696.0,437.0,555.0,533.0,185.0,45.0,666.0,759.0,364.0,58.0,471.0,147.0,656.0,521.0,431.0,759.0,121.0,783.0,221.0,337.0,157.0,572.0,53.0,678.0,516.0,751.0,49.0,531.0,342.0,585.0,706.0,707.0,813.0,669.0,12.0,749.0,12.0,669.0,647.0,684.0,203.0,666.0,817.0,614.0,817.0,478.0,451.0,669.0,677.0,677.0,669.0,386.0,386.0,386.0,374.0,202.0,390.0,12.0,677.0,342.0,669.0,619.0,659.0,763.0,677.0,803.0,817.0,44.0,545.0,803.0,812.0,741.0,666.0,646.0,122.0,285.0,202.0,330.0,225.0,308.0,741.0,650.0,102.0,646.0,194.0,202.0,808.0,390.0,826.0,620.0,461.0,217.0,444.0,684.0,525.0,443.0,378.0,478.0,194.0,19.0,194.0,605.0,476.0,815.0,253.0,646.0,283.0,620.0,644.0,508.0,666.0,677.0,71.0,629.0,647.0,635.0,604.0,604.0,496.0,832.0,95.0,710.0,297.0,650.0,666.0,666.0,95.0,605.0,669.0,330.0,672.0,734.0,56.0,283.0,200.0,260.0,196.0,237.0,810.0,810.0,349.0,543.0,673.0,619.0,297.0,666.0,614.0,177.0,196.0,474.0,202.0,727.0,596.0,631.0,190.0,433.0,556.0,90.0,315.0,754.0,547.0,662.0,202.0,602.0,202.0,622.0,73.0,260.0,821.0,66.0,82.0,9.0,666.0,596.0,381.0,616.0,405.0,417.0,759.0,26.0,492.0,749.0,704.0,698.0,619.0,13.0,638.0,267.0,33.0,650.0,314.0,177.0,500.0,130.0,662.0,619.0,690.0,675.0,183.0,669.0,56.0,639.0,812.0,194.0,342.0,348.0,773.0,119.0,178.0,524.0,496.0,260.0,790.0,665.0,619.0,440.0,302.0,342.0,596.0,253.0,56.0,639.0,194.0,342.0,260.0,342.0,596.0,662.0],\"type\":\"histogram\",\"xaxis\":\"x2\",\"yaxis\":\"y2\"},{\"histfunc\":\"avg\",\"name\":\"year\",\"nbinsx\":20,\"x\":[2018.0,2009.0,1999.0,1996.0,1998.0,2010.0,2015.0,2011.0,2016.0,2016.0,2018.0,1946.0,2015.0,2019.0,2018.0,2013.495839112344,2013.0,1931.0,2010.0,1946.0,2020.0,2014.0,1929.0,2007.0,2016.0,1985.0,2006.0,2005.0,2004.0,2000.0,2007.0,2015.0,2006.0,2008.0,2003.0,2016.0,2005.0,2002.0,1991.0,2014.0,1989.0,1987.0,2017.0,2015.0,2014.0,2013.0,1996.0,1986.0,2016.0,2008.0,2015.0,2007.0,2016.0,2016.0,2017.0,2016.0,2015.0,2017.0,2012.0,2006.0,2018.0,2015.0,2012.0,2009.0,2017.0,2005.0,2011.0,2010.0,2011.0,1983.0,1955.0,1972.0,2015.0,2015.0,2016.0,2000.0,2019.0,2013.0,2006.0,2007.0,2007.0,2016.0,2013.495839112344,1982.0,1987.0,2007.0,1955.0,2019.0,2016.0,1958.0,2018.0,2013.495839112344,2013.495839112344,2018.0,2012.0,1995.0,2019.0,2011.0,2019.0,2004.0,2010.0,2001.0,1998.0,2018.0,1987.0,1942.0,2017.0,2018.0,2010.0,2017.0,2004.0,2018.0,2019.0,2000.0,2002.0,2012.0,2011.0,2015.0,2011.0,1999.0,2015.0,2010.0,2015.0,2015.0,2015.0,2016.0,2017.0,2006.0,2007.0,2012.0,2011.0,2017.0,2015.0,2018.0,2004.0,2016.0,2014.0,2014.0,1992.0,2010.0,2012.0,2011.0,2015.0,2012.0,2014.0,2014.0,2014.0,1985.0,2001.0,1989.0,2015.0,2005.0,2011.0,2018.0,2005.0,2013.0,2017.0,2018.0,2001.0,2014.0,2016.0,2015.0,2013.0,1975.0,2019.0,2016.0,2009.0,2010.0,2009.0,2018.0,2018.0,2004.0,2015.0,2015.0,2018.0,2012.0,2019.0,2005.0,2006.0,2011.0,2013.0,2017.0,2015.0,2011.0,2011.0,1980.0,2016.0,2015.0,2004.0,2014.0,2013.495839112344,2011.0,2007.0,1910.0,2008.0,2008.0,1983.0,1965.0,2017.0,2016.0,2008.0,2001.0,2001.0,2016.0,2001.0,2016.0,2014.0,2016.0,2014.0,2017.0,2007.0,2017.0,2016.0,2016.0,2014.0,2016.0,2018.0,2013.495839112344,1979.0,2015.0,2014.0,2016.0,2018.0,2016.0,2009.0,1954.0,2016.0,2017.0,2020.0,2017.0,2020.0,2015.0,2002.0,2011.0,2019.0,2017.0,2017.0,1986.0,2012.0,1962.0,2016.0,2015.0,2016.0,2016.0,2017.0,2013.0,2011.0,2013.0,2017.0,2013.0,2017.0,2010.0,2017.0,2016.0,2013.0,2016.0,2004.0,2017.0,2016.0,2012.0,2013.495839112344,2004.0,1968.0,2005.0,2005.0,2009.0,2016.0,2016.0,2015.0,2015.0,2014.0,2010.0,2015.0,2016.0,2017.0,2011.0,2019.0,2014.0,2018.0,2018.0,2017.0,2015.0,2003.0,2015.0,2003.0,2018.0,2014.0,2014.0,2017.0,2012.0,2014.0,2011.0,2004.0,2019.0,2015.0,2013.495839112344,2016.0,2016.0,2010.0,2011.0,2017.0,2014.0,2015.0,2016.0,1995.0,2019.0,2015.0,2007.0,2017.0,2017.0,2016.0,2011.0,2012.0,2005.0,1996.0,2017.0,2010.0,2018.0,2015.0,2012.0,2018.0,2015.0,2016.0,2018.0,2017.0,2017.0,2013.0,2011.0,2016.0,1995.0,2015.0,2011.0,2017.0,2014.0,2012.0,2014.0,2006.0,2009.0,1995.0,2016.0,1987.0,2018.0,2017.0,2013.0,2015.0,2011.0,2006.0,2015.0,2017.0,2019.0,2015.0,2003.0,2009.0,2017.0,2015.0,2014.0,2015.0,2014.0,2019.0,2015.0,2013.495839112344,2016.0,2020.0,2017.0,2017.0,2016.0,2013.495839112344,2018.0,2014.0,2016.0,2016.0,2005.0,2015.0,2015.0,2013.0,2016.0,2006.0,2009.0,2018.0,2014.0,2015.0,2013.0,2017.0,2015.0,2009.0,2013.0,2016.0,2018.0,1988.0,2011.0,2010.0,2018.0,2014.0,2020.0,2010.0,2015.0,2011.0,2015.0,1996.0,2015.0,2016.0,2017.0,2017.0,2016.0,2001.0,2019.0,2004.0,2004.0,2015.0,2016.0,2018.0,2015.0,2011.0,1973.0,2018.0,2012.0,2012.0,2016.0,2014.0,2007.0,2009.0,2016.0,2013.495839112344,2013.495839112344,2018.0,2000.0,2018.0,2016.0,2010.0,1981.0,2014.0,2019.0,2017.0,2009.0,2017.0,2010.0,2015.0,2015.0,2010.0,2015.0,2015.0,2016.0,2017.0,2012.0,2017.0,2011.0,2012.0,2015.0,2014.0,1998.0,2012.0,2011.0,2013.495839112344,2002.0,2012.0,2012.0,2005.0,2017.0,2015.0,2016.0,1987.0,2004.0,2007.0,1994.0,1964.0,1951.0,2014.0,2006.0,2019.0,2013.0,2013.0,2016.0,2013.0,2019.0,2006.0,2010.0,2009.0,2016.0,2013.0,2013.0,2011.0,2010.0,2014.0,1928.0,2000.0,2005.0,2004.0,2016.0,2019.0,2015.0,2013.495839112344,2011.0,2010.0,2017.0,2015.0,1976.0,2018.0,2013.495839112344,2011.0,1949.0,2019.0,2001.0,2013.0,2018.0,2015.0,2006.0,2016.0,2011.0,2018.0,1975.0,2004.0,2018.0,2017.0,1991.0,2019.0,2018.0,2016.0,2016.0,1986.0,2017.0,2017.0,2016.0,2002.0,2014.0,2019.0,2021.0,2018.0,2019.0,2007.0,2015.0,2017.0,2013.0,2016.0,2017.0,2016.0,2010.0,2011.0,2018.0,2017.0,2014.0,2012.0,2013.0,2015.0,2009.0,2010.0,2017.0,2007.0,2016.0,2011.0,2017.0,2004.0,2012.0,2018.0,2018.0,2019.0,2017.0,2010.0,2006.0,2006.0,2015.0,2018.0,2016.0,2017.0,2015.0,2008.0,2017.0,2010.0,2016.0,2009.0,2005.0,2018.0,2004.0,2014.0,2011.0,2016.0,2019.0,2014.0,2011.0,2008.0,2016.0,2017.0,2019.0,2015.0,2019.0,2013.495839112344,2014.0,2011.0,2018.0,2016.0,2014.0,2013.495839112344,2016.0,2011.0,2010.0,2011.0,2019.0,2005.0,2016.0,2015.0,2014.0,2012.0,2015.0,2001.0,2005.0,2015.0,2016.0,2007.0,2016.0,2015.0,2016.0,2017.0,2017.0,2015.0,2017.0,2013.0,2016.0,2010.0,2013.495839112344,2008.0,2019.0,2009.0,2017.0,1995.0,2016.0,2014.0,2017.0,2016.0,2015.0,2017.0,2015.0,2016.0,2006.0,2006.0,2018.0,2014.0,2004.0,2018.0,2016.0,2015.0,2018.0,2016.0,2015.0,2019.0,2017.0,2014.0,2001.0,2011.0,2019.0,2019.0,2019.0,2015.0,2017.0,2010.0,2011.0,2016.0,1994.0,2010.0,2011.0,2005.0,2015.0,2008.0,2014.0,2015.0,2018.0,2016.0,2007.0,2004.0,1996.0,2010.0,2016.0,2011.0,2010.0,2017.0,2017.0,2010.0,1996.0,2013.495839112344,2018.0,2018.0,2016.0,2012.0,2008.0,2019.0,1994.0,2017.0,2014.0,2014.0,2014.0,2011.0,2017.0,2006.0,2017.0,2015.0,2019.0,2008.0,2012.0,2013.0,2007.0,2013.0,2017.0,2007.0,2014.0,2017.0,2013.0,2007.0,2016.0,2001.0,2020.0,2014.0,2014.0,2009.0,2014.0,2013.0,2016.0,2014.0,2015.0,2015.0,2013.495839112344,1994.0,2015.0,2012.0,2018.0,2018.0,2018.0,2007.0,2016.0,2012.0,2012.0,2017.0,2012.0,2019.0,2019.0,2016.0,2014.0,2014.0,2018.0,2014.0,2016.0,2018.0,2001.0,2019.0,2014.0,2013.495839112344,2013.495839112344,2018.0,2012.0,2017.0,2018.0,2017.0,2010.0,2016.0,2015.0,2016.0,2017.0,2010.0,2017.0,2018.0,2014.0,2010.0,2013.495839112344,2015.0,2018.0,2011.0,2014.0,2014.0,2007.0,2013.0,2016.0,2019.0,2016.0,1996.0,2017.0,2016.0,1982.0,2019.0,2016.0,2009.0,2012.0,2012.0,2020.0,2015.0,2015.0,2018.0,2018.0,2020.0,1999.0,2016.0,2015.0,2017.0,2019.0,2014.0,2010.0,2017.0,1986.0,2003.0,2018.0,2004.0,2011.0,2010.0,2013.495839112344,2017.0,2004.0,2016.0,2011.0,2014.0,2004.0,2017.0,1999.0,2016.0,2001.0,2018.0,2019.0,2008.0,2018.0,2017.0,2018.0,2018.0,2016.0,2019.0,2016.0,2017.0,2015.0,2015.0,2013.495839112344,2011.0,2011.0,1990.0,2017.0,2011.0,2018.0,1989.0,1991.0,2019.0,2017.0,2005.0,2018.0,2015.0,2012.0,2016.0,2013.495839112344,2017.0,2007.0,2018.0,2019.0,2015.0,2016.0,2018.0,2016.0,2011.0,2017.0,2008.0,2018.0,2017.0,2016.0,2018.0,2013.495839112344,2016.0,1999.0,2018.0,2013.0,2015.0,2010.0,2012.0,2017.0,2017.0,2014.0,2016.0,2016.0,2011.0,2003.0,2013.0,2015.0,2018.0,2016.0,2017.0,2014.0,2010.0,1982.0,2015.0,2019.0,2019.0,2015.0,2015.0,2011.0,2017.0,2015.0,2015.0,2017.0,2016.0,2014.0,2014.0,2016.0,2016.0,2015.0,2017.0,1922.0,2014.0,2018.0,2015.0,2010.0,2015.0,2015.0,2013.495839112344,2016.0,2017.0,2016.0,1995.0,2017.0,1968.0,1978.0,2020.0,2016.0,2014.0,2014.0,2018.0,2019.0,2018.0,2003.0,1994.0,2017.0,2019.0,2019.0,2019.0,2017.0,2017.0,2017.0,1982.0,2013.495839112344,2015.0,2012.0,2016.0,2018.0,2016.0,2018.0,2015.0,2005.0,2010.0,2017.0,2013.495839112344,1998.0,1973.0,2012.0,2012.0,2008.0,1994.0,2018.0,1996.0,2013.495839112344,2017.0,2015.0,2019.0,2016.0,2013.495839112344,2017.0,2014.0,2009.0,2009.0,2020.0,2017.0,2020.0,2017.0,1994.0,2013.0,2019.0,2018.0,2009.0,2017.0,2017.0,2015.0,2013.0,2018.0,2017.0,2015.0,2014.0,2014.0,2018.0,2019.0,2012.0,2009.0,2018.0,2007.0,2015.0,2013.495839112344,1968.0,2012.0,2014.0,2015.0,2017.0,2015.0,2017.0,2016.0,2000.0,2018.0,2017.0,2005.0,2019.0,2020.0,2011.0,2015.0,2016.0,2016.0,1970.0,2015.0,2016.0,2015.0,2016.0,2014.0,2014.0,2015.0,2006.0,2017.0,2018.0,2014.0,2017.0,2009.0,2013.0,2012.0,2015.0,2018.0,2007.0,2012.0,2009.0,2014.0,2015.0,2014.0,2015.0,2009.0,2016.0,2014.0,2016.0,2016.0,2015.0,2012.0,2015.0,2016.0,2015.0,2015.0,2016.0,2012.0,2014.0,1998.0,2014.0,2006.0,2012.0,2018.0,2013.495839112344,2014.0,2014.0,2008.0,2016.0,2013.495839112344,2010.0,2016.0,2015.0,2016.0,2014.0,2016.0,2011.0,2012.0,2014.0,2014.0,2013.495839112344,2014.0,2019.0,2013.0,2016.0,2015.0,2012.0,2013.0,2011.0,2011.0,2018.0,2013.0,2014.0,2016.0,2014.0,2012.0,2014.0,2017.0,2010.0,2004.0,2009.0,2006.0,2012.0,2017.0,2014.0,2007.0,2009.0,2016.0,2018.0,2017.0,2014.0,2009.0,2016.0,2006.0,2019.0,2016.0,2016.0,2014.0,2017.0,2014.0,2011.0,2013.0,2018.0,2017.0,2008.0,2013.495839112344,2011.0,2019.0,2015.0,2016.0,2012.0,2017.0,2014.0,2012.0,2019.0,2014.0,2016.0,2017.0,2006.0,2017.0,2011.0,2016.0,2015.0,2011.0,2018.0,2013.495839112344,2016.0,2015.0,2014.0,2005.0,2017.0,2005.0,2016.0,2000.0,1964.0,2015.0,2004.0,1970.0,2017.0,1998.0,2013.0,2008.0,2010.0,2013.495839112344,2003.0,2016.0,2006.0,2016.0,1998.0,2016.0,2016.0,2013.0,2014.0,1989.0,2017.0,2018.0,2018.0,2009.0,2019.0,2005.0,2015.0,2017.0,2019.0,2011.0,2010.0,2017.0,2012.0,2014.0,2011.0,2017.0,2016.0,2018.0,2018.0,2010.0,2016.0,2017.0,2017.0,2001.0,2010.0,2018.0,2017.0,2018.0,2015.0,1982.0,2018.0,2015.0,1994.0,2018.0,2018.0,2015.0,2018.0,2016.0,2017.0,2020.0,2006.0,2014.0,2014.0,2019.0,2007.0,2017.0,2016.0,2010.0,2019.0,2011.0,2015.0,2019.0,2009.0,2004.0,2018.0,2020.0,2013.0,2019.0,2017.0,2010.0,2017.0,2018.0,2017.0,2015.0,2014.0,2012.0,1995.0,2017.0,2018.0,2016.0,2018.0,2014.0,2011.0,2017.0,2017.0,2018.0,2015.0,2016.0,2010.0,1994.0,2018.0,2018.0,2017.0,2012.0,2015.0,2012.0,2007.0,2009.0,2016.0,2001.0,2000.0,2015.0,2016.0,2012.0,2016.0,2014.0,2011.0,2014.0,2018.0,2011.0,2013.0,2017.0,2006.0,2012.0,2010.0,2014.0,2014.0,2013.0,2001.0,2018.0,2010.0,2017.0,2014.0,2016.0,2015.0,2012.0,2013.0,2017.0,2016.0,2009.0,2017.0,2016.0,2017.0,2019.0,2012.0,2010.0,2015.0,2014.0,2016.0,2016.0,2019.0,2016.0,2013.495839112344,2011.0,2013.0,2010.0,2019.0,2009.0,2015.0,2018.0,2006.0,1989.0,2016.0,2007.0,2014.0,2004.0,2013.0,2019.0,2018.0,2013.495839112344,2016.0,2015.0,2018.0,2018.0,2002.0,1995.0,2015.0,2014.0,2014.0,2011.0,2007.0,2011.0,2014.0,2010.0,2000.0,2016.0,2019.0,2017.0,2018.0,2015.0,2018.0,2003.0,2013.495839112344,2019.0,2012.0,2017.0,2018.0,2017.0,2013.0,2014.0,2018.0,2013.495839112344,2015.0,2016.0,2015.0,2015.0,2005.0,2018.0,2016.0,2011.0,2015.0,2015.0,2015.0,2015.0,2013.495839112344,2013.495839112344,2015.0,2010.0,2018.0,2010.0,2013.0,2013.495839112344,2019.0,2017.0,2002.0,2011.0,2000.0,2017.0,1999.0,2015.0,2017.0,2013.495839112344,2008.0,2013.495839112344,2014.0,2015.0,2004.0,2016.0,2018.0,2009.0,2011.0,1988.0,2011.0,1997.0,1964.0,2016.0,2016.0,2015.0,2014.0,2003.0,2018.0,2019.0,2016.0,2010.0,2004.0,2000.0,2017.0,2017.0,2018.0,2019.0,2005.0,2013.0,1982.0,2013.495839112344,2018.0,2017.0,2018.0,2017.0,1989.0,2017.0,2017.0,2019.0,2006.0,2018.0,2015.0,2015.0,2016.0,2019.0,2011.0,2021.0,2010.0,2013.0,2017.0,2008.0,2014.0,1995.0,2014.0,2016.0,2019.0,2014.0,2015.0,2017.0,2019.0,2016.0,2018.0,2015.0,2013.0,2013.495839112344,2007.0,2015.0,2017.0,2018.0,2018.0,1994.0,1964.0,2010.0,1985.0,2013.0,2020.0,2017.0,2020.0,2004.0,2017.0,2016.0,2015.0,2017.0,2006.0,1985.0,2013.495839112344,2000.0,2018.0,2018.0,2009.0,2008.0,2002.0,2019.0,2007.0,2018.0,2016.0,2013.495839112344,2006.0,2013.495839112344,2017.0,1981.0,2013.495839112344,2016.0,2015.0,2014.0,2016.0,2019.0,2018.0,2016.0,2019.0,2017.0,2014.0,2018.0,2014.0,2016.0,2017.0,2018.0,2019.0,2016.0,2001.0,2016.0,1997.0,2016.0,2019.0,2014.0,2013.495839112344,2018.0,2002.0,2010.0,2018.0,2017.0,2019.0,2012.0,2018.0,2018.0,2011.0,2018.0,2017.0,2018.0,2019.0,2008.0,2017.0,2007.0,2018.0,2019.0,2001.0,2012.0,2015.0,2013.0,2018.0,2020.0,1970.0,1999.0,2019.0,2014.0,2017.0,2009.0,2017.0,2018.0,2012.0,2016.0,2001.0,2014.0,1998.0,2019.0,2002.0,2014.0,2014.0,2019.0,2013.495839112344,2016.0,2016.0,2019.0,1925.0,2010.0,2015.0,2019.0,2019.0,2017.0,1981.0,2012.0,2012.0,2012.0,2015.0,2010.0,2014.0,2016.0,2015.0,2019.0,2013.0,2020.0,2018.0,2016.0,1995.0,2019.0,2017.0,2014.0,2017.0,2016.0,2016.0,2017.0,1998.0,2018.0,2016.0,2017.0,2017.0,2020.0,2017.0,2018.0,2005.0,2016.0,2018.0,2016.0,2013.495839112344,2016.0,2013.495839112344,2018.0,2018.0,2019.0,2010.0,2005.0,2016.0,2012.0,2018.0,2019.0,2018.0,2009.0,2016.0,2015.0,2015.0,2012.0,2016.0,2017.0,2010.0,2014.0,2005.0,2019.0,2012.0,2013.0,2016.0,2000.0,2016.0,2014.0,2018.0,2014.0,2017.0,2016.0,2018.0,1985.0,2021.0,2017.0,2005.0,2020.0,1994.0,2013.0,2014.0,2015.0,2017.0,2018.0,2011.0,2017.0,2015.0,2020.0,2017.0,2018.0,2017.0,2014.0,2017.0,2020.0,2017.0,2018.0,2018.0,2015.0,2017.0,2018.0,2021.0,2017.0,2020.0,2017.0,2017.0,2018.0,2020.0,2015.0,2002.0,1970.0,2016.0,2018.0,1959.0,1996.0,1964.0,2011.0,2013.495839112344,2013.495839112344,2011.0,2018.0,2016.0,2018.0,1968.0,2016.0,2017.0,2016.0,2018.0,2016.0,2013.495839112344,2013.495839112344,2018.0,2016.0,2017.0,2011.0,2002.0,2020.0,2016.0,2016.0,2017.0,2018.0,2019.0,2016.0,2018.0,2020.0,2012.0,2019.0,2018.0,2016.0,2015.0,2020.0,2019.0,2018.0,2015.0,2000.0,2020.0,2017.0,2020.0,2016.0,2015.0,2016.0,2020.0,2017.0,2012.0,2017.0,2016.0,2017.0,2007.0,2008.0,2011.0,2007.0,2010.0,2019.0,2016.0,2015.0,2012.0,2014.0,2015.0,2018.0,2017.0,1994.0,2017.0,2017.0,2018.0,2013.0,2012.0,2013.0,2015.0,2010.0,2006.0,2014.0,2014.0,2009.0,2016.0,2019.0,2018.0,2015.0,2014.0,2011.0,2015.0,2015.0,2014.0,2017.0,2019.0,2016.0,2013.495839112344,2015.0,2015.0,2017.0,2014.0,2014.0,2018.0,2013.495839112344,2019.0,2005.0,2015.0,2014.0,2013.495839112344,2017.0,2017.0,2013.0,2016.0,2017.0,2016.0,2011.0,2017.0,2013.0,2010.0,2019.0,2000.0,2013.0,2019.0,2015.0,2014.0,2012.0,2020.0,2014.0,2017.0,2015.0,2017.0,2019.0,2015.0,2016.0,2017.0,2012.0,2015.0,2017.0,2017.0,2016.0,2018.0,2008.0,2009.0,2018.0,2007.0,2014.0,2020.0,2014.0,2017.0,2017.0,2014.0,2015.0,2012.0,2017.0,2013.495839112344,2015.0,2014.0,2010.0,2015.0,2020.0,2012.0,2012.0,2014.0,2008.0,2017.0,2016.0,2014.0,2019.0,2015.0,2017.0,2011.0,2014.0,2017.0,2017.0,2012.0,2018.0,2017.0,2017.0,2018.0,2018.0,2017.0,2017.0,2014.0,2013.495839112344,2017.0,2015.0,2016.0,2017.0,2005.0,2011.0,2018.0,2013.495839112344,2012.0,2018.0,2018.0,2018.0,2009.0,2015.0,2021.0,2008.0,2004.0,2009.0,2016.0,2021.0,2019.0,2017.0,2017.0,1964.0,2018.0,2016.0,2011.0,2017.0,2015.0,2017.0,2011.0,2012.0,2004.0,2018.0,2015.0,2018.0,2015.0,2011.0,2012.0,2020.0,2013.495839112344,2014.0,2020.0,2011.0,2019.0,2016.0,2011.0,2016.0,2018.0,2017.0,2011.0,2016.0,2005.0,2018.0,2015.0,2015.0,2011.0,2019.0,2011.0,2016.0,2017.0],\"type\":\"histogram\",\"xaxis\":\"x3\",\"yaxis\":\"y3\"},{\"histfunc\":\"avg\",\"name\":\"rating\",\"nbinsx\":20,\"x\":[4.9,4.8,4.8,4.8,4.8,4.8,4.8,4.8,4.8,4.8,4.8,4.8,4.8,4.8,4.8,4.8,4.8,4.8,4.8,4.8,4.8,4.8,4.8,4.8,4.8,4.8,4.7,4.7,4.7,4.7,4.7,4.7,4.7,4.7,4.7,4.7,4.7,4.7,4.7,4.7,4.7,4.7,4.7,4.7,4.7,4.7,4.7,4.7,4.7,4.7,4.7,4.7,4.7,4.7,4.7,4.7,4.7,4.7,4.7,4.7,4.7,4.7,4.7,4.7,4.7,4.7,4.7,4.7,4.7,4.7,4.7,4.7,4.7,4.7,4.7,4.7,4.7,4.7,4.7,4.7,4.7,4.7,4.7,4.7,4.7,4.7,4.7,4.7,4.7,4.7,4.7,4.7,4.7,4.7,4.7,4.7,4.7,4.7,4.7,4.7,4.7,4.7,4.7,4.7,4.7,4.7,4.6,4.6,4.6,4.6,4.6,4.6,4.6,4.6,4.6,4.6,4.6,4.6,4.6,4.6,4.6,4.6,4.6,4.6,4.6,4.6,4.6,4.6,4.6,4.6,4.6,4.6,4.6,4.6,4.6,4.6,4.6,4.6,4.6,4.6,4.6,4.6,4.6,4.6,4.6,4.6,4.6,4.6,4.6,4.6,4.6,4.6,4.6,4.6,4.6,4.6,4.6,4.6,4.6,4.6,4.6,4.6,4.6,4.6,4.6,4.6,4.6,4.6,4.6,4.6,4.6,4.6,4.6,4.6,4.6,4.6,4.6,4.6,4.6,4.6,4.6,4.6,4.6,4.6,4.6,4.6,4.6,4.6,4.6,4.6,4.6,4.6,4.6,4.6,4.6,4.6,4.6,4.6,4.6,4.6,4.6,4.6,4.6,4.6,4.6,4.6,4.6,4.6,4.6,4.6,4.6,4.6,4.6,4.6,4.6,4.6,4.6,4.6,4.6,4.6,4.6,4.6,4.6,4.6,4.6,4.6,4.6,4.6,4.6,4.6,4.6,4.6,4.6,4.6,4.6,4.6,4.6,4.6,4.6,4.6,4.6,4.6,4.6,4.6,4.6,4.6,4.6,4.6,4.6,4.6,4.6,4.6,4.6,4.6,4.6,4.6,4.6,4.6,4.6,4.6,4.6,4.6,4.6,4.5,4.5,4.5,4.5,4.5,4.5,4.5,4.5,4.5,4.5,4.5,4.5,4.5,4.5,4.5,4.5,4.5,4.5,4.5,4.5,4.5,4.5,4.5,4.5,4.5,4.5,4.5,4.5,4.5,4.5,4.5,4.5,4.5,4.5,4.5,4.5,4.5,4.5,4.5,4.5,4.5,4.5,4.5,4.5,4.5,4.5,4.5,4.5,4.5,4.5,4.5,4.5,4.5,4.5,4.5,4.5,4.5,4.5,4.5,4.5,4.5,4.5,4.5,4.5,4.5,4.5,4.5,4.5,4.5,4.5,4.5,4.5,4.5,4.5,4.5,4.5,4.5,4.5,4.5,4.5,4.5,4.5,4.5,4.5,4.5,4.5,4.5,4.5,4.5,4.5,4.5,4.5,4.5,4.5,4.5,4.5,4.5,4.5,4.5,4.5,4.5,4.5,4.5,4.5,4.5,4.5,4.5,4.5,4.5,4.5,4.5,4.5,4.5,4.5,4.5,4.5,4.5,4.5,4.5,4.5,4.5,4.5,4.5,4.5,4.5,4.5,4.5,4.5,4.5,4.5,4.5,4.5,4.5,4.5,4.5,4.5,4.5,4.5,4.5,4.5,4.5,4.5,4.5,4.5,4.5,4.5,4.5,4.5,4.5,4.5,4.5,4.5,4.5,4.5,4.5,4.5,4.5,4.5,4.5,4.5,4.5,4.5,4.5,4.5,4.5,4.5,4.5,4.5,4.5,4.5,4.5,4.5,4.5,4.5,4.5,4.5,4.5,4.5,4.5,4.5,4.5,4.5,4.5,4.5,4.5,4.5,4.5,4.5,4.5,4.5,4.5,4.5,4.5,4.5,4.5,4.5,4.5,4.5,4.5,4.5,4.5,4.5,4.5,4.5,4.5,4.5,4.5,4.5,4.5,4.5,4.5,4.5,4.5,4.5,4.5,4.5,4.5,4.5,4.5,4.5,4.5,4.5,4.5,4.5,4.5,4.5,4.5,4.5,4.5,4.5,4.5,4.5,4.5,4.5,4.5,4.5,4.5,4.5,4.5,4.5,4.5,4.5,4.5,4.5,4.5,4.5,4.5,4.5,4.5,4.5,4.5,4.5,4.5,4.5,4.5,4.5,4.5,4.5,4.5,4.5,4.5,4.5,4.5,4.5,4.4,4.5,4.5,4.5,4.5,4.4,4.4,4.4,4.4,4.4,4.4,4.4,4.4,4.4,4.4,4.4,4.4,4.4,4.4,4.4,4.4,4.4,4.4,4.4,4.4,4.4,4.4,4.4,4.4,4.4,4.4,4.4,4.4,4.4,4.4,4.4,4.4,4.4,4.4,4.4,4.4,4.4,4.4,4.4,4.4,4.4,4.4,4.4,4.4,4.4,4.4,4.4,4.4,4.4,4.4,4.4,4.4,4.4,4.4,4.4,4.4,4.4,4.4,4.4,4.4,4.4,4.4,4.4,4.4,4.4,4.4,4.4,4.4,4.4,4.4,4.4,4.4,4.4,4.4,4.4,4.4,4.4,4.4,4.4,4.4,4.4,4.4,4.4,4.4,4.4,4.4,4.4,4.4,4.4,4.4,4.4,4.4,4.4,4.4,4.4,4.4,4.4,4.4,4.4,4.4,4.4,4.4,4.4,4.4,4.4,4.4,4.4,4.4,4.4,4.4,4.4,4.4,4.4,4.4,4.4,4.4,4.4,4.4,4.4,4.4,4.4,4.4,4.4,4.4,4.4,4.4,4.4,4.4,4.4,4.4,4.4,4.4,4.4,4.4,4.4,4.4,4.4,4.4,4.4,4.4,4.4,4.4,4.4,4.4,4.4,4.4,4.4,4.4,4.4,4.4,4.4,4.4,4.4,4.4,4.4,4.4,4.4,4.4,4.4,4.4,4.4,4.4,4.4,4.4,4.4,4.4,4.4,4.4,4.4,4.4,4.4,4.4,4.4,4.4,4.4,4.4,4.4,4.4,4.4,4.4,4.4,4.4,4.4,4.4,4.4,4.4,4.4,4.4,4.4,4.4,4.4,4.4,4.4,4.4,4.4,4.4,4.4,4.4,4.4,4.4,4.4,4.4,4.4,4.4,4.4,4.4,4.4,4.4,4.4,4.4,4.4,4.4,4.4,4.4,4.4,4.4,4.4,4.4,4.4,4.4,4.4,4.4,4.4,4.4,4.4,4.4,4.4,4.4,4.4,4.4,4.4,4.4,4.4,4.4,4.4,4.4,4.4,4.4,4.4,4.4,4.4,4.4,4.4,4.4,4.4,4.4,4.4,4.4,4.4,4.4,4.4,4.4,4.4,4.4,4.4,4.4,4.4,4.4,4.4,4.4,4.4,4.4,4.4,4.4,4.4,4.4,4.4,4.4,4.4,4.4,4.4,4.4,4.4,4.4,4.4,4.4,4.4,4.4,4.4,4.4,4.4,4.4,4.4,4.4,4.4,4.4,4.4,4.4,4.4,4.4,4.4,4.4,4.4,4.4,4.4,4.4,4.4,4.4,4.4,4.4,4.4,4.4,4.4,4.4,4.4,4.4,4.4,4.4,4.4,4.4,4.4,4.4,4.4,4.4,4.4,4.4,4.4,4.4,4.4,4.4,4.4,4.4,4.4,4.4,4.4,4.4,4.4,4.4,4.4,4.4,4.4,4.4,4.4,4.4,4.4,4.4,4.4,4.4,4.4,4.4,4.4,4.4,4.4,4.4,4.4,4.4,4.4,4.4,4.4,4.4,4.4,4.4,4.4,4.4,4.4,4.4,4.4,4.4,4.4,4.4,4.4,4.4,4.4,4.4,4.4,4.4,4.4,4.4,4.4,4.4,4.4,4.4,4.4,4.4,4.4,4.4,4.4,4.4,4.4,4.4,4.4,4.4,4.4,4.4,4.4,4.4,4.4,4.4,4.4,4.4,4.4,4.4,4.4,4.4,4.4,4.4,4.4,4.4,4.4,4.4,4.4,4.4,4.4,4.4,4.4,4.4,4.4,4.4,4.4,4.4,4.4,4.4,4.4,4.4,4.4,4.4,4.4,4.4,4.4,4.4,4.4,4.4,4.4,4.4,4.4,4.4,4.4,4.4,4.4,4.4,4.4,4.4,4.4,4.4,4.4,4.4,4.4,4.4,4.4,4.4,4.4,4.4,4.4,4.4,4.4,4.4,4.4,4.4,4.4,4.4,4.4,4.4,4.4,4.4,4.4,4.4,4.4,4.4,4.4,4.4,4.4,4.4,4.4,4.4,4.4,4.4,4.4,4.4,4.4,4.4,4.4,4.4,4.4,4.3,4.3,4.3,4.3,4.3,4.3,4.3,4.3,4.3,4.3,4.3,4.3,4.3,4.3,4.3,4.3,4.3,4.3,4.3,4.3,4.3,4.3,4.3,4.3,4.3,4.3,4.3,4.3,4.3,4.3,4.3,4.3,4.3,4.3,4.3,4.3,4.3,4.3,4.3,4.3,4.3,4.3,4.3,4.3,4.3,4.3,4.3,4.3,4.3,4.3,4.3,4.3,4.3,4.3,4.3,4.3,4.3,4.3,4.3,4.3,4.3,4.3,4.3,4.3,4.3,4.3,4.3,4.3,4.3,4.3,4.3,4.3,4.3,4.3,4.3,4.3,4.3,4.3,4.3,4.3,4.3,4.3,4.3,4.3,4.3,4.3,4.3,4.3,4.3,4.3,4.3,4.3,4.3,4.3,4.3,4.3,4.3,4.3,4.3,4.3,4.3,4.3,4.3,4.3,4.3,4.3,4.3,4.3,4.3,4.3,4.3,4.3,4.3,4.3,4.3,4.3,4.3,4.3,4.3,4.3,4.3,4.3,4.3,4.3,4.3,4.3,4.3,4.3,4.3,4.3,4.3,4.3,4.3,4.3,4.3,4.3,4.3,4.3,4.3,4.3,4.3,4.3,4.3,4.3,4.3,4.3,4.3,4.3,4.3,4.3,4.3,4.3,4.3,4.3,4.3,4.3,4.3,4.3,4.3,4.3,4.3,4.3,4.3,4.3,4.3,4.3,4.3,4.3,4.3,4.3,4.3,4.3,4.3,4.3,4.3,4.3,4.3,4.3,4.3,4.3,4.3,4.3,4.3,4.3,4.3,4.3,4.3,4.3,4.3,4.3,4.3,4.3,4.3,4.3,4.3,4.3,4.3,4.3,4.3,4.3,4.3,4.3,4.3,4.3,4.3,4.3,4.3,4.3,4.3,4.3,4.3,4.3,4.3,4.3,4.3,4.3,4.3,4.3,4.3,4.3,4.3,4.3,4.3,4.3,4.3,4.3,4.3,4.3,4.3,4.3,4.3,4.3,4.3,4.3,4.3,4.3,4.3,4.3,4.3,4.3,4.3,4.3,4.3,4.3,4.3,4.3,4.3,4.3,4.3,4.3,4.3,4.3,4.3,4.3,4.3,4.3,4.3,4.3,4.3,4.3,4.3,4.3,4.3,4.3,4.3,4.3,4.3,4.3,4.3,4.3,4.3,4.3,4.3,4.3,4.3,4.3,4.3,4.3,4.3,4.3,4.3,4.3,4.3,4.3,4.3,4.3,4.3,4.3,4.3,4.3,4.3,4.3,4.3,4.3,4.3,4.3,4.3,4.3,4.3,4.3,4.2,4.3,4.3,4.3,4.3,4.3,4.3,4.3,4.3,4.3,4.3,4.3,4.3,4.3,4.3,4.3,4.3,4.3,4.3,4.3,4.3,4.3,4.3,4.3,4.3,4.3,4.3,4.3,4.3,4.3,4.3,4.3,4.3,4.3,4.3,4.3,4.3,4.3,4.3,4.3,4.3,4.3,4.3,4.3,4.3,4.3,4.3,4.3,4.3,4.3,4.3,4.3,4.3,4.3,4.3,4.3,4.3,4.3,4.3,4.3,4.3,4.3,4.3,4.3,4.3,4.3,4.3,4.3,4.3,4.3,4.3,4.3,4.3,4.3,4.3,4.3,4.3,4.3,4.3,4.3,4.3,4.3,4.3,4.3,4.3,4.3,4.3,4.3,4.3,4.3,4.3,4.3,4.3,4.3,4.3,4.3,4.3,4.3,4.3,4.3,4.3,4.3,4.3,4.3,4.3,4.3,4.3,4.3,4.3,4.3,4.3,4.3,4.3,4.3,4.3,4.3,4.3,4.3,4.3,4.3,4.3,4.3,4.3,4.3,4.3,4.3,4.3,4.3,4.3,4.3,4.3,4.3,4.3,4.3,4.3,4.3,4.3,4.3,4.3,4.3,4.3,4.3,4.3,4.3,4.3,4.3,4.3,4.3,4.3,4.3,4.3,4.3,4.3,4.3,4.3,4.3,4.3,4.3,4.3,4.3,4.3,4.3,4.3,4.3,4.3,4.3,4.3,4.3,4.3,4.3,4.3,4.3,4.3,4.3,4.3,4.3,4.3,4.3,4.3,4.3,4.3,4.3,4.3,4.3,4.3,4.3,4.3,4.3,4.3,4.3,4.3,4.3,4.3,4.3,4.3,4.3,4.3,4.3,4.3,4.3,4.3,4.3,4.3,4.3,4.3,4.3,4.3,4.3,4.3,4.3,4.3,4.3,4.3,4.3,4.3,4.3,4.3,4.3,4.3,4.3,4.3,4.3,4.3,4.3,4.3,4.3,4.3,4.3,4.3,4.3,4.3,4.3,4.3,4.3,4.3,4.3,4.3,4.3,4.3,4.3,4.3,4.3,4.3,4.3,4.3,4.3,4.3,4.3,4.3,4.3,4.3,4.3,4.3,4.3,4.3,4.3,4.3,4.3,4.3,4.3,4.3,4.3,4.3,4.3,4.3,4.3,4.3,4.3,4.3,4.3,4.3,4.3,4.3,4.3,4.3,4.3,4.3,4.3,4.3,4.3,4.3,4.3,4.3,4.3,4.3,4.3,4.3,4.3,4.3,4.3,4.3,4.3,4.3,4.3,4.3,4.3,4.3,4.3,4.3,4.3,4.3,4.3,4.3,4.3,4.3,4.3,4.3,4.3,4.3,4.3,4.3,4.3,4.3,4.3,4.3,4.3,4.3,4.3,4.3,4.3,4.3,4.3,4.3,4.3,4.3,4.3,4.3,4.3,4.3,4.3,4.3,4.3,4.3,4.3,4.3,4.3,4.3,4.3,4.3,4.3,4.3,4.3,4.3,4.3,4.3,4.3,4.3,4.3,4.3,4.3,4.3,4.3,4.3,4.3,4.3,4.3,4.3,4.3,4.3,4.3,4.3,4.3,4.3,4.3,4.3,4.3,4.3,4.3,4.3,4.3,4.3,4.3,4.3,4.3,4.3,4.3,4.3,4.3,4.3,4.3,4.3,4.3,4.3,4.3,4.3,4.3,4.3,4.3,4.3,4.3,4.3,4.3,4.3,4.3,4.3,4.2,4.2,4.2,4.2,4.2,4.2,4.2,4.2,4.2,4.2,4.2,4.2,4.2,4.2,4.2,4.2,4.2,4.2,4.2,4.2,4.2,4.2,4.2,4.2,4.2,4.2,4.2,4.2,4.2,4.2,4.2,4.2,4.2,4.2,4.2,4.2,4.2,4.2,4.2,4.2,4.2,4.2,4.2,4.2,4.2,4.2,4.2,4.2,4.2,4.2,4.2,4.2,4.2,4.2,4.2,4.2,4.2,4.2,4.2,4.2,4.2,4.2,4.2,4.2,4.2,4.2,4.2,4.2,4.2,4.2,4.2,4.2,4.2,4.2,4.2,4.2,4.2,4.2,4.2,4.2,4.2,4.2,4.2,4.2,4.2,4.2,4.2,4.2,4.2,4.2,4.2,4.2,4.2,4.2,4.2,4.2,4.2,4.2,4.2,4.2,4.2,4.2,4.2,4.2,4.2,4.2,4.2,4.2,4.2,4.2,4.2,4.2,4.2,4.2,4.2,4.2,4.2,4.2,4.2,4.2,4.2,4.2,4.2,4.2,4.2,4.2,4.2,4.2,4.2,4.2,4.2,4.2,4.2,4.2,4.2,4.2,4.2,4.2,4.2,4.2,4.2,4.2,4.2,4.2,4.2,4.2,4.2,4.2,4.2,4.2,4.2,4.2,4.2,4.2,4.2,4.2,4.2,4.2,4.2,4.2,4.2,4.2,4.2,4.2,4.2,4.2,4.2,4.2,4.2,4.2,4.2,4.2,4.2,4.2,4.2,4.2,4.2,4.2,4.2,4.2,4.2,4.2,4.2,4.2,4.2,4.2,4.2,4.2,4.2,4.2,4.2,4.2,4.2,4.2,4.2,4.2],\"type\":\"histogram\",\"xaxis\":\"x4\",\"yaxis\":\"y4\"},{\"histfunc\":\"avg\",\"name\":\"num_reviews\",\"nbinsx\":20,\"x\":[31,1793,1705,1309,1209,1201,643,630,591,454,438,398,372,250,217,174,172,139,125,103,84,79,69,68,40,26,3929,3437,3164,3127,2935,2826,2765,2480,2419,2177,1892,1199,1141,685,675,593,560,543,511,476,442,425,393,347,312,303,300,291,268,264,256,251,243,240,220,137,136,134,133,131,131,127,123,118,117,110,102,94,92,87,80,74,65,64,60,59,58,57,53,51,50,49,49,47,45,42,41,41,40,39,37,35,33,32,31,31,30,29,27,27,3383,3239,2416,2208,1608,1363,1108,1015,936,840,790,700,693,595,516,405,388,369,313,304,286,274,242,231,225,222,214,211,202,200,197,186,176,169,165,165,160,159,157,153,147,146,145,143,143,142,139,136,136,135,131,128,124,124,123,122,116,115,114,113,113,112,111,111,107,105,105,100,99,98,97,95,94,93,91,90,86,85,85,84,83,80,79,75,74,72,70,70,69,66,66,65,64,63,63,60,59,59,58,58,58,57,53,53,51,51,49,48,47,47,46,46,46,45,45,45,44,43,42,42,41,41,41,40,39,39,38,38,38,37,36,35,34,34,33,33,33,32,32,32,30,30,30,29,29,28,28,28,28,28,27,27,26,25,25,25,25,3521,3443,3148,3118,2887,2858,2712,2710,2551,2530,2228,2220,2207,2144,1910,1864,1520,1503,1393,1346,1345,1236,1192,1163,1148,1094,1089,1014,1012,990,961,955,854,838,813,729,719,666,642,629,595,574,550,529,529,505,503,501,500,499,493,488,477,469,462,420,406,384,365,353,336,322,318,316,301,297,292,286,264,261,249,246,230,229,229,226,222,221,218,217,214,213,213,207,205,203,201,197,196,194,194,190,189,189,189,188,187,186,186,184,178,174,173,171,170,165,163,162,161,156,154,147,144,142,141,141,140,140,137,134,134,132,132,128,128,126,121,121,117,115,115,113,113,110,107,106,104,104,103,103,103,103,104,102,102,99,99,97,97,96,95,94,92,88,88,87,82,81,81,81,81,81,81,82,80,79,78,78,76,75,75,75,74,73,73,74,72,72,71,71,70,69,69,69,66,66,66,66,65,61,61,61,60,59,59,58,57,57,56,55,54,54,53,53,53,52,51,51,50,49,49,48,47,49,46,46,45,44,44,43,43,42,42,42,42,41,40,39,38,38,37,37,37,36,36,35,34,33,33,32,32,32,32,32,32,32,31,31,31,30,30,30,30,29,29,29,29,28,28,28,28,27,27,27,27,26,26,26,25,3589,3456,3406,3327,3197,3095,3093,3089,2546,2418,2370,2228,2133,2080,2053,1993,1949,1948,1943,1853,1842,1777,1701,1561,1519,1514,1475,1463,1438,1372,1339,1326,1269,1266,1255,1226,1172,1166,1158,1121,1104,1098,1087,1069,1064,1048,1047,1039,1040,1018,995,966,941,927,925,915,852,827,825,812,809,799,798,787,783,778,746,726,695,683,681,667,664,639,624,618,617,609,581,575,561,560,550,550,542,527,527,523,516,514,512,506,499,498,495,485,481,471,450,443,442,436,421,414,412,406,389,389,376,367,363,360,351,349,343,336,334,333,328,319,316,313,309,306,305,298,296,296,293,292,269,269,267,267,262,259,258,252,249,245,243,241,239,236,234,233,225,224,222,220,219,218,217,215,208,207,206,204,201,201,200,196,195,194,189,187,185,180,177,173,172,172,172,169,168,168,166,165,165,164,164,162,162,161,160,159,159,159,158,158,155,155,154,152,151,150,149,148,147,146,145,143,142,141,141,142,136,135,134,134,134,131,130,130,128,128,127,126,123,123,122,122,122,120,119,119,117,117,116,115,114,114,113,112,112,109,109,108,106,106,106,106,105,104,102,102,101,101,100,99,99,99,99,98,98,98,98,97,97,96,95,95,95,95,94,94,92,89,90,88,88,88,86,85,85,85,85,85,83,82,80,80,80,79,79,78,77,77,75,75,75,74,74,74,73,73,73,72,72,72,71,71,70,70,70,70,69,69,69,69,68,68,67,67,66,66,65,65,66,65,65,64,65,64,64,64,64,63,63,63,62,61,61,60,60,60,59,59,59,59,59,58,58,58,57,56,56,56,56,55,55,55,55,54,54,54,53,52,52,52,51,51,51,51,50,50,50,49,49,49,48,48,47,47,46,45,45,45,44,44,44,43,43,44,43,43,43,42,43,41,41,41,41,41,41,41,40,40,39,39,39,39,38,37,37,37,38,37,37,37,37,36,36,36,36,35,35,35,35,35,35,35,34,34,34,34,34,34,34,34,33,33,33,33,33,32,32,32,32,32,32,31,31,31,31,31,30,30,30,29,28,28,28,28,28,28,28,27,27,27,27,27,27,27,27,27,26,26,26,25,25,25,25,3997,3829,3660,3620,3608,3587,3524,2990,2936,2923,2911,2844,2783,2705,2575,2453,2423,2341,2295,2241,2241,2062,2013,1924,1914,1884,1846,1824,1797,1749,1743,1645,1638,1615,1544,1528,1525,1493,1471,1465,1452,1367,1362,1330,1282,1247,1230,1230,1230,1181,1178,1119,1118,1116,1114,1067,1057,1022,1011,995,930,929,916,912,901,900,885,878,835,828,818,814,811,799,783,760,760,754,749,740,728,724,723,716,693,687,685,682,676,675,674,665,663,661,658,641,613,605,603,598,592,590,582,577,569,567,559,556,553,535,533,530,530,527,527,522,517,511,512,501,495,481,474,474,473,468,463,461,461,456,454,453,452,449,449,445,431,429,427,424,422,422,419,419,418,411,410,405,407,404,398,397,397,384,375,375,374,371,370,370,368,366,364,358,355,345,345,344,344,334,327,322,317,315,312,309,301,301,299,298,298,297,296,293,292,290,287,290,284,281,279,278,275,272,272,270,264,263,260,260,258,257,251,249,247,244,242,242,241,241,239,239,239,239,237,237,234,232,232,227,228,227,223,223,222,221,220,219,218,216,215,215,213,211,211,210,209,207,205,202,202,201,200,200,198,197,197,196,195,194,193,193,192,191,191,190,190,189,189,188,187,186,184,184,184,178,177,176,175,175,174,174,172,172,171,171,171,171,170,168,167,166,166,163,163,161,160,159,155,155,155,154,153,153,151,150,149,150,149,148,151,146,145,145,144,142,141,140,140,140,140,139,138,138,137,137,136,136,136,135,135,135,135,134,133,133,133,132,131,131,130,129,128,128,128,127,126,125,124,123,122,122,122,122,122,119,119,118,120,117,117,116,114,114,112,112,111,111,111,111,111,110,109,108,108,108,108,108,108,107,106,104,102,102,101,100,100,100,99,99,99,97,95,95,94,94,93,92,94,91,91,90,90,89,89,89,88,88,88,87,88,86,86,85,83,83,83,83,82,83,82,82,82,81,81,81,80,80,80,80,80,80,80,80,79,79,79,78,77,77,77,77,77,76,76,76,75,74,74,74,74,74,73,73,73,72,72,72,72,72,71,71,70,70,70,69,68,68,68,67,67,67,67,66,66,65,64,64,64,64,64,63,62,62,62,62,62,62,62,61,61,60,60,60,60,60,59,59,57,57,57,57,57,57,57,57,57,56,56,56,56,56,56,55,55,54,54,53,53,53,53,53,53,53,53,52,52,52,52,51,51,51,51,51,50,50,50,50,49,49,49,49,49,49,49,48,48,48,48,48,47,47,47,46,46,46,46,46,45,45,45,45,45,45,45,45,45,45,44,44,44,44,44,44,43,43,42,42,42,42,42,41,40,40,40,40,40,40,40,39,39,38,38,38,38,38,38,38,38,38,38,38,37,37,37,37,37,37,37,37,36,36,36,36,35,35,35,35,35,35,35,35,35,35,34,34,34,34,34,34,35,34,33,33,33,33,32,32,32,32,33,32,31,31,31,31,31,31,32,31,31,30,30,30,30,30,29,29,29,29,29,29,29,29,29,29,29,28,28,28,28,28,28,28,28,28,28,27,27,27,27,27,27,27,27,26,26,26,26,26,26,26,26,26,25,25,25,25,25,25,25,25,25,25,25,3825,3788,3725,3648,3545,3453,3354,3225,3224,3101,2901,2820,2820,2788,2685,2676,2478,2375,2364,2271,2234,2135,2074,2050,2022,1981,1931,1921,1768,1688,1686,1665,1645,1627,1611,1573,1355,1343,1341,1337,1319,1308,1301,1267,1209,1164,1159,1155,1125,1095,1093,1086,1078,1070,1058,1048,1043,1040,1030,1016,1016,1008,998,970,969,964,918,918,915,900,897,883,879,876,865,855,852,842,840,834,832,811,806,778,778,777,776,769,753,745,740,733,732,731,721,707,696,692,684,682,676,671,668,668,667,666,648,647,645,633,630,628,627,624,622,612,611,600,599,592,591,587,576,570,559,559,558,557,555,540,528,527,520,519,519,518,514,513,505,499,490,488,487,485,483,484,481,480,473,466,459,447,442,441,439,438,436,433,432,429,424,423,421,420,420,420,420,417,415,414,410,412,410,410,407,405,404,404,402,400,398,395,392,390,390,389,388,384,415,414,412,410,400,389,388,421],\"type\":\"histogram\",\"xaxis\":\"x5\",\"yaxis\":\"y5\"},{\"histfunc\":\"avg\",\"name\":\"region\",\"nbinsx\":20,\"x\":[74.0,57.0,57.0,57.0,57.0,57.0,57.0,57.0,57.0,57.0,57.0,44.0,57.0,57.0,35.0,34.0,57.0,44.0,57.0,44.0,57.0,69.0,44.0,57.0,59.0,59.0,57.0,57.0,57.0,57.0,57.0,57.0,57.0,57.0,57.0,57.0,57.0,57.0,57.0,57.0,57.0,57.0,57.0,57.0,35.0,35.0,57.0,59.0,35.0,35.0,59.0,57.0,57.0,57.0,35.0,69.0,69.0,15.0,59.0,59.0,59.0,69.0,57.0,57.0,57.0,69.0,57.0,57.0,12.0,57.0,44.0,57.0,59.0,53.0,10.0,59.0,35.0,53.0,53.0,17.0,53.0,57.0,32.0,59.0,32.0,53.0,44.0,59.0,59.0,44.0,69.0,44.0,41.0,12.0,57.0,74.0,72.0,17.0,15.0,57.0,25.0,57.0,57.0,61.0,2.0,59.0,57.0,57.0,59.0,57.0,57.0,57.0,57.0,57.0,57.0,69.0,69.0,57.0,57.0,57.0,57.0,57.0,69.0,57.0,15.0,15.0,59.0,74.0,59.0,59.0,59.0,59.0,59.0,57.0,53.0,57.0,57.0,57.0,57.0,74.0,57.0,74.0,35.0,74.0,59.0,69.0,69.0,57.0,57.0,57.0,59.0,74.0,53.0,15.0,59.0,65.0,69.0,15.0,59.0,74.0,57.0,74.0,53.0,57.0,57.0,57.0,74.0,53.0,57.0,69.0,15.0,57.0,12.0,57.0,57.0,57.0,57.0,59.0,53.0,57.0,59.0,59.0,57.0,57.0,59.0,57.0,57.0,57.0,53.0,25.0,34.0,57.0,59.0,44.0,17.0,53.0,57.0,44.0,57.0,59.0,23.0,59.0,59.0,53.0,17.0,12.0,57.0,57.0,53.0,56.0,40.0,53.0,75.0,8.0,18.0,59.0,59.0,34.0,57.0,70.0,59.0,57.0,56.0,53.0,74.0,59.0,57.0,74.0,53.0,59.0,47.0,57.0,59.0,8.0,60.0,10.0,53.0,59.0,57.0,44.0,74.0,57.0,53.0,57.0,74.0,10.0,59.0,21.0,63.0,57.0,70.0,65.0,59.0,53.0,12.0,39.0,40.0,57.0,53.0,57.0,34.0,16.0,44.0,59.0,59.0,59.0,69.0,57.0,57.0,35.0,57.0,57.0,57.0,35.0,35.0,57.0,57.0,59.0,57.0,35.0,12.0,57.0,57.0,59.0,57.0,62.0,57.0,57.0,57.0,59.0,59.0,59.0,59.0,62.0,53.0,33.0,59.0,59.0,69.0,57.0,53.0,59.0,57.0,57.0,59.0,35.0,59.0,59.0,59.0,57.0,57.0,57.0,59.0,53.0,57.0,57.0,59.0,57.0,57.0,57.0,35.0,59.0,59.0,53.0,35.0,15.0,69.0,59.0,57.0,59.0,63.0,57.0,69.0,63.0,59.0,53.0,59.0,57.0,57.0,59.0,57.0,57.0,57.0,45.0,57.0,57.0,53.0,57.0,59.0,57.0,53.0,53.0,59.0,57.0,57.0,57.0,19.0,57.0,54.0,57.0,29.0,15.0,62.0,69.0,59.0,59.0,44.0,59.0,57.0,59.0,15.0,17.0,59.0,57.0,23.0,57.0,17.0,53.0,57.0,59.0,57.0,74.0,56.0,57.0,15.0,53.0,57.0,57.0,57.0,40.0,53.0,57.0,57.0,72.0,53.0,57.0,57.0,59.0,57.0,57.0,59.0,57.0,59.0,57.0,59.0,35.0,59.0,17.0,53.0,69.0,47.0,59.0,65.0,44.0,40.0,68.0,74.0,59.0,57.0,50.0,21.0,40.0,29.0,29.0,59.0,19.0,57.0,59.0,57.0,61.0,53.0,53.0,57.0,57.0,53.0,74.0,57.0,53.0,53.0,59.0,59.0,57.0,53.0,57.0,61.0,57.0,53.0,74.0,57.0,59.0,59.0,59.0,32.0,59.0,57.0,53.0,53.0,22.0,57.0,57.0,59.0,23.0,57.0,59.0,59.0,44.0,57.0,65.0,69.0,74.0,57.0,59.0,17.0,62.0,57.0,57.0,38.0,53.0,53.0,54.0,57.0,57.0,57.0,59.0,59.0,40.0,59.0,69.0,8.0,16.0,34.0,10.0,57.0,59.0,57.0,57.0,22.0,34.0,57.0,44.0,12.0,59.0,53.0,8.0,25.0,59.0,15.0,57.0,62.0,57.0,63.0,50.0,53.0,32.0,74.0,53.0,59.0,59.0,57.0,60.0,13.0,21.0,17.0,2.0,22.0,62.0,20.0,59.0,53.0,53.0,45.0,54.0,59.0,57.0,57.0,59.0,59.0,15.0,63.0,35.0,57.0,57.0,59.0,59.0,59.0,57.0,57.0,59.0,59.0,3.0,59.0,59.0,57.0,57.0,15.0,57.0,59.0,57.0,59.0,59.0,69.0,57.0,69.0,59.0,17.0,57.0,59.0,12.0,59.0,57.0,3.0,57.0,53.0,59.0,57.0,57.0,15.0,57.0,57.0,59.0,57.0,57.0,15.0,35.0,32.0,57.0,59.0,12.0,2.0,59.0,29.0,69.0,53.0,53.0,59.0,3.0,59.0,57.0,59.0,63.0,53.0,59.0,57.0,59.0,15.0,53.0,53.0,57.0,59.0,59.0,57.0,53.0,59.0,59.0,59.0,59.0,59.0,30.0,57.0,57.0,57.0,57.0,57.0,15.0,57.0,69.0,57.0,59.0,69.0,59.0,57.0,39.0,74.0,40.0,57.0,69.0,72.0,57.0,59.0,57.0,12.0,57.0,69.0,59.0,57.0,59.0,59.0,57.0,63.0,72.0,57.0,73.0,59.0,59.0,53.0,44.0,57.0,17.0,53.0,53.0,38.0,19.0,59.0,59.0,59.0,59.0,74.0,57.0,59.0,59.0,53.0,17.0,2.0,35.0,59.0,2.0,33.0,53.0,57.0,59.0,59.0,53.0,15.0,57.0,57.0,64.0,57.0,57.0,61.0,47.0,17.0,59.0,75.0,55.0,59.0,59.0,63.0,53.0,53.0,53.0,53.0,53.0,35.0,59.0,57.0,45.0,59.0,62.0,17.0,45.0,63.0,59.0,53.0,57.0,59.0,74.0,57.0,33.0,59.0,59.0,59.0,59.0,74.0,57.0,74.0,63.0,59.0,57.0,57.0,57.0,33.0,56.0,24.0,53.0,59.0,53.0,59.0,57.0,53.0,59.0,8.0,12.0,34.0,74.0,59.0,54.0,54.0,57.0,53.0,17.0,53.0,53.0,59.0,53.0,57.0,53.0,57.0,74.0,74.0,31.0,57.0,57.0,57.0,53.0,53.0,53.0,74.0,53.0,57.0,53.0,53.0,53.0,35.0,59.0,53.0,57.0,17.0,53.0,59.0,72.0,53.0,45.0,57.0,34.0,63.0,74.0,53.0,53.0,25.0,14.0,57.0,57.0,54.0,44.0,59.0,35.0,59.0,53.0,59.0,29.0,53.0,65.0,53.0,59.0,74.0,53.0,45.0,53.0,56.0,74.0,57.0,53.0,53.0,57.0,70.0,57.0,14.0,57.0,57.0,74.0,53.0,69.0,57.0,34.0,59.0,53.0,44.0,53.0,57.0,1.0,59.0,59.0,69.0,59.0,69.0,15.0,53.0,59.0,40.0,29.0,54.0,53.0,63.0,59.0,25.0,19.0,8.0,74.0,59.0,57.0,69.0,25.0,59.0,53.0,57.0,33.0,50.0,53.0,39.0,59.0,25.0,40.0,59.0,59.0,53.0,57.0,17.0,63.0,17.0,57.0,53.0,15.0,50.0,53.0,52.0,53.0,17.0,57.0,57.0,53.0,64.0,59.0,57.0,60.0,59.0,59.0,17.0,15.0,53.0,59.0,57.0,57.0,57.0,51.0,53.0,61.0,59.0,59.0,59.0,17.0,50.0,59.0,31.0,59.0,60.0,59.0,59.0,53.0,44.0,59.0,54.0,57.0,59.0,65.0,57.0,74.0,61.0,53.0,59.0,53.0,17.0,59.0,50.0,57.0,61.0,53.0,59.0,34.0,57.0,57.0,50.0,53.0,57.0,57.0,57.0,59.0,49.0,59.0,34.0,59.0,44.0,18.0,59.0,59.0,44.0,25.0,59.0,32.0,69.0,57.0,50.0,69.0,41.0,57.0,59.0,59.0,53.0,40.0,15.0,45.0,54.0,57.0,40.0,73.0,53.0,25.0,59.0,69.0,59.0,4.0,43.0,53.0,21.0,57.0,59.0,53.0,59.0,57.0,17.0,53.0,25.0,59.0,29.0,44.0,21.0,59.0,59.0,13.0,59.0,57.0,58.0,69.0,2.0,59.0,15.0,59.0,57.0,17.0,75.0,63.0,59.0,59.0,13.0,5.0,57.0,57.0,59.0,57.0,57.0,59.0,15.0,57.0,57.0,57.0,59.0,50.0,57.0,57.0,57.0,69.0,69.0,59.0,59.0,57.0,69.0,59.0,69.0,69.0,57.0,57.0,57.0,69.0,69.0,50.0,69.0,69.0,57.0,57.0,59.0,12.0,59.0,59.0,59.0,59.0,57.0,31.0,59.0,57.0,59.0,59.0,32.0,59.0,57.0,62.0,15.0,69.0,57.0,59.0,59.0,2.0,59.0,34.0,59.0,57.0,59.0,57.0,59.0,59.0,59.0,59.0,59.0,15.0,69.0,59.0,53.0,59.0,53.0,59.0,59.0,59.0,69.0,59.0,59.0,59.0,40.0,59.0,59.0,53.0,57.0,69.0,25.0,59.0,59.0,59.0,57.0,65.0,69.0,59.0,59.0,2.0,57.0,53.0,53.0,65.0,57.0,53.0,31.0,54.0,57.0,63.0,57.0,59.0,57.0,57.0,57.0,57.0,57.0,53.0,53.0,53.0,53.0,69.0,57.0,59.0,53.0,59.0,34.0,59.0,63.0,59.0,59.0,53.0,53.0,53.0,57.0,59.0,59.0,59.0,59.0,15.0,59.0,57.0,59.0,57.0,27.0,69.0,59.0,37.0,57.0,59.0,57.0,57.0,59.0,57.0,59.0,5.0,24.0,53.0,53.0,72.0,53.0,57.0,59.0,12.0,57.0,59.0,59.0,53.0,15.0,57.0,51.0,69.0,14.0,53.0,59.0,63.0,9.0,11.0,69.0,59.0,63.0,57.0,54.0,15.0,59.0,69.0,59.0,59.0,57.0,53.0,57.0,57.0,53.0,4.0,54.0,59.0,53.0,59.0,72.0,59.0,69.0,53.0,53.0,57.0,59.0,59.0,21.0,57.0,53.0,69.0,65.0,53.0,57.0,55.0,61.0,59.0,25.0,59.0,57.0,63.0,53.0,59.0,39.0,59.0,59.0,21.0,61.0,57.0,74.0,53.0,52.0,59.0,53.0,53.0,59.0,57.0,4.0,8.0,57.0,47.0,57.0,53.0,45.0,53.0,59.0,53.0,53.0,35.0,65.0,15.0,53.0,23.0,59.0,73.0,59.0,74.0,15.0,53.0,53.0,63.0,16.0,63.0,53.0,74.0,57.0,57.0,8.0,57.0,14.0,16.0,53.0,50.0,11.0,65.0,69.0,15.0,59.0,33.0,54.0,45.0,59.0,53.0,57.0,57.0,59.0,2.0,73.0,8.0,57.0,57.0,75.0,53.0,57.0,69.0,54.0,17.0,59.0,57.0,53.0,45.0,59.0,17.0,54.0,25.0,27.0,12.0,59.0,57.0,60.0,57.0,57.0,14.0,57.0,59.0,59.0,38.0,59.0,57.0,59.0,59.0,57.0,53.0,57.0,73.0,8.0,73.0,53.0,34.0,59.0,8.0,65.0,45.0,8.0,59.0,6.0,57.0,66.0,57.0,57.0,15.0,45.0,57.0,53.0,26.0,59.0,59.0,53.0,53.0,3.0,34.0,32.0,59.0,53.0,57.0,60.0,54.0,32.0,14.0,57.0,59.0,65.0,53.0,59.0,59.0,53.0,54.0,29.0,47.0,44.0,69.0,57.0,6.0,51.0,59.0,57.0,59.0,44.0,53.0,53.0,59.0,8.0,1.0,8.0,53.0,53.0,15.0,8.0,6.0,59.0,59.0,37.0,15.0,1.0,53.0,47.0,59.0,53.0,59.0,34.0,57.0,57.0,45.0,59.0,59.0,59.0,59.0,54.0,53.0,45.0,16.0,53.0,53.0,8.0,69.0,62.0,57.0,25.0,73.0,17.0,60.0,57.0,53.0,16.0,57.0,70.0,57.0,17.0,74.0,59.0,53.0,59.0,53.0,34.0,17.0,57.0,57.0,59.0,59.0,59.0,59.0,53.0,59.0,53.0,53.0,46.0,54.0,59.0,53.0,45.0,57.0,59.0,53.0,59.0,34.0,50.0,57.0,15.0,49.0,59.0,53.0,25.0,53.0,53.0,57.0,41.0,59.0,34.0,25.0,59.0,34.0,59.0,53.0,53.0,59.0,57.0,25.0,59.0,53.0,59.0,59.0,62.0,36.0,59.0,50.0,53.0,34.0,73.0,53.0,62.0,53.0,74.0,57.0,57.0,16.0,59.0,59.0,57.0,15.0,15.0,15.0,65.0,57.0,53.0,53.0,2.0,57.0,51.0,54.0,53.0,59.0,53.0,53.0,40.0,59.0,65.0,57.0,57.0,48.0,62.0,59.0,44.0,21.0,8.0,19.0,53.0,14.0,14.0,21.0,53.0,57.0,57.0,59.0,75.0,53.0,57.0,47.0,54.0,34.0,59.0,36.0,59.0,59.0,57.0,50.0,10.0,40.0,45.0,59.0,25.0,53.0,59.0,57.0,17.0,59.0,59.0,54.0,57.0,15.0,73.0,62.0,1.0,59.0,54.0,8.0,57.0,57.0,4.0,53.0,59.0,50.0,54.0,59.0,57.0,54.0,72.0,59.0,71.0,59.0,25.0,53.0,59.0,34.0,15.0,34.0,47.0,45.0,56.0,59.0,53.0,50.0,69.0,42.0,57.0,2.0,25.0,75.0,39.0,57.0,53.0,56.0,21.0,57.0,57.0,57.0,8.0,59.0,57.0,74.0,59.0,74.0,61.0,56.0,59.0,16.0,57.0,57.0,59.0,54.0,53.0,59.0,56.0,59.0,50.0,59.0,67.0,7.0,57.0,50.0,40.0,25.0,72.0,27.0,45.0,59.0,59.0,42.0,47.0,40.0,59.0,62.0,55.0,56.0,59.0,62.0,45.0,28.0,47.0,59.0,57.0,0.0,27.0,17.0,59.0,59.0,62.0,59.0,59.0,59.0,59.0,29.0,29.0,59.0,59.0,66.0,57.0,59.0,57.0,15.0,59.0,57.0,57.0,31.0,34.0,2.0,59.0,3.0,53.0,59.0,28.0,17.0,57.0,26.0,15.0,57.0,42.0,15.0,59.0,59.0,59.0,57.0,59.0,64.0,62.0,45.0,59.0,59.0,59.0,64.0,16.0,57.0,59.0,59.0,57.0,54.0,57.0,59.0,57.0,53.0,57.0,59.0,61.0,15.0,61.0,50.0,72.0,59.0,59.0,59.0,59.0,35.0,35.0,35.0,59.0,57.0,3.0,57.0,59.0,57.0,59.0,57.0,59.0,69.0,59.0,12.0,61.0,57.0,57.0,12.0,59.0,10.0,59.0,57.0,59.0,57.0,57.0,50.0,57.0,34.0,10.0,57.0,57.0,57.0,57.0,57.0,34.0,3.0,61.0,57.0,57.0,29.0,53.0,53.0,69.0,53.0,53.0,50.0,57.0,25.0,57.0,15.0,53.0,59.0,59.0,57.0,53.0,57.0,57.0,47.0,59.0,59.0,59.0,59.0,57.0,59.0,21.0,21.0,59.0,15.0,70.0,73.0,25.0,57.0,59.0,59.0,70.0,15.0,59.0,50.0,59.0,75.0,8.0,53.0,59.0,69.0,17.0,32.0,53.0,53.0,59.0,59.0,59.0,57.0,25.0,59.0,15.0,53.0,17.0,59.0,57.0,57.0,57.0,59.0,53.0,70.0,70.0,57.0,53.0,57.0,64.0,59.0,57.0,59.0,57.0,59.0,32.0,69.0,59.0,40.0,53.0,59.0,59.0,57.0,29.0,15.0,57.0,8.0,57.0,59.0,19.0,54.0,54.0,59.0,57.0,51.0,54.0,54.0,57.0,57.0,2.0,53.0,25.0,75.0,59.0,59.0,2.0,21.0,59.0,59.0,8.0,54.0,59.0,57.0,57.0,59.0,56.0,34.0,53.0,40.0,59.0,69.0,74.0,59.0,59.0,53.0,24.0,57.0,57.0,59.0,8.0,54.0,57.0,57.0,69.0,57.0,57.0,59.0],\"type\":\"histogram\",\"xaxis\":\"x6\",\"yaxis\":\"y6\"},{\"histfunc\":\"avg\",\"name\":\"price\",\"nbinsx\":20,\"x\":[313.5,324.95,692.96,778.06,490.0,349.0,345.0,315.0,514.85,105.15,430.0,350.0,166.18,431.36,195.627379550654,253.0,570.51,244.85,719.34,285.86,435.75,369.05,227.95,360.0,544.5,215.34,194.0,381.15,584.43,555.2,445.28,189.0,362.25,289.0,325.0,107.57,234.0,500.94,698.9,113.18,679.72,787.59,480.06,75.1,154.9,145.0,290.0,795.0,371.78009750522,134.19,82.58,774.4,84.95,116.54,154.85,135.0,63.75,66.07,213.9,234.9,89.9,78.9,660.96,154.0,134.89,207.11,340.49,317.63,108.9,700.0,185.0,698.95,527.26,299.0,43.13,175.0,145.9,447.95,182.9,99.0,654.31,134.26,380.0,292.09,400.85,202.01,250.0,88.9,77.9,191.61,123.89,114.28,95.57,93.95,248.0,397.0,194.86,65.05,86.9,472.5,379.0,185.15,94.2,46.0,81.9,680.0,116.187943627787,89.3,438.9,79.9,249.0,129.95,76.95,252.0,232.0,214.0,205.0,49.95,125.0,276.8,75.0,81.5,43.5,99.0,94.95,89.0,108.21,391.5,145.0,173.38,220.0,85.7,79.9,68.7,150.0,48.95,109.41,119.0,195.0,519.55,89.0,511.9,73.0,280.0,251.99,61.69,210.5,285.0,245.75,228.57,319.9,325.0,345.0,58.9,159.0,69.9,147.85,88.05,301.0,275.0,64.9,241.55,89.17,769.9,67.94,44.0,445.0,87.02,747.17,49.95,50.51,157.4,120.9,75.3,47.5,359.9,43.5,136.0,117.239420060872,135.0,82.5,149.9,59.0,82.5,195.0,195.0,54.5,79.1,272.0,99.0,189.99,317.63,399.6,701.05,74.9,654.31,247.75,144.99,50.0,126.64,162.38,81.0,121.0,355.95,164.66,120.9,218.9,65.95,86.0,34.5,282.65,259.9,35.0,269.95,27.2693427,52.95,114.95,89.9,195.0,29.35,79.9,53.95,26.2,270.44,187.5,210.0,85.63,304.54,34.3,85.95,12.0,249.9,128.0,135.5,40.5,43.1,85.0,123.0,106.35,207.0,75.95,185.3,205.95,40.45,176.89,79.9,79.0,195.27,58.9,111.9,29.95,129.9,69.95,299.0,99.95,41.69,374.35,46.45,42.5,95.0,197.3,130.0,181.5,400.0,125.0,229.0,40.41,101.94,172.5,33.2,125.0,125.0,125.0,31.75,39.5,64.0,33.8,58.95,33.25,61.8491765262698,44.27,45.9,239.2,68.9,164.0,32.85,40.95,69.5803235920536,110.0,49.75,51.0,59.9,290.7,37.7,146.95,68.9,70.5,64.0,168.0,173.95,65.0,67.6,53.95,42.95,127.23,47.3,169.4,121.838963251908,34.8,55.35,75.95,48.7,118.89,92.8716274104906,290.4,31.8,149.5,35.85,82.95,59.0,37.7,42.75,175.57,61.64,30.7,56.5,207.11,110.5,55.95,170.0,107.9,69.9,49.5,176.98,90.0,65.0,95.0,39.0,193.0,174.91,312.0,52.9,40.9,157.95,77.5,116.0,75.0,80.98,64.5,118.5,64.0,95.0,125.97,26.5,54.01,104.9,170.5,315.0,34.9,51.5,112.26,71.85,38.9,54.09,67.9,80.95,114.5,50.34,57.96,73.62,144.78,90.0,89.95,92.8,48.9,70.55,110.0,139.3,59.8,75.0,57.0,253.47,49.95,298.0,73.6,58.0,54.0,78.38,228.63,228.9,81.3,165.0,54.9,55.0,131.85,148.39,39.0,67.1,199.45,52.0,34.9,75.81,84.36,47.95,391.65,32.5,198.0,40.33,302.5,62.0,49.1,75.0,200.13,113.0,68.4059721390231,37.5,165.0,415.0,74.0,192.16,59.82,164.9,94.9,199.0,85.95,125.05,85.55,317.75,35.0,274.95,82.55,63.9,29.95,312.6,58.95,99.35,49.5,234.98,78.5,56.95,40.0,100.0,79.9,63.5,38.9,154.5,374.66,143.51,59.95,467.65,65.5,88.5,25.92,95.0,559.02,115.85,266.81,26.9,89.66,64.3,190.0,141.2,32.0,61.0,140.0,169.95,49.9,65.9,25.9,58.19,295.0,35.5,53.7,9.9,40.8333333333333,299.286840932831,43.6838985,79.55,57.0,14.96,60.06,237.0,71.9,270.0,48.5,200.0,107.5,77.5,32.9,93.51,96.38,75.0,44.95,75.0,143.38,195.0,20.15,320.0,157.0,295.0,29.95,187.91,113.2,120.0,89.9,59.25,89.0,71.3,34.5,195.0,160.81,38.75,75.04,230.0,40.0,225.0,69.0,55.14,90.0,56.5,54.9,132.95,142.0,53.25,16.9,13.45,29.5,29.9168517,69.0,73.0,51.5,38.0,27.9,37.25,37.8,61.55,43.95,31.95,25.5,35.65,125.0,125.0,23.0,43.5,24.7,27.4,96.0,37.52,43.95,19.6,160.0,43.5,27.75,32.5,29.45,51.526827174062,216.0,119.7,66.73,39.95,32.01,28.9,36.0,105.12,52.5,33.31,73.65,33.95,74.0,169.0,24.8,140.840866321332,175.5,37.57,26.24,28.5,178.0,78.65,125.0,35.9,35.7,33.0,60.95,21.95,82.5,109.9,33.5,38.95,34.9,37.8,59.9,38.7,90.0,69.79,59.9,27.39,93.0,73.57,49.67,91.57,90.0,69.95,190.0,140.0,35.75,52.5,95.0,45.15,58.2142247461506,42.7,28.7315367295517,32.65,43.86,36.9,54.83,55.33,26.9,57.9,74.0,34.35,76.3,45.3,299.0,56.5,54.9,55.31,53.91,35.1,38.5,49.97,32.9,34.0,90.5,38.3,41.32,98.0,55.71,35.2,73.6,41.0,31.5,56.75,20.9,30.73,49.9,52.0,90.0,26.63,32.58,46.5,32.5811870756681,29.95,34.9,43.9,65.0,35.9,210.5,55.95,92.8716274104906,65.4,45.890156,304.0,47.5,29.9,40.45,49.65,57.11,141.0,133.75,67.9,75.92,47.52,29.9,19.99,59.25,73.9,39.35,40.3,42.75,149.5,76.5,113.2,26.9,249.8,29.95,33.0,37.0,37.13,49.95,50.9,51.95,49.2,35.2,20.74,87.3,45.95,64.99,350.03,69.9,36.95,154.37,43.85,77.98,91.43,195.0,125.84,69.0,17.49,44.41,149.0,73.6,82.75,78.38,59.95,80.95,95.9,75.0,58.95,125.0,64.0,78.9,35.5,42.35,28.95,495.0,63.95,99.0,379.0,56.95,65.34,22.35,18.99,79.95,78.49,49.9,35.5,34.9,50.76,29.95,36.75,37.6,100.0,25.0,40.0,52.0,34.25,35.4,32.15,62.75,58.3,58.9,59.0,42.95,43.95,41.9188925,91.03,25.1,104.0,295.3,79.9,71.95,57.9,465.0,116.0,158.88,165.85,101.01,56.95,48.69,56.0,217.2,89.9,48.9,145.0,54.5,42.0,59.75,49.95,36.0,16.39,95.0,51.05,52.9,17.5,33.8,419.85,33.03,189.0,39.22,19.5,44.0,101.1,36.95,225.0,77.0,69.0,90.0,50.0,125.97,87.9,63.46,69.0,64.0,57.9,143.51,54.05,102.0,95.0,37.65,340.0,28.9,84.55,152.6,32.45,34.9,35.0,24.9,53.9,21.38,385.0,53.4,14.65,54.9,62.02,26.85,126.5,35.9,64.35,115.2,17.95,140.0,167.0,33.9,45.95,44.0,31.94,32.49,36.75,26.84,36.9,59.95,241.4,27.6,37.98,32.23,123.76,34.55,155.0,68.0,59.9,112.0,14.18,106.0,105.8121097,31.5,42.12,21.5,75.0,15.9,53.9,30.86,235.95,38.5,56.75,59.9,122.667917,34.56,65.9,59.75,509.25,158.88,37.66,62.7,60.73,27.25,49.6,43.5,225.0,89.97,37.9,18.9,53.8,55.25,44.9,32.9,82.5,33.78,34.9,367.39,104.5,74.55,119.0,31.9239296995019,27.35,33.0,280.0,140.0,32.0,91.5,52.95,35.15,23.0,37.9,119.95,42.9,39.9,50.0,209.31,165.0,97.0,26.5,32.5,194.0,74.95,28.9,18.99,19.95,38.66,180.0,75.5,7.89,18.0,17.9,15.4438025,33.55,19.8,145.0,189.99,59.9,29.9,33.8,43.5,39.9,119.35,60.0,40.0,34.75,24.0,59.9,245.25,109.76,59.9,130.5,61.5,33.23,38.5,38.12,65.0,41.0,74.5,45.39,26.0,39.75,29.89,38.0,132.4,69.0,13.99,24.5,16.25,39.95,138.0,35.4,20.95,39.99,159.8,139.63,19.97,75.8,52.5,20.95,51.95,43.44,35.48,28.0,239.5,60.61,35.35,89.9,74.56,33.4,29.25,15.84,173.0,34.5,21.88,27.9,54.9,31.99,24.9,11.5,140.0,15.5,95.0,40.2,26.45,7.9,29.95,59.9,115.9,33.0,72.0,13.95,195.99,46.0,37.86,34.0,33.64,36.35,35.5,66.75,19.01,75.9,38.05,40.4,63.33,26.9,34.95,24.5,93.5,99.9,35.09,36.8,80.35,46.0,50.41,150.0,33.95,48.6377226796774,27.29,65.9,33.66,190.0,55.0,26.9,36.9,25.95,34.5,47.9,36.94,75.0,24.9,58.0,32.55,26.9,63.34,37.9,46.95,39.22,18.5,74.0,35.0,26.7597646010531,32.7,49.0,38.0,33.59,94.95,36.91,30.67,86.15,32.9,17.07,19.45,39.9,28.65,33.82,67.95,60.95,35.01,69.95,28.18,34.22,49.75,33.95,21.5,80.0,36.0,25.45,17.16,116.9,39.5,40.0,39.78,39.98,69.9,77.7,95.0,24.9,25.9,22.5,50.0,57.8,21.24,70.0,15.75,26.0,25.8208254922442,62.95,17.15,33.9,80.0,80.0,16.9,40.92,95.0,58.9,30.887605,67.5,67.45,16.5,30.71,25.25,41.95,38.3,19.95,59.87,63.5,46.88,95.0,99.9,47.01,15.9,21.15,49.9,23.83,40.0,33.0,67.82,48.34,99.9,54.9,116.05,48.75,98.0,272.0,40.45,81.35,206.91,42.0,34.9,53.95,56.7603202298046,62.74,10.89,107.0,32.33,21.95,28.85,160.0,26.9,21.3,42.0,30.5,160.0,21.02,22.8,36.57,85.0,23.4,110.0,53.5,35.95,16.25,498.614195,25.95,29.0132184621944,40.5,35.85,38.4,20.65,39.53,25.31,53.95,27.0,36.95,26.5,27.9,189.45,90.0,34.1,35.51,27.7,75.0,425.0,35.51,33.9,65.0,45.0,84.9,27.85,30.99,36.5,25.9,13.75,53.35,54.5,90.15,18.48,92.0,22.55,17.95,85.0,26.9,63.95,12.9,24.61,107.74,162.5,33.6,16.9,84.9,30.9,21.8,19.9,24.3677926503816,18.88,30.3,42.35,64.5,49.61,145.0,21.4,21.5,55.0,27.9,28.5,25.65,43.95,60.45,30.3,62.5,57.49,127.2,182.0,34.25,15.9,37.35,259.0,20.5,24.0,80.0,59.55,50.67,91.0,88.0,70.89,59.9,32.9,21.4,64.0,47.0,60.25,15.9,32.0,62.5,24.5,110.0,82.0,55.0,36.5,123.82,114.6,130.0,33.5,62.8,34.5,92.24,36.111307180686,56.92,117.3,41.9,32.9,23.5,48.5,28.38,64.75,19.9,33.95,42.25,27.8,26.9,245.53,28.3,37.29,23.5,18.9,8.95,32.45,41.28,33.77,23.0,67.0,31.45,33.67,87.39,150.0,45.48,125.0,39.5,90.0,44.41,21.5,20.59,13.95,28.9,56.89,30.9166666666667,39.9,65.0,146.05,44.05,62.56,9.8840336,46.16,48.537665,97.5,42.0,75.0,85.0,52.8,20.4,26.2902950466486,19.9,92.45,17.95,130.5,39.0,34.9,28.5,25.89,27.5,35.9,63.53,112.76,18.95,10.45,40.95,39.75,23.44,133.34,35.0,57.5,23.95,77.9,97.35,84.95,53.9,12.19,43.95,85.4,23.43,43.24,35.0,54.52,24.0,176.5,18.5,23.5,28.0,73.9,100.0,62.9,265.0,49.0,30.75,50.0,32.18,34.9,33.5,92.24,52.95,33.15,24.51,135.95,46.9,19.8,39.51,119.95,249.0,95.25,24.95,36.91,158.88,90.6,24.9,18.35,65.25,23.95,148.65,21.95,37.49,16.5,33.95,10.76,118.0,34.9,150.0,64.8,35.15,145.0,26.9,42.9,215.34,29.9,20.45,15.71,39.99,34.95,88.0,25.5,79.9,45.9,24.0,8.9,65.0,47.0,20.5,62.9,31.13,73.0,58.0,34.5,41.9,33.9,28.5,24.1,27.9,84.5,36.78,54.5,21.4,217.8,23.22,51.2,38.0,67.9,32.9,45.0,260.0,69.0,98.0,348.85,23.95,27.9,15.0,155.0,57.9,36.93,52.0,31.5,654.31,75.0,113.72,27.45,69.9,40.5,39.95,55.45,177.45,11.91,54.95,25.88,34.85,37.0,75.0,47.45,22.8,199.0,59.9,120.13,47.0,84.9,78.95,9.99,31.5,29.95,36.95,32.0,25.95,21.5,23.3863295,43.8,123.75,75.5,29.9,24.0,150.0,29.4,170.0,93.26,75.95,23.77,27.11,42.5,75.0,68.99,21.95,13.237545,13.65,23.5,17.9,49.95,348.85,11.95,28.6,21.3,44.95,36.3,32.0,39.712635,17.9,39.9,140.0,249.95,28.83,196.29,28.4,14.5,260.0,36.9,25.8,38.0,137.75,79.9,41.5,24.5,68.55,81.35,121.5,79.98,60.0,13.99,195.52,68.0,16.9,27.5,29.25,75.0,23.9,34.9,532.0,95.0,44.1,17.7,18.9,35.35,270.0,34.95,348.85,14.9,39.7,75.5,189.9,21.01,23.9,12.8,39.95,22.35,27.25,16.99,55.0,21.5,106.92,37.065126,38.5,69.95,43.5,36.5,213.5,21.89,21.9,33.0,38.0,24.77,17.75,40.9,52.5,48.91,27.1,58.25,24.9,67.95,74.9,25.95,119.0,13.5,51.45,56.27,11.65,32.9,197.0,14.71,16.45,53.55,18.9,53.3,31.9,55.5,40.75,22.9,76.87,79.98,35.0,21.65,20.95,243.8,80.0,60.4,65.9,10.2,26.75,47.95,18.58,27.7,11.94,45.0,13.45,180.0,29.0,15.9,65.0,21.6,46.5,37.9,35.5,27.9,110.47,32.46,15.56,23.7,18.5,36.85,23.9,38.0,101.01,13.75,29.38,44.9,12.0,38.5,28.35,65.22,6.26,40.55,31.9,26.1,73.95,48.9,11.99,44.8,76.17,120.0,39.5,19.03,230.0,110.0,310.0,28.7550102072719,39.9,34.65,211.92,43.9,25.9,35.0,160.0,32.0,74.9,30.0,49.0,39.55,45.0,47.7,14.9,46.45,15.45,31.75,110.0,29.75,18.5,19.8563175,23.1,97.07,8.57,67.95,17.74,37.9,68.0,39.89,68.9,35.0,32.5,16.9,23.6,46.95,36.9,48.81,33.5,56.95,8.9,15.8,19.8333333333333,21.0,12.29,23.75,15.83,15.45,24.85,20.95,28.43,22.58,58.26,20.95,48.4,19.7,24.75,55.47,28.4,27.6,24.76,24.6,22.5,124.5,19.99,11.8,23.74,30.35,38.84,21.5,29.95,59.0,98.9,59.9,19.94,23.52,33.3733333333333,34.5,21.6,11.2,32.0010770950795,39.5,33.59,29.15,28.75,16.88,9.95,25.71,18.87,17.04,18.9,55.75,37.9,39.0,16.49,11.9,11.66,26.9,22.95,31.95,77.22,85.9,20.99,51.19,32.25,39.0,56.26,23.4,11.35,37.5,40.76,21.9,161.0,34.41,16.95,52.5,19.53,30.0,5.5,35.63,25.5,19.38,20.9,18.5,23.0,38.37,25.5,35.0,30.0,18.95,8.95,25.35,18.5,36.0,85.8,19.25,37.5,19.4,11.2,29.5,15.95,18.4,59.95,15.88,26.95,25.0,32.16,60.0,55.0,86.95,20.0,6.99,29.93,17.84,34.5,55.0,21.85,21.8,20.5,17.25,35.09,24.9,20.4532878069468,24.8,16.767557,17.7,54.0,16.2,19.9,25.35,17.75,18.9,25.9,18.25,23.89,36.9,33.9,14.6,139.9,20.9,48.0,39.5,24.5,33.5,36.97,26.3,21.95,21.5,28.95,126.2,11.9,37.9,65.0,21.65,22.95,14.8,18.46,16.45,16.9,49.95,21.7,13.95,32.0,29.15,17.5,18.9,23.95,28.3,45.0,17.9,16.78,13.58,37.9,51.35,22.99,11.95,7.1,77.36,19.9,28.53,27.89,48.96,61.94,19.98,16.76,24.45,64.5,31.63,73.0,17.9,16.78,37.9,51.35,27.89,64.5,31.63,29.15],\"type\":\"histogram\",\"xaxis\":\"x7\",\"yaxis\":\"y7\"},{\"histfunc\":\"avg\",\"name\":\"type\",\"nbinsx\":20,\"x\":[18.0,11.0,11.0,11.0,11.0,11.0,11.0,11.0,11.0,11.0,11.0,8.0,11.0,11.0,10.0,15.0,11.0,8.0,11.0,8.0,11.0,19.0,8.0,11.0,12.0,12.0,11.0,11.0,11.0,11.0,11.0,11.0,11.0,11.0,11.0,11.0,11.0,11.0,11.0,11.0,11.0,11.0,11.0,11.0,10.0,10.0,11.0,13.0,10.0,10.0,12.0,11.0,11.0,11.0,10.0,19.0,19.0,18.0,12.0,12.0,12.0,19.0,11.0,11.0,11.0,19.0,11.0,11.0,4.0,11.0,8.0,11.0,12.0,9.0,12.0,12.0,10.0,9.0,9.0,2.0,9.0,11.0,15.0,12.0,15.0,10.0,8.0,12.0,12.0,8.0,19.0,8.0,15.0,4.0,11.0,18.0,11.0,2.0,18.0,11.0,10.0,11.0,11.0,12.0,12.0,12.0,11.0,11.0,12.0,11.0,11.0,11.0,11.0,11.0,11.0,19.0,19.0,11.0,11.0,11.0,11.0,11.0,19.0,11.0,18.0,18.0,12.0,18.0,12.0,12.0,12.0,12.0,12.0,11.0,9.0,11.0,11.0,11.0,11.0,18.0,11.0,18.0,10.0,18.0,12.0,19.0,19.0,11.0,11.0,11.0,12.0,18.0,9.0,18.0,12.0,10.0,19.0,18.0,18.0,18.0,11.0,18.0,9.0,11.0,11.0,11.0,18.0,9.0,11.0,19.0,20.0,11.0,4.0,11.0,11.0,11.0,11.0,12.0,12.0,11.0,12.0,12.0,11.0,11.0,12.0,11.0,11.0,11.0,9.0,17.0,15.0,11.0,12.0,8.0,2.0,9.0,11.0,8.0,11.0,12.0,10.0,12.0,12.0,9.0,2.0,4.0,11.0,11.0,9.0,12.0,10.0,9.0,6.0,5.0,10.0,12.0,12.0,15.0,11.0,10.0,12.0,11.0,12.0,9.0,18.0,12.0,11.0,18.0,9.0,12.0,12.0,11.0,12.0,5.0,12.0,12.0,9.0,12.0,11.0,8.0,20.0,11.0,9.0,11.0,18.0,10.0,12.0,10.0,10.0,11.0,10.0,10.0,12.0,9.0,10.0,12.0,10.0,11.0,9.0,11.0,15.0,16.0,8.0,12.0,12.0,12.0,19.0,11.0,11.0,10.0,11.0,11.0,11.0,10.0,10.0,11.0,11.0,12.0,11.0,10.0,4.0,11.0,11.0,12.0,11.0,20.0,11.0,11.0,11.0,12.0,12.0,12.0,12.0,20.0,9.0,8.0,12.0,12.0,19.0,11.0,9.0,12.0,11.0,11.0,12.0,10.0,12.0,12.0,12.0,11.0,11.0,11.0,12.0,9.0,11.0,11.0,12.0,11.0,11.0,11.0,6.0,12.0,12.0,9.0,6.0,18.0,19.0,12.0,11.0,12.0,10.0,11.0,19.0,10.0,12.0,9.0,12.0,11.0,11.0,12.0,11.0,11.0,11.0,7.0,11.0,11.0,9.0,11.0,12.0,11.0,9.0,9.0,12.0,11.0,11.0,11.0,10.0,11.0,0.0,11.0,15.0,17.0,20.0,19.0,12.0,12.0,8.0,13.0,11.0,12.0,20.0,2.0,12.0,11.0,10.0,11.0,2.0,9.0,11.0,12.0,11.0,18.0,12.0,11.0,17.0,9.0,11.0,11.0,11.0,10.0,9.0,11.0,11.0,12.0,9.0,11.0,11.0,12.0,11.0,11.0,12.0,11.0,12.0,11.0,12.0,6.0,12.0,2.0,9.0,19.0,3.0,12.0,3.0,8.0,10.0,18.0,18.0,12.0,11.0,16.0,10.0,10.0,15.0,15.0,12.0,10.0,11.0,12.0,11.0,13.0,9.0,9.0,11.0,11.0,9.0,18.0,11.0,9.0,9.0,12.0,12.0,18.0,9.0,11.0,12.0,11.0,9.0,18.0,11.0,12.0,13.0,12.0,15.0,12.0,11.0,9.0,9.0,10.0,18.0,11.0,12.0,10.0,11.0,12.0,12.0,8.0,11.0,10.0,19.0,6.0,11.0,12.0,2.0,20.0,11.0,11.0,10.0,9.0,9.0,12.0,11.0,11.0,11.0,12.0,12.0,10.0,12.0,19.0,5.0,10.0,15.0,10.0,11.0,12.0,11.0,11.0,10.0,8.0,11.0,8.0,4.0,12.0,9.0,5.0,17.0,12.0,10.0,11.0,20.0,11.0,10.0,12.0,9.0,15.0,18.0,9.0,12.0,4.0,11.0,12.0,10.0,10.0,2.0,10.0,1.0,14.0,10.0,13.0,9.0,9.0,7.0,0.0,12.0,11.0,11.0,12.0,12.0,10.0,10.0,10.0,11.0,11.0,12.0,12.0,12.0,11.0,11.0,12.0,12.0,4.0,12.0,12.0,11.0,11.0,10.0,11.0,12.0,11.0,12.0,12.0,19.0,11.0,19.0,12.0,2.0,11.0,12.0,4.0,12.0,11.0,4.0,11.0,9.0,12.0,11.0,11.0,18.0,11.0,11.0,12.0,11.0,11.0,18.0,10.0,15.0,11.0,12.0,4.0,10.0,12.0,15.0,19.0,9.0,9.0,12.0,4.0,12.0,11.0,12.0,18.0,9.0,12.0,11.0,12.0,18.0,9.0,9.0,11.0,12.0,12.0,11.0,9.0,12.0,12.0,12.0,12.0,12.0,15.0,11.0,11.0,11.0,11.0,11.0,18.0,11.0,19.0,11.0,12.0,19.0,12.0,11.0,10.0,18.0,10.0,11.0,19.0,12.0,11.0,12.0,11.0,4.0,11.0,19.0,12.0,11.0,12.0,12.0,11.0,12.0,12.0,11.0,10.0,12.0,12.0,9.0,8.0,11.0,2.0,9.0,9.0,10.0,10.0,12.0,12.0,12.0,12.0,18.0,11.0,12.0,12.0,9.0,2.0,10.0,10.0,12.0,10.0,15.0,9.0,11.0,12.0,12.0,9.0,20.0,11.0,11.0,10.0,11.0,11.0,12.0,3.0,2.0,13.0,6.0,12.0,12.0,12.0,18.0,9.0,9.0,9.0,9.0,9.0,6.0,12.0,11.0,7.0,12.0,20.0,2.0,7.0,18.0,12.0,9.0,11.0,12.0,18.0,11.0,15.0,12.0,12.0,12.0,12.0,18.0,11.0,18.0,18.0,12.0,11.0,11.0,11.0,8.0,12.0,10.0,9.0,12.0,9.0,13.0,11.0,9.0,12.0,12.0,4.0,15.0,18.0,13.0,0.0,0.0,11.0,9.0,2.0,9.0,9.0,13.0,9.0,11.0,9.0,11.0,18.0,18.0,15.0,11.0,18.0,11.0,9.0,9.0,9.0,18.0,9.0,11.0,9.0,9.0,9.0,6.0,12.0,9.0,11.0,2.0,9.0,12.0,12.0,9.0,7.0,11.0,8.0,12.0,18.0,9.0,9.0,10.0,17.0,11.0,11.0,0.0,8.0,12.0,6.0,12.0,9.0,12.0,15.0,12.0,10.0,9.0,12.0,18.0,9.0,7.0,9.0,12.0,18.0,11.0,9.0,9.0,11.0,10.0,11.0,10.0,11.0,11.0,18.0,9.0,19.0,11.0,15.0,12.0,9.0,8.0,9.0,11.0,12.0,12.0,12.0,19.0,12.0,19.0,18.0,9.0,13.0,10.0,15.0,0.0,9.0,10.0,13.0,10.0,10.0,5.0,18.0,12.0,11.0,18.0,10.0,12.0,10.0,11.0,15.0,10.0,9.0,12.0,12.0,10.0,10.0,12.0,12.0,9.0,11.0,2.0,1.0,2.0,11.0,9.0,18.0,12.0,9.0,12.0,9.0,2.0,11.0,11.0,9.0,10.0,12.0,11.0,12.0,4.0,12.0,2.0,18.0,9.0,12.0,11.0,11.0,11.0,1.0,9.0,12.0,12.0,12.0,13.0,2.0,10.0,12.0,15.0,12.0,12.0,18.0,12.0,9.0,8.0,12.0,0.0,11.0,13.0,10.0,11.0,0.0,12.0,9.0,12.0,9.0,2.0,12.0,14.0,11.0,12.0,9.0,12.0,15.0,11.0,11.0,10.0,12.0,11.0,11.0,11.0,12.0,10.0,12.0,15.0,12.0,8.0,18.0,12.0,13.0,8.0,10.0,12.0,15.0,19.0,11.0,12.0,10.0,15.0,11.0,12.0,12.0,9.0,12.0,12.0,7.0,0.0,11.0,10.0,10.0,9.0,10.0,13.0,20.0,12.0,10.0,10.0,9.0,12.0,11.0,12.0,9.0,12.0,11.0,2.0,9.0,10.0,12.0,15.0,8.0,10.0,12.0,12.0,10.0,12.0,11.0,10.0,19.0,12.0,12.0,18.0,13.0,11.0,2.0,6.0,10.0,13.0,12.0,4.0,4.0,11.0,11.0,12.0,11.0,11.0,12.0,10.0,11.0,11.0,11.0,12.0,1.0,11.0,11.0,11.0,19.0,19.0,12.0,12.0,11.0,19.0,12.0,19.0,19.0,11.0,11.0,11.0,19.0,19.0,1.0,19.0,19.0,11.0,11.0,12.0,4.0,12.0,12.0,12.0,12.0,11.0,15.0,12.0,11.0,12.0,12.0,15.0,12.0,11.0,20.0,20.0,19.0,11.0,12.0,12.0,10.0,12.0,8.0,12.0,11.0,12.0,11.0,12.0,12.0,12.0,12.0,12.0,20.0,19.0,12.0,9.0,12.0,9.0,12.0,12.0,12.0,19.0,12.0,12.0,12.0,10.0,12.0,12.0,9.0,11.0,19.0,10.0,12.0,12.0,12.0,11.0,3.0,19.0,12.0,12.0,10.0,11.0,9.0,9.0,3.0,11.0,9.0,15.0,0.0,11.0,1.0,11.0,12.0,11.0,11.0,11.0,11.0,11.0,9.0,9.0,9.0,9.0,19.0,11.0,12.0,9.0,13.0,8.0,12.0,18.0,12.0,12.0,9.0,9.0,9.0,11.0,12.0,12.0,12.0,12.0,20.0,12.0,11.0,12.0,11.0,12.0,19.0,13.0,12.0,11.0,12.0,11.0,11.0,12.0,11.0,12.0,4.0,10.0,9.0,9.0,12.0,9.0,11.0,12.0,4.0,11.0,10.0,12.0,9.0,10.0,11.0,10.0,19.0,17.0,9.0,12.0,12.0,10.0,4.0,19.0,12.0,12.0,11.0,0.0,17.0,12.0,19.0,12.0,12.0,11.0,9.0,11.0,11.0,12.0,10.0,0.0,12.0,9.0,12.0,12.0,12.0,19.0,9.0,9.0,11.0,12.0,12.0,12.0,11.0,9.0,19.0,3.0,9.0,11.0,12.0,12.0,12.0,10.0,12.0,11.0,1.0,9.0,12.0,12.0,12.0,13.0,10.0,12.0,11.0,18.0,9.0,3.0,12.0,9.0,9.0,12.0,11.0,10.0,5.0,11.0,10.0,11.0,9.0,7.0,9.0,12.0,9.0,9.0,6.0,10.0,10.0,9.0,10.0,13.0,10.0,12.0,18.0,20.0,9.0,9.0,1.0,10.0,12.0,9.0,18.0,11.0,11.0,12.0,11.0,10.0,10.0,9.0,1.0,4.0,17.0,19.0,18.0,12.0,8.0,0.0,7.0,12.0,9.0,11.0,11.0,12.0,10.0,10.0,12.0,11.0,11.0,6.0,12.0,11.0,19.0,0.0,2.0,12.0,11.0,9.0,7.0,12.0,2.0,0.0,10.0,12.0,4.0,13.0,11.0,12.0,11.0,11.0,10.0,11.0,18.0,12.0,10.0,12.0,11.0,12.0,12.0,11.0,9.0,11.0,10.0,12.0,6.0,9.0,15.0,12.0,5.0,17.0,7.0,5.0,13.0,3.0,11.0,12.0,11.0,11.0,11.0,7.0,11.0,9.0,10.0,13.0,13.0,9.0,9.0,10.0,15.0,15.0,12.0,9.0,11.0,12.0,0.0,15.0,12.0,11.0,12.0,10.0,9.0,12.0,12.0,9.0,0.0,15.0,10.0,12.0,19.0,11.0,3.0,10.0,12.0,11.0,12.0,8.0,9.0,9.0,12.0,5.0,17.0,5.0,9.0,9.0,10.0,5.0,3.0,12.0,12.0,12.0,10.0,12.0,9.0,12.0,12.0,9.0,12.0,15.0,11.0,11.0,4.0,13.0,12.0,12.0,12.0,0.0,9.0,4.0,12.0,9.0,9.0,5.0,12.0,14.0,11.0,10.0,10.0,2.0,12.0,11.0,9.0,12.0,20.0,10.0,11.0,2.0,17.0,12.0,12.0,12.0,9.0,15.0,16.0,11.0,11.0,12.0,12.0,12.0,12.0,9.0,12.0,9.0,12.0,6.0,0.0,12.0,12.0,7.0,11.0,13.0,9.0,12.0,15.0,10.0,11.0,20.0,10.0,12.0,9.0,10.0,9.0,9.0,11.0,15.0,12.0,15.0,10.0,12.0,15.0,12.0,9.0,9.0,12.0,11.0,10.0,12.0,12.0,12.0,10.0,20.0,10.0,12.0,12.0,9.0,8.0,10.0,9.0,20.0,9.0,18.0,11.0,11.0,12.0,12.0,12.0,11.0,10.0,10.0,12.0,10.0,12.0,9.0,9.0,12.0,11.0,10.0,0.0,9.0,12.0,9.0,9.0,10.0,12.0,3.0,11.0,11.0,3.0,20.0,12.0,8.0,12.0,5.0,10.0,9.0,12.0,17.0,10.0,9.0,11.0,11.0,12.0,6.0,9.0,11.0,10.0,0.0,8.0,13.0,10.0,12.0,12.0,11.0,10.0,12.0,10.0,7.0,12.0,10.0,9.0,12.0,11.0,2.0,12.0,12.0,0.0,18.0,10.0,10.0,20.0,16.0,12.0,0.0,5.0,11.0,11.0,12.0,9.0,12.0,10.0,0.0,12.0,11.0,0.0,12.0,18.0,12.0,12.0,10.0,12.0,12.0,15.0,4.0,15.0,12.0,7.0,12.0,13.0,9.0,14.0,19.0,4.0,11.0,12.0,10.0,10.0,12.0,11.0,9.0,10.0,10.0,11.0,11.0,11.0,12.0,12.0,11.0,18.0,12.0,18.0,12.0,12.0,12.0,12.0,11.0,11.0,12.0,0.0,9.0,12.0,12.0,12.0,16.0,4.0,10.0,10.0,11.0,12.0,10.0,10.0,12.0,12.0,7.0,13.0,4.0,4.0,12.0,10.0,13.0,20.0,12.0,12.0,12.0,20.0,7.0,12.0,10.0,12.0,11.0,12.0,12.0,2.0,12.0,12.0,20.0,12.0,12.0,12.0,12.0,15.0,15.0,12.0,12.0,10.0,11.0,12.0,11.0,10.0,12.0,12.0,11.0,15.0,15.0,10.0,12.0,10.0,9.0,12.0,12.0,2.0,11.0,10.0,4.0,11.0,4.0,12.0,12.0,12.0,12.0,11.0,12.0,10.0,20.0,10.0,12.0,4.0,12.0,10.0,12.0,11.0,12.0,12.0,11.0,0.0,11.0,12.0,11.0,9.0,11.0,12.0,12.0,10.0,12.0,1.0,12.0,12.0,12.0,12.0,12.0,10.0,10.0,10.0,12.0,11.0,10.0,11.0,12.0,11.0,12.0,11.0,12.0,19.0,12.0,4.0,12.0,11.0,11.0,4.0,12.0,17.0,12.0,11.0,13.0,11.0,11.0,12.0,11.0,8.0,17.0,11.0,11.0,11.0,11.0,11.0,12.0,10.0,13.0,11.0,11.0,15.0,9.0,9.0,19.0,9.0,9.0,1.0,11.0,10.0,11.0,10.0,9.0,12.0,12.0,11.0,9.0,11.0,11.0,12.0,12.0,12.0,12.0,12.0,11.0,12.0,10.0,10.0,12.0,20.0,10.0,6.0,10.0,11.0,12.0,12.0,10.0,10.0,12.0,12.0,12.0,6.0,5.0,9.0,12.0,19.0,2.0,15.0,9.0,9.0,12.0,12.0,13.0,11.0,10.0,12.0,10.0,9.0,2.0,12.0,11.0,11.0,11.0,12.0,9.0,10.0,17.0,11.0,9.0,11.0,10.0,13.0,11.0,12.0,11.0,12.0,15.0,19.0,12.0,10.0,9.0,12.0,12.0,11.0,15.0,18.0,11.0,12.0,11.0,12.0,3.0,0.0,0.0,12.0,11.0,10.0,0.0,0.0,11.0,11.0,12.0,9.0,10.0,6.0,13.0,12.0,10.0,10.0,12.0,12.0,5.0,0.0,12.0,11.0,11.0,12.0,12.0,15.0,9.0,12.0,12.0,19.0,18.0,12.0,12.0,9.0,10.0,11.0,11.0,12.0,5.0,0.0,11.0,11.0,19.0,11.0,11.0,13.0],\"type\":\"histogram\",\"xaxis\":\"x8\",\"yaxis\":\"y8\"},{\"histfunc\":\"avg\",\"name\":\"body\",\"nbinsx\":20,\"x\":[4.0,5.0,5.0,5.0,5.0,5.0,5.0,5.0,5.0,5.0,5.0,5.0,5.0,5.0,4.0,4.0,5.0,5.0,5.0,5.0,5.0,5.0,5.0,5.0,4.0,4.0,5.0,5.0,5.0,5.0,5.0,5.0,5.0,5.0,5.0,5.0,5.0,5.0,5.0,5.0,5.0,5.0,5.0,5.0,4.0,4.0,5.0,3.0,4.0,4.0,4.0,5.0,5.0,5.0,4.0,5.0,5.0,4.0,4.0,4.0,4.0,5.0,5.0,5.0,5.0,5.0,5.0,5.0,5.0,5.0,5.0,5.0,4.0,4.0,4.0,4.0,4.0,4.0,4.0,2.0,4.0,5.0,4.0,4.0,4.0,4.0,5.0,4.0,4.0,5.0,5.0,5.0,4.0,5.0,5.0,4.0,4.0,2.0,4.0,5.0,4.0,5.0,5.0,4.0,4.0,4.0,5.0,5.0,4.0,5.0,5.0,5.0,5.0,5.0,5.0,5.0,5.0,5.0,5.0,5.0,5.0,5.0,5.0,5.0,4.0,4.0,4.0,4.0,4.0,4.0,4.0,4.0,4.0,5.0,4.0,5.0,5.0,5.0,5.0,4.0,5.0,4.0,4.0,4.0,4.0,5.0,5.0,5.0,5.0,5.0,4.0,4.0,4.0,4.0,4.0,4.0,5.0,4.0,4.0,4.0,5.0,4.0,4.0,5.0,5.0,5.0,4.0,4.0,5.0,5.0,3.0,5.0,5.0,5.0,5.0,5.0,5.0,4.0,4.0,5.0,4.0,4.0,5.0,5.0,4.0,5.0,5.0,5.0,4.0,4.0,4.0,5.0,4.0,5.0,2.0,4.0,5.0,5.0,5.0,4.0,4.0,4.0,4.0,4.0,2.0,5.0,5.0,5.0,4.0,4.0,4.0,4.0,5.0,3.0,4.0,4.0,4.0,4.0,5.0,4.0,4.0,5.0,4.0,4.0,4.0,4.0,5.0,4.0,4.0,4.0,4.0,5.0,4.0,3.0,4.0,4.0,4.0,4.0,5.0,5.0,3.0,5.0,4.0,5.0,4.0,4.0,4.0,4.0,4.0,5.0,4.0,4.0,4.0,4.0,4.0,4.0,4.0,5.0,4.0,5.0,4.0,2.0,5.0,4.0,4.0,4.0,5.0,5.0,5.0,4.0,5.0,5.0,5.0,4.0,4.0,5.0,5.0,4.0,5.0,4.0,5.0,5.0,5.0,4.0,5.0,3.0,5.0,5.0,5.0,4.0,4.0,4.0,4.0,3.0,4.0,5.0,4.0,4.0,5.0,5.0,4.0,4.0,5.0,5.0,4.0,4.0,4.0,4.0,4.0,5.0,5.0,5.0,4.0,4.0,5.0,5.0,4.0,5.0,5.0,5.0,5.0,4.0,4.0,4.0,5.0,4.0,5.0,4.0,5.0,4.0,4.0,5.0,5.0,4.0,4.0,4.0,4.0,5.0,5.0,4.0,5.0,5.0,5.0,4.0,5.0,5.0,4.0,5.0,4.0,5.0,4.0,4.0,4.0,5.0,5.0,5.0,4.0,5.0,3.0,5.0,4.0,4.0,3.0,5.0,4.0,4.0,5.0,3.0,5.0,4.0,3.0,2.0,4.0,5.0,4.0,5.0,2.0,4.0,5.0,4.0,5.0,4.0,4.0,5.0,4.0,4.0,5.0,5.0,5.0,4.0,4.0,5.0,5.0,4.0,4.0,5.0,5.0,4.0,5.0,5.0,4.0,5.0,4.0,5.0,4.0,5.0,4.0,2.0,4.0,5.0,4.0,4.0,4.0,5.0,4.0,4.0,4.0,4.0,5.0,2.0,4.0,4.0,4.0,4.0,4.0,4.0,5.0,4.0,5.0,3.0,4.0,4.0,5.0,5.0,4.0,4.0,5.0,4.0,4.0,4.0,4.0,4.0,4.0,5.0,4.0,5.0,4.0,4.0,5.0,4.0,3.0,4.0,4.0,4.0,5.0,4.0,4.0,4.0,4.0,5.0,4.0,4.0,5.0,4.0,4.0,5.0,5.0,4.0,5.0,5.0,5.0,4.0,2.0,3.0,5.0,5.0,4.0,4.0,4.0,4.0,5.0,5.0,5.0,4.0,4.0,4.0,4.0,5.0,3.0,4.0,4.0,4.0,5.0,4.0,5.0,5.0,4.0,5.0,5.0,5.0,5.0,4.0,4.0,3.0,4.0,4.0,4.0,5.0,3.0,5.0,4.0,4.0,4.0,4.0,4.0,4.0,4.0,5.0,5.0,4.0,4.0,4.0,2.0,4.0,4.0,3.0,4.0,4.0,4.0,4.0,4.0,4.0,4.0,4.0,4.0,4.0,4.0,4.0,4.0,4.0,4.0,4.0,4.0,4.0,4.0,5.0,5.0,4.0,4.0,5.0,4.0,4.0,5.0,5.0,4.0,5.0,4.0,5.0,4.0,4.0,5.0,5.0,5.0,4.0,2.0,5.0,4.0,5.0,4.0,5.0,5.0,5.0,4.0,4.0,5.0,5.0,4.0,5.0,5.0,4.0,5.0,5.0,4.0,4.0,4.0,5.0,4.0,5.0,4.0,4.0,4.0,5.0,4.0,4.0,4.0,5.0,4.0,5.0,4.0,4.0,4.0,4.0,5.0,4.0,4.0,4.0,4.0,5.0,4.0,4.0,5.0,4.0,4.0,4.0,4.0,4.0,4.0,4.0,4.0,4.0,4.0,4.0,4.0,4.0,4.0,4.0,4.0,4.0,4.0,4.0,4.0,4.0,4.0,4.0,4.0,4.0,4.0,4.0,4.0,4.0,4.0,4.0,5.0,4.0,5.0,4.0,4.0,5.0,4.0,4.0,5.0,4.0,4.0,4.0,4.0,5.0,5.0,2.0,4.0,4.0,4.0,4.0,4.0,4.0,4.0,4.0,4.0,5.0,4.0,4.0,4.0,2.0,4.0,4.0,4.0,4.0,4.0,4.0,5.0,4.0,4.0,4.0,3.0,5.0,5.0,4.0,5.0,5.0,4.0,4.0,2.0,3.0,5.0,4.0,4.0,4.0,4.0,4.0,4.0,4.0,4.0,4.0,5.0,4.0,5.0,4.0,4.0,3.0,2.0,4.0,4.0,4.0,4.0,5.0,4.0,4.0,5.0,4.0,4.0,4.0,4.0,4.0,4.0,5.0,4.0,4.0,4.0,5.0,5.0,5.0,5.0,4.0,4.0,4.0,4.0,4.0,3.0,5.0,4.0,4.0,4.0,5.0,4.0,4.0,3.0,3.0,3.0,5.0,4.0,2.0,4.0,4.0,3.0,4.0,5.0,4.0,5.0,4.0,4.0,4.0,5.0,4.0,5.0,4.0,4.0,4.0,4.0,4.0,5.0,4.0,4.0,4.0,5.0,4.0,4.0,5.0,2.0,4.0,4.0,4.0,4.0,4.0,5.0,5.0,4.0,4.0,4.0,4.0,4.0,4.0,5.0,5.0,3.0,5.0,4.0,5.0,4.0,4.0,4.0,4.0,4.0,4.0,4.0,4.0,4.0,4.0,4.0,4.0,4.0,4.0,5.0,4.0,4.0,5.0,4.0,5.0,4.0,5.0,5.0,4.0,4.0,5.0,5.0,4.0,4.0,4.0,5.0,4.0,5.0,4.0,4.0,4.0,5.0,4.0,5.0,4.0,4.0,3.0,4.0,4.0,3.0,4.0,4.0,3.0,4.0,4.0,3.0,4.0,4.0,5.0,4.0,4.0,4.0,4.0,5.0,4.0,4.0,4.0,4.0,4.0,4.0,4.0,4.0,4.0,4.0,5.0,2.0,4.0,2.0,5.0,4.0,4.0,4.0,4.0,4.0,4.0,2.0,5.0,5.0,4.0,4.0,4.0,5.0,4.0,5.0,4.0,2.0,4.0,4.0,4.0,5.0,5.0,5.0,4.0,4.0,4.0,4.0,4.0,3.0,2.0,4.0,4.0,4.0,4.0,4.0,4.0,4.0,4.0,5.0,4.0,3.0,5.0,3.0,4.0,5.0,3.0,4.0,4.0,4.0,4.0,2.0,4.0,3.0,5.0,4.0,4.0,4.0,4.0,5.0,5.0,4.0,4.0,5.0,5.0,5.0,4.0,4.0,4.0,4.0,4.0,5.0,4.0,4.0,3.0,5.0,4.0,4.0,4.0,5.0,5.0,4.0,4.0,4.0,5.0,4.0,4.0,4.0,4.0,4.0,4.0,3.0,5.0,4.0,4.0,4.0,4.0,3.0,3.0,4.0,4.0,4.0,4.0,4.0,5.0,4.0,4.0,4.0,5.0,2.0,4.0,4.0,4.0,4.0,5.0,4.0,4.0,4.0,4.0,4.0,5.0,4.0,5.0,4.0,4.0,4.0,3.0,5.0,2.0,5.0,4.0,3.0,4.0,5.0,5.0,5.0,4.0,4.0,4.0,4.0,4.0,4.0,4.0,4.0,4.0,4.0,4.0,4.0,4.0,4.0,4.0,4.0,4.0,4.0,4.0,4.0,4.0,4.0,4.0,4.0,5.0,5.0,5.0,5.0,4.0,5.0,5.0,5.0,5.0,4.0,5.0,4.0,4.0,4.0,4.0,5.0,4.0,4.0,5.0,4.0,4.0,4.0,4.0,5.0,3.0,3.0,5.0,5.0,4.0,4.0,4.0,4.0,5.0,4.0,5.0,4.0,5.0,4.0,4.0,4.0,4.0,4.0,3.0,5.0,4.0,4.0,4.0,4.0,4.0,4.0,4.0,5.0,4.0,4.0,4.0,4.0,4.0,4.0,4.0,5.0,5.0,4.0,4.0,4.0,4.0,5.0,4.0,5.0,4.0,4.0,4.0,5.0,4.0,4.0,4.0,5.0,4.0,4.0,3.0,5.0,4.0,5.0,4.0,5.0,5.0,5.0,5.0,5.0,4.0,4.0,4.0,4.0,5.0,5.0,4.0,4.0,3.0,5.0,4.0,4.0,4.0,4.0,4.0,4.0,4.0,5.0,4.0,4.0,4.0,4.0,3.0,4.0,5.0,4.0,5.0,4.0,5.0,3.0,4.0,5.0,4.0,5.0,5.0,4.0,5.0,4.0,5.0,4.0,4.0,4.0,4.0,4.0,5.0,4.0,5.0,5.0,4.0,4.0,4.0,4.0,5.0,4.0,5.0,4.0,4.0,4.0,4.0,4.0,5.0,5.0,4.0,4.0,4.0,4.0,4.0,4.0,4.0,4.0,4.0,4.0,4.0,4.0,4.0,4.0,4.0,4.0,4.0,4.0,4.0,4.0,4.0,4.0,4.0,4.0,4.0,4.0,4.0,4.0,5.0,4.0,5.0,4.0,4.0,5.0,4.0,4.0,4.0,4.0,4.0,5.0,4.0,4.0,4.0,4.0,4.0,3.0,4.0,4.0,5.0,4.0,4.0,4.0,4.0,4.0,4.0,4.0,5.0,4.0,3.0,5.0,4.0,5.0,4.0,4.0,4.0,4.0,4.0,4.0,5.0,4.0,4.0,4.0,4.0,3.0,4.0,4.0,4.0,3.0,4.0,4.0,4.0,4.0,4.0,4.0,4.0,5.0,5.0,4.0,5.0,4.0,4.0,4.0,4.0,5.0,4.0,5.0,4.0,4.0,5.0,3.0,4.0,4.0,4.0,4.0,4.0,4.0,4.0,4.0,4.0,4.0,4.0,4.0,4.0,4.0,4.0,4.0,4.0,4.0,4.0,4.0,4.0,4.0,4.0,4.0,4.0,4.0,5.0,3.0,5.0,4.0,5.0,5.0,4.0,5.0,4.0,4.0,4.0,4.0,5.0,4.0,4.0,5.0,4.0,5.0,4.0,4.0,5.0,4.0,4.0,4.0,3.0,4.0,4.0,3.0,3.0,4.0,5.0,4.0,5.0,5.0,5.0,4.0,5.0,4.0,4.0,3.0,3.0,4.0,4.0,4.0,4.0,4.0,4.0,4.0,5.0,4.0,3.0,4.0,4.0,5.0,4.0,4.0,4.0,4.0,4.0,4.0,3.0,4.0,4.0,4.0,5.0,5.0,4.0,4.0,4.0,5.0,4.0,5.0,4.0,4.0,4.0,3.0,4.0,3.0,4.0,4.0,4.0,3.0,4.0,4.0,4.0,4.0,4.0,4.0,4.0,4.0,4.0,4.0,4.0,4.0,5.0,5.0,5.0,3.0,4.0,4.0,4.0,4.0,4.0,4.0,4.0,4.0,4.0,4.0,4.0,4.0,4.0,4.0,4.0,4.0,4.0,4.0,4.0,4.0,4.0,4.0,4.0,4.0,4.0,4.0,4.0,4.0,4.0,4.0,2.0,5.0,5.0,4.0,4.0,4.0,4.0,4.0,4.0,4.0,4.0,5.0,3.0,4.0,4.0,4.0,5.0,3.0,4.0,4.0,4.0,4.0,5.0,3.0,4.0,4.0,4.0,4.0,4.0,4.0,5.0,4.0,4.0,4.0,4.0,4.0,4.0,4.0,4.0,4.0,4.0,5.0,4.0,4.0,4.0,4.0,4.0,3.0,4.0,4.0,4.0,4.0,5.0,4.0,4.0,3.0,4.0,4.0,5.0,5.0,4.0,4.0,4.0,5.0,4.0,4.0,4.0,4.0,4.0,4.0,4.0,4.0,5.0,4.0,3.0,4.0,4.0,4.0,4.0,4.0,4.0,4.0,5.0,5.0,4.0,3.0,4.0,5.0,4.0,3.0,4.0,4.0,4.0,4.0,4.0,4.0,5.0,5.0,4.0,5.0,4.0,5.0,4.0,3.0,5.0,3.0,4.0,4.0,4.0,5.0,4.0,4.0,4.0,4.0,4.0,4.0,4.0,4.0,5.0,2.0,4.0,4.0,3.0,4.0,4.0,4.0,3.0,2.0,4.0,3.0,3.0,5.0,5.0,4.0,4.0,4.0,4.0,3.0,4.0,5.0,3.0,4.0,4.0,4.0,4.0,4.0,4.0,4.0,4.0,5.0,4.0,4.0,4.0,4.0,3.0,4.0,3.0,5.0,5.0,5.0,4.0,4.0,4.0,4.0,5.0,4.0,4.0,4.0,5.0,5.0,5.0,4.0,4.0,5.0,4.0,4.0,4.0,4.0,4.0,4.0,4.0,5.0,5.0,4.0,3.0,4.0,4.0,4.0,4.0,2.0,5.0,4.0,4.0,5.0,4.0,4.0,4.0,4.0,4.0,4.0,3.0,5.0,5.0,4.0,4.0,3.0,3.0,4.0,4.0,4.0,3.0,4.0,4.0,4.0,4.0,5.0,4.0,4.0,2.0,4.0,4.0,3.0,4.0,4.0,4.0,4.0,4.0,4.0,4.0,4.0,4.0,5.0,4.0,5.0,4.0,4.0,4.0,5.0,4.0,4.0,4.0,4.0,4.0,4.0,4.0,4.0,2.0,5.0,4.0,5.0,5.0,5.0,4.0,4.0,4.0,4.0,5.0,4.0,4.0,3.0,4.0,4.0,5.0,4.0,4.0,4.0,5.0,4.0,4.0,5.0,3.0,5.0,4.0,5.0,4.0,5.0,4.0,4.0,4.0,4.0,4.0,4.0,4.0,4.0,4.0,4.0,4.0,4.0,4.0,4.0,5.0,4.0,5.0,4.0,5.0,4.0,5.0,4.0,5.0,4.0,5.0,4.0,5.0,5.0,5.0,4.0,4.0,4.0,5.0,3.0,5.0,5.0,4.0,5.0,5.0,4.0,5.0,5.0,5.0,5.0,5.0,4.0,4.0,3.0,5.0,5.0,4.0,4.0,4.0,5.0,4.0,4.0,4.0,5.0,4.0,5.0,4.0,4.0,4.0,4.0,5.0,4.0,5.0,5.0,4.0,4.0,4.0,4.0,4.0,5.0,4.0,4.0,4.0,4.0,3.0,4.0,5.0,4.0,5.0,4.0,4.0,4.0,4.0,4.0,4.0,4.0,5.0,3.0,4.0,4.0,5.0,2.0,4.0,4.0,4.0,4.0,4.0,3.0,5.0,4.0,4.0,4.0,4.0,2.0,4.0,5.0,5.0,5.0,4.0,4.0,4.0,4.0,5.0,4.0,5.0,4.0,3.0,5.0,4.0,5.0,4.0,4.0,5.0,4.0,4.0,4.0,4.0,4.0,5.0,4.0,4.0,5.0,4.0,5.0,4.0,4.0,3.0,3.0,4.0,5.0,4.0,3.0,3.0,5.0,5.0,4.0,4.0,4.0,5.0,3.0,4.0,4.0,4.0,4.0,4.0,4.0,4.0,4.0,4.0,4.0,4.0,4.0,4.0,4.0,4.0,4.0,4.0,4.0,4.0,4.0,4.0,4.0,4.0,4.0,4.0,3.0,3.0,5.0,5.0,5.0,5.0,5.0,4.0],\"type\":\"histogram\",\"xaxis\":\"x9\",\"yaxis\":\"y9\"},{\"histfunc\":\"avg\",\"name\":\"acidity\",\"nbinsx\":20,\"x\":[2.0,3.0,3.0,3.0,3.0,3.0,3.0,3.0,3.0,3.0,3.0,1.0,3.0,3.0,3.0,3.0,3.0,1.0,3.0,1.0,3.0,3.0,1.0,3.0,3.0,3.0,3.0,3.0,3.0,3.0,3.0,3.0,3.0,3.0,3.0,3.0,3.0,3.0,3.0,3.0,3.0,3.0,3.0,3.0,3.0,3.0,3.0,3.0,3.0,3.0,3.0,3.0,3.0,3.0,3.0,3.0,3.0,2.0,3.0,3.0,3.0,3.0,3.0,3.0,3.0,3.0,3.0,3.0,3.0,3.0,1.0,3.0,3.0,3.0,3.0,3.0,3.0,3.0,3.0,3.0,3.0,3.0,3.0,3.0,3.0,3.0,1.0,3.0,3.0,1.0,3.0,1.0,3.0,3.0,3.0,2.0,3.0,3.0,2.0,3.0,3.0,3.0,3.0,3.0,3.0,3.0,3.0,3.0,3.0,3.0,3.0,3.0,3.0,3.0,3.0,3.0,3.0,3.0,3.0,3.0,3.0,3.0,3.0,3.0,2.0,2.0,3.0,2.0,3.0,3.0,3.0,3.0,3.0,3.0,3.0,3.0,3.0,3.0,3.0,2.0,3.0,2.0,3.0,2.0,3.0,3.0,3.0,3.0,3.0,3.0,3.0,2.0,3.0,2.0,3.0,3.0,3.0,2.0,2.0,2.0,3.0,2.0,3.0,3.0,3.0,3.0,2.0,3.0,3.0,3.0,3.0,3.0,3.0,3.0,3.0,3.0,3.0,3.0,3.0,3.0,3.0,3.0,3.0,3.0,3.0,3.0,3.0,3.0,3.0,3.0,3.0,3.0,3.0,1.0,3.0,3.0,3.0,1.0,3.0,3.0,3.0,3.0,3.0,3.0,3.0,3.0,3.0,3.0,3.0,3.0,3.0,3.0,3.0,3.0,3.0,3.0,3.0,3.0,3.0,3.0,3.0,3.0,3.0,3.0,2.0,3.0,3.0,2.0,3.0,3.0,3.0,3.0,3.0,3.0,3.0,3.0,3.0,3.0,3.0,1.0,3.0,3.0,3.0,3.0,2.0,3.0,3.0,3.0,3.0,3.0,3.0,3.0,3.0,3.0,3.0,3.0,3.0,3.0,3.0,3.0,3.0,3.0,1.0,3.0,3.0,3.0,3.0,3.0,3.0,3.0,3.0,3.0,3.0,3.0,3.0,3.0,3.0,3.0,3.0,3.0,3.0,3.0,3.0,3.0,3.0,3.0,3.0,3.0,3.0,3.0,3.0,3.0,3.0,3.0,3.0,1.0,3.0,3.0,3.0,3.0,3.0,3.0,3.0,3.0,3.0,3.0,3.0,3.0,3.0,3.0,3.0,3.0,3.0,3.0,3.0,3.0,3.0,3.0,3.0,3.0,3.0,3.0,3.0,3.0,3.0,2.0,3.0,3.0,3.0,3.0,3.0,3.0,3.0,3.0,3.0,3.0,3.0,3.0,3.0,3.0,3.0,3.0,3.0,3.0,3.0,3.0,3.0,3.0,3.0,3.0,3.0,3.0,3.0,3.0,3.0,3.0,3.0,3.0,3.0,3.0,3.0,3.0,3.0,3.0,3.0,3.0,1.0,3.0,3.0,3.0,3.0,3.0,3.0,3.0,3.0,3.0,3.0,3.0,3.0,3.0,3.0,2.0,3.0,3.0,3.0,3.0,3.0,3.0,3.0,3.0,3.0,3.0,3.0,3.0,3.0,3.0,3.0,3.0,3.0,3.0,3.0,3.0,3.0,3.0,3.0,3.0,3.0,3.0,3.0,3.0,3.0,3.0,3.0,1.0,3.0,2.0,2.0,3.0,3.0,3.0,3.0,3.0,3.0,3.0,3.0,3.0,3.0,3.0,3.0,3.0,3.0,3.0,3.0,3.0,3.0,2.0,3.0,3.0,3.0,3.0,3.0,2.0,3.0,3.0,3.0,3.0,3.0,2.0,3.0,3.0,3.0,3.0,3.0,3.0,3.0,3.0,3.0,3.0,2.0,3.0,3.0,3.0,3.0,3.0,3.0,1.0,3.0,3.0,3.0,3.0,3.0,3.0,3.0,3.0,3.0,3.0,3.0,3.0,3.0,3.0,3.0,3.0,3.0,3.0,3.0,3.0,3.0,3.0,3.0,3.0,3.0,3.0,3.0,3.0,3.0,3.0,3.0,1.0,3.0,1.0,3.0,3.0,3.0,3.0,3.0,3.0,3.0,3.0,3.0,3.0,3.0,3.0,3.0,3.0,2.0,3.0,3.0,3.0,3.0,3.0,3.0,3.0,3.0,3.0,3.0,3.0,3.0,3.0,3.0,3.0,3.0,3.0,3.0,3.0,3.0,3.0,3.0,3.0,3.0,3.0,3.0,3.0,3.0,3.0,3.0,3.0,3.0,3.0,3.0,3.0,3.0,3.0,3.0,3.0,3.0,3.0,3.0,3.0,3.0,3.0,3.0,3.0,3.0,3.0,3.0,3.0,3.0,3.0,3.0,3.0,3.0,3.0,3.0,3.0,3.0,3.0,2.0,3.0,3.0,3.0,3.0,3.0,2.0,3.0,3.0,3.0,3.0,3.0,3.0,3.0,3.0,3.0,3.0,3.0,3.0,3.0,3.0,3.0,3.0,2.0,3.0,3.0,3.0,3.0,2.0,3.0,3.0,3.0,3.0,3.0,3.0,3.0,3.0,3.0,3.0,3.0,3.0,3.0,3.0,3.0,3.0,3.0,3.0,2.0,3.0,3.0,3.0,3.0,3.0,3.0,3.0,3.0,2.0,3.0,3.0,3.0,3.0,3.0,3.0,3.0,3.0,3.0,3.0,3.0,3.0,3.0,3.0,3.0,3.0,3.0,3.0,3.0,3.0,3.0,3.0,1.0,3.0,3.0,3.0,3.0,3.0,3.0,3.0,3.0,3.0,3.0,2.0,3.0,3.0,3.0,3.0,3.0,3.0,3.0,3.0,3.0,3.0,3.0,3.0,3.0,3.0,3.0,3.0,3.0,3.0,3.0,3.0,3.0,3.0,3.0,3.0,3.0,3.0,3.0,3.0,3.0,2.0,3.0,3.0,3.0,3.0,3.0,3.0,3.0,3.0,3.0,3.0,3.0,3.0,3.0,2.0,3.0,3.0,3.0,3.0,2.0,3.0,3.0,3.0,3.0,3.0,3.0,2.0,3.0,2.0,2.0,3.0,3.0,3.0,3.0,1.0,3.0,3.0,3.0,3.0,3.0,3.0,3.0,3.0,3.0,3.0,3.0,3.0,2.0,3.0,3.0,3.0,3.0,3.0,3.0,3.0,3.0,3.0,3.0,3.0,3.0,3.0,2.0,2.0,3.0,3.0,2.0,3.0,3.0,3.0,3.0,2.0,3.0,3.0,3.0,3.0,3.0,3.0,3.0,3.0,3.0,3.0,3.0,3.0,3.0,3.0,3.0,3.0,1.0,3.0,2.0,3.0,3.0,3.0,3.0,3.0,3.0,3.0,1.0,3.0,3.0,3.0,3.0,3.0,3.0,3.0,3.0,3.0,3.0,2.0,3.0,3.0,3.0,3.0,2.0,3.0,3.0,3.0,3.0,3.0,3.0,3.0,3.0,3.0,2.0,3.0,3.0,3.0,3.0,3.0,3.0,1.0,3.0,3.0,3.0,3.0,3.0,3.0,3.0,3.0,2.0,3.0,3.0,3.0,3.0,3.0,3.0,3.0,3.0,3.0,3.0,3.0,2.0,3.0,3.0,2.0,3.0,3.0,3.0,3.0,3.0,3.0,3.0,3.0,3.0,3.0,3.0,3.0,3.0,3.0,3.0,3.0,3.0,3.0,3.0,3.0,2.0,3.0,3.0,3.0,3.0,3.0,3.0,3.0,3.0,3.0,3.0,3.0,3.0,3.0,3.0,3.0,2.0,3.0,3.0,3.0,3.0,3.0,3.0,3.0,3.0,3.0,3.0,3.0,3.0,3.0,3.0,3.0,3.0,3.0,2.0,3.0,3.0,1.0,3.0,3.0,3.0,3.0,3.0,3.0,3.0,3.0,3.0,3.0,3.0,3.0,3.0,3.0,3.0,3.0,3.0,3.0,3.0,3.0,3.0,3.0,3.0,3.0,3.0,3.0,3.0,3.0,3.0,3.0,3.0,1.0,2.0,3.0,3.0,1.0,3.0,3.0,3.0,3.0,3.0,3.0,3.0,3.0,3.0,3.0,3.0,3.0,3.0,3.0,3.0,3.0,3.0,3.0,3.0,3.0,3.0,3.0,3.0,3.0,3.0,3.0,3.0,3.0,3.0,3.0,3.0,3.0,3.0,3.0,3.0,3.0,3.0,3.0,1.0,3.0,3.0,3.0,3.0,3.0,3.0,3.0,3.0,3.0,3.0,2.0,3.0,3.0,3.0,3.0,3.0,3.0,3.0,3.0,3.0,3.0,3.0,3.0,3.0,3.0,3.0,3.0,3.0,3.0,3.0,3.0,3.0,3.0,3.0,3.0,3.0,3.0,3.0,3.0,3.0,3.0,3.0,3.0,3.0,3.0,3.0,3.0,3.0,3.0,3.0,3.0,3.0,3.0,3.0,3.0,3.0,3.0,3.0,3.0,3.0,3.0,3.0,3.0,3.0,3.0,3.0,3.0,3.0,3.0,3.0,3.0,3.0,3.0,3.0,3.0,3.0,3.0,1.0,3.0,3.0,3.0,3.0,3.0,3.0,3.0,3.0,3.0,3.0,3.0,3.0,3.0,3.0,3.0,3.0,3.0,3.0,3.0,3.0,3.0,3.0,3.0,3.0,3.0,3.0,3.0,3.0,3.0,3.0,3.0,3.0,3.0,3.0,3.0,3.0,3.0,3.0,3.0,3.0,3.0,3.0,3.0,3.0,3.0,3.0,3.0,3.0,3.0,3.0,3.0,3.0,3.0,3.0,3.0,3.0,3.0,3.0,3.0,3.0,3.0,3.0,3.0,3.0,1.0,3.0,2.0,3.0,3.0,3.0,3.0,3.0,3.0,3.0,3.0,3.0,3.0,3.0,3.0,3.0,3.0,3.0,3.0,3.0,3.0,3.0,3.0,3.0,3.0,3.0,3.0,3.0,3.0,3.0,3.0,3.0,3.0,3.0,3.0,3.0,3.0,3.0,3.0,3.0,3.0,3.0,3.0,3.0,3.0,3.0,3.0,3.0,3.0,3.0,3.0,3.0,3.0,3.0,3.0,3.0,3.0,3.0,3.0,3.0,3.0,3.0,3.0,3.0,3.0,3.0,3.0,3.0,3.0,3.0,3.0,3.0,3.0,3.0,3.0,3.0,3.0,3.0,3.0,3.0,3.0,3.0,3.0,3.0,3.0,3.0,3.0,3.0,3.0,3.0,3.0,3.0,3.0,3.0,3.0,3.0,3.0,3.0,3.0,3.0,3.0,3.0,2.0,3.0,3.0,3.0,3.0,3.0,3.0,3.0,3.0,3.0,3.0,3.0,3.0,3.0,3.0,3.0,3.0,3.0,3.0,3.0,3.0,3.0,3.0,3.0,3.0,3.0,3.0,2.0,3.0,3.0,3.0,3.0,3.0,3.0,3.0,2.0,3.0,3.0,3.0,3.0,3.0,3.0,3.0,3.0,3.0,3.0,3.0,2.0,3.0,1.0,3.0,3.0,3.0,3.0,3.0,3.0,3.0,3.0,3.0,3.0,3.0,3.0,3.0,3.0,3.0,3.0,3.0,3.0,3.0,3.0,3.0,3.0,3.0,3.0,3.0,3.0,3.0,3.0,3.0,3.0,3.0,3.0,3.0,3.0,3.0,2.0,3.0,3.0,3.0,3.0,3.0,3.0,3.0,3.0,3.0,3.0,3.0,3.0,3.0,3.0,3.0,3.0,3.0,3.0,3.0,3.0,3.0,3.0,3.0,3.0,3.0,3.0,3.0,3.0,3.0,3.0,3.0,3.0,3.0,3.0,3.0,3.0,3.0,3.0,3.0,3.0,3.0,3.0,3.0,3.0,3.0,3.0,3.0,3.0,3.0,3.0,3.0,3.0,3.0,3.0,3.0,3.0,3.0,3.0,3.0,3.0,3.0,3.0,1.0,3.0,3.0,3.0,3.0,3.0,3.0,3.0,3.0,3.0,3.0,3.0,3.0,3.0,3.0,3.0,3.0,3.0,3.0,3.0,3.0,3.0,3.0,3.0,3.0,3.0,3.0,3.0,3.0,3.0,3.0,3.0,3.0,3.0,3.0,3.0,3.0,3.0,3.0,3.0,3.0,3.0,3.0,3.0,3.0,3.0,3.0,3.0,3.0,3.0,3.0,3.0,3.0,3.0,3.0,3.0,3.0,3.0,3.0,3.0,3.0,3.0,3.0,3.0,3.0,3.0,3.0,3.0,3.0,3.0,3.0,3.0,3.0,3.0,3.0,3.0,3.0,3.0,3.0,3.0,3.0,3.0,3.0,3.0,3.0,3.0,3.0,3.0,3.0,3.0,3.0,3.0,3.0,3.0,3.0,3.0,3.0,3.0,3.0,3.0,3.0,3.0,3.0,3.0,3.0,3.0,3.0,3.0,3.0,1.0,3.0,3.0,3.0,3.0,2.0,3.0,3.0,3.0,3.0,3.0,3.0,3.0,3.0,3.0,3.0,3.0,3.0,3.0,3.0,3.0,3.0,3.0,3.0,3.0,3.0,3.0,3.0,3.0,3.0,3.0,3.0,3.0,3.0,3.0,1.0,3.0,3.0,3.0,3.0,3.0,3.0,3.0,3.0,3.0,3.0,3.0,3.0,3.0,3.0,3.0,3.0,1.0,3.0,3.0,3.0,3.0,3.0,3.0,3.0,3.0,3.0,3.0,3.0,3.0,3.0,3.0,3.0,3.0,3.0,3.0,2.0,3.0,3.0,3.0,3.0,3.0,3.0,3.0,3.0,3.0,3.0,3.0,3.0,3.0,3.0,3.0,3.0,3.0,3.0,2.0,3.0,3.0,3.0,3.0,3.0,3.0,3.0,3.0,3.0,3.0,3.0,3.0,3.0,3.0,3.0,3.0,3.0,3.0,3.0,3.0,3.0,3.0,3.0,3.0,3.0,3.0,3.0,3.0,3.0,3.0,3.0,2.0,3.0,2.0,3.0,3.0,3.0,3.0,3.0,3.0,3.0,3.0,3.0,3.0,3.0,3.0,3.0,3.0,3.0,3.0,3.0,3.0,3.0,3.0,3.0,3.0,3.0,3.0,3.0,3.0,3.0,3.0,3.0,3.0,3.0,3.0,3.0,3.0,3.0,3.0,3.0,3.0,3.0,3.0,3.0,3.0,3.0,3.0,3.0,3.0,3.0,3.0,3.0,3.0,3.0,3.0,3.0,3.0,3.0,3.0,3.0,3.0,3.0,3.0,3.0,3.0,3.0,3.0,3.0,3.0,3.0,3.0,3.0,3.0,3.0,3.0,3.0,3.0,3.0,3.0,3.0,3.0,3.0,3.0,3.0,3.0,3.0,3.0,3.0,3.0,3.0,3.0,3.0,3.0,3.0,3.0,3.0,3.0,3.0,3.0,3.0,3.0,3.0,3.0,3.0,3.0,3.0,3.0,3.0,3.0,3.0,3.0,3.0,3.0,3.0,3.0,3.0,3.0,3.0,3.0,3.0,3.0,3.0,3.0,3.0,3.0,3.0,3.0,3.0,3.0,3.0,3.0,3.0,3.0,3.0,3.0,3.0,3.0,3.0,3.0,3.0,1.0,3.0,3.0,3.0,3.0,3.0,3.0,3.0,3.0,3.0,3.0,3.0,3.0,3.0,3.0,3.0,3.0,3.0,3.0,3.0,3.0,3.0,3.0,3.0,3.0,3.0,3.0,3.0,3.0,3.0,3.0,3.0,3.0,3.0,3.0,3.0,3.0,3.0,3.0,3.0,3.0,3.0,3.0,3.0,3.0,3.0,3.0,3.0,3.0,3.0,3.0,3.0,3.0,3.0,3.0,3.0,3.0,3.0,3.0,3.0,3.0,3.0,3.0,3.0,3.0,3.0,3.0,3.0,3.0,3.0,3.0,3.0,3.0,3.0,3.0,3.0,3.0,3.0,3.0,3.0,3.0,3.0,3.0,3.0,3.0,3.0,3.0,3.0,3.0,3.0,3.0,3.0,3.0,3.0,3.0,3.0,2.0,3.0,3.0,3.0,3.0,3.0,3.0,3.0,3.0,3.0,3.0,3.0,3.0,3.0,3.0,3.0,3.0,3.0,3.0,3.0,3.0,3.0,3.0,3.0,3.0,3.0,3.0,3.0,3.0,3.0,3.0,3.0,3.0,3.0,3.0,3.0,3.0,2.0,3.0,3.0,3.0,3.0,3.0,3.0,3.0,3.0,3.0,3.0,3.0,3.0,3.0,3.0,3.0],\"type\":\"histogram\",\"xaxis\":\"x10\",\"yaxis\":\"y10\"}],                        {\"template\":{\"data\":{\"histogram2dcontour\":[{\"type\":\"histogram2dcontour\",\"colorbar\":{\"outlinewidth\":0,\"ticks\":\"\"},\"colorscale\":[[0.0,\"#0d0887\"],[0.1111111111111111,\"#46039f\"],[0.2222222222222222,\"#7201a8\"],[0.3333333333333333,\"#9c179e\"],[0.4444444444444444,\"#bd3786\"],[0.5555555555555556,\"#d8576b\"],[0.6666666666666666,\"#ed7953\"],[0.7777777777777778,\"#fb9f3a\"],[0.8888888888888888,\"#fdca26\"],[1.0,\"#f0f921\"]]}],\"choropleth\":[{\"type\":\"choropleth\",\"colorbar\":{\"outlinewidth\":0,\"ticks\":\"\"}}],\"histogram2d\":[{\"type\":\"histogram2d\",\"colorbar\":{\"outlinewidth\":0,\"ticks\":\"\"},\"colorscale\":[[0.0,\"#0d0887\"],[0.1111111111111111,\"#46039f\"],[0.2222222222222222,\"#7201a8\"],[0.3333333333333333,\"#9c179e\"],[0.4444444444444444,\"#bd3786\"],[0.5555555555555556,\"#d8576b\"],[0.6666666666666666,\"#ed7953\"],[0.7777777777777778,\"#fb9f3a\"],[0.8888888888888888,\"#fdca26\"],[1.0,\"#f0f921\"]]}],\"heatmap\":[{\"type\":\"heatmap\",\"colorbar\":{\"outlinewidth\":0,\"ticks\":\"\"},\"colorscale\":[[0.0,\"#0d0887\"],[0.1111111111111111,\"#46039f\"],[0.2222222222222222,\"#7201a8\"],[0.3333333333333333,\"#9c179e\"],[0.4444444444444444,\"#bd3786\"],[0.5555555555555556,\"#d8576b\"],[0.6666666666666666,\"#ed7953\"],[0.7777777777777778,\"#fb9f3a\"],[0.8888888888888888,\"#fdca26\"],[1.0,\"#f0f921\"]]}],\"heatmapgl\":[{\"type\":\"heatmapgl\",\"colorbar\":{\"outlinewidth\":0,\"ticks\":\"\"},\"colorscale\":[[0.0,\"#0d0887\"],[0.1111111111111111,\"#46039f\"],[0.2222222222222222,\"#7201a8\"],[0.3333333333333333,\"#9c179e\"],[0.4444444444444444,\"#bd3786\"],[0.5555555555555556,\"#d8576b\"],[0.6666666666666666,\"#ed7953\"],[0.7777777777777778,\"#fb9f3a\"],[0.8888888888888888,\"#fdca26\"],[1.0,\"#f0f921\"]]}],\"contourcarpet\":[{\"type\":\"contourcarpet\",\"colorbar\":{\"outlinewidth\":0,\"ticks\":\"\"}}],\"contour\":[{\"type\":\"contour\",\"colorbar\":{\"outlinewidth\":0,\"ticks\":\"\"},\"colorscale\":[[0.0,\"#0d0887\"],[0.1111111111111111,\"#46039f\"],[0.2222222222222222,\"#7201a8\"],[0.3333333333333333,\"#9c179e\"],[0.4444444444444444,\"#bd3786\"],[0.5555555555555556,\"#d8576b\"],[0.6666666666666666,\"#ed7953\"],[0.7777777777777778,\"#fb9f3a\"],[0.8888888888888888,\"#fdca26\"],[1.0,\"#f0f921\"]]}],\"surface\":[{\"type\":\"surface\",\"colorbar\":{\"outlinewidth\":0,\"ticks\":\"\"},\"colorscale\":[[0.0,\"#0d0887\"],[0.1111111111111111,\"#46039f\"],[0.2222222222222222,\"#7201a8\"],[0.3333333333333333,\"#9c179e\"],[0.4444444444444444,\"#bd3786\"],[0.5555555555555556,\"#d8576b\"],[0.6666666666666666,\"#ed7953\"],[0.7777777777777778,\"#fb9f3a\"],[0.8888888888888888,\"#fdca26\"],[1.0,\"#f0f921\"]]}],\"mesh3d\":[{\"type\":\"mesh3d\",\"colorbar\":{\"outlinewidth\":0,\"ticks\":\"\"}}],\"scatter\":[{\"fillpattern\":{\"fillmode\":\"overlay\",\"size\":10,\"solidity\":0.2},\"type\":\"scatter\"}],\"parcoords\":[{\"type\":\"parcoords\",\"line\":{\"colorbar\":{\"outlinewidth\":0,\"ticks\":\"\"}}}],\"scatterpolargl\":[{\"type\":\"scatterpolargl\",\"marker\":{\"colorbar\":{\"outlinewidth\":0,\"ticks\":\"\"}}}],\"bar\":[{\"error_x\":{\"color\":\"#2a3f5f\"},\"error_y\":{\"color\":\"#2a3f5f\"},\"marker\":{\"line\":{\"color\":\"#E5ECF6\",\"width\":0.5},\"pattern\":{\"fillmode\":\"overlay\",\"size\":10,\"solidity\":0.2}},\"type\":\"bar\"}],\"scattergeo\":[{\"type\":\"scattergeo\",\"marker\":{\"colorbar\":{\"outlinewidth\":0,\"ticks\":\"\"}}}],\"scatterpolar\":[{\"type\":\"scatterpolar\",\"marker\":{\"colorbar\":{\"outlinewidth\":0,\"ticks\":\"\"}}}],\"histogram\":[{\"marker\":{\"pattern\":{\"fillmode\":\"overlay\",\"size\":10,\"solidity\":0.2}},\"type\":\"histogram\"}],\"scattergl\":[{\"type\":\"scattergl\",\"marker\":{\"colorbar\":{\"outlinewidth\":0,\"ticks\":\"\"}}}],\"scatter3d\":[{\"type\":\"scatter3d\",\"line\":{\"colorbar\":{\"outlinewidth\":0,\"ticks\":\"\"}},\"marker\":{\"colorbar\":{\"outlinewidth\":0,\"ticks\":\"\"}}}],\"scattermapbox\":[{\"type\":\"scattermapbox\",\"marker\":{\"colorbar\":{\"outlinewidth\":0,\"ticks\":\"\"}}}],\"scatterternary\":[{\"type\":\"scatterternary\",\"marker\":{\"colorbar\":{\"outlinewidth\":0,\"ticks\":\"\"}}}],\"scattercarpet\":[{\"type\":\"scattercarpet\",\"marker\":{\"colorbar\":{\"outlinewidth\":0,\"ticks\":\"\"}}}],\"carpet\":[{\"aaxis\":{\"endlinecolor\":\"#2a3f5f\",\"gridcolor\":\"white\",\"linecolor\":\"white\",\"minorgridcolor\":\"white\",\"startlinecolor\":\"#2a3f5f\"},\"baxis\":{\"endlinecolor\":\"#2a3f5f\",\"gridcolor\":\"white\",\"linecolor\":\"white\",\"minorgridcolor\":\"white\",\"startlinecolor\":\"#2a3f5f\"},\"type\":\"carpet\"}],\"table\":[{\"cells\":{\"fill\":{\"color\":\"#EBF0F8\"},\"line\":{\"color\":\"white\"}},\"header\":{\"fill\":{\"color\":\"#C8D4E3\"},\"line\":{\"color\":\"white\"}},\"type\":\"table\"}],\"barpolar\":[{\"marker\":{\"line\":{\"color\":\"#E5ECF6\",\"width\":0.5},\"pattern\":{\"fillmode\":\"overlay\",\"size\":10,\"solidity\":0.2}},\"type\":\"barpolar\"}],\"pie\":[{\"automargin\":true,\"type\":\"pie\"}]},\"layout\":{\"autotypenumbers\":\"strict\",\"colorway\":[\"#636efa\",\"#EF553B\",\"#00cc96\",\"#ab63fa\",\"#FFA15A\",\"#19d3f3\",\"#FF6692\",\"#B6E880\",\"#FF97FF\",\"#FECB52\"],\"font\":{\"color\":\"#2a3f5f\"},\"hovermode\":\"closest\",\"hoverlabel\":{\"align\":\"left\"},\"paper_bgcolor\":\"white\",\"plot_bgcolor\":\"#E5ECF6\",\"polar\":{\"bgcolor\":\"#E5ECF6\",\"angularaxis\":{\"gridcolor\":\"white\",\"linecolor\":\"white\",\"ticks\":\"\"},\"radialaxis\":{\"gridcolor\":\"white\",\"linecolor\":\"white\",\"ticks\":\"\"}},\"ternary\":{\"bgcolor\":\"#E5ECF6\",\"aaxis\":{\"gridcolor\":\"white\",\"linecolor\":\"white\",\"ticks\":\"\"},\"baxis\":{\"gridcolor\":\"white\",\"linecolor\":\"white\",\"ticks\":\"\"},\"caxis\":{\"gridcolor\":\"white\",\"linecolor\":\"white\",\"ticks\":\"\"}},\"coloraxis\":{\"colorbar\":{\"outlinewidth\":0,\"ticks\":\"\"}},\"colorscale\":{\"sequential\":[[0.0,\"#0d0887\"],[0.1111111111111111,\"#46039f\"],[0.2222222222222222,\"#7201a8\"],[0.3333333333333333,\"#9c179e\"],[0.4444444444444444,\"#bd3786\"],[0.5555555555555556,\"#d8576b\"],[0.6666666666666666,\"#ed7953\"],[0.7777777777777778,\"#fb9f3a\"],[0.8888888888888888,\"#fdca26\"],[1.0,\"#f0f921\"]],\"sequentialminus\":[[0.0,\"#0d0887\"],[0.1111111111111111,\"#46039f\"],[0.2222222222222222,\"#7201a8\"],[0.3333333333333333,\"#9c179e\"],[0.4444444444444444,\"#bd3786\"],[0.5555555555555556,\"#d8576b\"],[0.6666666666666666,\"#ed7953\"],[0.7777777777777778,\"#fb9f3a\"],[0.8888888888888888,\"#fdca26\"],[1.0,\"#f0f921\"]],\"diverging\":[[0,\"#8e0152\"],[0.1,\"#c51b7d\"],[0.2,\"#de77ae\"],[0.3,\"#f1b6da\"],[0.4,\"#fde0ef\"],[0.5,\"#f7f7f7\"],[0.6,\"#e6f5d0\"],[0.7,\"#b8e186\"],[0.8,\"#7fbc41\"],[0.9,\"#4d9221\"],[1,\"#276419\"]]},\"xaxis\":{\"gridcolor\":\"white\",\"linecolor\":\"white\",\"ticks\":\"\",\"title\":{\"standoff\":15},\"zerolinecolor\":\"white\",\"automargin\":true,\"zerolinewidth\":2},\"yaxis\":{\"gridcolor\":\"white\",\"linecolor\":\"white\",\"ticks\":\"\",\"title\":{\"standoff\":15},\"zerolinecolor\":\"white\",\"automargin\":true,\"zerolinewidth\":2},\"scene\":{\"xaxis\":{\"backgroundcolor\":\"#E5ECF6\",\"gridcolor\":\"white\",\"linecolor\":\"white\",\"showbackground\":true,\"ticks\":\"\",\"zerolinecolor\":\"white\",\"gridwidth\":2},\"yaxis\":{\"backgroundcolor\":\"#E5ECF6\",\"gridcolor\":\"white\",\"linecolor\":\"white\",\"showbackground\":true,\"ticks\":\"\",\"zerolinecolor\":\"white\",\"gridwidth\":2},\"zaxis\":{\"backgroundcolor\":\"#E5ECF6\",\"gridcolor\":\"white\",\"linecolor\":\"white\",\"showbackground\":true,\"ticks\":\"\",\"zerolinecolor\":\"white\",\"gridwidth\":2}},\"shapedefaults\":{\"line\":{\"color\":\"#2a3f5f\"}},\"annotationdefaults\":{\"arrowcolor\":\"#2a3f5f\",\"arrowhead\":0,\"arrowwidth\":1},\"geo\":{\"bgcolor\":\"white\",\"landcolor\":\"#E5ECF6\",\"subunitcolor\":\"white\",\"showland\":true,\"showlakes\":true,\"lakecolor\":\"white\"},\"title\":{\"x\":0.05},\"mapbox\":{\"style\":\"light\"}}},\"xaxis\":{\"anchor\":\"y\",\"domain\":[0.0,0.45]},\"yaxis\":{\"anchor\":\"x\",\"domain\":[0.848,1.0]},\"xaxis2\":{\"anchor\":\"y2\",\"domain\":[0.55,1.0]},\"yaxis2\":{\"anchor\":\"x2\",\"domain\":[0.848,1.0]},\"xaxis3\":{\"anchor\":\"y3\",\"domain\":[0.0,0.45]},\"yaxis3\":{\"anchor\":\"x3\",\"domain\":[0.6359999999999999,0.7879999999999999]},\"xaxis4\":{\"anchor\":\"y4\",\"domain\":[0.55,1.0]},\"yaxis4\":{\"anchor\":\"x4\",\"domain\":[0.6359999999999999,0.7879999999999999]},\"xaxis5\":{\"anchor\":\"y5\",\"domain\":[0.0,0.45]},\"yaxis5\":{\"anchor\":\"x5\",\"domain\":[0.424,0.576]},\"xaxis6\":{\"anchor\":\"y6\",\"domain\":[0.55,1.0]},\"yaxis6\":{\"anchor\":\"x6\",\"domain\":[0.424,0.576]},\"xaxis7\":{\"anchor\":\"y7\",\"domain\":[0.0,0.45]},\"yaxis7\":{\"anchor\":\"x7\",\"domain\":[0.212,0.364]},\"xaxis8\":{\"anchor\":\"y8\",\"domain\":[0.55,1.0]},\"yaxis8\":{\"anchor\":\"x8\",\"domain\":[0.212,0.364]},\"xaxis9\":{\"anchor\":\"y9\",\"domain\":[0.0,0.45]},\"yaxis9\":{\"anchor\":\"x9\",\"domain\":[0.0,0.152]},\"xaxis10\":{\"anchor\":\"y10\",\"domain\":[0.55,1.0]},\"yaxis10\":{\"anchor\":\"x10\",\"domain\":[0.0,0.152]}},                        {\"responsive\": true}                    ).then(function(){\n",
       "                            \n",
       "var gd = document.getElementById('d2d2b1df-c5c4-433e-9e57-43f75b807c58');\n",
       "var x = new MutationObserver(function (mutations, observer) {{\n",
       "        var display = window.getComputedStyle(gd).display;\n",
       "        if (!display || display === 'none') {{\n",
       "            console.log([gd, 'removed!']);\n",
       "            Plotly.purge(gd);\n",
       "            observer.disconnect();\n",
       "        }}\n",
       "}});\n",
       "\n",
       "// Listen for the removal of the full notebook cells\n",
       "var notebookContainer = gd.closest('#notebook-container');\n",
       "if (notebookContainer) {{\n",
       "    x.observe(notebookContainer, {childList: true});\n",
       "}}\n",
       "\n",
       "// Listen for the clearing of the current output cell\n",
       "var outputEl = gd.closest('.output');\n",
       "if (outputEl) {{\n",
       "    x.observe(outputEl, {childList: true});\n",
       "}}\n",
       "\n",
       "                        })                };                });            </script>        </div>"
      ]
     },
     "metadata": {},
     "output_type": "display_data"
    }
   ],
   "source": [
    "l = [[0, 0], [0, 1], [1, 0], [1, 1], [2, 0], [2, 1], [3, 0], [3, 1], [4, 0], [4, 1]]\n",
    "fig = make_subplots(rows=5, cols=2, shared_yaxes=False)\n",
    "\n",
    "for (i, j), col in zip(l, df):\n",
    "    fig.add_trace(go.Histogram(x=df[col], histfunc='avg', name=col, nbinsx=20)\n",
    "                  , row=i+1, col=j+1)\n",
    "\n",
    "fig.show()"
   ]
  },
  {
   "cell_type": "code",
   "execution_count": 23,
   "id": "e040a9da",
   "metadata": {
    "execution": {
     "iopub.execute_input": "2022-08-18T19:03:57.817494Z",
     "iopub.status.busy": "2022-08-18T19:03:57.817075Z",
     "iopub.status.idle": "2022-08-18T19:03:57.891833Z",
     "shell.execute_reply": "2022-08-18T19:03:57.890920Z"
    },
    "papermill": {
     "duration": 0.100992,
     "end_time": "2022-08-18T19:03:57.894403",
     "exception": false,
     "start_time": "2022-08-18T19:03:57.793411",
     "status": "completed"
    },
    "tags": []
   },
   "outputs": [
    {
     "data": {
      "text/html": [
       "<div>                            <div id=\"7f73aa63-f6df-4c36-aede-4ba994ff058c\" class=\"plotly-graph-div\" style=\"height:525px; width:100%;\"></div>            <script type=\"text/javascript\">                require([\"plotly\"], function(Plotly) {                    window.PLOTLYENV=window.PLOTLYENV || {};                                    if (document.getElementById(\"7f73aa63-f6df-4c36-aede-4ba994ff058c\")) {                    Plotly.newPlot(                        \"7f73aa63-f6df-4c36-aede-4ba994ff058c\",                        [{\"coloraxis\":\"coloraxis\",\"name\":\"0\",\"x\":[\"winery\",\"wine\",\"year\",\"rating\",\"num_reviews\",\"region\",\"price\",\"type\",\"body\",\"acidity\"],\"y\":[\"winery\",\"wine\",\"year\",\"rating\",\"num_reviews\",\"region\",\"price\",\"type\",\"body\",\"acidity\"],\"z\":[[1.0,0.08606074893362209,-0.15159652645278146,0.06423334292922013,-0.016821874593108604,0.029435595472749477,0.10178163804348968,-0.034997775705363915,0.042177851854495095,0.024583066039777425],[0.08606074893362209,1.0,-0.015557863017389513,0.036674554037962284,0.11544433496907316,0.11211748895340495,0.11307366276357808,0.14450031554279996,0.1247481188644413,0.014462396053931575],[-0.15159652645278146,-0.015557863017389513,1.0,-0.1984136158320246,0.05745905673960383,-0.06623383234220433,-0.443526593342647,0.007368967918045459,-0.07414146761130012,0.3198454221437568],[0.06423334292922013,0.036674554037962284,-0.1984136158320246,1.0,-0.12261771722428151,0.049987418747975056,0.5387845244023822,0.06702924411667933,0.17285883310639177,-0.14044021841135934],[-0.016821874593108604,0.11544433496907316,0.05745905673960383,-0.12261771722428151,1.0,0.08262484432515572,-0.025900699640216473,0.04419385827265017,0.11270556397731778,0.0801491064262268],[0.029435595472749477,0.11211748895340495,-0.06623383234220433,0.049987418747975056,0.08262484432515572,1.0,0.12661546101632787,0.279459954876637,0.25558234294138976,0.024338840817216992],[0.10178163804348968,0.11307366276357808,-0.443526593342647,0.5387845244023822,-0.025900699640216473,0.12661546101632787,1.0,0.05811897744328107,0.15309292777796896,-0.12619048022026416],[-0.034997775705363915,0.14450031554279996,0.007368967918045459,0.06702924411667933,0.04419385827265017,0.279459954876637,0.05811897744328107,1.0,0.12062954939840509,-0.12766367458597083],[0.042177851854495095,0.1247481188644413,-0.07414146761130012,0.17285883310639177,0.11270556397731778,0.25558234294138976,0.15309292777796896,0.12062954939840509,1.0,-0.10998924838968056],[0.024583066039777425,0.014462396053931575,0.3198454221437568,-0.14044021841135934,0.0801491064262268,0.024338840817216992,-0.12619048022026416,-0.12766367458597083,-0.10998924838968056,1.0]],\"type\":\"heatmap\",\"xaxis\":\"x\",\"yaxis\":\"y\",\"hovertemplate\":\"x: %{x}<br>y: %{y}<br>color: %{z}<extra></extra>\",\"text\":[[1.0,0.09,-0.15,0.06,-0.02,0.03,0.1,-0.03,0.04,0.02],[0.09,1.0,-0.02,0.04,0.12,0.11,0.11,0.14,0.12,0.01],[-0.15,-0.02,1.0,-0.2,0.06,-0.07,-0.44,0.01,-0.07,0.32],[0.06,0.04,-0.2,1.0,-0.12,0.05,0.54,0.07,0.17,-0.14],[-0.02,0.12,0.06,-0.12,1.0,0.08,-0.03,0.04,0.11,0.08],[0.03,0.11,-0.07,0.05,0.08,1.0,0.13,0.28,0.26,0.02],[0.1,0.11,-0.44,0.54,-0.03,0.13,1.0,0.06,0.15,-0.13],[-0.03,0.14,0.01,0.07,0.04,0.28,0.06,1.0,0.12,-0.13],[0.04,0.12,-0.07,0.17,0.11,0.26,0.15,0.12,1.0,-0.11],[0.02,0.01,0.32,-0.14,0.08,0.02,-0.13,-0.13,-0.11,1.0]],\"texttemplate\":\"%{text}\"}],                        {\"template\":{\"data\":{\"histogram2dcontour\":[{\"type\":\"histogram2dcontour\",\"colorbar\":{\"outlinewidth\":0,\"ticks\":\"\"},\"colorscale\":[[0.0,\"#0d0887\"],[0.1111111111111111,\"#46039f\"],[0.2222222222222222,\"#7201a8\"],[0.3333333333333333,\"#9c179e\"],[0.4444444444444444,\"#bd3786\"],[0.5555555555555556,\"#d8576b\"],[0.6666666666666666,\"#ed7953\"],[0.7777777777777778,\"#fb9f3a\"],[0.8888888888888888,\"#fdca26\"],[1.0,\"#f0f921\"]]}],\"choropleth\":[{\"type\":\"choropleth\",\"colorbar\":{\"outlinewidth\":0,\"ticks\":\"\"}}],\"histogram2d\":[{\"type\":\"histogram2d\",\"colorbar\":{\"outlinewidth\":0,\"ticks\":\"\"},\"colorscale\":[[0.0,\"#0d0887\"],[0.1111111111111111,\"#46039f\"],[0.2222222222222222,\"#7201a8\"],[0.3333333333333333,\"#9c179e\"],[0.4444444444444444,\"#bd3786\"],[0.5555555555555556,\"#d8576b\"],[0.6666666666666666,\"#ed7953\"],[0.7777777777777778,\"#fb9f3a\"],[0.8888888888888888,\"#fdca26\"],[1.0,\"#f0f921\"]]}],\"heatmap\":[{\"type\":\"heatmap\",\"colorbar\":{\"outlinewidth\":0,\"ticks\":\"\"},\"colorscale\":[[0.0,\"#0d0887\"],[0.1111111111111111,\"#46039f\"],[0.2222222222222222,\"#7201a8\"],[0.3333333333333333,\"#9c179e\"],[0.4444444444444444,\"#bd3786\"],[0.5555555555555556,\"#d8576b\"],[0.6666666666666666,\"#ed7953\"],[0.7777777777777778,\"#fb9f3a\"],[0.8888888888888888,\"#fdca26\"],[1.0,\"#f0f921\"]]}],\"heatmapgl\":[{\"type\":\"heatmapgl\",\"colorbar\":{\"outlinewidth\":0,\"ticks\":\"\"},\"colorscale\":[[0.0,\"#0d0887\"],[0.1111111111111111,\"#46039f\"],[0.2222222222222222,\"#7201a8\"],[0.3333333333333333,\"#9c179e\"],[0.4444444444444444,\"#bd3786\"],[0.5555555555555556,\"#d8576b\"],[0.6666666666666666,\"#ed7953\"],[0.7777777777777778,\"#fb9f3a\"],[0.8888888888888888,\"#fdca26\"],[1.0,\"#f0f921\"]]}],\"contourcarpet\":[{\"type\":\"contourcarpet\",\"colorbar\":{\"outlinewidth\":0,\"ticks\":\"\"}}],\"contour\":[{\"type\":\"contour\",\"colorbar\":{\"outlinewidth\":0,\"ticks\":\"\"},\"colorscale\":[[0.0,\"#0d0887\"],[0.1111111111111111,\"#46039f\"],[0.2222222222222222,\"#7201a8\"],[0.3333333333333333,\"#9c179e\"],[0.4444444444444444,\"#bd3786\"],[0.5555555555555556,\"#d8576b\"],[0.6666666666666666,\"#ed7953\"],[0.7777777777777778,\"#fb9f3a\"],[0.8888888888888888,\"#fdca26\"],[1.0,\"#f0f921\"]]}],\"surface\":[{\"type\":\"surface\",\"colorbar\":{\"outlinewidth\":0,\"ticks\":\"\"},\"colorscale\":[[0.0,\"#0d0887\"],[0.1111111111111111,\"#46039f\"],[0.2222222222222222,\"#7201a8\"],[0.3333333333333333,\"#9c179e\"],[0.4444444444444444,\"#bd3786\"],[0.5555555555555556,\"#d8576b\"],[0.6666666666666666,\"#ed7953\"],[0.7777777777777778,\"#fb9f3a\"],[0.8888888888888888,\"#fdca26\"],[1.0,\"#f0f921\"]]}],\"mesh3d\":[{\"type\":\"mesh3d\",\"colorbar\":{\"outlinewidth\":0,\"ticks\":\"\"}}],\"scatter\":[{\"fillpattern\":{\"fillmode\":\"overlay\",\"size\":10,\"solidity\":0.2},\"type\":\"scatter\"}],\"parcoords\":[{\"type\":\"parcoords\",\"line\":{\"colorbar\":{\"outlinewidth\":0,\"ticks\":\"\"}}}],\"scatterpolargl\":[{\"type\":\"scatterpolargl\",\"marker\":{\"colorbar\":{\"outlinewidth\":0,\"ticks\":\"\"}}}],\"bar\":[{\"error_x\":{\"color\":\"#2a3f5f\"},\"error_y\":{\"color\":\"#2a3f5f\"},\"marker\":{\"line\":{\"color\":\"#E5ECF6\",\"width\":0.5},\"pattern\":{\"fillmode\":\"overlay\",\"size\":10,\"solidity\":0.2}},\"type\":\"bar\"}],\"scattergeo\":[{\"type\":\"scattergeo\",\"marker\":{\"colorbar\":{\"outlinewidth\":0,\"ticks\":\"\"}}}],\"scatterpolar\":[{\"type\":\"scatterpolar\",\"marker\":{\"colorbar\":{\"outlinewidth\":0,\"ticks\":\"\"}}}],\"histogram\":[{\"marker\":{\"pattern\":{\"fillmode\":\"overlay\",\"size\":10,\"solidity\":0.2}},\"type\":\"histogram\"}],\"scattergl\":[{\"type\":\"scattergl\",\"marker\":{\"colorbar\":{\"outlinewidth\":0,\"ticks\":\"\"}}}],\"scatter3d\":[{\"type\":\"scatter3d\",\"line\":{\"colorbar\":{\"outlinewidth\":0,\"ticks\":\"\"}},\"marker\":{\"colorbar\":{\"outlinewidth\":0,\"ticks\":\"\"}}}],\"scattermapbox\":[{\"type\":\"scattermapbox\",\"marker\":{\"colorbar\":{\"outlinewidth\":0,\"ticks\":\"\"}}}],\"scatterternary\":[{\"type\":\"scatterternary\",\"marker\":{\"colorbar\":{\"outlinewidth\":0,\"ticks\":\"\"}}}],\"scattercarpet\":[{\"type\":\"scattercarpet\",\"marker\":{\"colorbar\":{\"outlinewidth\":0,\"ticks\":\"\"}}}],\"carpet\":[{\"aaxis\":{\"endlinecolor\":\"#2a3f5f\",\"gridcolor\":\"white\",\"linecolor\":\"white\",\"minorgridcolor\":\"white\",\"startlinecolor\":\"#2a3f5f\"},\"baxis\":{\"endlinecolor\":\"#2a3f5f\",\"gridcolor\":\"white\",\"linecolor\":\"white\",\"minorgridcolor\":\"white\",\"startlinecolor\":\"#2a3f5f\"},\"type\":\"carpet\"}],\"table\":[{\"cells\":{\"fill\":{\"color\":\"#EBF0F8\"},\"line\":{\"color\":\"white\"}},\"header\":{\"fill\":{\"color\":\"#C8D4E3\"},\"line\":{\"color\":\"white\"}},\"type\":\"table\"}],\"barpolar\":[{\"marker\":{\"line\":{\"color\":\"#E5ECF6\",\"width\":0.5},\"pattern\":{\"fillmode\":\"overlay\",\"size\":10,\"solidity\":0.2}},\"type\":\"barpolar\"}],\"pie\":[{\"automargin\":true,\"type\":\"pie\"}]},\"layout\":{\"autotypenumbers\":\"strict\",\"colorway\":[\"#636efa\",\"#EF553B\",\"#00cc96\",\"#ab63fa\",\"#FFA15A\",\"#19d3f3\",\"#FF6692\",\"#B6E880\",\"#FF97FF\",\"#FECB52\"],\"font\":{\"color\":\"#2a3f5f\"},\"hovermode\":\"closest\",\"hoverlabel\":{\"align\":\"left\"},\"paper_bgcolor\":\"white\",\"plot_bgcolor\":\"#E5ECF6\",\"polar\":{\"bgcolor\":\"#E5ECF6\",\"angularaxis\":{\"gridcolor\":\"white\",\"linecolor\":\"white\",\"ticks\":\"\"},\"radialaxis\":{\"gridcolor\":\"white\",\"linecolor\":\"white\",\"ticks\":\"\"}},\"ternary\":{\"bgcolor\":\"#E5ECF6\",\"aaxis\":{\"gridcolor\":\"white\",\"linecolor\":\"white\",\"ticks\":\"\"},\"baxis\":{\"gridcolor\":\"white\",\"linecolor\":\"white\",\"ticks\":\"\"},\"caxis\":{\"gridcolor\":\"white\",\"linecolor\":\"white\",\"ticks\":\"\"}},\"coloraxis\":{\"colorbar\":{\"outlinewidth\":0,\"ticks\":\"\"}},\"colorscale\":{\"sequential\":[[0.0,\"#0d0887\"],[0.1111111111111111,\"#46039f\"],[0.2222222222222222,\"#7201a8\"],[0.3333333333333333,\"#9c179e\"],[0.4444444444444444,\"#bd3786\"],[0.5555555555555556,\"#d8576b\"],[0.6666666666666666,\"#ed7953\"],[0.7777777777777778,\"#fb9f3a\"],[0.8888888888888888,\"#fdca26\"],[1.0,\"#f0f921\"]],\"sequentialminus\":[[0.0,\"#0d0887\"],[0.1111111111111111,\"#46039f\"],[0.2222222222222222,\"#7201a8\"],[0.3333333333333333,\"#9c179e\"],[0.4444444444444444,\"#bd3786\"],[0.5555555555555556,\"#d8576b\"],[0.6666666666666666,\"#ed7953\"],[0.7777777777777778,\"#fb9f3a\"],[0.8888888888888888,\"#fdca26\"],[1.0,\"#f0f921\"]],\"diverging\":[[0,\"#8e0152\"],[0.1,\"#c51b7d\"],[0.2,\"#de77ae\"],[0.3,\"#f1b6da\"],[0.4,\"#fde0ef\"],[0.5,\"#f7f7f7\"],[0.6,\"#e6f5d0\"],[0.7,\"#b8e186\"],[0.8,\"#7fbc41\"],[0.9,\"#4d9221\"],[1,\"#276419\"]]},\"xaxis\":{\"gridcolor\":\"white\",\"linecolor\":\"white\",\"ticks\":\"\",\"title\":{\"standoff\":15},\"zerolinecolor\":\"white\",\"automargin\":true,\"zerolinewidth\":2},\"yaxis\":{\"gridcolor\":\"white\",\"linecolor\":\"white\",\"ticks\":\"\",\"title\":{\"standoff\":15},\"zerolinecolor\":\"white\",\"automargin\":true,\"zerolinewidth\":2},\"scene\":{\"xaxis\":{\"backgroundcolor\":\"#E5ECF6\",\"gridcolor\":\"white\",\"linecolor\":\"white\",\"showbackground\":true,\"ticks\":\"\",\"zerolinecolor\":\"white\",\"gridwidth\":2},\"yaxis\":{\"backgroundcolor\":\"#E5ECF6\",\"gridcolor\":\"white\",\"linecolor\":\"white\",\"showbackground\":true,\"ticks\":\"\",\"zerolinecolor\":\"white\",\"gridwidth\":2},\"zaxis\":{\"backgroundcolor\":\"#E5ECF6\",\"gridcolor\":\"white\",\"linecolor\":\"white\",\"showbackground\":true,\"ticks\":\"\",\"zerolinecolor\":\"white\",\"gridwidth\":2}},\"shapedefaults\":{\"line\":{\"color\":\"#2a3f5f\"}},\"annotationdefaults\":{\"arrowcolor\":\"#2a3f5f\",\"arrowhead\":0,\"arrowwidth\":1},\"geo\":{\"bgcolor\":\"white\",\"landcolor\":\"#E5ECF6\",\"subunitcolor\":\"white\",\"showland\":true,\"showlakes\":true,\"lakecolor\":\"white\"},\"title\":{\"x\":0.05},\"mapbox\":{\"style\":\"light\"}}},\"xaxis\":{\"anchor\":\"y\",\"domain\":[0.0,1.0],\"scaleanchor\":\"y\",\"constrain\":\"domain\"},\"yaxis\":{\"anchor\":\"x\",\"domain\":[0.0,1.0],\"autorange\":\"reversed\",\"constrain\":\"domain\"},\"coloraxis\":{\"colorscale\":[[0.0,\"rgb(0,0,0)\"],[0.3333333333333333,\"rgb(230,0,0)\"],[0.6666666666666666,\"rgb(255,210,0)\"],[1.0,\"rgb(255,255,255)\"]],\"cmin\":-1,\"cmax\":1},\"margin\":{\"t\":60}},                        {\"responsive\": true}                    ).then(function(){\n",
       "                            \n",
       "var gd = document.getElementById('7f73aa63-f6df-4c36-aede-4ba994ff058c');\n",
       "var x = new MutationObserver(function (mutations, observer) {{\n",
       "        var display = window.getComputedStyle(gd).display;\n",
       "        if (!display || display === 'none') {{\n",
       "            console.log([gd, 'removed!']);\n",
       "            Plotly.purge(gd);\n",
       "            observer.disconnect();\n",
       "        }}\n",
       "}});\n",
       "\n",
       "// Listen for the removal of the full notebook cells\n",
       "var notebookContainer = gd.closest('#notebook-container');\n",
       "if (notebookContainer) {{\n",
       "    x.observe(notebookContainer, {childList: true});\n",
       "}}\n",
       "\n",
       "// Listen for the clearing of the current output cell\n",
       "var outputEl = gd.closest('.output');\n",
       "if (outputEl) {{\n",
       "    x.observe(outputEl, {childList: true});\n",
       "}}\n",
       "\n",
       "                        })                };                });            </script>        </div>"
      ]
     },
     "metadata": {},
     "output_type": "display_data"
    }
   ],
   "source": [
    "corr = df.corr()\n",
    "fig = px.imshow(corr, color_continuous_scale='hot',\n",
    "                zmin=-1, zmax=1,)\n",
    "\n",
    "fig.update_traces(text=corr.round(2), texttemplate=\"%{text}\")"
   ]
  },
  {
   "cell_type": "markdown",
   "id": "d16091af",
   "metadata": {
    "papermill": {
     "duration": 0.022714,
     "end_time": "2022-08-18T19:03:57.939862",
     "exception": false,
     "start_time": "2022-08-18T19:03:57.917148",
     "status": "completed"
    },
    "tags": []
   },
   "source": [
    "### Bivariate Analysis"
   ]
  },
  {
   "cell_type": "code",
   "execution_count": 24,
   "id": "9ac675f5",
   "metadata": {
    "execution": {
     "iopub.execute_input": "2022-08-18T19:03:57.987801Z",
     "iopub.status.busy": "2022-08-18T19:03:57.987004Z",
     "iopub.status.idle": "2022-08-18T19:03:58.139196Z",
     "shell.execute_reply": "2022-08-18T19:03:58.138326Z"
    },
    "papermill": {
     "duration": 0.179257,
     "end_time": "2022-08-18T19:03:58.141589",
     "exception": false,
     "start_time": "2022-08-18T19:03:57.962332",
     "status": "completed"
    },
    "tags": []
   },
   "outputs": [
    {
     "data": {
      "text/html": [
       "<div>                            <div id=\"fe298204-436a-47ad-a51a-3af76067d6d8\" class=\"plotly-graph-div\" style=\"height:525px; width:100%;\"></div>            <script type=\"text/javascript\">                require([\"plotly\"], function(Plotly) {                    window.PLOTLYENV=window.PLOTLYENV || {};                                    if (document.getElementById(\"fe298204-436a-47ad-a51a-3af76067d6d8\")) {                    Plotly.newPlot(                        \"fe298204-436a-47ad-a51a-3af76067d6d8\",                        [{\"hovertemplate\":\"variable=rating<br>year=%{x}<br>value=%{y}<extra></extra>\",\"legendgroup\":\"rating\",\"line\":{\"color\":\"#636efa\",\"dash\":\"solid\"},\"marker\":{\"symbol\":\"circle\"},\"mode\":\"lines\",\"name\":\"rating\",\"orientation\":\"v\",\"showlegend\":true,\"x\":[1910.0,1922.0,1925.0,1928.0,1929.0,1931.0,1942.0,1946.0,1949.0,1951.0,1954.0,1955.0,1958.0,1959.0,1962.0,1964.0,1965.0,1968.0,1970.0,1972.0,1973.0,1975.0,1976.0,1978.0,1979.0,1980.0,1981.0,1982.0,1983.0,1985.0,1986.0,1987.0,1988.0,1989.0,1990.0,1991.0,1992.0,1994.0,1995.0,1996.0,1997.0,1998.0,1999.0,2000.0,2001.0,2002.0,2003.0,2004.0,2005.0,2006.0,2007.0,2008.0,2009.0,2010.0,2011.0,2012.0,2013.0,2013.495839112344,2014.0,2015.0,2016.0,2017.0,2018.0,2019.0,2020.0,2021.0],\"xaxis\":\"x\",\"y\":[4.6,4.4,4.3,4.5,4.8,4.8,4.7,4.8,4.5,4.5,4.6,4.7,4.7,4.3,4.6,4.316666666666666,4.6,4.425,4.325,4.7,4.45,4.55,4.5,4.4,4.6,4.6,4.366666666666666,4.416666666666667,4.65,4.459999999999999,4.55,4.62,4.4,4.433333333333334,4.4,4.533333333333334,4.6,4.358333333333333,4.42,4.488888888888889,4.3,4.433333333333334,4.457142857142857,4.4,4.447368421052632,4.416666666666667,4.43,4.443333333333333,4.419354838709677,4.426666666666667,4.44,4.388,4.395121951219512,4.404411764705882,4.39891304347826,4.375609756097561,4.404918032786885,4.3768115942028984,4.368211920529801,4.393877551020409,4.393013100436681,4.365948275862069,4.370744680851064,4.372972972972973,4.345714285714285,4.3],\"yaxis\":\"y\",\"type\":\"scatter\"}],                        {\"template\":{\"data\":{\"histogram2dcontour\":[{\"type\":\"histogram2dcontour\",\"colorbar\":{\"outlinewidth\":0,\"ticks\":\"\"},\"colorscale\":[[0.0,\"#0d0887\"],[0.1111111111111111,\"#46039f\"],[0.2222222222222222,\"#7201a8\"],[0.3333333333333333,\"#9c179e\"],[0.4444444444444444,\"#bd3786\"],[0.5555555555555556,\"#d8576b\"],[0.6666666666666666,\"#ed7953\"],[0.7777777777777778,\"#fb9f3a\"],[0.8888888888888888,\"#fdca26\"],[1.0,\"#f0f921\"]]}],\"choropleth\":[{\"type\":\"choropleth\",\"colorbar\":{\"outlinewidth\":0,\"ticks\":\"\"}}],\"histogram2d\":[{\"type\":\"histogram2d\",\"colorbar\":{\"outlinewidth\":0,\"ticks\":\"\"},\"colorscale\":[[0.0,\"#0d0887\"],[0.1111111111111111,\"#46039f\"],[0.2222222222222222,\"#7201a8\"],[0.3333333333333333,\"#9c179e\"],[0.4444444444444444,\"#bd3786\"],[0.5555555555555556,\"#d8576b\"],[0.6666666666666666,\"#ed7953\"],[0.7777777777777778,\"#fb9f3a\"],[0.8888888888888888,\"#fdca26\"],[1.0,\"#f0f921\"]]}],\"heatmap\":[{\"type\":\"heatmap\",\"colorbar\":{\"outlinewidth\":0,\"ticks\":\"\"},\"colorscale\":[[0.0,\"#0d0887\"],[0.1111111111111111,\"#46039f\"],[0.2222222222222222,\"#7201a8\"],[0.3333333333333333,\"#9c179e\"],[0.4444444444444444,\"#bd3786\"],[0.5555555555555556,\"#d8576b\"],[0.6666666666666666,\"#ed7953\"],[0.7777777777777778,\"#fb9f3a\"],[0.8888888888888888,\"#fdca26\"],[1.0,\"#f0f921\"]]}],\"heatmapgl\":[{\"type\":\"heatmapgl\",\"colorbar\":{\"outlinewidth\":0,\"ticks\":\"\"},\"colorscale\":[[0.0,\"#0d0887\"],[0.1111111111111111,\"#46039f\"],[0.2222222222222222,\"#7201a8\"],[0.3333333333333333,\"#9c179e\"],[0.4444444444444444,\"#bd3786\"],[0.5555555555555556,\"#d8576b\"],[0.6666666666666666,\"#ed7953\"],[0.7777777777777778,\"#fb9f3a\"],[0.8888888888888888,\"#fdca26\"],[1.0,\"#f0f921\"]]}],\"contourcarpet\":[{\"type\":\"contourcarpet\",\"colorbar\":{\"outlinewidth\":0,\"ticks\":\"\"}}],\"contour\":[{\"type\":\"contour\",\"colorbar\":{\"outlinewidth\":0,\"ticks\":\"\"},\"colorscale\":[[0.0,\"#0d0887\"],[0.1111111111111111,\"#46039f\"],[0.2222222222222222,\"#7201a8\"],[0.3333333333333333,\"#9c179e\"],[0.4444444444444444,\"#bd3786\"],[0.5555555555555556,\"#d8576b\"],[0.6666666666666666,\"#ed7953\"],[0.7777777777777778,\"#fb9f3a\"],[0.8888888888888888,\"#fdca26\"],[1.0,\"#f0f921\"]]}],\"surface\":[{\"type\":\"surface\",\"colorbar\":{\"outlinewidth\":0,\"ticks\":\"\"},\"colorscale\":[[0.0,\"#0d0887\"],[0.1111111111111111,\"#46039f\"],[0.2222222222222222,\"#7201a8\"],[0.3333333333333333,\"#9c179e\"],[0.4444444444444444,\"#bd3786\"],[0.5555555555555556,\"#d8576b\"],[0.6666666666666666,\"#ed7953\"],[0.7777777777777778,\"#fb9f3a\"],[0.8888888888888888,\"#fdca26\"],[1.0,\"#f0f921\"]]}],\"mesh3d\":[{\"type\":\"mesh3d\",\"colorbar\":{\"outlinewidth\":0,\"ticks\":\"\"}}],\"scatter\":[{\"fillpattern\":{\"fillmode\":\"overlay\",\"size\":10,\"solidity\":0.2},\"type\":\"scatter\"}],\"parcoords\":[{\"type\":\"parcoords\",\"line\":{\"colorbar\":{\"outlinewidth\":0,\"ticks\":\"\"}}}],\"scatterpolargl\":[{\"type\":\"scatterpolargl\",\"marker\":{\"colorbar\":{\"outlinewidth\":0,\"ticks\":\"\"}}}],\"bar\":[{\"error_x\":{\"color\":\"#2a3f5f\"},\"error_y\":{\"color\":\"#2a3f5f\"},\"marker\":{\"line\":{\"color\":\"#E5ECF6\",\"width\":0.5},\"pattern\":{\"fillmode\":\"overlay\",\"size\":10,\"solidity\":0.2}},\"type\":\"bar\"}],\"scattergeo\":[{\"type\":\"scattergeo\",\"marker\":{\"colorbar\":{\"outlinewidth\":0,\"ticks\":\"\"}}}],\"scatterpolar\":[{\"type\":\"scatterpolar\",\"marker\":{\"colorbar\":{\"outlinewidth\":0,\"ticks\":\"\"}}}],\"histogram\":[{\"marker\":{\"pattern\":{\"fillmode\":\"overlay\",\"size\":10,\"solidity\":0.2}},\"type\":\"histogram\"}],\"scattergl\":[{\"type\":\"scattergl\",\"marker\":{\"colorbar\":{\"outlinewidth\":0,\"ticks\":\"\"}}}],\"scatter3d\":[{\"type\":\"scatter3d\",\"line\":{\"colorbar\":{\"outlinewidth\":0,\"ticks\":\"\"}},\"marker\":{\"colorbar\":{\"outlinewidth\":0,\"ticks\":\"\"}}}],\"scattermapbox\":[{\"type\":\"scattermapbox\",\"marker\":{\"colorbar\":{\"outlinewidth\":0,\"ticks\":\"\"}}}],\"scatterternary\":[{\"type\":\"scatterternary\",\"marker\":{\"colorbar\":{\"outlinewidth\":0,\"ticks\":\"\"}}}],\"scattercarpet\":[{\"type\":\"scattercarpet\",\"marker\":{\"colorbar\":{\"outlinewidth\":0,\"ticks\":\"\"}}}],\"carpet\":[{\"aaxis\":{\"endlinecolor\":\"#2a3f5f\",\"gridcolor\":\"white\",\"linecolor\":\"white\",\"minorgridcolor\":\"white\",\"startlinecolor\":\"#2a3f5f\"},\"baxis\":{\"endlinecolor\":\"#2a3f5f\",\"gridcolor\":\"white\",\"linecolor\":\"white\",\"minorgridcolor\":\"white\",\"startlinecolor\":\"#2a3f5f\"},\"type\":\"carpet\"}],\"table\":[{\"cells\":{\"fill\":{\"color\":\"#EBF0F8\"},\"line\":{\"color\":\"white\"}},\"header\":{\"fill\":{\"color\":\"#C8D4E3\"},\"line\":{\"color\":\"white\"}},\"type\":\"table\"}],\"barpolar\":[{\"marker\":{\"line\":{\"color\":\"#E5ECF6\",\"width\":0.5},\"pattern\":{\"fillmode\":\"overlay\",\"size\":10,\"solidity\":0.2}},\"type\":\"barpolar\"}],\"pie\":[{\"automargin\":true,\"type\":\"pie\"}]},\"layout\":{\"autotypenumbers\":\"strict\",\"colorway\":[\"#636efa\",\"#EF553B\",\"#00cc96\",\"#ab63fa\",\"#FFA15A\",\"#19d3f3\",\"#FF6692\",\"#B6E880\",\"#FF97FF\",\"#FECB52\"],\"font\":{\"color\":\"#2a3f5f\"},\"hovermode\":\"closest\",\"hoverlabel\":{\"align\":\"left\"},\"paper_bgcolor\":\"white\",\"plot_bgcolor\":\"#E5ECF6\",\"polar\":{\"bgcolor\":\"#E5ECF6\",\"angularaxis\":{\"gridcolor\":\"white\",\"linecolor\":\"white\",\"ticks\":\"\"},\"radialaxis\":{\"gridcolor\":\"white\",\"linecolor\":\"white\",\"ticks\":\"\"}},\"ternary\":{\"bgcolor\":\"#E5ECF6\",\"aaxis\":{\"gridcolor\":\"white\",\"linecolor\":\"white\",\"ticks\":\"\"},\"baxis\":{\"gridcolor\":\"white\",\"linecolor\":\"white\",\"ticks\":\"\"},\"caxis\":{\"gridcolor\":\"white\",\"linecolor\":\"white\",\"ticks\":\"\"}},\"coloraxis\":{\"colorbar\":{\"outlinewidth\":0,\"ticks\":\"\"}},\"colorscale\":{\"sequential\":[[0.0,\"#0d0887\"],[0.1111111111111111,\"#46039f\"],[0.2222222222222222,\"#7201a8\"],[0.3333333333333333,\"#9c179e\"],[0.4444444444444444,\"#bd3786\"],[0.5555555555555556,\"#d8576b\"],[0.6666666666666666,\"#ed7953\"],[0.7777777777777778,\"#fb9f3a\"],[0.8888888888888888,\"#fdca26\"],[1.0,\"#f0f921\"]],\"sequentialminus\":[[0.0,\"#0d0887\"],[0.1111111111111111,\"#46039f\"],[0.2222222222222222,\"#7201a8\"],[0.3333333333333333,\"#9c179e\"],[0.4444444444444444,\"#bd3786\"],[0.5555555555555556,\"#d8576b\"],[0.6666666666666666,\"#ed7953\"],[0.7777777777777778,\"#fb9f3a\"],[0.8888888888888888,\"#fdca26\"],[1.0,\"#f0f921\"]],\"diverging\":[[0,\"#8e0152\"],[0.1,\"#c51b7d\"],[0.2,\"#de77ae\"],[0.3,\"#f1b6da\"],[0.4,\"#fde0ef\"],[0.5,\"#f7f7f7\"],[0.6,\"#e6f5d0\"],[0.7,\"#b8e186\"],[0.8,\"#7fbc41\"],[0.9,\"#4d9221\"],[1,\"#276419\"]]},\"xaxis\":{\"gridcolor\":\"white\",\"linecolor\":\"white\",\"ticks\":\"\",\"title\":{\"standoff\":15},\"zerolinecolor\":\"white\",\"automargin\":true,\"zerolinewidth\":2},\"yaxis\":{\"gridcolor\":\"white\",\"linecolor\":\"white\",\"ticks\":\"\",\"title\":{\"standoff\":15},\"zerolinecolor\":\"white\",\"automargin\":true,\"zerolinewidth\":2},\"scene\":{\"xaxis\":{\"backgroundcolor\":\"#E5ECF6\",\"gridcolor\":\"white\",\"linecolor\":\"white\",\"showbackground\":true,\"ticks\":\"\",\"zerolinecolor\":\"white\",\"gridwidth\":2},\"yaxis\":{\"backgroundcolor\":\"#E5ECF6\",\"gridcolor\":\"white\",\"linecolor\":\"white\",\"showbackground\":true,\"ticks\":\"\",\"zerolinecolor\":\"white\",\"gridwidth\":2},\"zaxis\":{\"backgroundcolor\":\"#E5ECF6\",\"gridcolor\":\"white\",\"linecolor\":\"white\",\"showbackground\":true,\"ticks\":\"\",\"zerolinecolor\":\"white\",\"gridwidth\":2}},\"shapedefaults\":{\"line\":{\"color\":\"#2a3f5f\"}},\"annotationdefaults\":{\"arrowcolor\":\"#2a3f5f\",\"arrowhead\":0,\"arrowwidth\":1},\"geo\":{\"bgcolor\":\"white\",\"landcolor\":\"#E5ECF6\",\"subunitcolor\":\"white\",\"showland\":true,\"showlakes\":true,\"lakecolor\":\"white\"},\"title\":{\"x\":0.05},\"mapbox\":{\"style\":\"light\"}}},\"xaxis\":{\"anchor\":\"y\",\"domain\":[0.0,1.0],\"title\":{\"text\":\"Year\",\"font\":{\"color\":\"blue\",\"size\":20}}},\"yaxis\":{\"anchor\":\"x\",\"domain\":[0.0,1.0],\"title\":{\"text\":\"Rating\",\"font\":{\"color\":\"blue\",\"size\":20}}},\"legend\":{\"title\":{\"text\":\"variable\"},\"tracegroupgap\":0},\"title\":{\"text\":\"Rating of Wine from grapped different years\"},\"shapes\":[{\"line\":{\"color\":\"red\"},\"type\":\"line\",\"x0\":1910.0,\"x1\":2021.0,\"y0\":4.654370454061058,\"y1\":4.367656794220587}]},                        {\"responsive\": true}                    ).then(function(){\n",
       "                            \n",
       "var gd = document.getElementById('fe298204-436a-47ad-a51a-3af76067d6d8');\n",
       "var x = new MutationObserver(function (mutations, observer) {{\n",
       "        var display = window.getComputedStyle(gd).display;\n",
       "        if (!display || display === 'none') {{\n",
       "            console.log([gd, 'removed!']);\n",
       "            Plotly.purge(gd);\n",
       "            observer.disconnect();\n",
       "        }}\n",
       "}});\n",
       "\n",
       "// Listen for the removal of the full notebook cells\n",
       "var notebookContainer = gd.closest('#notebook-container');\n",
       "if (notebookContainer) {{\n",
       "    x.observe(notebookContainer, {childList: true});\n",
       "}}\n",
       "\n",
       "// Listen for the clearing of the current output cell\n",
       "var outputEl = gd.closest('.output');\n",
       "if (outputEl) {{\n",
       "    x.observe(outputEl, {childList: true});\n",
       "}}\n",
       "\n",
       "                        })                };                });            </script>        </div>"
      ]
     },
     "metadata": {},
     "output_type": "display_data"
    }
   ],
   "source": [
    "# detect trend_line\n",
    "def plot_trend_line(df:pd.DataFrame, fig):\n",
    "    X, y = df[['year']], df[['rating']]\n",
    "    X.insert(0, 'intercept', 1)\n",
    "\n",
    "    model = OLS(y, X)\n",
    "    results = model.fit()\n",
    "    intercept, coef = results.params.intercept, results.params.year\n",
    "\n",
    "    X = X.sort_values(by='year')\n",
    "    y = X['year'] * coef + intercept\n",
    "\n",
    "    fig.add_shape(type='line',\n",
    "                  x0=X['year'].iloc[0], y0=y.iloc[0],\n",
    "                  x1=X['year'].iloc[-1], y1=y.iloc[-1],\n",
    "                  line=dict(color='red'))\n",
    "\n",
    "fig = px.line(data_frame=df.groupby('year')['rating'].mean(), title='Rating of Wine from grapped different years')\n",
    "\n",
    "plot_trend_line(df, fig)\n",
    "\n",
    "\n",
    "fig.update_layout({'xaxis':{'title':{'text':'Year', 'font':{'color':'blue', 'size':20}}},\n",
    "                  'yaxis':{'title':{'text':'Rating', 'font':{'color':'blue', 'size':20}}}})"
   ]
  },
  {
   "cell_type": "markdown",
   "id": "2d70ac32",
   "metadata": {
    "papermill": {
     "duration": 0.021816,
     "end_time": "2022-08-18T19:03:58.185852",
     "exception": false,
     "start_time": "2022-08-18T19:03:58.164036",
     "status": "completed"
    },
    "tags": []
   },
   "source": [
    ">Insight:<br>\n",
    "Older Wine is more valuable than recent grapped ones"
   ]
  },
  {
   "cell_type": "code",
   "execution_count": 25,
   "id": "6bbe1e0b",
   "metadata": {
    "_kg_hide-input": false,
    "execution": {
     "iopub.execute_input": "2022-08-18T19:03:58.232978Z",
     "iopub.status.busy": "2022-08-18T19:03:58.232100Z",
     "iopub.status.idle": "2022-08-18T19:03:58.314822Z",
     "shell.execute_reply": "2022-08-18T19:03:58.313929Z"
    },
    "papermill": {
     "duration": 0.109008,
     "end_time": "2022-08-18T19:03:58.317233",
     "exception": false,
     "start_time": "2022-08-18T19:03:58.208225",
     "status": "completed"
    },
    "tags": []
   },
   "outputs": [
    {
     "data": {
      "text/html": [
       "<div>                            <div id=\"1df9add4-717d-4b3a-8ee1-e5ac59a89355\" class=\"plotly-graph-div\" style=\"height:525px; width:100%;\"></div>            <script type=\"text/javascript\">                require([\"plotly\"], function(Plotly) {                    window.PLOTLYENV=window.PLOTLYENV || {};                                    if (document.getElementById(\"1df9add4-717d-4b3a-8ee1-e5ac59a89355\")) {                    Plotly.newPlot(                        \"1df9add4-717d-4b3a-8ee1-e5ac59a89355\",                        [{\"hovertemplate\":\"variable=num_reviews<br>rating=%{x}<br>value=%{y}<extra></extra>\",\"legendgroup\":\"num_reviews\",\"line\":{\"color\":\"#ff0000\",\"dash\":\"solid\"},\"marker\":{\"symbol\":\"circle\"},\"mode\":\"lines+markers\",\"name\":\"num_reviews\",\"orientation\":\"v\",\"showlegend\":true,\"x\":[4.2,4.3,4.4,4.5,4.6,4.7,4.8,4.9],\"xaxis\":\"x\",\"y\":[1012.2030456852792,338.28242074927954,349.55696202531647,366.90671641791045,224.656050955414,565.4625,491.56,31.0],\"yaxis\":\"y\",\"type\":\"scatter\"}],                        {\"template\":{\"data\":{\"histogram2dcontour\":[{\"type\":\"histogram2dcontour\",\"colorbar\":{\"outlinewidth\":0,\"ticks\":\"\"},\"colorscale\":[[0.0,\"#0d0887\"],[0.1111111111111111,\"#46039f\"],[0.2222222222222222,\"#7201a8\"],[0.3333333333333333,\"#9c179e\"],[0.4444444444444444,\"#bd3786\"],[0.5555555555555556,\"#d8576b\"],[0.6666666666666666,\"#ed7953\"],[0.7777777777777778,\"#fb9f3a\"],[0.8888888888888888,\"#fdca26\"],[1.0,\"#f0f921\"]]}],\"choropleth\":[{\"type\":\"choropleth\",\"colorbar\":{\"outlinewidth\":0,\"ticks\":\"\"}}],\"histogram2d\":[{\"type\":\"histogram2d\",\"colorbar\":{\"outlinewidth\":0,\"ticks\":\"\"},\"colorscale\":[[0.0,\"#0d0887\"],[0.1111111111111111,\"#46039f\"],[0.2222222222222222,\"#7201a8\"],[0.3333333333333333,\"#9c179e\"],[0.4444444444444444,\"#bd3786\"],[0.5555555555555556,\"#d8576b\"],[0.6666666666666666,\"#ed7953\"],[0.7777777777777778,\"#fb9f3a\"],[0.8888888888888888,\"#fdca26\"],[1.0,\"#f0f921\"]]}],\"heatmap\":[{\"type\":\"heatmap\",\"colorbar\":{\"outlinewidth\":0,\"ticks\":\"\"},\"colorscale\":[[0.0,\"#0d0887\"],[0.1111111111111111,\"#46039f\"],[0.2222222222222222,\"#7201a8\"],[0.3333333333333333,\"#9c179e\"],[0.4444444444444444,\"#bd3786\"],[0.5555555555555556,\"#d8576b\"],[0.6666666666666666,\"#ed7953\"],[0.7777777777777778,\"#fb9f3a\"],[0.8888888888888888,\"#fdca26\"],[1.0,\"#f0f921\"]]}],\"heatmapgl\":[{\"type\":\"heatmapgl\",\"colorbar\":{\"outlinewidth\":0,\"ticks\":\"\"},\"colorscale\":[[0.0,\"#0d0887\"],[0.1111111111111111,\"#46039f\"],[0.2222222222222222,\"#7201a8\"],[0.3333333333333333,\"#9c179e\"],[0.4444444444444444,\"#bd3786\"],[0.5555555555555556,\"#d8576b\"],[0.6666666666666666,\"#ed7953\"],[0.7777777777777778,\"#fb9f3a\"],[0.8888888888888888,\"#fdca26\"],[1.0,\"#f0f921\"]]}],\"contourcarpet\":[{\"type\":\"contourcarpet\",\"colorbar\":{\"outlinewidth\":0,\"ticks\":\"\"}}],\"contour\":[{\"type\":\"contour\",\"colorbar\":{\"outlinewidth\":0,\"ticks\":\"\"},\"colorscale\":[[0.0,\"#0d0887\"],[0.1111111111111111,\"#46039f\"],[0.2222222222222222,\"#7201a8\"],[0.3333333333333333,\"#9c179e\"],[0.4444444444444444,\"#bd3786\"],[0.5555555555555556,\"#d8576b\"],[0.6666666666666666,\"#ed7953\"],[0.7777777777777778,\"#fb9f3a\"],[0.8888888888888888,\"#fdca26\"],[1.0,\"#f0f921\"]]}],\"surface\":[{\"type\":\"surface\",\"colorbar\":{\"outlinewidth\":0,\"ticks\":\"\"},\"colorscale\":[[0.0,\"#0d0887\"],[0.1111111111111111,\"#46039f\"],[0.2222222222222222,\"#7201a8\"],[0.3333333333333333,\"#9c179e\"],[0.4444444444444444,\"#bd3786\"],[0.5555555555555556,\"#d8576b\"],[0.6666666666666666,\"#ed7953\"],[0.7777777777777778,\"#fb9f3a\"],[0.8888888888888888,\"#fdca26\"],[1.0,\"#f0f921\"]]}],\"mesh3d\":[{\"type\":\"mesh3d\",\"colorbar\":{\"outlinewidth\":0,\"ticks\":\"\"}}],\"scatter\":[{\"fillpattern\":{\"fillmode\":\"overlay\",\"size\":10,\"solidity\":0.2},\"type\":\"scatter\"}],\"parcoords\":[{\"type\":\"parcoords\",\"line\":{\"colorbar\":{\"outlinewidth\":0,\"ticks\":\"\"}}}],\"scatterpolargl\":[{\"type\":\"scatterpolargl\",\"marker\":{\"colorbar\":{\"outlinewidth\":0,\"ticks\":\"\"}}}],\"bar\":[{\"error_x\":{\"color\":\"#2a3f5f\"},\"error_y\":{\"color\":\"#2a3f5f\"},\"marker\":{\"line\":{\"color\":\"#E5ECF6\",\"width\":0.5},\"pattern\":{\"fillmode\":\"overlay\",\"size\":10,\"solidity\":0.2}},\"type\":\"bar\"}],\"scattergeo\":[{\"type\":\"scattergeo\",\"marker\":{\"colorbar\":{\"outlinewidth\":0,\"ticks\":\"\"}}}],\"scatterpolar\":[{\"type\":\"scatterpolar\",\"marker\":{\"colorbar\":{\"outlinewidth\":0,\"ticks\":\"\"}}}],\"histogram\":[{\"marker\":{\"pattern\":{\"fillmode\":\"overlay\",\"size\":10,\"solidity\":0.2}},\"type\":\"histogram\"}],\"scattergl\":[{\"type\":\"scattergl\",\"marker\":{\"colorbar\":{\"outlinewidth\":0,\"ticks\":\"\"}}}],\"scatter3d\":[{\"type\":\"scatter3d\",\"line\":{\"colorbar\":{\"outlinewidth\":0,\"ticks\":\"\"}},\"marker\":{\"colorbar\":{\"outlinewidth\":0,\"ticks\":\"\"}}}],\"scattermapbox\":[{\"type\":\"scattermapbox\",\"marker\":{\"colorbar\":{\"outlinewidth\":0,\"ticks\":\"\"}}}],\"scatterternary\":[{\"type\":\"scatterternary\",\"marker\":{\"colorbar\":{\"outlinewidth\":0,\"ticks\":\"\"}}}],\"scattercarpet\":[{\"type\":\"scattercarpet\",\"marker\":{\"colorbar\":{\"outlinewidth\":0,\"ticks\":\"\"}}}],\"carpet\":[{\"aaxis\":{\"endlinecolor\":\"#2a3f5f\",\"gridcolor\":\"white\",\"linecolor\":\"white\",\"minorgridcolor\":\"white\",\"startlinecolor\":\"#2a3f5f\"},\"baxis\":{\"endlinecolor\":\"#2a3f5f\",\"gridcolor\":\"white\",\"linecolor\":\"white\",\"minorgridcolor\":\"white\",\"startlinecolor\":\"#2a3f5f\"},\"type\":\"carpet\"}],\"table\":[{\"cells\":{\"fill\":{\"color\":\"#EBF0F8\"},\"line\":{\"color\":\"white\"}},\"header\":{\"fill\":{\"color\":\"#C8D4E3\"},\"line\":{\"color\":\"white\"}},\"type\":\"table\"}],\"barpolar\":[{\"marker\":{\"line\":{\"color\":\"#E5ECF6\",\"width\":0.5},\"pattern\":{\"fillmode\":\"overlay\",\"size\":10,\"solidity\":0.2}},\"type\":\"barpolar\"}],\"pie\":[{\"automargin\":true,\"type\":\"pie\"}]},\"layout\":{\"autotypenumbers\":\"strict\",\"colorway\":[\"#636efa\",\"#EF553B\",\"#00cc96\",\"#ab63fa\",\"#FFA15A\",\"#19d3f3\",\"#FF6692\",\"#B6E880\",\"#FF97FF\",\"#FECB52\"],\"font\":{\"color\":\"#2a3f5f\"},\"hovermode\":\"closest\",\"hoverlabel\":{\"align\":\"left\"},\"paper_bgcolor\":\"white\",\"plot_bgcolor\":\"#E5ECF6\",\"polar\":{\"bgcolor\":\"#E5ECF6\",\"angularaxis\":{\"gridcolor\":\"white\",\"linecolor\":\"white\",\"ticks\":\"\"},\"radialaxis\":{\"gridcolor\":\"white\",\"linecolor\":\"white\",\"ticks\":\"\"}},\"ternary\":{\"bgcolor\":\"#E5ECF6\",\"aaxis\":{\"gridcolor\":\"white\",\"linecolor\":\"white\",\"ticks\":\"\"},\"baxis\":{\"gridcolor\":\"white\",\"linecolor\":\"white\",\"ticks\":\"\"},\"caxis\":{\"gridcolor\":\"white\",\"linecolor\":\"white\",\"ticks\":\"\"}},\"coloraxis\":{\"colorbar\":{\"outlinewidth\":0,\"ticks\":\"\"}},\"colorscale\":{\"sequential\":[[0.0,\"#0d0887\"],[0.1111111111111111,\"#46039f\"],[0.2222222222222222,\"#7201a8\"],[0.3333333333333333,\"#9c179e\"],[0.4444444444444444,\"#bd3786\"],[0.5555555555555556,\"#d8576b\"],[0.6666666666666666,\"#ed7953\"],[0.7777777777777778,\"#fb9f3a\"],[0.8888888888888888,\"#fdca26\"],[1.0,\"#f0f921\"]],\"sequentialminus\":[[0.0,\"#0d0887\"],[0.1111111111111111,\"#46039f\"],[0.2222222222222222,\"#7201a8\"],[0.3333333333333333,\"#9c179e\"],[0.4444444444444444,\"#bd3786\"],[0.5555555555555556,\"#d8576b\"],[0.6666666666666666,\"#ed7953\"],[0.7777777777777778,\"#fb9f3a\"],[0.8888888888888888,\"#fdca26\"],[1.0,\"#f0f921\"]],\"diverging\":[[0,\"#8e0152\"],[0.1,\"#c51b7d\"],[0.2,\"#de77ae\"],[0.3,\"#f1b6da\"],[0.4,\"#fde0ef\"],[0.5,\"#f7f7f7\"],[0.6,\"#e6f5d0\"],[0.7,\"#b8e186\"],[0.8,\"#7fbc41\"],[0.9,\"#4d9221\"],[1,\"#276419\"]]},\"xaxis\":{\"gridcolor\":\"white\",\"linecolor\":\"white\",\"ticks\":\"\",\"title\":{\"standoff\":15},\"zerolinecolor\":\"white\",\"automargin\":true,\"zerolinewidth\":2},\"yaxis\":{\"gridcolor\":\"white\",\"linecolor\":\"white\",\"ticks\":\"\",\"title\":{\"standoff\":15},\"zerolinecolor\":\"white\",\"automargin\":true,\"zerolinewidth\":2},\"scene\":{\"xaxis\":{\"backgroundcolor\":\"#E5ECF6\",\"gridcolor\":\"white\",\"linecolor\":\"white\",\"showbackground\":true,\"ticks\":\"\",\"zerolinecolor\":\"white\",\"gridwidth\":2},\"yaxis\":{\"backgroundcolor\":\"#E5ECF6\",\"gridcolor\":\"white\",\"linecolor\":\"white\",\"showbackground\":true,\"ticks\":\"\",\"zerolinecolor\":\"white\",\"gridwidth\":2},\"zaxis\":{\"backgroundcolor\":\"#E5ECF6\",\"gridcolor\":\"white\",\"linecolor\":\"white\",\"showbackground\":true,\"ticks\":\"\",\"zerolinecolor\":\"white\",\"gridwidth\":2}},\"shapedefaults\":{\"line\":{\"color\":\"#2a3f5f\"}},\"annotationdefaults\":{\"arrowcolor\":\"#2a3f5f\",\"arrowhead\":0,\"arrowwidth\":1},\"geo\":{\"bgcolor\":\"white\",\"landcolor\":\"#E5ECF6\",\"subunitcolor\":\"white\",\"showland\":true,\"showlakes\":true,\"lakecolor\":\"white\"},\"title\":{\"x\":0.05},\"mapbox\":{\"style\":\"light\"}}},\"xaxis\":{\"anchor\":\"y\",\"domain\":[0.0,1.0],\"title\":{\"text\":\"Rating\",\"font\":{\"color\":\"#ff0000\",\"size\":20}}},\"yaxis\":{\"anchor\":\"x\",\"domain\":[0.0,1.0],\"title\":{\"text\":\"Num_Reviewers\",\"font\":{\"color\":\"#ff0000\",\"size\":20}}},\"legend\":{\"title\":{\"text\":\"variable\"},\"tracegroupgap\":0},\"title\":{\"text\":\"Rating ragarding to number of reviewers\"},\"hoverlabel\":{\"font\":{\"size\":16},\"bgcolor\":\"white\"}},                        {\"responsive\": true}                    ).then(function(){\n",
       "                            \n",
       "var gd = document.getElementById('1df9add4-717d-4b3a-8ee1-e5ac59a89355');\n",
       "var x = new MutationObserver(function (mutations, observer) {{\n",
       "        var display = window.getComputedStyle(gd).display;\n",
       "        if (!display || display === 'none') {{\n",
       "            console.log([gd, 'removed!']);\n",
       "            Plotly.purge(gd);\n",
       "            observer.disconnect();\n",
       "        }}\n",
       "}});\n",
       "\n",
       "// Listen for the removal of the full notebook cells\n",
       "var notebookContainer = gd.closest('#notebook-container');\n",
       "if (notebookContainer) {{\n",
       "    x.observe(notebookContainer, {childList: true});\n",
       "}}\n",
       "\n",
       "// Listen for the clearing of the current output cell\n",
       "var outputEl = gd.closest('.output');\n",
       "if (outputEl) {{\n",
       "    x.observe(outputEl, {childList: true});\n",
       "}}\n",
       "\n",
       "                        })                };                });            </script>        </div>"
      ]
     },
     "metadata": {},
     "output_type": "display_data"
    }
   ],
   "source": [
    "fig = px.line(data_frame=df.groupby('rating')['num_reviews'].mean(), \n",
    "              title='Rating ragarding to number of reviewers', markers=True)\n",
    "\n",
    "fig['data'][0]['line']['color']=\"#ff0000\"\n",
    "\n",
    "fig.update_layout({'xaxis':{'title':{'text':'Rating', 'font':{'color':'#ff0000', 'size':20}}},\n",
    "                   'yaxis':{'title':{'text':'Num_Reviewers', 'font':{'color':'#ff0000', 'size':20}}}}, \n",
    "                  hoverlabel=dict(bgcolor='white', font_size=16))"
   ]
  },
  {
   "cell_type": "markdown",
   "id": "7ea85ea8",
   "metadata": {
    "papermill": {
     "duration": 0.022198,
     "end_time": "2022-08-18T19:03:58.362017",
     "exception": false,
     "start_time": "2022-08-18T19:03:58.339819",
     "status": "completed"
    },
    "tags": []
   },
   "source": [
    "> Insight:<br>\n",
    "The more people review a wine, the less rating this wine get"
   ]
  },
  {
   "cell_type": "code",
   "execution_count": 26,
   "id": "e2cd0051",
   "metadata": {
    "execution": {
     "iopub.execute_input": "2022-08-18T19:03:58.409584Z",
     "iopub.status.busy": "2022-08-18T19:03:58.408774Z",
     "iopub.status.idle": "2022-08-18T19:03:58.455363Z",
     "shell.execute_reply": "2022-08-18T19:03:58.454043Z"
    },
    "papermill": {
     "duration": 0.073353,
     "end_time": "2022-08-18T19:03:58.457940",
     "exception": false,
     "start_time": "2022-08-18T19:03:58.384587",
     "status": "completed"
    },
    "tags": []
   },
   "outputs": [
    {
     "name": "stderr",
     "output_type": "stream",
     "text": [
      "/opt/conda/lib/python3.7/site-packages/plotly/graph_objs/_deprecations.py:385: DeprecationWarning:\n",
      "\n",
      "plotly.graph_objs.Line is deprecated.\n",
      "Please replace it with one of the following more specific types\n",
      "  - plotly.graph_objs.scatter.Line\n",
      "  - plotly.graph_objs.layout.shape.Line\n",
      "  - etc.\n",
      "\n",
      "\n"
     ]
    },
    {
     "data": {
      "text/html": [
       "<div>                            <div id=\"fbdfc5db-6a5f-4882-986f-2eef4d761525\" class=\"plotly-graph-div\" style=\"height:525px; width:100%;\"></div>            <script type=\"text/javascript\">                require([\"plotly\"], function(Plotly) {                    window.PLOTLYENV=window.PLOTLYENV || {};                                    if (document.getElementById(\"fbdfc5db-6a5f-4882-986f-2eef4d761525\")) {                    Plotly.newPlot(                        \"fbdfc5db-6a5f-4882-986f-2eef4d761525\",                        [{\"name\":\"line\",\"x\":[4.2,4.3,4.4,4.5,4.6,4.7,4.8,4.9],\"y\":[1012.2030456852792,338.28242074927954,349.55696202531647,366.90671641791045,224.656050955414,565.4625,491.56,31.0],\"type\":\"scatter\"},{\"hovertemplate\":\"Rate: %{x}<br># Reviewers: %{y:}<br>Price: %{marker.size:.2f} $\",\"marker\":{\"size\":[4.000995297315161,7.346886594887722,9.112652934745979,13.531847078211712,20.67545119935403,35.07379702735191,48.57143689775327,39.1875]},\"mode\":\"markers\",\"name\":\"scatter\",\"x\":[4.2,4.3,4.4,4.5,4.6,4.7,4.8,4.9],\"y\":[1012.2030456852792,338.28242074927954,349.55696202531647,366.90671641791045,224.656050955414,565.4625,491.56,31.0],\"type\":\"scatter\",\"xaxis\":\"x2\",\"yaxis\":\"y2\"}],                        {\"template\":{\"data\":{\"histogram2dcontour\":[{\"type\":\"histogram2dcontour\",\"colorbar\":{\"outlinewidth\":0,\"ticks\":\"\"},\"colorscale\":[[0.0,\"#0d0887\"],[0.1111111111111111,\"#46039f\"],[0.2222222222222222,\"#7201a8\"],[0.3333333333333333,\"#9c179e\"],[0.4444444444444444,\"#bd3786\"],[0.5555555555555556,\"#d8576b\"],[0.6666666666666666,\"#ed7953\"],[0.7777777777777778,\"#fb9f3a\"],[0.8888888888888888,\"#fdca26\"],[1.0,\"#f0f921\"]]}],\"choropleth\":[{\"type\":\"choropleth\",\"colorbar\":{\"outlinewidth\":0,\"ticks\":\"\"}}],\"histogram2d\":[{\"type\":\"histogram2d\",\"colorbar\":{\"outlinewidth\":0,\"ticks\":\"\"},\"colorscale\":[[0.0,\"#0d0887\"],[0.1111111111111111,\"#46039f\"],[0.2222222222222222,\"#7201a8\"],[0.3333333333333333,\"#9c179e\"],[0.4444444444444444,\"#bd3786\"],[0.5555555555555556,\"#d8576b\"],[0.6666666666666666,\"#ed7953\"],[0.7777777777777778,\"#fb9f3a\"],[0.8888888888888888,\"#fdca26\"],[1.0,\"#f0f921\"]]}],\"heatmap\":[{\"type\":\"heatmap\",\"colorbar\":{\"outlinewidth\":0,\"ticks\":\"\"},\"colorscale\":[[0.0,\"#0d0887\"],[0.1111111111111111,\"#46039f\"],[0.2222222222222222,\"#7201a8\"],[0.3333333333333333,\"#9c179e\"],[0.4444444444444444,\"#bd3786\"],[0.5555555555555556,\"#d8576b\"],[0.6666666666666666,\"#ed7953\"],[0.7777777777777778,\"#fb9f3a\"],[0.8888888888888888,\"#fdca26\"],[1.0,\"#f0f921\"]]}],\"heatmapgl\":[{\"type\":\"heatmapgl\",\"colorbar\":{\"outlinewidth\":0,\"ticks\":\"\"},\"colorscale\":[[0.0,\"#0d0887\"],[0.1111111111111111,\"#46039f\"],[0.2222222222222222,\"#7201a8\"],[0.3333333333333333,\"#9c179e\"],[0.4444444444444444,\"#bd3786\"],[0.5555555555555556,\"#d8576b\"],[0.6666666666666666,\"#ed7953\"],[0.7777777777777778,\"#fb9f3a\"],[0.8888888888888888,\"#fdca26\"],[1.0,\"#f0f921\"]]}],\"contourcarpet\":[{\"type\":\"contourcarpet\",\"colorbar\":{\"outlinewidth\":0,\"ticks\":\"\"}}],\"contour\":[{\"type\":\"contour\",\"colorbar\":{\"outlinewidth\":0,\"ticks\":\"\"},\"colorscale\":[[0.0,\"#0d0887\"],[0.1111111111111111,\"#46039f\"],[0.2222222222222222,\"#7201a8\"],[0.3333333333333333,\"#9c179e\"],[0.4444444444444444,\"#bd3786\"],[0.5555555555555556,\"#d8576b\"],[0.6666666666666666,\"#ed7953\"],[0.7777777777777778,\"#fb9f3a\"],[0.8888888888888888,\"#fdca26\"],[1.0,\"#f0f921\"]]}],\"surface\":[{\"type\":\"surface\",\"colorbar\":{\"outlinewidth\":0,\"ticks\":\"\"},\"colorscale\":[[0.0,\"#0d0887\"],[0.1111111111111111,\"#46039f\"],[0.2222222222222222,\"#7201a8\"],[0.3333333333333333,\"#9c179e\"],[0.4444444444444444,\"#bd3786\"],[0.5555555555555556,\"#d8576b\"],[0.6666666666666666,\"#ed7953\"],[0.7777777777777778,\"#fb9f3a\"],[0.8888888888888888,\"#fdca26\"],[1.0,\"#f0f921\"]]}],\"mesh3d\":[{\"type\":\"mesh3d\",\"colorbar\":{\"outlinewidth\":0,\"ticks\":\"\"}}],\"scatter\":[{\"fillpattern\":{\"fillmode\":\"overlay\",\"size\":10,\"solidity\":0.2},\"type\":\"scatter\"}],\"parcoords\":[{\"type\":\"parcoords\",\"line\":{\"colorbar\":{\"outlinewidth\":0,\"ticks\":\"\"}}}],\"scatterpolargl\":[{\"type\":\"scatterpolargl\",\"marker\":{\"colorbar\":{\"outlinewidth\":0,\"ticks\":\"\"}}}],\"bar\":[{\"error_x\":{\"color\":\"#2a3f5f\"},\"error_y\":{\"color\":\"#2a3f5f\"},\"marker\":{\"line\":{\"color\":\"#E5ECF6\",\"width\":0.5},\"pattern\":{\"fillmode\":\"overlay\",\"size\":10,\"solidity\":0.2}},\"type\":\"bar\"}],\"scattergeo\":[{\"type\":\"scattergeo\",\"marker\":{\"colorbar\":{\"outlinewidth\":0,\"ticks\":\"\"}}}],\"scatterpolar\":[{\"type\":\"scatterpolar\",\"marker\":{\"colorbar\":{\"outlinewidth\":0,\"ticks\":\"\"}}}],\"histogram\":[{\"marker\":{\"pattern\":{\"fillmode\":\"overlay\",\"size\":10,\"solidity\":0.2}},\"type\":\"histogram\"}],\"scattergl\":[{\"type\":\"scattergl\",\"marker\":{\"colorbar\":{\"outlinewidth\":0,\"ticks\":\"\"}}}],\"scatter3d\":[{\"type\":\"scatter3d\",\"line\":{\"colorbar\":{\"outlinewidth\":0,\"ticks\":\"\"}},\"marker\":{\"colorbar\":{\"outlinewidth\":0,\"ticks\":\"\"}}}],\"scattermapbox\":[{\"type\":\"scattermapbox\",\"marker\":{\"colorbar\":{\"outlinewidth\":0,\"ticks\":\"\"}}}],\"scatterternary\":[{\"type\":\"scatterternary\",\"marker\":{\"colorbar\":{\"outlinewidth\":0,\"ticks\":\"\"}}}],\"scattercarpet\":[{\"type\":\"scattercarpet\",\"marker\":{\"colorbar\":{\"outlinewidth\":0,\"ticks\":\"\"}}}],\"carpet\":[{\"aaxis\":{\"endlinecolor\":\"#2a3f5f\",\"gridcolor\":\"white\",\"linecolor\":\"white\",\"minorgridcolor\":\"white\",\"startlinecolor\":\"#2a3f5f\"},\"baxis\":{\"endlinecolor\":\"#2a3f5f\",\"gridcolor\":\"white\",\"linecolor\":\"white\",\"minorgridcolor\":\"white\",\"startlinecolor\":\"#2a3f5f\"},\"type\":\"carpet\"}],\"table\":[{\"cells\":{\"fill\":{\"color\":\"#EBF0F8\"},\"line\":{\"color\":\"white\"}},\"header\":{\"fill\":{\"color\":\"#C8D4E3\"},\"line\":{\"color\":\"white\"}},\"type\":\"table\"}],\"barpolar\":[{\"marker\":{\"line\":{\"color\":\"#E5ECF6\",\"width\":0.5},\"pattern\":{\"fillmode\":\"overlay\",\"size\":10,\"solidity\":0.2}},\"type\":\"barpolar\"}],\"pie\":[{\"automargin\":true,\"type\":\"pie\"}]},\"layout\":{\"autotypenumbers\":\"strict\",\"colorway\":[\"#636efa\",\"#EF553B\",\"#00cc96\",\"#ab63fa\",\"#FFA15A\",\"#19d3f3\",\"#FF6692\",\"#B6E880\",\"#FF97FF\",\"#FECB52\"],\"font\":{\"color\":\"#2a3f5f\"},\"hovermode\":\"closest\",\"hoverlabel\":{\"align\":\"left\"},\"paper_bgcolor\":\"white\",\"plot_bgcolor\":\"#E5ECF6\",\"polar\":{\"bgcolor\":\"#E5ECF6\",\"angularaxis\":{\"gridcolor\":\"white\",\"linecolor\":\"white\",\"ticks\":\"\"},\"radialaxis\":{\"gridcolor\":\"white\",\"linecolor\":\"white\",\"ticks\":\"\"}},\"ternary\":{\"bgcolor\":\"#E5ECF6\",\"aaxis\":{\"gridcolor\":\"white\",\"linecolor\":\"white\",\"ticks\":\"\"},\"baxis\":{\"gridcolor\":\"white\",\"linecolor\":\"white\",\"ticks\":\"\"},\"caxis\":{\"gridcolor\":\"white\",\"linecolor\":\"white\",\"ticks\":\"\"}},\"coloraxis\":{\"colorbar\":{\"outlinewidth\":0,\"ticks\":\"\"}},\"colorscale\":{\"sequential\":[[0.0,\"#0d0887\"],[0.1111111111111111,\"#46039f\"],[0.2222222222222222,\"#7201a8\"],[0.3333333333333333,\"#9c179e\"],[0.4444444444444444,\"#bd3786\"],[0.5555555555555556,\"#d8576b\"],[0.6666666666666666,\"#ed7953\"],[0.7777777777777778,\"#fb9f3a\"],[0.8888888888888888,\"#fdca26\"],[1.0,\"#f0f921\"]],\"sequentialminus\":[[0.0,\"#0d0887\"],[0.1111111111111111,\"#46039f\"],[0.2222222222222222,\"#7201a8\"],[0.3333333333333333,\"#9c179e\"],[0.4444444444444444,\"#bd3786\"],[0.5555555555555556,\"#d8576b\"],[0.6666666666666666,\"#ed7953\"],[0.7777777777777778,\"#fb9f3a\"],[0.8888888888888888,\"#fdca26\"],[1.0,\"#f0f921\"]],\"diverging\":[[0,\"#8e0152\"],[0.1,\"#c51b7d\"],[0.2,\"#de77ae\"],[0.3,\"#f1b6da\"],[0.4,\"#fde0ef\"],[0.5,\"#f7f7f7\"],[0.6,\"#e6f5d0\"],[0.7,\"#b8e186\"],[0.8,\"#7fbc41\"],[0.9,\"#4d9221\"],[1,\"#276419\"]]},\"xaxis\":{\"gridcolor\":\"white\",\"linecolor\":\"white\",\"ticks\":\"\",\"title\":{\"standoff\":15},\"zerolinecolor\":\"white\",\"automargin\":true,\"zerolinewidth\":2},\"yaxis\":{\"gridcolor\":\"white\",\"linecolor\":\"white\",\"ticks\":\"\",\"title\":{\"standoff\":15},\"zerolinecolor\":\"white\",\"automargin\":true,\"zerolinewidth\":2},\"scene\":{\"xaxis\":{\"backgroundcolor\":\"#E5ECF6\",\"gridcolor\":\"white\",\"linecolor\":\"white\",\"showbackground\":true,\"ticks\":\"\",\"zerolinecolor\":\"white\",\"gridwidth\":2},\"yaxis\":{\"backgroundcolor\":\"#E5ECF6\",\"gridcolor\":\"white\",\"linecolor\":\"white\",\"showbackground\":true,\"ticks\":\"\",\"zerolinecolor\":\"white\",\"gridwidth\":2},\"zaxis\":{\"backgroundcolor\":\"#E5ECF6\",\"gridcolor\":\"white\",\"linecolor\":\"white\",\"showbackground\":true,\"ticks\":\"\",\"zerolinecolor\":\"white\",\"gridwidth\":2}},\"shapedefaults\":{\"line\":{\"color\":\"#2a3f5f\"}},\"annotationdefaults\":{\"arrowcolor\":\"#2a3f5f\",\"arrowhead\":0,\"arrowwidth\":1},\"geo\":{\"bgcolor\":\"white\",\"landcolor\":\"#E5ECF6\",\"subunitcolor\":\"white\",\"showland\":true,\"showlakes\":true,\"lakecolor\":\"white\"},\"title\":{\"x\":0.05},\"mapbox\":{\"style\":\"light\"}}},\"xaxis\":{\"anchor\":\"y\",\"domain\":[0.0,1.0]},\"yaxis\":{\"anchor\":\"x\",\"domain\":[0.575,1.0]},\"xaxis2\":{\"anchor\":\"y2\",\"domain\":[0.0,1.0]},\"yaxis2\":{\"anchor\":\"x2\",\"domain\":[0.0,0.425]},\"hoverlabel\":{\"font\":{\"size\":16},\"bgcolor\":\"white\"},\"title\":{\"text\":\"Price & Num of Reviewers & Rating\"},\"hovermode\":\"closest\"},                        {\"responsive\": true}                    ).then(function(){\n",
       "                            \n",
       "var gd = document.getElementById('fbdfc5db-6a5f-4882-986f-2eef4d761525');\n",
       "var x = new MutationObserver(function (mutations, observer) {{\n",
       "        var display = window.getComputedStyle(gd).display;\n",
       "        if (!display || display === 'none') {{\n",
       "            console.log([gd, 'removed!']);\n",
       "            Plotly.purge(gd);\n",
       "            observer.disconnect();\n",
       "        }}\n",
       "}});\n",
       "\n",
       "// Listen for the removal of the full notebook cells\n",
       "var notebookContainer = gd.closest('#notebook-container');\n",
       "if (notebookContainer) {{\n",
       "    x.observe(notebookContainer, {childList: true});\n",
       "}}\n",
       "\n",
       "// Listen for the clearing of the current output cell\n",
       "var outputEl = gd.closest('.output');\n",
       "if (outputEl) {{\n",
       "    x.observe(outputEl, {childList: true});\n",
       "}}\n",
       "\n",
       "                        })                };                });            </script>        </div>"
      ]
     },
     "metadata": {},
     "output_type": "display_data"
    }
   ],
   "source": [
    "rate_num_price = df.groupby('rating')[['num_reviews', 'price']].mean()\n",
    "fig = make_subplots(rows=2, cols=1)\n",
    "\n",
    "fig.add_trace(go.Line(x=rate_num_price.index, y=rate_num_price['num_reviews'], name='line'))\n",
    "\n",
    "\n",
    "fig.add_trace(go.Scatter(x=rate_num_price.index, y=rate_num_price['num_reviews'], mode='markers', \n",
    "                         marker={'size':rate_num_price['price'] / 8}, name='scatter', \n",
    "                         hovertemplate = 'Rate: %{x}<br># Reviewers: %{y:}<br>Price: %{marker.size:.2f} $')\n",
    "              , row=2, col=1)\n",
    "\n",
    "fig.update_layout(hovermode='closest', hoverlabel=dict(bgcolor=\"white\", font_size=16), \n",
    "                  title_text='Price & Num of Reviewers & Rating')"
   ]
  },
  {
   "cell_type": "markdown",
   "id": "fe8141bd",
   "metadata": {
    "papermill": {
     "duration": 0.022712,
     "end_time": "2022-08-18T19:03:58.504202",
     "exception": false,
     "start_time": "2022-08-18T19:03:58.481490",
     "status": "completed"
    },
    "tags": []
   },
   "source": [
    ">Insight:<br>\n",
    ">1. Price Increases with wine rating (as expected)\n",
    ">2.  the gradient of rating is getting decreasing with hight rate wine  "
   ]
  },
  {
   "cell_type": "code",
   "execution_count": 27,
   "id": "f6d9ed1b",
   "metadata": {
    "execution": {
     "iopub.execute_input": "2022-08-18T19:03:58.552615Z",
     "iopub.status.busy": "2022-08-18T19:03:58.552207Z",
     "iopub.status.idle": "2022-08-18T19:03:58.632892Z",
     "shell.execute_reply": "2022-08-18T19:03:58.631393Z"
    },
    "papermill": {
     "duration": 0.107913,
     "end_time": "2022-08-18T19:03:58.635246",
     "exception": false,
     "start_time": "2022-08-18T19:03:58.527333",
     "status": "completed"
    },
    "tags": []
   },
   "outputs": [
    {
     "data": {
      "text/html": [
       "<div>                            <div id=\"600fcd62-049f-423e-9ac8-9ca7d7b20ba0\" class=\"plotly-graph-div\" style=\"height:525px; width:100%;\"></div>            <script type=\"text/javascript\">                require([\"plotly\"], function(Plotly) {                    window.PLOTLYENV=window.PLOTLYENV || {};                                    if (document.getElementById(\"600fcd62-049f-423e-9ac8-9ca7d7b20ba0\")) {                    Plotly.newPlot(                        \"600fcd62-049f-423e-9ac8-9ca7d7b20ba0\",                        [{\"alignmentgroup\":\"True\",\"customdata\":[[178.6896153846154],[37.5],[29.5],[43.58467135],[21.316666666666666],[80.57602513777475],[99.87],[198.61372093023255],[57.44],[43.98158244215421],[59.178125],[41.25],[115.32033797696874],[144.47545454545454],[59.44970588235294],[76.60573529411764],[33.257999999999996],[41.928333333333335],[57.9],[20.95]],\"hovertemplate\":\"rating=%{x}<br>index=%{y}<br>price=%{marker.color}<extra></extra>\",\"legendgroup\":\"\",\"marker\":{\"color\":[178.6896153846154,37.5,29.5,43.58467135,21.316666666666666,80.57602513777475,99.87,198.61372093023255,57.44,43.98158244215421,59.178125,41.25,115.32033797696874,144.47545454545454,59.44970588235294,76.60573529411764,33.257999999999996,41.928333333333335,57.9,20.95],\"coloraxis\":\"coloraxis\",\"opacity\":0.5,\"pattern\":{\"shape\":\"\"}},\"name\":\"\",\"offsetgroup\":\"\",\"orientation\":\"h\",\"showlegend\":false,\"textposition\":\"auto\",\"x\":[93.90725932276862,90.01713130052181,90.01713130052181,90.01713130052181,90.01713130052181,89.67157651915593,87.79460040975476,87.13353791768265,87.06601871306744,85.01750214284473,84.563269020706,84.21165510414644,83.85547888072074,82.19470706818093,82.17273281164344,81.81100456590595,81.45086866496814,81.45086866496814,81.45086866496814,81.45086866496814],\"xaxis\":\"x\",\"y\":[\"Montilla-Moriles\",\"Tierra del Vino de Zamora\",\"Condado de Huelva\",\"Cigales\",\"Dehesa del Carrizal\",\"Jumilla\",\"Dominio de Valdepusa\",\"Vino de Espana\",\"Manzanilla\",\"Cadiz\",\"Campo de Borja\",\"Carinena\",\"Ribera del Duero\",\"Jerez Palo Cortado\",\"Cava\",\"Toro\",\"Malaga\",\"Jerez Pedro Ximenes (PX)\",\"Jerez Cream\",\"Monterrei\"],\"yaxis\":\"y\",\"type\":\"bar\"}],                        {\"template\":{\"data\":{\"histogram2dcontour\":[{\"type\":\"histogram2dcontour\",\"colorbar\":{\"outlinewidth\":0,\"ticks\":\"\"},\"colorscale\":[[0.0,\"#0d0887\"],[0.1111111111111111,\"#46039f\"],[0.2222222222222222,\"#7201a8\"],[0.3333333333333333,\"#9c179e\"],[0.4444444444444444,\"#bd3786\"],[0.5555555555555556,\"#d8576b\"],[0.6666666666666666,\"#ed7953\"],[0.7777777777777778,\"#fb9f3a\"],[0.8888888888888888,\"#fdca26\"],[1.0,\"#f0f921\"]]}],\"choropleth\":[{\"type\":\"choropleth\",\"colorbar\":{\"outlinewidth\":0,\"ticks\":\"\"}}],\"histogram2d\":[{\"type\":\"histogram2d\",\"colorbar\":{\"outlinewidth\":0,\"ticks\":\"\"},\"colorscale\":[[0.0,\"#0d0887\"],[0.1111111111111111,\"#46039f\"],[0.2222222222222222,\"#7201a8\"],[0.3333333333333333,\"#9c179e\"],[0.4444444444444444,\"#bd3786\"],[0.5555555555555556,\"#d8576b\"],[0.6666666666666666,\"#ed7953\"],[0.7777777777777778,\"#fb9f3a\"],[0.8888888888888888,\"#fdca26\"],[1.0,\"#f0f921\"]]}],\"heatmap\":[{\"type\":\"heatmap\",\"colorbar\":{\"outlinewidth\":0,\"ticks\":\"\"},\"colorscale\":[[0.0,\"#0d0887\"],[0.1111111111111111,\"#46039f\"],[0.2222222222222222,\"#7201a8\"],[0.3333333333333333,\"#9c179e\"],[0.4444444444444444,\"#bd3786\"],[0.5555555555555556,\"#d8576b\"],[0.6666666666666666,\"#ed7953\"],[0.7777777777777778,\"#fb9f3a\"],[0.8888888888888888,\"#fdca26\"],[1.0,\"#f0f921\"]]}],\"heatmapgl\":[{\"type\":\"heatmapgl\",\"colorbar\":{\"outlinewidth\":0,\"ticks\":\"\"},\"colorscale\":[[0.0,\"#0d0887\"],[0.1111111111111111,\"#46039f\"],[0.2222222222222222,\"#7201a8\"],[0.3333333333333333,\"#9c179e\"],[0.4444444444444444,\"#bd3786\"],[0.5555555555555556,\"#d8576b\"],[0.6666666666666666,\"#ed7953\"],[0.7777777777777778,\"#fb9f3a\"],[0.8888888888888888,\"#fdca26\"],[1.0,\"#f0f921\"]]}],\"contourcarpet\":[{\"type\":\"contourcarpet\",\"colorbar\":{\"outlinewidth\":0,\"ticks\":\"\"}}],\"contour\":[{\"type\":\"contour\",\"colorbar\":{\"outlinewidth\":0,\"ticks\":\"\"},\"colorscale\":[[0.0,\"#0d0887\"],[0.1111111111111111,\"#46039f\"],[0.2222222222222222,\"#7201a8\"],[0.3333333333333333,\"#9c179e\"],[0.4444444444444444,\"#bd3786\"],[0.5555555555555556,\"#d8576b\"],[0.6666666666666666,\"#ed7953\"],[0.7777777777777778,\"#fb9f3a\"],[0.8888888888888888,\"#fdca26\"],[1.0,\"#f0f921\"]]}],\"surface\":[{\"type\":\"surface\",\"colorbar\":{\"outlinewidth\":0,\"ticks\":\"\"},\"colorscale\":[[0.0,\"#0d0887\"],[0.1111111111111111,\"#46039f\"],[0.2222222222222222,\"#7201a8\"],[0.3333333333333333,\"#9c179e\"],[0.4444444444444444,\"#bd3786\"],[0.5555555555555556,\"#d8576b\"],[0.6666666666666666,\"#ed7953\"],[0.7777777777777778,\"#fb9f3a\"],[0.8888888888888888,\"#fdca26\"],[1.0,\"#f0f921\"]]}],\"mesh3d\":[{\"type\":\"mesh3d\",\"colorbar\":{\"outlinewidth\":0,\"ticks\":\"\"}}],\"scatter\":[{\"fillpattern\":{\"fillmode\":\"overlay\",\"size\":10,\"solidity\":0.2},\"type\":\"scatter\"}],\"parcoords\":[{\"type\":\"parcoords\",\"line\":{\"colorbar\":{\"outlinewidth\":0,\"ticks\":\"\"}}}],\"scatterpolargl\":[{\"type\":\"scatterpolargl\",\"marker\":{\"colorbar\":{\"outlinewidth\":0,\"ticks\":\"\"}}}],\"bar\":[{\"error_x\":{\"color\":\"#2a3f5f\"},\"error_y\":{\"color\":\"#2a3f5f\"},\"marker\":{\"line\":{\"color\":\"#E5ECF6\",\"width\":0.5},\"pattern\":{\"fillmode\":\"overlay\",\"size\":10,\"solidity\":0.2}},\"type\":\"bar\"}],\"scattergeo\":[{\"type\":\"scattergeo\",\"marker\":{\"colorbar\":{\"outlinewidth\":0,\"ticks\":\"\"}}}],\"scatterpolar\":[{\"type\":\"scatterpolar\",\"marker\":{\"colorbar\":{\"outlinewidth\":0,\"ticks\":\"\"}}}],\"histogram\":[{\"marker\":{\"pattern\":{\"fillmode\":\"overlay\",\"size\":10,\"solidity\":0.2}},\"type\":\"histogram\"}],\"scattergl\":[{\"type\":\"scattergl\",\"marker\":{\"colorbar\":{\"outlinewidth\":0,\"ticks\":\"\"}}}],\"scatter3d\":[{\"type\":\"scatter3d\",\"line\":{\"colorbar\":{\"outlinewidth\":0,\"ticks\":\"\"}},\"marker\":{\"colorbar\":{\"outlinewidth\":0,\"ticks\":\"\"}}}],\"scattermapbox\":[{\"type\":\"scattermapbox\",\"marker\":{\"colorbar\":{\"outlinewidth\":0,\"ticks\":\"\"}}}],\"scatterternary\":[{\"type\":\"scatterternary\",\"marker\":{\"colorbar\":{\"outlinewidth\":0,\"ticks\":\"\"}}}],\"scattercarpet\":[{\"type\":\"scattercarpet\",\"marker\":{\"colorbar\":{\"outlinewidth\":0,\"ticks\":\"\"}}}],\"carpet\":[{\"aaxis\":{\"endlinecolor\":\"#2a3f5f\",\"gridcolor\":\"white\",\"linecolor\":\"white\",\"minorgridcolor\":\"white\",\"startlinecolor\":\"#2a3f5f\"},\"baxis\":{\"endlinecolor\":\"#2a3f5f\",\"gridcolor\":\"white\",\"linecolor\":\"white\",\"minorgridcolor\":\"white\",\"startlinecolor\":\"#2a3f5f\"},\"type\":\"carpet\"}],\"table\":[{\"cells\":{\"fill\":{\"color\":\"#EBF0F8\"},\"line\":{\"color\":\"white\"}},\"header\":{\"fill\":{\"color\":\"#C8D4E3\"},\"line\":{\"color\":\"white\"}},\"type\":\"table\"}],\"barpolar\":[{\"marker\":{\"line\":{\"color\":\"#E5ECF6\",\"width\":0.5},\"pattern\":{\"fillmode\":\"overlay\",\"size\":10,\"solidity\":0.2}},\"type\":\"barpolar\"}],\"pie\":[{\"automargin\":true,\"type\":\"pie\"}]},\"layout\":{\"autotypenumbers\":\"strict\",\"colorway\":[\"#636efa\",\"#EF553B\",\"#00cc96\",\"#ab63fa\",\"#FFA15A\",\"#19d3f3\",\"#FF6692\",\"#B6E880\",\"#FF97FF\",\"#FECB52\"],\"font\":{\"color\":\"#2a3f5f\"},\"hovermode\":\"closest\",\"hoverlabel\":{\"align\":\"left\"},\"paper_bgcolor\":\"white\",\"plot_bgcolor\":\"#E5ECF6\",\"polar\":{\"bgcolor\":\"#E5ECF6\",\"angularaxis\":{\"gridcolor\":\"white\",\"linecolor\":\"white\",\"ticks\":\"\"},\"radialaxis\":{\"gridcolor\":\"white\",\"linecolor\":\"white\",\"ticks\":\"\"}},\"ternary\":{\"bgcolor\":\"#E5ECF6\",\"aaxis\":{\"gridcolor\":\"white\",\"linecolor\":\"white\",\"ticks\":\"\"},\"baxis\":{\"gridcolor\":\"white\",\"linecolor\":\"white\",\"ticks\":\"\"},\"caxis\":{\"gridcolor\":\"white\",\"linecolor\":\"white\",\"ticks\":\"\"}},\"coloraxis\":{\"colorbar\":{\"outlinewidth\":0,\"ticks\":\"\"}},\"colorscale\":{\"sequential\":[[0.0,\"#0d0887\"],[0.1111111111111111,\"#46039f\"],[0.2222222222222222,\"#7201a8\"],[0.3333333333333333,\"#9c179e\"],[0.4444444444444444,\"#bd3786\"],[0.5555555555555556,\"#d8576b\"],[0.6666666666666666,\"#ed7953\"],[0.7777777777777778,\"#fb9f3a\"],[0.8888888888888888,\"#fdca26\"],[1.0,\"#f0f921\"]],\"sequentialminus\":[[0.0,\"#0d0887\"],[0.1111111111111111,\"#46039f\"],[0.2222222222222222,\"#7201a8\"],[0.3333333333333333,\"#9c179e\"],[0.4444444444444444,\"#bd3786\"],[0.5555555555555556,\"#d8576b\"],[0.6666666666666666,\"#ed7953\"],[0.7777777777777778,\"#fb9f3a\"],[0.8888888888888888,\"#fdca26\"],[1.0,\"#f0f921\"]],\"diverging\":[[0,\"#8e0152\"],[0.1,\"#c51b7d\"],[0.2,\"#de77ae\"],[0.3,\"#f1b6da\"],[0.4,\"#fde0ef\"],[0.5,\"#f7f7f7\"],[0.6,\"#e6f5d0\"],[0.7,\"#b8e186\"],[0.8,\"#7fbc41\"],[0.9,\"#4d9221\"],[1,\"#276419\"]]},\"xaxis\":{\"gridcolor\":\"white\",\"linecolor\":\"white\",\"ticks\":\"\",\"title\":{\"standoff\":15},\"zerolinecolor\":\"white\",\"automargin\":true,\"zerolinewidth\":2},\"yaxis\":{\"gridcolor\":\"white\",\"linecolor\":\"white\",\"ticks\":\"\",\"title\":{\"standoff\":15},\"zerolinecolor\":\"white\",\"automargin\":true,\"zerolinewidth\":2},\"scene\":{\"xaxis\":{\"backgroundcolor\":\"#E5ECF6\",\"gridcolor\":\"white\",\"linecolor\":\"white\",\"showbackground\":true,\"ticks\":\"\",\"zerolinecolor\":\"white\",\"gridwidth\":2},\"yaxis\":{\"backgroundcolor\":\"#E5ECF6\",\"gridcolor\":\"white\",\"linecolor\":\"white\",\"showbackground\":true,\"ticks\":\"\",\"zerolinecolor\":\"white\",\"gridwidth\":2},\"zaxis\":{\"backgroundcolor\":\"#E5ECF6\",\"gridcolor\":\"white\",\"linecolor\":\"white\",\"showbackground\":true,\"ticks\":\"\",\"zerolinecolor\":\"white\",\"gridwidth\":2}},\"shapedefaults\":{\"line\":{\"color\":\"#2a3f5f\"}},\"annotationdefaults\":{\"arrowcolor\":\"#2a3f5f\",\"arrowhead\":0,\"arrowwidth\":1},\"geo\":{\"bgcolor\":\"white\",\"landcolor\":\"#E5ECF6\",\"subunitcolor\":\"white\",\"showland\":true,\"showlakes\":true,\"lakecolor\":\"white\"},\"title\":{\"x\":0.05},\"mapbox\":{\"style\":\"light\"}}},\"xaxis\":{\"anchor\":\"y\",\"domain\":[0.0,1.0],\"title\":{\"text\":\"rating\"}},\"yaxis\":{\"anchor\":\"x\",\"domain\":[0.0,1.0],\"title\":{\"text\":\"Region\"},\"type\":\"category\",\"categoryorder\":\"total ascending\",\"color\":\"#660000\"},\"coloraxis\":{\"colorbar\":{\"title\":{\"text\":\"price\"}},\"colorscale\":[[0.0,\"rgb(103,0,31)\"],[0.1,\"rgb(178,24,43)\"],[0.2,\"rgb(214,96,77)\"],[0.3,\"rgb(244,165,130)\"],[0.4,\"rgb(253,219,199)\"],[0.5,\"rgb(247,247,247)\"],[0.6,\"rgb(209,229,240)\"],[0.7,\"rgb(146,197,222)\"],[0.8,\"rgb(67,147,195)\"],[0.9,\"rgb(33,102,172)\"],[1.0,\"rgb(5,48,97)\"]]},\"legend\":{\"tracegroupgap\":0},\"title\":{\"text\":\"Top 10 ratings' regions\"},\"barmode\":\"relative\"},                        {\"responsive\": true}                    ).then(function(){\n",
       "                            \n",
       "var gd = document.getElementById('600fcd62-049f-423e-9ac8-9ca7d7b20ba0');\n",
       "var x = new MutationObserver(function (mutations, observer) {{\n",
       "        var display = window.getComputedStyle(gd).display;\n",
       "        if (!display || display === 'none') {{\n",
       "            console.log([gd, 'removed!']);\n",
       "            Plotly.purge(gd);\n",
       "            observer.disconnect();\n",
       "        }}\n",
       "}});\n",
       "\n",
       "// Listen for the removal of the full notebook cells\n",
       "var notebookContainer = gd.closest('#notebook-container');\n",
       "if (notebookContainer) {{\n",
       "    x.observe(notebookContainer, {childList: true});\n",
       "}}\n",
       "\n",
       "// Listen for the clearing of the current output cell\n",
       "var outputEl = gd.closest('.output');\n",
       "if (outputEl) {{\n",
       "    x.observe(outputEl, {childList: true});\n",
       "}}\n",
       "\n",
       "                        })                };                });            </script>        </div>"
      ]
     },
     "metadata": {},
     "output_type": "display_data"
    }
   ],
   "source": [
    "# regions & Rating\n",
    "\n",
    "region_indices = [*OE.categories_[3]]\n",
    "region_rate = df.groupby('region')[['rating', 'price']].mean().sort_values(by='rating' ,ascending=False).iloc[:20]\n",
    "region_rate['rating'] = np.exp(region_rate['rating'])\n",
    "\n",
    "\n",
    "decoded_idx = [*map(lambda x : region_indices[int(x)], region_rate.index)]\n",
    "region_rate.index = (decoded_idx)\n",
    "\n",
    "fig = px.bar(data_frame=region_rate, y=region_rate.index, x='rating', opacity=0.5, orientation='h', \n",
    "            title=\"Top 10 ratings' regions\", color='price', color_continuous_scale='rdbu',\n",
    "            hover_data=['price', 'rating'])\n",
    "\n",
    "fig.update_yaxes(type='category', categoryorder='total ascending', title='Region', color='#660000')"
   ]
  },
  {
   "cell_type": "markdown",
   "id": "563e37b6",
   "metadata": {
    "papermill": {
     "duration": 0.022973,
     "end_time": "2022-08-18T19:03:58.681876",
     "exception": false,
     "start_time": "2022-08-18T19:03:58.658903",
     "status": "completed"
    },
    "tags": []
   },
   "source": [
    ">Insight:<br>\n",
    ">1. Most rated wine is bought in Montilla-Morilles.\n",
    ">2. Dehesa del Carrizal region buy cheap wine with good rating."
   ]
  },
  {
   "cell_type": "markdown",
   "id": "b523d891",
   "metadata": {
    "papermill": {
     "duration": 0.023187,
     "end_time": "2022-08-18T19:03:58.728503",
     "exception": false,
     "start_time": "2022-08-18T19:03:58.705316",
     "status": "completed"
    },
    "tags": []
   },
   "source": [
    "### [Return to main ⬆️](#main)"
   ]
  },
  {
   "cell_type": "markdown",
   "id": "138a686c",
   "metadata": {
    "papermill": {
     "duration": 0.023187,
     "end_time": "2022-08-18T19:03:58.775356",
     "exception": false,
     "start_time": "2022-08-18T19:03:58.752169",
     "status": "completed"
    },
    "tags": []
   },
   "source": [
    "<a id=4></a>\n",
    "<font color='#681c0b'><h2>Feature Engineering</h2>"
   ]
  },
  {
   "cell_type": "code",
   "execution_count": 28,
   "id": "66df87cc",
   "metadata": {
    "execution": {
     "iopub.execute_input": "2022-08-18T19:03:58.824450Z",
     "iopub.status.busy": "2022-08-18T19:03:58.823601Z",
     "iopub.status.idle": "2022-08-18T19:04:20.642090Z",
     "shell.execute_reply": "2022-08-18T19:04:20.640925Z"
    },
    "papermill": {
     "duration": 21.84574,
     "end_time": "2022-08-18T19:04:20.644572",
     "exception": false,
     "start_time": "2022-08-18T19:03:58.798832",
     "status": "completed"
    },
    "tags": []
   },
   "outputs": [
    {
     "data": {
      "image/png": "[encoded data removed]",
      "text/plain": [
       "<Figure size 432x288 with 1 Axes>"
      ]
     },
     "metadata": {},
     "output_type": "display_data"
    }
   ],
   "source": [
    "# Cluster based on winery\n",
    "\n",
    "# 1) drop winery column train clustering model and predict groups \n",
    "X = df.drop('winery', axis=1)\n",
    "\n",
    "# 2) Use TSNE to easy visualize data to check groups \n",
    "tsne = TSNE(n_components=3)\n",
    "Z = tsne.fit_transform(X)\n",
    "\n",
    "# 3) train clustering model and predict groups \n",
    "X = df.drop('winery', axis=1)\n",
    "\n",
    "model = KMeans(n_clusters=10, init='k-means++')\n",
    "model.fit(X)\n",
    "df['winery_g_masks'] = model.predict(X)\n",
    "\n",
    "# 4) get the winery mode of each group\n",
    "modes = pd.pivot_table(data=df, index='winery_g_masks',\n",
    "                       values=['winery'], aggfunc=lambda x : x.mode().iloc[0]).values\n",
    "\n",
    "df['winery_g'] = df['winery_g_masks'].apply(lambda x : modes[x, 0])\n",
    "\n",
    "# 5) plot groups \n",
    "df_Z = pd.DataFrame({'winery':df['winery_g'], 'comp0':Z[:, 0], 'comp1':Z[:, 1]})\n",
    "sns.scatterplot(data=df_Z, x='comp0', y='comp1', hue='winery')\n",
    "\n",
    "# 6) drop groups column (deriven from clustering algorithm)\n",
    "df.drop('winery_g_masks', axis=1, inplace=True)"
   ]
  },
  {
   "cell_type": "markdown",
   "id": "8afe62fa",
   "metadata": {
    "papermill": {
     "duration": 0.025379,
     "end_time": "2022-08-18T19:04:20.695973",
     "exception": false,
     "start_time": "2022-08-18T19:04:20.670594",
     "status": "completed"
    },
    "tags": []
   },
   "source": [
    "From upove graph, I found that winery groups almost are representive for our data."
   ]
  },
  {
   "cell_type": "markdown",
   "id": "f6144999",
   "metadata": {
    "papermill": {
     "duration": 0.02578,
     "end_time": "2022-08-18T19:04:20.747715",
     "exception": false,
     "start_time": "2022-08-18T19:04:20.721935",
     "status": "completed"
    },
    "tags": []
   },
   "source": [
    "I am Going to encode **type** columns with One Hot Encoder Instead of ordinal encoder (Not ordinal Feature). "
   ]
  },
  {
   "cell_type": "code",
   "execution_count": 29,
   "id": "1a9fd0f0",
   "metadata": {
    "execution": {
     "iopub.execute_input": "2022-08-18T19:04:20.801668Z",
     "iopub.status.busy": "2022-08-18T19:04:20.801222Z",
     "iopub.status.idle": "2022-08-18T19:04:20.815406Z",
     "shell.execute_reply": "2022-08-18T19:04:20.814464Z"
    },
    "papermill": {
     "duration": 0.043952,
     "end_time": "2022-08-18T19:04:20.817820",
     "exception": false,
     "start_time": "2022-08-18T19:04:20.773868",
     "status": "completed"
    },
    "tags": []
   },
   "outputs": [],
   "source": [
    "OHE = OneHotEncoder(drop='first')\n",
    "types = OHE.fit_transform(df['type'].values.reshape(-1, 1)).toarray()\n",
    "type_names = ['type_' + str(i) for i in range(df['type'].nunique() - 1)]\n",
    "types = pd.DataFrame(types, columns=type_names)\n",
    "df = pd.concat([df, types], axis=1, join='inner')"
   ]
  },
  {
   "cell_type": "code",
   "execution_count": 30,
   "id": "b58f30db",
   "metadata": {
    "execution": {
     "iopub.execute_input": "2022-08-18T19:04:20.870835Z",
     "iopub.status.busy": "2022-08-18T19:04:20.870364Z",
     "iopub.status.idle": "2022-08-18T19:04:20.921684Z",
     "shell.execute_reply": "2022-08-18T19:04:20.920382Z"
    },
    "papermill": {
     "duration": 0.08255,
     "end_time": "2022-08-18T19:04:20.925866",
     "exception": false,
     "start_time": "2022-08-18T19:04:20.843316",
     "status": "completed"
    },
    "tags": []
   },
   "outputs": [
    {
     "name": "stdout",
     "output_type": "stream",
     "text": [
      "                            OLS Regression Results                            \n",
      "==============================================================================\n",
      "Dep. Variable:                  price   R-squared:                       0.428\n",
      "Model:                            OLS   Adj. R-squared:                  0.418\n",
      "Method:                 Least Squares   F-statistic:                     43.09\n",
      "Date:                Thu, 18 Aug 2022   Prob (F-statistic):          3.22e-185\n",
      "Time:                        19:04:20   Log-Likelihood:                -10280.\n",
      "No. Observations:                1759   AIC:                         2.062e+04\n",
      "Df Residuals:                    1728   BIC:                         2.079e+04\n",
      "Df Model:                          30                                         \n",
      "Covariance Type:            nonrobust                                         \n",
      "===============================================================================\n",
      "                  coef    std err          t      P>|t|      [0.025      0.975]\n",
      "-------------------------------------------------------------------------------\n",
      "intercept    5834.0994    425.837     13.700      0.000    4998.889    6669.310\n",
      "winery          0.0046      0.014      0.330      0.742      -0.023       0.032\n",
      "wine            0.0357      0.009      3.911      0.000       0.018       0.054\n",
      "year           -3.7635      0.207    -18.219      0.000      -4.169      -3.358\n",
      "rating        391.1896     16.762     23.337      0.000     358.313     424.066\n",
      "num_reviews     0.0046      0.003      1.526      0.127      -0.001       0.010\n",
      "region          0.4116      0.135      3.060      0.002       0.148       0.675\n",
      "type            0.2504      0.599      0.418      0.676      -0.925       1.426\n",
      "body            4.1343      3.499      1.181      0.238      -2.729      10.998\n",
      "acidity        17.7988      6.533      2.724      0.007       4.985      30.612\n",
      "winery_g       -0.0030      0.013     -0.237      0.813      -0.028       0.022\n",
      "type_0          8.3706     29.465      0.284      0.776     -49.420      66.162\n",
      "type_1         16.3932     21.177      0.774      0.439     -25.141      57.928\n",
      "type_2        -27.6149     27.669     -0.998      0.318     -81.883      26.653\n",
      "type_3          9.2105     20.967      0.439      0.661     -31.913      50.334\n",
      "type_4         37.0164     25.748      1.438      0.151     -13.485      87.517\n",
      "type_5        -21.6684     25.209     -0.860      0.390     -71.111      27.775\n",
      "type_6          2.1655     25.743      0.084      0.933     -48.325      52.656\n",
      "type_7        -14.8546     21.141     -0.703      0.482     -56.319      26.610\n",
      "type_8          5.9580     15.912      0.374      0.708     -25.251      37.167\n",
      "type_9        -13.6791     15.980     -0.856      0.392     -45.021      17.662\n",
      "type_10         0.6250     15.429      0.041      0.968     -29.637      30.887\n",
      "type_11        -7.2696     15.214     -0.478      0.633     -37.109      22.570\n",
      "type_12       -16.2209     20.649     -0.786      0.432     -56.720      24.278\n",
      "type_13       -26.6549     44.765     -0.595      0.552    -114.455      61.145\n",
      "type_14       -17.1930     18.855     -0.912      0.362     -54.174      19.788\n",
      "type_15        -4.8938     40.542     -0.121      0.904     -84.411      74.623\n",
      "type_16       -17.5992     27.028     -0.651      0.515     -70.610      35.412\n",
      "type_17       -22.8808     18.259     -1.253      0.210     -58.692      12.930\n",
      "type_18       -11.1080     18.539     -0.599      0.549     -47.468      25.252\n",
      "type_19       -24.5640     21.920     -1.121      0.263     -67.557      18.429\n",
      "==============================================================================\n",
      "Omnibus:                      941.837   Durbin-Watson:                   1.989\n",
      "Prob(Omnibus):                  0.000   Jarque-Bera (JB):             8581.965\n",
      "Skew:                           2.353   Prob(JB):                         0.00\n",
      "Kurtosis:                      12.744   Cond. No.                     4.54e+05\n",
      "==============================================================================\n",
      "\n",
      "Notes:\n",
      "[1] Standard Errors assume that the covariance matrix of the errors is correctly specified.\n",
      "[2] The condition number is large, 4.54e+05. This might indicate that there are\n",
      "strong multicollinearity or other numerical problems.\n"
     ]
    }
   ],
   "source": [
    "X = df.drop(['price'], axis=1)\n",
    "X.insert(0, 'intercept', 1)\n",
    "y = df.price\n",
    "\n",
    "model = OLS(y, X)\n",
    "results = model.fit()\n",
    "print(results.summary())"
   ]
  },
  {
   "cell_type": "markdown",
   "id": "0f6e995b",
   "metadata": {
    "papermill": {
     "duration": 0.041826,
     "end_time": "2022-08-18T19:04:21.009901",
     "exception": false,
     "start_time": "2022-08-18T19:04:20.968075",
     "status": "completed"
    },
    "tags": []
   },
   "source": [
    "### PCA"
   ]
  },
  {
   "cell_type": "code",
   "execution_count": 31,
   "id": "46664cde",
   "metadata": {
    "execution": {
     "iopub.execute_input": "2022-08-18T19:04:21.066273Z",
     "iopub.status.busy": "2022-08-18T19:04:21.065837Z",
     "iopub.status.idle": "2022-08-18T19:04:21.180257Z",
     "shell.execute_reply": "2022-08-18T19:04:21.179017Z"
    },
    "papermill": {
     "duration": 0.144811,
     "end_time": "2022-08-18T19:04:21.183446",
     "exception": false,
     "start_time": "2022-08-18T19:04:21.038635",
     "status": "completed"
    },
    "tags": []
   },
   "outputs": [
    {
     "data": {
      "text/html": [
       "<div>                            <div id=\"54eaec9d-d9af-4640-8475-1f40c1d53f1e\" class=\"plotly-graph-div\" style=\"height:525px; width:100%;\"></div>            <script type=\"text/javascript\">                require([\"plotly\"], function(Plotly) {                    window.PLOTLYENV=window.PLOTLYENV || {};                                    if (document.getElementById(\"54eaec9d-d9af-4640-8475-1f40c1d53f1e\")) {                    Plotly.newPlot(                        \"54eaec9d-d9af-4640-8475-1f40c1d53f1e\",                        [{\"hovertemplate\":\"x=%{x}<br>y=%{y}<extra></extra>\",\"legendgroup\":\"\",\"line\":{\"color\":\"#636efa\",\"dash\":\"solid\"},\"marker\":{\"symbol\":\"circle\"},\"mode\":\"lines\",\"name\":\"\",\"orientation\":\"v\",\"showlegend\":false,\"x\":[0,1,2,3,4,5,6,7,8,9,10,11,12,13,14,15,16,17,18,19,20,21,22,23,24,25,26,27,28,29,30],\"xaxis\":\"x\",\"y\":[482689.83688351105,68296.49015583571,23131.343187879724,21279.857451088163,262.5300229704866,110.07711855003161,11.72723371901704,0.3497736590038108,0.2587096445113582,0.16517626622718126,0.11150503607417793,0.0950901251583084,0.06001007421635761,0.03471109699328153,0.030989746040327653,0.024671840350987177,0.01921425467409056,0.0183116528800189,0.017766087710441355,0.01589496764361944,0.014182041902162199,0.010853044837068946,0.009385468897812284,0.009075514540697877,0.008166927247845268,0.007476291418410191,0.006379456486445943,0.003032188005219379,0.00237769404685151,0.0008395336282015314,2.077941539083178e-27],\"yaxis\":\"y\",\"type\":\"scatter\"}],                        {\"template\":{\"data\":{\"histogram2dcontour\":[{\"type\":\"histogram2dcontour\",\"colorbar\":{\"outlinewidth\":0,\"ticks\":\"\"},\"colorscale\":[[0.0,\"#0d0887\"],[0.1111111111111111,\"#46039f\"],[0.2222222222222222,\"#7201a8\"],[0.3333333333333333,\"#9c179e\"],[0.4444444444444444,\"#bd3786\"],[0.5555555555555556,\"#d8576b\"],[0.6666666666666666,\"#ed7953\"],[0.7777777777777778,\"#fb9f3a\"],[0.8888888888888888,\"#fdca26\"],[1.0,\"#f0f921\"]]}],\"choropleth\":[{\"type\":\"choropleth\",\"colorbar\":{\"outlinewidth\":0,\"ticks\":\"\"}}],\"histogram2d\":[{\"type\":\"histogram2d\",\"colorbar\":{\"outlinewidth\":0,\"ticks\":\"\"},\"colorscale\":[[0.0,\"#0d0887\"],[0.1111111111111111,\"#46039f\"],[0.2222222222222222,\"#7201a8\"],[0.3333333333333333,\"#9c179e\"],[0.4444444444444444,\"#bd3786\"],[0.5555555555555556,\"#d8576b\"],[0.6666666666666666,\"#ed7953\"],[0.7777777777777778,\"#fb9f3a\"],[0.8888888888888888,\"#fdca26\"],[1.0,\"#f0f921\"]]}],\"heatmap\":[{\"type\":\"heatmap\",\"colorbar\":{\"outlinewidth\":0,\"ticks\":\"\"},\"colorscale\":[[0.0,\"#0d0887\"],[0.1111111111111111,\"#46039f\"],[0.2222222222222222,\"#7201a8\"],[0.3333333333333333,\"#9c179e\"],[0.4444444444444444,\"#bd3786\"],[0.5555555555555556,\"#d8576b\"],[0.6666666666666666,\"#ed7953\"],[0.7777777777777778,\"#fb9f3a\"],[0.8888888888888888,\"#fdca26\"],[1.0,\"#f0f921\"]]}],\"heatmapgl\":[{\"type\":\"heatmapgl\",\"colorbar\":{\"outlinewidth\":0,\"ticks\":\"\"},\"colorscale\":[[0.0,\"#0d0887\"],[0.1111111111111111,\"#46039f\"],[0.2222222222222222,\"#7201a8\"],[0.3333333333333333,\"#9c179e\"],[0.4444444444444444,\"#bd3786\"],[0.5555555555555556,\"#d8576b\"],[0.6666666666666666,\"#ed7953\"],[0.7777777777777778,\"#fb9f3a\"],[0.8888888888888888,\"#fdca26\"],[1.0,\"#f0f921\"]]}],\"contourcarpet\":[{\"type\":\"contourcarpet\",\"colorbar\":{\"outlinewidth\":0,\"ticks\":\"\"}}],\"contour\":[{\"type\":\"contour\",\"colorbar\":{\"outlinewidth\":0,\"ticks\":\"\"},\"colorscale\":[[0.0,\"#0d0887\"],[0.1111111111111111,\"#46039f\"],[0.2222222222222222,\"#7201a8\"],[0.3333333333333333,\"#9c179e\"],[0.4444444444444444,\"#bd3786\"],[0.5555555555555556,\"#d8576b\"],[0.6666666666666666,\"#ed7953\"],[0.7777777777777778,\"#fb9f3a\"],[0.8888888888888888,\"#fdca26\"],[1.0,\"#f0f921\"]]}],\"surface\":[{\"type\":\"surface\",\"colorbar\":{\"outlinewidth\":0,\"ticks\":\"\"},\"colorscale\":[[0.0,\"#0d0887\"],[0.1111111111111111,\"#46039f\"],[0.2222222222222222,\"#7201a8\"],[0.3333333333333333,\"#9c179e\"],[0.4444444444444444,\"#bd3786\"],[0.5555555555555556,\"#d8576b\"],[0.6666666666666666,\"#ed7953\"],[0.7777777777777778,\"#fb9f3a\"],[0.8888888888888888,\"#fdca26\"],[1.0,\"#f0f921\"]]}],\"mesh3d\":[{\"type\":\"mesh3d\",\"colorbar\":{\"outlinewidth\":0,\"ticks\":\"\"}}],\"scatter\":[{\"fillpattern\":{\"fillmode\":\"overlay\",\"size\":10,\"solidity\":0.2},\"type\":\"scatter\"}],\"parcoords\":[{\"type\":\"parcoords\",\"line\":{\"colorbar\":{\"outlinewidth\":0,\"ticks\":\"\"}}}],\"scatterpolargl\":[{\"type\":\"scatterpolargl\",\"marker\":{\"colorbar\":{\"outlinewidth\":0,\"ticks\":\"\"}}}],\"bar\":[{\"error_x\":{\"color\":\"#2a3f5f\"},\"error_y\":{\"color\":\"#2a3f5f\"},\"marker\":{\"line\":{\"color\":\"#E5ECF6\",\"width\":0.5},\"pattern\":{\"fillmode\":\"overlay\",\"size\":10,\"solidity\":0.2}},\"type\":\"bar\"}],\"scattergeo\":[{\"type\":\"scattergeo\",\"marker\":{\"colorbar\":{\"outlinewidth\":0,\"ticks\":\"\"}}}],\"scatterpolar\":[{\"type\":\"scatterpolar\",\"marker\":{\"colorbar\":{\"outlinewidth\":0,\"ticks\":\"\"}}}],\"histogram\":[{\"marker\":{\"pattern\":{\"fillmode\":\"overlay\",\"size\":10,\"solidity\":0.2}},\"type\":\"histogram\"}],\"scattergl\":[{\"type\":\"scattergl\",\"marker\":{\"colorbar\":{\"outlinewidth\":0,\"ticks\":\"\"}}}],\"scatter3d\":[{\"type\":\"scatter3d\",\"line\":{\"colorbar\":{\"outlinewidth\":0,\"ticks\":\"\"}},\"marker\":{\"colorbar\":{\"outlinewidth\":0,\"ticks\":\"\"}}}],\"scattermapbox\":[{\"type\":\"scattermapbox\",\"marker\":{\"colorbar\":{\"outlinewidth\":0,\"ticks\":\"\"}}}],\"scatterternary\":[{\"type\":\"scatterternary\",\"marker\":{\"colorbar\":{\"outlinewidth\":0,\"ticks\":\"\"}}}],\"scattercarpet\":[{\"type\":\"scattercarpet\",\"marker\":{\"colorbar\":{\"outlinewidth\":0,\"ticks\":\"\"}}}],\"carpet\":[{\"aaxis\":{\"endlinecolor\":\"#2a3f5f\",\"gridcolor\":\"white\",\"linecolor\":\"white\",\"minorgridcolor\":\"white\",\"startlinecolor\":\"#2a3f5f\"},\"baxis\":{\"endlinecolor\":\"#2a3f5f\",\"gridcolor\":\"white\",\"linecolor\":\"white\",\"minorgridcolor\":\"white\",\"startlinecolor\":\"#2a3f5f\"},\"type\":\"carpet\"}],\"table\":[{\"cells\":{\"fill\":{\"color\":\"#EBF0F8\"},\"line\":{\"color\":\"white\"}},\"header\":{\"fill\":{\"color\":\"#C8D4E3\"},\"line\":{\"color\":\"white\"}},\"type\":\"table\"}],\"barpolar\":[{\"marker\":{\"line\":{\"color\":\"#E5ECF6\",\"width\":0.5},\"pattern\":{\"fillmode\":\"overlay\",\"size\":10,\"solidity\":0.2}},\"type\":\"barpolar\"}],\"pie\":[{\"automargin\":true,\"type\":\"pie\"}]},\"layout\":{\"autotypenumbers\":\"strict\",\"colorway\":[\"#636efa\",\"#EF553B\",\"#00cc96\",\"#ab63fa\",\"#FFA15A\",\"#19d3f3\",\"#FF6692\",\"#B6E880\",\"#FF97FF\",\"#FECB52\"],\"font\":{\"color\":\"#2a3f5f\"},\"hovermode\":\"closest\",\"hoverlabel\":{\"align\":\"left\"},\"paper_bgcolor\":\"white\",\"plot_bgcolor\":\"#E5ECF6\",\"polar\":{\"bgcolor\":\"#E5ECF6\",\"angularaxis\":{\"gridcolor\":\"white\",\"linecolor\":\"white\",\"ticks\":\"\"},\"radialaxis\":{\"gridcolor\":\"white\",\"linecolor\":\"white\",\"ticks\":\"\"}},\"ternary\":{\"bgcolor\":\"#E5ECF6\",\"aaxis\":{\"gridcolor\":\"white\",\"linecolor\":\"white\",\"ticks\":\"\"},\"baxis\":{\"gridcolor\":\"white\",\"linecolor\":\"white\",\"ticks\":\"\"},\"caxis\":{\"gridcolor\":\"white\",\"linecolor\":\"white\",\"ticks\":\"\"}},\"coloraxis\":{\"colorbar\":{\"outlinewidth\":0,\"ticks\":\"\"}},\"colorscale\":{\"sequential\":[[0.0,\"#0d0887\"],[0.1111111111111111,\"#46039f\"],[0.2222222222222222,\"#7201a8\"],[0.3333333333333333,\"#9c179e\"],[0.4444444444444444,\"#bd3786\"],[0.5555555555555556,\"#d8576b\"],[0.6666666666666666,\"#ed7953\"],[0.7777777777777778,\"#fb9f3a\"],[0.8888888888888888,\"#fdca26\"],[1.0,\"#f0f921\"]],\"sequentialminus\":[[0.0,\"#0d0887\"],[0.1111111111111111,\"#46039f\"],[0.2222222222222222,\"#7201a8\"],[0.3333333333333333,\"#9c179e\"],[0.4444444444444444,\"#bd3786\"],[0.5555555555555556,\"#d8576b\"],[0.6666666666666666,\"#ed7953\"],[0.7777777777777778,\"#fb9f3a\"],[0.8888888888888888,\"#fdca26\"],[1.0,\"#f0f921\"]],\"diverging\":[[0,\"#8e0152\"],[0.1,\"#c51b7d\"],[0.2,\"#de77ae\"],[0.3,\"#f1b6da\"],[0.4,\"#fde0ef\"],[0.5,\"#f7f7f7\"],[0.6,\"#e6f5d0\"],[0.7,\"#b8e186\"],[0.8,\"#7fbc41\"],[0.9,\"#4d9221\"],[1,\"#276419\"]]},\"xaxis\":{\"gridcolor\":\"white\",\"linecolor\":\"white\",\"ticks\":\"\",\"title\":{\"standoff\":15},\"zerolinecolor\":\"white\",\"automargin\":true,\"zerolinewidth\":2},\"yaxis\":{\"gridcolor\":\"white\",\"linecolor\":\"white\",\"ticks\":\"\",\"title\":{\"standoff\":15},\"zerolinecolor\":\"white\",\"automargin\":true,\"zerolinewidth\":2},\"scene\":{\"xaxis\":{\"backgroundcolor\":\"#E5ECF6\",\"gridcolor\":\"white\",\"linecolor\":\"white\",\"showbackground\":true,\"ticks\":\"\",\"zerolinecolor\":\"white\",\"gridwidth\":2},\"yaxis\":{\"backgroundcolor\":\"#E5ECF6\",\"gridcolor\":\"white\",\"linecolor\":\"white\",\"showbackground\":true,\"ticks\":\"\",\"zerolinecolor\":\"white\",\"gridwidth\":2},\"zaxis\":{\"backgroundcolor\":\"#E5ECF6\",\"gridcolor\":\"white\",\"linecolor\":\"white\",\"showbackground\":true,\"ticks\":\"\",\"zerolinecolor\":\"white\",\"gridwidth\":2}},\"shapedefaults\":{\"line\":{\"color\":\"#2a3f5f\"}},\"annotationdefaults\":{\"arrowcolor\":\"#2a3f5f\",\"arrowhead\":0,\"arrowwidth\":1},\"geo\":{\"bgcolor\":\"white\",\"landcolor\":\"#E5ECF6\",\"subunitcolor\":\"white\",\"showland\":true,\"showlakes\":true,\"lakecolor\":\"white\"},\"title\":{\"x\":0.05},\"mapbox\":{\"style\":\"light\"}}},\"xaxis\":{\"anchor\":\"y\",\"domain\":[0.0,1.0],\"title\":{\"text\":\"x\"}},\"yaxis\":{\"anchor\":\"x\",\"domain\":[0.0,1.0],\"title\":{\"text\":\"y\"}},\"legend\":{\"tracegroupgap\":0},\"margin\":{\"t\":60},\"shapes\":[{\"line\":{\"color\":\"red\",\"dash\":\"dot\"},\"opacity\":0.5,\"type\":\"line\",\"x0\":0,\"x1\":30,\"y0\":1,\"y1\":1}]},                        {\"responsive\": true}                    ).then(function(){\n",
       "                            \n",
       "var gd = document.getElementById('54eaec9d-d9af-4640-8475-1f40c1d53f1e');\n",
       "var x = new MutationObserver(function (mutations, observer) {{\n",
       "        var display = window.getComputedStyle(gd).display;\n",
       "        if (!display || display === 'none') {{\n",
       "            console.log([gd, 'removed!']);\n",
       "            Plotly.purge(gd);\n",
       "            observer.disconnect();\n",
       "        }}\n",
       "}});\n",
       "\n",
       "// Listen for the removal of the full notebook cells\n",
       "var notebookContainer = gd.closest('#notebook-container');\n",
       "if (notebookContainer) {{\n",
       "    x.observe(notebookContainer, {childList: true});\n",
       "}}\n",
       "\n",
       "// Listen for the clearing of the current output cell\n",
       "var outputEl = gd.closest('.output');\n",
       "if (outputEl) {{\n",
       "    x.observe(outputEl, {childList: true});\n",
       "}}\n",
       "\n",
       "                        })                };                });            </script>        </div>"
      ]
     },
     "metadata": {},
     "output_type": "display_data"
    }
   ],
   "source": [
    "cov_matrix = PCA(n_components=df.shape[1])\n",
    "cov_matrix.fit(X)\n",
    "\n",
    "fig = px.line(x=range(len(cov_matrix.explained_variance_)), y=cov_matrix.explained_variance_)\n",
    "fig.add_shape(type='line', y0=1, y1=1, x0=0, x1=30, opacity=0.5, line=dict(color='red', dash='dot'))"
   ]
  },
  {
   "cell_type": "markdown",
   "id": "5d5a63a7",
   "metadata": {
    "papermill": {
     "duration": 0.026261,
     "end_time": "2022-08-18T19:04:21.249625",
     "exception": false,
     "start_time": "2022-08-18T19:04:21.223364",
     "status": "completed"
    },
    "tags": []
   },
   "source": [
    "From this graph, The best value for Number of Principle Components = **7** PC"
   ]
  },
  {
   "cell_type": "code",
   "execution_count": 32,
   "id": "295852a2",
   "metadata": {
    "execution": {
     "iopub.execute_input": "2022-08-18T19:04:21.304428Z",
     "iopub.status.busy": "2022-08-18T19:04:21.303325Z",
     "iopub.status.idle": "2022-08-18T19:04:21.341650Z",
     "shell.execute_reply": "2022-08-18T19:04:21.339057Z"
    },
    "papermill": {
     "duration": 0.06957,
     "end_time": "2022-08-18T19:04:21.345406",
     "exception": false,
     "start_time": "2022-08-18T19:04:21.275836",
     "status": "completed"
    },
    "tags": []
   },
   "outputs": [],
   "source": [
    "pca = PCA(n_components=7)\n",
    "pca.fit(X)\n",
    "\n",
    "X = pca.transform(X)"
   ]
  },
  {
   "cell_type": "markdown",
   "id": "e924c63f",
   "metadata": {
    "papermill": {
     "duration": 0.046689,
     "end_time": "2022-08-18T19:04:21.465170",
     "exception": false,
     "start_time": "2022-08-18T19:04:21.418481",
     "status": "completed"
    },
    "tags": []
   },
   "source": [
    "### [Return to main ⬆️](#main)"
   ]
  },
  {
   "cell_type": "markdown",
   "id": "e0ec647a",
   "metadata": {
    "papermill": {
     "duration": 0.025951,
     "end_time": "2022-08-18T19:04:21.517361",
     "exception": false,
     "start_time": "2022-08-18T19:04:21.491410",
     "status": "completed"
    },
    "tags": []
   },
   "source": [
    "<a id=5></a>\n",
    "<font color='#681c0b'><h2>Model Training</h2>"
   ]
  },
  {
   "cell_type": "markdown",
   "id": "b1a0ab42",
   "metadata": {
    "papermill": {
     "duration": 0.025739,
     "end_time": "2022-08-18T19:04:21.569308",
     "exception": false,
     "start_time": "2022-08-18T19:04:21.543569",
     "status": "completed"
    },
    "tags": []
   },
   "source": [
    "First: **XGboost** "
   ]
  },
  {
   "cell_type": "code",
   "execution_count": 33,
   "id": "b552a859",
   "metadata": {
    "execution": {
     "iopub.execute_input": "2022-08-18T19:04:21.623531Z",
     "iopub.status.busy": "2022-08-18T19:04:21.622349Z",
     "iopub.status.idle": "2022-08-18T19:04:47.655757Z",
     "shell.execute_reply": "2022-08-18T19:04:47.654644Z"
    },
    "papermill": {
     "duration": 26.063427,
     "end_time": "2022-08-18T19:04:47.658576",
     "exception": false,
     "start_time": "2022-08-18T19:04:21.595149",
     "status": "completed"
    },
    "tags": []
   },
   "outputs": [
    {
     "name": "stdout",
     "output_type": "stream",
     "text": [
      "[19:04:31] WARNING: ../src/learner.cc:627: \n",
      "Parameters: { \"max_depth\" } might not be used.\n",
      "\n",
      "  This could be a false alarm, with some parameters getting used by language bindings but\n",
      "  then being mistakenly passed down to XGBoost core, or some parameter actually being used\n",
      "  but getting flagged wrongly here. Please open an issue if you find any such cases.\n",
      "\n",
      "\n",
      "[19:04:31] WARNING: ../src/learner.cc:627: \n",
      "Parameters: { \"max_depth\" } might not be used.\n",
      "\n",
      "  This could be a false alarm, with some parameters getting used by language bindings but\n",
      "  then being mistakenly passed down to XGBoost core, or some parameter actually being used\n",
      "  but getting flagged wrongly here. Please open an issue if you find any such cases.\n",
      "\n",
      "\n",
      "[19:04:31] WARNING: ../src/learner.cc:627: \n",
      "Parameters: { \"max_depth\" } might not be used.\n",
      "\n",
      "  This could be a false alarm, with some parameters getting used by language bindings but\n",
      "  then being mistakenly passed down to XGBoost core, or some parameter actually being used\n",
      "  but getting flagged wrongly here. Please open an issue if you find any such cases.\n",
      "\n",
      "\n",
      "[19:04:31] WARNING: ../src/learner.cc:627: \n",
      "Parameters: { \"max_depth\" } might not be used.\n",
      "\n",
      "  This could be a false alarm, with some parameters getting used by language bindings but\n",
      "  then being mistakenly passed down to XGBoost core, or some parameter actually being used\n",
      "  but getting flagged wrongly here. Please open an issue if you find any such cases.\n",
      "\n",
      "\n",
      "[19:04:31] WARNING: ../src/learner.cc:627: \n",
      "Parameters: { \"max_depth\" } might not be used.\n",
      "\n",
      "  This could be a false alarm, with some parameters getting used by language bindings but\n",
      "  then being mistakenly passed down to XGBoost core, or some parameter actually being used\n",
      "  but getting flagged wrongly here. Please open an issue if you find any such cases.\n",
      "\n",
      "\n",
      "[19:04:31] WARNING: ../src/learner.cc:627: \n",
      "Parameters: { \"max_depth\" } might not be used.\n",
      "\n",
      "  This could be a false alarm, with some parameters getting used by language bindings but\n",
      "  then being mistakenly passed down to XGBoost core, or some parameter actually being used\n",
      "  but getting flagged wrongly here. Please open an issue if you find any such cases.\n",
      "\n",
      "\n",
      "[19:04:31] WARNING: ../src/learner.cc:627: \n",
      "Parameters: { \"max_depth\" } might not be used.\n",
      "\n",
      "  This could be a false alarm, with some parameters getting used by language bindings but\n",
      "  then being mistakenly passed down to XGBoost core, or some parameter actually being used\n",
      "  but getting flagged wrongly here. Please open an issue if you find any such cases.\n",
      "\n",
      "\n",
      "[19:04:31] WARNING: ../src/learner.cc:627: \n",
      "Parameters: { \"max_depth\" } might not be used.\n",
      "\n",
      "  This could be a false alarm, with some parameters getting used by language bindings but\n",
      "  then being mistakenly passed down to XGBoost core, or some parameter actually being used\n",
      "  but getting flagged wrongly here. Please open an issue if you find any such cases.\n",
      "\n",
      "\n",
      "[19:04:31] WARNING: ../src/learner.cc:627: \n",
      "Parameters: { \"max_depth\" } might not be used.\n",
      "\n",
      "  This could be a false alarm, with some parameters getting used by language bindings but\n",
      "  then being mistakenly passed down to XGBoost core, or some parameter actually being used\n",
      "  but getting flagged wrongly here. Please open an issue if you find any such cases.\n",
      "\n",
      "\n",
      "[19:04:31] WARNING: ../src/learner.cc:627: \n",
      "Parameters: { \"max_depth\" } might not be used.\n",
      "\n",
      "  This could be a false alarm, with some parameters getting used by language bindings but\n",
      "  then being mistakenly passed down to XGBoost core, or some parameter actually being used\n",
      "  but getting flagged wrongly here. Please open an issue if you find any such cases.\n",
      "\n",
      "\n",
      "[19:04:31] WARNING: ../src/learner.cc:627: \n",
      "Parameters: { \"max_depth\" } might not be used.\n",
      "\n",
      "  This could be a false alarm, with some parameters getting used by language bindings but\n",
      "  then being mistakenly passed down to XGBoost core, or some parameter actually being used\n",
      "  but getting flagged wrongly here. Please open an issue if you find any such cases.\n",
      "\n",
      "\n",
      "[19:04:32] WARNING: ../src/learner.cc:627: \n",
      "Parameters: { \"max_depth\" } might not be used.\n",
      "\n",
      "  This could be a false alarm, with some parameters getting used by language bindings but\n",
      "  then being mistakenly passed down to XGBoost core, or some parameter actually being used\n",
      "  but getting flagged wrongly here. Please open an issue if you find any such cases.\n",
      "\n",
      "\n",
      "[19:04:32] WARNING: ../src/learner.cc:627: \n",
      "Parameters: { \"max_depth\" } might not be used.\n",
      "\n",
      "  This could be a false alarm, with some parameters getting used by language bindings but\n",
      "  then being mistakenly passed down to XGBoost core, or some parameter actually being used\n",
      "  but getting flagged wrongly here. Please open an issue if you find any such cases.\n",
      "\n",
      "\n",
      "[19:04:32] WARNING: ../src/learner.cc:627: \n",
      "Parameters: { \"max_depth\" } might not be used.\n",
      "\n",
      "  This could be a false alarm, with some parameters getting used by language bindings but\n",
      "  then being mistakenly passed down to XGBoost core, or some parameter actually being used\n",
      "  but getting flagged wrongly here. Please open an issue if you find any such cases.\n",
      "\n",
      "\n",
      "[19:04:32] WARNING: ../src/learner.cc:627: \n",
      "Parameters: { \"max_depth\" } might not be used.\n",
      "\n",
      "  This could be a false alarm, with some parameters getting used by language bindings but\n",
      "  then being mistakenly passed down to XGBoost core, or some parameter actually being used\n",
      "  but getting flagged wrongly here. Please open an issue if you find any such cases.\n",
      "\n",
      "\n",
      "[19:04:32] WARNING: ../src/learner.cc:627: \n",
      "Parameters: { \"max_depth\" } might not be used.\n",
      "\n",
      "  This could be a false alarm, with some parameters getting used by language bindings but\n",
      "  then being mistakenly passed down to XGBoost core, or some parameter actually being used\n",
      "  but getting flagged wrongly here. Please open an issue if you find any such cases.\n",
      "\n",
      "\n",
      "[19:04:33] WARNING: ../src/learner.cc:627: \n",
      "Parameters: { \"max_depth\" } might not be used.\n",
      "\n",
      "  This could be a false alarm, with some parameters getting used by language bindings but\n",
      "  then being mistakenly passed down to XGBoost core, or some parameter actually being used\n",
      "  but getting flagged wrongly here. Please open an issue if you find any such cases.\n",
      "\n",
      "\n",
      "[19:04:33] WARNING: ../src/learner.cc:627: \n",
      "Parameters: { \"max_depth\" } might not be used.\n",
      "\n",
      "  This could be a false alarm, with some parameters getting used by language bindings but\n",
      "  then being mistakenly passed down to XGBoost core, or some parameter actually being used\n",
      "  but getting flagged wrongly here. Please open an issue if you find any such cases.\n",
      "\n",
      "\n",
      "[19:04:33] WARNING: ../src/learner.cc:627: \n",
      "Parameters: { \"max_depth\" } might not be used.\n",
      "\n",
      "  This could be a false alarm, with some parameters getting used by language bindings but\n",
      "  then being mistakenly passed down to XGBoost core, or some parameter actually being used\n",
      "  but getting flagged wrongly here. Please open an issue if you find any such cases.\n",
      "\n",
      "\n",
      "[19:04:33] WARNING: ../src/learner.cc:627: \n",
      "Parameters: { \"max_depth\" } might not be used.\n",
      "\n",
      "  This could be a false alarm, with some parameters getting used by language bindings but\n",
      "  then being mistakenly passed down to XGBoost core, or some parameter actually being used\n",
      "  but getting flagged wrongly here. Please open an issue if you find any such cases.\n",
      "\n",
      "\n",
      "[19:04:33] WARNING: ../src/learner.cc:627: \n",
      "Parameters: { \"max_depth\" } might not be used.\n",
      "\n",
      "  This could be a false alarm, with some parameters getting used by language bindings but\n",
      "  then being mistakenly passed down to XGBoost core, or some parameter actually being used\n",
      "  but getting flagged wrongly here. Please open an issue if you find any such cases.\n",
      "\n",
      "\n",
      "[19:04:34] WARNING: ../src/learner.cc:627: \n",
      "Parameters: { \"max_depth\" } might not be used.\n",
      "\n",
      "  This could be a false alarm, with some parameters getting used by language bindings but\n",
      "  then being mistakenly passed down to XGBoost core, or some parameter actually being used\n",
      "  but getting flagged wrongly here. Please open an issue if you find any such cases.\n",
      "\n",
      "\n",
      "[19:04:34] WARNING: ../src/learner.cc:627: \n",
      "Parameters: { \"max_depth\" } might not be used.\n",
      "\n",
      "  This could be a false alarm, with some parameters getting used by language bindings but\n",
      "  then being mistakenly passed down to XGBoost core, or some parameter actually being used\n",
      "  but getting flagged wrongly here. Please open an issue if you find any such cases.\n",
      "\n",
      "\n",
      "[19:04:34] WARNING: ../src/learner.cc:627: \n",
      "Parameters: { \"max_depth\" } might not be used.\n",
      "\n",
      "  This could be a false alarm, with some parameters getting used by language bindings but\n",
      "  then being mistakenly passed down to XGBoost core, or some parameter actually being used\n",
      "  but getting flagged wrongly here. Please open an issue if you find any such cases.\n",
      "\n",
      "\n",
      "[19:04:35] WARNING: ../src/learner.cc:627: \n",
      "Parameters: { \"max_depth\" } might not be used.\n",
      "\n",
      "  This could be a false alarm, with some parameters getting used by language bindings but\n",
      "  then being mistakenly passed down to XGBoost core, or some parameter actually being used\n",
      "  but getting flagged wrongly here. Please open an issue if you find any such cases.\n",
      "\n",
      "\n"
     ]
    }
   ],
   "source": [
    "X = StandardScaler().fit_transform(X)\n",
    "\n",
    "params = {'booster':['gbtree', 'gblinear', 'dart'], 'n_estimators':range(0, 100, 20)}\n",
    "xgbmodel = XGBRegressor(max_depth=10)\n",
    "results = GridSearchCV(xgbmodel, param_grid=params, cv=5).fit(X, y)"
   ]
  },
  {
   "cell_type": "code",
   "execution_count": 34,
   "id": "358ebbf6",
   "metadata": {
    "execution": {
     "iopub.execute_input": "2022-08-18T19:04:47.715659Z",
     "iopub.status.busy": "2022-08-18T19:04:47.715235Z",
     "iopub.status.idle": "2022-08-18T19:04:48.746801Z",
     "shell.execute_reply": "2022-08-18T19:04:48.745577Z"
    },
    "papermill": {
     "duration": 1.063446,
     "end_time": "2022-08-18T19:04:48.749844",
     "exception": false,
     "start_time": "2022-08-18T19:04:47.686398",
     "status": "completed"
    },
    "tags": []
   },
   "outputs": [
    {
     "name": "stdout",
     "output_type": "stream",
     "text": [
      "Score of xgbmodel: 0.999914661074218\n",
      "MSE of XGboost model: 1.0404958001217037\n",
      "MAE of XGboost model: 0.6765255873840272\n"
     ]
    }
   ],
   "source": [
    "params = results.best_params_\n",
    "xgbmodel = XGBRegressor(max_depth=10, **params)\n",
    "xgbmodel.fit(X, y)\n",
    "print(f'Score of xgbmodel: {xgbmodel.score(X, y)}')\n",
    "\n",
    "y_pred = xgbmodel.predict(X)\n",
    "\n",
    "print(f'MSE of XGboost model: {mean_squared_error(y, y_pred)}')\n",
    "print(f'MAE of XGboost model: {mean_absolute_error(y, y_pred)}')"
   ]
  },
  {
   "cell_type": "markdown",
   "id": "51a675b8",
   "metadata": {
    "papermill": {
     "duration": 0.027783,
     "end_time": "2022-08-18T19:04:48.805149",
     "exception": false,
     "start_time": "2022-08-18T19:04:48.777366",
     "status": "completed"
    },
    "tags": []
   },
   "source": [
    "Second: **ExtraTree**"
   ]
  },
  {
   "cell_type": "code",
   "execution_count": 35,
   "id": "4d4ea1a2",
   "metadata": {
    "execution": {
     "iopub.execute_input": "2022-08-18T19:04:48.861770Z",
     "iopub.status.busy": "2022-08-18T19:04:48.861033Z",
     "iopub.status.idle": "2022-08-18T19:04:49.133567Z",
     "shell.execute_reply": "2022-08-18T19:04:49.132062Z"
    },
    "papermill": {
     "duration": 0.30465,
     "end_time": "2022-08-18T19:04:49.137188",
     "exception": false,
     "start_time": "2022-08-18T19:04:48.832538",
     "status": "completed"
    },
    "tags": []
   },
   "outputs": [
    {
     "name": "stdout",
     "output_type": "stream",
     "text": [
      "Score of ExtraTree model: 0.9408412177394249\n",
      "MSE of ExtraTree model: 721.2941095569778\n",
      "MAE of ExtraTree model: 16.4572864756113\n"
     ]
    }
   ],
   "source": [
    "extratreeregressor = ExtraTreesRegressor(bootstrap=True, n_estimators=60)\n",
    "extratreeregressor.fit(X, y)\n",
    "print(f'Score of ExtraTree model: {extratreeregressor.score(X, y)}')\n",
    "y_pred = extratreeregressor.predict(X)\n",
    "\n",
    "print(f'MSE of ExtraTree model: {mean_squared_error(y, y_pred)}')\n",
    "print(f'MAE of ExtraTree model: {mean_absolute_error(y, y_pred)}')"
   ]
  },
  {
   "cell_type": "markdown",
   "id": "d3a4b2bc",
   "metadata": {
    "papermill": {
     "duration": 0.027473,
     "end_time": "2022-08-18T19:04:49.193530",
     "exception": false,
     "start_time": "2022-08-18T19:04:49.166057",
     "status": "completed"
    },
    "tags": []
   },
   "source": [
    "Third: **Ensemble** Previous two algo"
   ]
  },
  {
   "cell_type": "code",
   "execution_count": 36,
   "id": "d1c6f26e",
   "metadata": {
    "execution": {
     "iopub.execute_input": "2022-08-18T19:04:49.251372Z",
     "iopub.status.busy": "2022-08-18T19:04:49.250482Z",
     "iopub.status.idle": "2022-08-18T19:04:50.530437Z",
     "shell.execute_reply": "2022-08-18T19:04:50.528636Z"
    },
    "papermill": {
     "duration": 1.31202,
     "end_time": "2022-08-18T19:04:50.533453",
     "exception": false,
     "start_time": "2022-08-18T19:04:49.221433",
     "status": "completed"
    },
    "tags": []
   },
   "outputs": [
    {
     "name": "stdout",
     "output_type": "stream",
     "text": [
      "Score of Voting model: 0.9858061367940906\n",
      "MSE of Voting model: 721.2941095569778\n",
      "MAE of Voting model: 16.4572864756113\n"
     ]
    }
   ],
   "source": [
    "xgb = XGBRegressor(max_depth=10, **params)\n",
    "etr = ExtraTreesRegressor(bootstrap=True, n_estimators=60)\n",
    "\n",
    "estimators = [('clf1', xgb), ('clf2', etr)]\n",
    "voting_model = VotingRegressor(estimators=estimators)\n",
    "voting_model.fit(X, y)\n",
    "\n",
    "print(f'Score of Voting model: {voting_model.score(X, y)}')\n",
    "y_pred = extratreeregressor.predict(X)\n",
    "\n",
    "print(f'MSE of Voting model: {mean_squared_error(y, y_pred)}')\n",
    "print(f'MAE of Voting model: {mean_absolute_error(y, y_pred)}')"
   ]
  },
  {
   "cell_type": "code",
   "execution_count": 37,
   "id": "10a58386",
   "metadata": {
    "execution": {
     "iopub.execute_input": "2022-08-18T19:04:50.592363Z",
     "iopub.status.busy": "2022-08-18T19:04:50.591571Z",
     "iopub.status.idle": "2022-08-18T19:04:50.863381Z",
     "shell.execute_reply": "2022-08-18T19:04:50.862089Z"
    },
    "papermill": {
     "duration": 0.303918,
     "end_time": "2022-08-18T19:04:50.866319",
     "exception": false,
     "start_time": "2022-08-18T19:04:50.562401",
     "status": "completed"
    },
    "tags": []
   },
   "outputs": [
    {
     "data": {
      "text/plain": [
       "<matplotlib.legend.Legend at 0x7f953cda7850>"
      ]
     },
     "execution_count": 37,
     "metadata": {},
     "output_type": "execute_result"
    },
    {
     "data": {
      "image/png": "[encoded data removed]",
      "text/plain": [
       "<Figure size 432x288 with 1 Axes>"
      ]
     },
     "metadata": {},
     "output_type": "display_data"
    }
   ],
   "source": [
    "sns.distplot(y, hist=False, label='Ground Truth labels')\n",
    "sns.distplot(y_pred, hist=False, label='Predicted labels')\n",
    "plt.legend()"
   ]
  },
  {
   "cell_type": "markdown",
   "id": "4e4c9b0f",
   "metadata": {
    "papermill": {
     "duration": 0.027832,
     "end_time": "2022-08-18T19:04:50.922876",
     "exception": false,
     "start_time": "2022-08-18T19:04:50.895044",
     "status": "completed"
    },
    "tags": []
   },
   "source": [
    "### [Return to main ⬆️](#main)\n",
    "\n",
    "Good job for reaching this point, I hope you have enjoyed my notebook ☺️<br>\n",
    "If you find this usefull please **upvote** ⬆️⬆️"
   ]
  }
 ],
 "metadata": {
  "kernelspec": {
   "display_name": "Python 3 (ipykernel)",
   "language": "python",
   "name": "python3"
  },
  "language_info": {
   "codemirror_mode": {
    "name": "ipython",
    "version": 3
   },
   "file_extension": ".py",
   "mimetype": "text/x-python",
   "name": "python",
   "nbconvert_exporter": "python",
   "pygments_lexer": "ipython3",
   "version": "3.8.10"
  },
  "papermill": {
   "default_parameters": {},
   "duration": 78.156798,
   "end_time": "2022-08-18T19:04:52.074960",
   "environment_variables": {},
   "exception": null,
   "input_path": "__notebook__.ipynb",
   "output_path": "__notebook__.ipynb",
   "parameters": {},
   "start_time": "2022-08-18T19:03:33.918162",
   "version": "2.3.4"
  }
 },
 "nbformat": 4,
 "nbformat_minor": 5
}
