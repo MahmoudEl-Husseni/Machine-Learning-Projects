{
 "cells": [
  {
   "cell_type": "markdown",
   "id": "3de51d10",
   "metadata": {},
   "source": [
    "<h1 style=\"color:#7f1431\"><strong>For better visualizations experience check this notebook at: </strong>\n",
    "<a href='https://www.kaggle.com/code/mahmoudelhusseni/fifa-world-cup-winner-2022-part2'>\n",
    "<img src='https://img.shields.io/static/v1?style=for-the-badge&message=Kaggle&color=222222&logo=Kaggle&logoColor=20BEFF&label=' alt='Kaggle'></img></a></h1>"
   ]
  },
  {
   "cell_type": "markdown",
   "id": "73e32aa3",
   "metadata": {
    "_cell_guid": "b1076dfc-b9ad-4769-8c92-a6c4dae69d19",
    "_uuid": "8f2839f25d086af736a60e9eeb907d3b93b6e0e5",
    "papermill": {
     "duration": 0.007389,
     "end_time": "2022-11-18T12:45:30.199723",
     "exception": false,
     "start_time": "2022-11-18T12:45:30.192334",
     "status": "completed"
    },
    "tags": []
   },
   "source": [
    "<h1 style=\"background-color:#7F1431; font-weight:600; font-size:50px; text-align:center; padding:15px; color:#ffffff; border-radius:20px; margin:auto auto 50px auto\">🎖️​ FIFA World Cup Winner 2022 🏆 🎖️​</h1>\n",
    "\n",
    "<img src=\"https://mir-s3-cdn-cf.behance.net/project_modules/1400_opt_1/5a79cb143890733.62a8f43a09c94.png\"></img>/>"
   ]
  },
  {
   "cell_type": "markdown",
   "id": "8df49c8d",
   "metadata": {
    "papermill": {
     "duration": 0.005749,
     "end_time": "2022-11-18T12:45:30.211601",
     "exception": false,
     "start_time": "2022-11-18T12:45:30.205852",
     "status": "completed"
    },
    "tags": []
   },
   "source": [
    "<h2 style=\"color:#7F1431\">Before reading, make sure you have read: </h2>\n",
    "\n",
    "[part1](https://www.kaggle.com/code/mahmoudelhusseni/fifa-world-cup-winner-2022-part1/notebook)\n",
    "\n",
    "\n",
    "<h2 style=\"color:#7F1431\">part1 contents:</h2>\n",
    "\n",
    "* 1. In this Notebook\n",
    "* 2. Setting up our Enviroment & Explore dataset\n",
    "* 3. Preprocecssing\n",
    "    * Handling Nulls.\n",
    "    * Duplicates.\n",
    "    * Outliers.\n",
    "* 4. Data Analysis\n",
    "\n",
    "<div>\n",
    "<h1 style=\"color:#7F1431\">Contents</h1>\n",
    "    \n",
    "* [1. Feature Engineering](#FE)<br>\n",
    "* [2. Model Training](#modeling)<br>\n",
    "* [3. Predict World cup winner](#p)<br>\n",
    "    \n",
    "</div>\n",
    "<h3>For more information: <a href=\"https://www.kaggle.com/datasets/brenda89/fifa-world-cup-2022\">check data at kaggle</a></h3>\n"
   ]
  },
  {
   "cell_type": "code",
   "execution_count": 1,
   "id": "bb00578d",
   "metadata": {
    "execution": {
     "iopub.execute_input": "2022-11-18T12:45:30.225829Z",
     "iopub.status.busy": "2022-11-18T12:45:30.225117Z",
     "iopub.status.idle": "2022-11-18T12:45:38.803691Z",
     "shell.execute_reply": "2022-11-18T12:45:38.802625Z"
    },
    "papermill": {
     "duration": 8.588985,
     "end_time": "2022-11-18T12:45:38.806645",
     "exception": false,
     "start_time": "2022-11-18T12:45:30.217660",
     "status": "completed"
    },
    "tags": []
   },
   "outputs": [],
   "source": [
    "import os \n",
    "import gc\n",
    "import time\n",
    "import warnings\n",
    "import numpy as np\n",
    "import pandas as pd\n",
    "from tqdm import tqdm\n",
    "from itertools import combinations\n",
    "\n",
    "from matplotlib import pyplot as plt\n",
    "import seaborn as sns\n",
    "import missingno\n",
    "from termcolor import colored, cprint\n",
    "\n",
    "import plotly.express as px\n",
    "import plotly.graph_objects as go\n",
    "from plotly.subplots import make_subplots\n",
    "\n",
    "from sklearn.model_selection import train_test_split\n",
    "from sklearn.preprocessing import StandardScaler, OneHotEncoder, OrdinalEncoder\n",
    "from sklearn.ensemble import RandomForestClassifier\n",
    "from sklearn.metrics import classification_report, confusion_matrix, accuracy_score, auc, roc_curve\n",
    "from xgboost import XGBClassifier\n",
    "\n",
    "import tensorflow as tf\n",
    "import tensorflow.keras as keras\n",
    "import keras.layers as layers\n",
    "import keras.callbacks as cb\n",
    "from tensorflow.keras.utils import plot_model\n",
    "\n",
    "# configurations\n",
    "warnings.simplefilter('ignore')\n",
    "pd.set_option('display.max_columns', None)\n",
    "plt.style.use('ggplot')\n",
    "sns.set_palette('dark')\n",
    "\n",
    "SIGMA = 3\n",
    "SEPARATOR = colored(200*'=', 'red')\n",
    "teams_worldcup = ['Qatar', 'Ecuador', 'Senegal', 'Netherlands', 'England', 'IR Iran', 'USA',\n",
    "                  'Wales', 'Argentina', 'Saudi Arabia', 'Mexico', 'Poland', 'France', \n",
    "                  'Australia', 'Denmark', 'Tunisia', 'Spain', 'Costa Rica', 'Germany', \n",
    "                  'Japan', 'Belgium', 'Canada', 'Morocco', 'Croatia', 'Brazil', 'Serbia', \n",
    "                  'Switzerland', 'Cameroon', 'Portugal', 'Ghana', 'Uruguay', 'Korea Republic']\n",
    "\n",
    "df = pd.read_csv('../input/national-teams-matches/matches.csv').drop('Unnamed: 0', axis=1)"
   ]
  },
  {
   "cell_type": "markdown",
   "id": "0044da94",
   "metadata": {
    "papermill": {
     "duration": 0.005873,
     "end_time": "2022-11-18T12:45:38.819099",
     "exception": false,
     "start_time": "2022-11-18T12:45:38.813226",
     "status": "completed"
    },
    "tags": []
   },
   "source": [
    "<a id='FE'></a>\n",
    "<h1 style=\"background-color:#7F1431; font-weight:600; font-size:50px; text-align:center; padding:15px; color:#ffffff; border-radius:20px; margin:auto auto 50px auto\">Feature Engineering</h1>"
   ]
  },
  {
   "cell_type": "markdown",
   "id": "e6d56c7c",
   "metadata": {
    "papermill": {
     "duration": 0.005561,
     "end_time": "2022-11-18T12:45:38.830666",
     "exception": false,
     "start_time": "2022-11-18T12:45:38.825105",
     "status": "completed"
    },
    "tags": []
   },
   "source": [
    "<div style=\"background-color:#7F1431; color:#ffffff;\n",
    "          padding:12px; margin-left:auto;margin-right:auto; border-radius:10px;\">\n",
    "<p style=\"font-weight:200px; font-size:30px;\">\n",
    "    In this data there are more features more important thant other features according to inference stage, So I will have to select some features, extract some features and drop other features\n",
    "</div>\n",
    "\n"
   ]
  },
  {
   "cell_type": "markdown",
   "id": "77e77336",
   "metadata": {
    "papermill": {
     "duration": 0.005617,
     "end_time": "2022-11-18T12:45:38.842099",
     "exception": false,
     "start_time": "2022-11-18T12:45:38.836482",
     "status": "completed"
    },
    "tags": []
   },
   "source": [
    "<h1 style=\"color:#7f1431\">Columns will remain: </h1>\n",
    "\n",
    "1. home_team, away_team.\n",
    "2. home_team_continent, away_team_continent.\n",
    "3. home_team_total_fifa_score, away_team_total_fifa_score.\n",
    "4. home_team_fifa_rank, away_team_fifa_rank.\n",
    "5. shoot_out\n",
    "6. home_team_GK_score, away_team_GK_score.\n",
    "7. home_team_mean_offense_score, away_team_mean_offense_score.\n",
    "8. home_team_mean_defense_score, home_team_mean_defense_score.\n",
    "9. home_team_mean_midfield_score, home_team_mean_midfield_score.\n",
    "\n",
    "<h1 style=\"color:#7f1431\">Columns will be dropped: </h1>\n",
    "\n",
    "1. Date.\n",
    "2. home_team_score, away_team_score.\n",
    "3. tournament.\n",
    "4. city.\n",
    "5. country.\n",
    "7. neutral_location.\n",
    "8. year.\n",
    "\n",
    "<h1 style='color:#7f1431'>Columns will be created</h1>\n",
    "\n",
    "1. total_fifa_points_diff, total_fifa_points_sum.\n",
    "2. fifa_rank_diff, fifa_rank_sum.\n",
    "3. tournament_rank (international, national, friendly)"
   ]
  },
  {
   "cell_type": "code",
   "execution_count": 2,
   "id": "00059439",
   "metadata": {
    "execution": {
     "iopub.execute_input": "2022-11-18T12:45:38.855842Z",
     "iopub.status.busy": "2022-11-18T12:45:38.855452Z",
     "iopub.status.idle": "2022-11-18T12:45:38.984238Z",
     "shell.execute_reply": "2022-11-18T12:45:38.983258Z"
    },
    "papermill": {
     "duration": 0.138863,
     "end_time": "2022-11-18T12:45:38.986947",
     "exception": false,
     "start_time": "2022-11-18T12:45:38.848084",
     "status": "completed"
    },
    "tags": []
   },
   "outputs": [],
   "source": [
    "def get_tournament_rank(tournament):\n",
    "    if ('FIFA World Cup' in tournament or 'Confederations' in tournament):\n",
    "        return 'International'\n",
    "    elif (tournament == 'Friendly'):\n",
    "        return tournament\n",
    "    elif ('UEFA' in tournament):\n",
    "        return 'Europe'\n",
    "    elif ('African' in tournament):\n",
    "        return 'Africa'\n",
    "    elif ('AFC' in tournament):\n",
    "        return 'Asia'\n",
    "    elif ('CONCACAF' in tournament):\n",
    "        return 'North America'\n",
    "    elif ('Copa' in tournament):\n",
    "        return 'South America'\n",
    "    else :\n",
    "        return 'Other'\n",
    "\n",
    "columns_to_drop = ['home_team', 'away_team', 'home_team_score', 'away_team_score', 'date', 'tournament', 'city', 'country', 'neutral_location', 'home_win', 'home_draw', 'home_lose',\n",
    "                   'tournament', 'tournament_rank', 'home_team_result', \n",
    "                   'home_team_continent', 'away_team_continent', 'year']\n",
    "    \n",
    "    \n",
    "df['total_fifa_points_diff'] = df['home_team_total_fifa_points'] - df['away_team_total_fifa_points']\n",
    "df['total_fifa_points_sum'] = df['home_team_total_fifa_points'] + df['away_team_total_fifa_points']\n",
    "df['fifa_rank_diff'] = df['home_team_fifa_rank'] - df['away_team_fifa_rank']\n",
    "df['fifa_rank_sum'] = df['home_team_fifa_rank'] + df['away_team_fifa_rank']\n",
    "df['tournament_rank'] = df['tournament'].apply(get_tournament_rank)\n",
    "\n",
    "# Encode categorical features\n",
    "# 1. trounament rank\n",
    "tournament_rank_encoder = OneHotEncoder(drop='first').fit(df['tournament_rank'].values.reshape(-1, 1))\n",
    "tournament_rank = tournament_rank_encoder.transform(df['tournament_rank'].values.reshape(-1, 1)).toarray()\n",
    "tournament_rank = pd.DataFrame(tournament_rank, columns=['tournament' + str(i) for i in range(tournament_rank.shape[1])])\n",
    "df = pd.concat([df, tournament_rank], axis=1)\n",
    "\n",
    "# 2. shoot_out\n",
    "df['shoot_out'] = (df['shoot_out']=='Yes').astype(int)\n",
    "\n",
    "# 3. continent\n",
    "continent_encoder = OrdinalEncoder()\n",
    "continent_encoder.fit(df['home_team_continent'].values.reshape(-1, 1))\n",
    "df['home_team_continent_encoded'] = continent_encoder.transform(df['home_team_continent'].values.reshape(-1, 1))\n",
    "df['away_team_continent_encoded'] = continent_encoder.transform(df['away_team_continent'].values.reshape(-1, 1))\n",
    "\n",
    "\n",
    "# fill nulls in score columns -> I will fill these nulls using bfill (as data is sorted at time, so goal keeper will take score of his next match)\n",
    "df = df.fillna(method='bfill')\n",
    "df = df.fillna(method='ffill')\n",
    "\n",
    "\n",
    "X = df.drop(columns_to_drop, axis=1)\n",
    "y = (df['home_team_result'] == 'Win').astype(int)\n",
    "X_train, X_test, y_train, y_test = train_test_split(X, y, test_size=0.2, random_state=101, shuffle=True)\n",
    "# X_train, X_val, y_train, y_val = train_test_split(X_train, y_train, test_size=0.2, shuffle=True, random_state=101)"
   ]
  },
  {
   "cell_type": "markdown",
   "id": "1ceffce2",
   "metadata": {
    "papermill": {
     "duration": 0.007417,
     "end_time": "2022-11-18T12:45:39.001036",
     "exception": false,
     "start_time": "2022-11-18T12:45:38.993619",
     "status": "completed"
    },
    "tags": []
   },
   "source": [
    "<a id='modeling'></a>\n",
    "<h1 style=\"background-color:#7F1431; font-weight:600; font-size:50px; text-align:center; padding:15px; color:#ffffff; border-radius:20px; margin:auto auto 50px auto\">Model Trainig</h1>"
   ]
  },
  {
   "cell_type": "code",
   "execution_count": 3,
   "id": "7977512d",
   "metadata": {
    "execution": {
     "iopub.execute_input": "2022-11-18T12:45:39.014641Z",
     "iopub.status.busy": "2022-11-18T12:45:39.014203Z",
     "iopub.status.idle": "2022-11-18T12:45:39.021300Z",
     "shell.execute_reply": "2022-11-18T12:45:39.020424Z"
    },
    "papermill": {
     "duration": 0.01637,
     "end_time": "2022-11-18T12:45:39.023401",
     "exception": false,
     "start_time": "2022-11-18T12:45:39.007031",
     "status": "completed"
    },
    "tags": []
   },
   "outputs": [],
   "source": [
    "def evaluate(y_pred, y_true):\n",
    "    print(f\"Accuracy score: {colored(accuracy_score(y_pred, y_true)*100, 'red')}\")\n",
    "    cm = confusion_matrix(y_pred, y_true)\n",
    "    sns.heatmap(cm, annot=True, fmt='.2f', center=True)\n",
    "    plt.show()\n",
    "    print(classification_report(y_pred, y_true))\n",
    "    \n",
    "    fpr, tpr, thresholds = roc_curve(y_pred, y_true)\n",
    "    print(f'AUC: {colored(auc(fpr, tpr) * 100, \"red\")}')\n",
    "    \n",
    "    plt.plot(fpr, tpr)\n",
    "    plt.plot([0, 1], [0, 1], color=\"navy\", lw=2, linestyle=\"--\")"
   ]
  },
  {
   "cell_type": "code",
   "execution_count": 4,
   "id": "3e011543",
   "metadata": {
    "execution": {
     "iopub.execute_input": "2022-11-18T12:45:39.036547Z",
     "iopub.status.busy": "2022-11-18T12:45:39.036158Z",
     "iopub.status.idle": "2022-11-18T12:45:40.372674Z",
     "shell.execute_reply": "2022-11-18T12:45:40.371676Z"
    },
    "papermill": {
     "duration": 1.345346,
     "end_time": "2022-11-18T12:45:40.374721",
     "exception": false,
     "start_time": "2022-11-18T12:45:39.029375",
     "status": "completed"
    },
    "tags": []
   },
   "outputs": [
    {
     "name": "stderr",
     "output_type": "stream",
     "text": [
      "2022-11-18 12:45:39.088659: I tensorflow/core/common_runtime/process_util.cc:146] Creating new thread pool with default inter op setting: 2. Tune using inter_op_parallelism_threads for best performance.\n"
     ]
    },
    {
     "data": {
      "image/png": "[encoded data removed]",
      "text/plain": [
       "<IPython.core.display.Image object>"
      ]
     },
     "execution_count": 4,
     "metadata": {},
     "output_type": "execute_result"
    }
   ],
   "source": [
    "activation = 'elu'\n",
    "\n",
    "keras_model = keras.Sequential([\n",
    "    layers.Dense(units=32, input_shape=(X.shape[1:])),\n",
    "    layers.BatchNormalization(), \n",
    "    layers.Activation(activation), \n",
    "    layers.Dropout(0.2), \n",
    "    \n",
    "    layers.Dense(units=40), \n",
    "    layers.BatchNormalization(), \n",
    "    layers.Activation(activation), \n",
    "    \n",
    "    layers.Dense(units=20), \n",
    "    layers.BatchNormalization(), \n",
    "    layers.Activation(activation), \n",
    "    \n",
    "    layers.Dense(units=8), \n",
    "    layers.BatchNormalization(), \n",
    "    layers.Activation(activation), \n",
    "    \n",
    "    layers.Dense(units=1, activation='sigmoid')    \n",
    "])\n",
    "\n",
    "fig = plot_model(keras_model)\n",
    "\n",
    "es = cb.EarlyStopping(monitor='loss', patience=5, mode='min')\n",
    "lr = cb.ReduceLROnPlateau(monitor='val_loss', patience=3, mindelta=1e-1)\n",
    "\n",
    "loss = tf.keras.losses.BinaryCrossentropy(from_logits=True)\n",
    "optimizer = keras.optimizers.Adam(learning_rate=0.01)\n",
    "\n",
    "keras_model.compile(loss=loss, optimizer=optimizer, metrics=['accuracy'])\n",
    "fig"
   ]
  },
  {
   "cell_type": "code",
   "execution_count": 5,
   "id": "21b11090",
   "metadata": {
    "execution": {
     "iopub.execute_input": "2022-11-18T12:45:40.391373Z",
     "iopub.status.busy": "2022-11-18T12:45:40.390304Z",
     "iopub.status.idle": "2022-11-18T12:45:54.150626Z",
     "shell.execute_reply": "2022-11-18T12:45:54.149245Z"
    },
    "papermill": {
     "duration": 13.770859,
     "end_time": "2022-11-18T12:45:54.152915",
     "exception": false,
     "start_time": "2022-11-18T12:45:40.382056",
     "status": "completed"
    },
    "tags": []
   },
   "outputs": [
    {
     "name": "stderr",
     "output_type": "stream",
     "text": [
      "2022-11-18 12:45:40.503392: I tensorflow/compiler/mlir/mlir_graph_optimization_pass.cc:185] None of the MLIR Optimization Passes are enabled (registered 2)\n"
     ]
    },
    {
     "name": "stdout",
     "output_type": "stream",
     "text": [
      "Epoch 1/50\n",
      "150/150 [==============================] - 3s 4ms/step - loss: 0.6136 - accuracy: 0.6626\n",
      "Epoch 2/50\n",
      "150/150 [==============================] - 1s 4ms/step - loss: 0.6051 - accuracy: 0.6694\n",
      "Epoch 3/50\n",
      "150/150 [==============================] - 1s 3ms/step - loss: 0.6014 - accuracy: 0.6727\n",
      "Epoch 4/50\n",
      "150/150 [==============================] - 1s 3ms/step - loss: 0.5999 - accuracy: 0.6722\n",
      "Epoch 5/50\n",
      "150/150 [==============================] - 1s 4ms/step - loss: 0.5998 - accuracy: 0.6743\n",
      "Epoch 6/50\n",
      "150/150 [==============================] - 1s 4ms/step - loss: 0.6001 - accuracy: 0.6727\n",
      "Epoch 7/50\n",
      "150/150 [==============================] - 1s 4ms/step - loss: 0.5992 - accuracy: 0.6742\n",
      "Epoch 8/50\n",
      "150/150 [==============================] - 1s 3ms/step - loss: 0.5974 - accuracy: 0.6755\n",
      "Epoch 9/50\n",
      "150/150 [==============================] - 1s 3ms/step - loss: 0.5980 - accuracy: 0.6747\n",
      "Epoch 10/50\n",
      "150/150 [==============================] - 1s 3ms/step - loss: 0.5981 - accuracy: 0.6745\n",
      "Epoch 11/50\n",
      "150/150 [==============================] - 1s 3ms/step - loss: 0.5977 - accuracy: 0.6730\n",
      "Epoch 12/50\n",
      "150/150 [==============================] - 1s 3ms/step - loss: 0.5975 - accuracy: 0.6734\n",
      "Epoch 13/50\n",
      "150/150 [==============================] - 1s 3ms/step - loss: 0.5965 - accuracy: 0.6744\n",
      "Epoch 14/50\n",
      "150/150 [==============================] - 1s 4ms/step - loss: 0.5968 - accuracy: 0.6761\n",
      "Epoch 15/50\n",
      "150/150 [==============================] - 0s 3ms/step - loss: 0.5972 - accuracy: 0.6744\n",
      "Epoch 16/50\n",
      "150/150 [==============================] - 1s 3ms/step - loss: 0.5960 - accuracy: 0.6778\n",
      "Epoch 17/50\n",
      "150/150 [==============================] - 0s 3ms/step - loss: 0.5947 - accuracy: 0.6746\n",
      "Epoch 18/50\n",
      "150/150 [==============================] - 1s 3ms/step - loss: 0.5961 - accuracy: 0.6731\n",
      "Epoch 19/50\n",
      "150/150 [==============================] - 1s 3ms/step - loss: 0.5960 - accuracy: 0.6754\n",
      "Epoch 20/50\n",
      "150/150 [==============================] - 1s 3ms/step - loss: 0.5955 - accuracy: 0.6751\n",
      "Epoch 21/50\n",
      "150/150 [==============================] - 1s 4ms/step - loss: 0.5965 - accuracy: 0.6745\n",
      "Epoch 22/50\n",
      "150/150 [==============================] - 1s 4ms/step - loss: 0.5959 - accuracy: 0.6721\n"
     ]
    }
   ],
   "source": [
    "history = keras_model.fit(X_train, y_train, epochs=50, batch_size=128, callbacks=[es, lr])"
   ]
  },
  {
   "cell_type": "code",
   "execution_count": 6,
   "id": "0b6af69f",
   "metadata": {
    "execution": {
     "iopub.execute_input": "2022-11-18T12:45:54.199966Z",
     "iopub.status.busy": "2022-11-18T12:45:54.199562Z",
     "iopub.status.idle": "2022-11-18T12:45:54.478656Z",
     "shell.execute_reply": "2022-11-18T12:45:54.477696Z"
    },
    "papermill": {
     "duration": 0.304426,
     "end_time": "2022-11-18T12:45:54.480727",
     "exception": false,
     "start_time": "2022-11-18T12:45:54.176301",
     "status": "completed"
    },
    "tags": []
   },
   "outputs": [
    {
     "data": {
      "image/png": "[encoded data removed]",
      "text/plain": [
       "<Figure size 1440x864 with 1 Axes>"
      ]
     },
     "metadata": {},
     "output_type": "display_data"
    }
   ],
   "source": [
    "train_loss = history.history['loss']\n",
    "train_accuracy = history.history['accuracy']\n",
    "plt.figure(figsize=(20, 12))\n",
    "plt.subplot(1, 2, 2)\n",
    "plt.plot(range(len(train_loss)), train_loss, label='train_loss')\n",
    "plt.plot(range(len(train_accuracy)), train_accuracy, label='train_accuracy')\n",
    "plt.legend();"
   ]
  },
  {
   "cell_type": "code",
   "execution_count": 7,
   "id": "cc238b4a",
   "metadata": {
    "execution": {
     "iopub.execute_input": "2022-11-18T12:45:54.528699Z",
     "iopub.status.busy": "2022-11-18T12:45:54.527789Z",
     "iopub.status.idle": "2022-11-18T12:45:55.376872Z",
     "shell.execute_reply": "2022-11-18T12:45:55.375789Z"
    },
    "papermill": {
     "duration": 0.875394,
     "end_time": "2022-11-18T12:45:55.379071",
     "exception": false,
     "start_time": "2022-11-18T12:45:54.503677",
     "status": "completed"
    },
    "tags": []
   },
   "outputs": [
    {
     "name": "stdout",
     "output_type": "stream",
     "text": [
      "Accuracy score: \u001b[31m67.14733542319749\u001b[0m\n"
     ]
    },
    {
     "data": {
      "image/png": "[encoded data removed]",
      "text/plain": [
       "<Figure size 432x288 with 2 Axes>"
      ]
     },
     "metadata": {},
     "output_type": "display_data"
    },
    {
     "name": "stdout",
     "output_type": "stream",
     "text": [
      "              precision    recall  f1-score   support\n",
      "\n",
      "       False       0.71      0.67      0.69      2594\n",
      "        True       0.63      0.68      0.65      2191\n",
      "\n",
      "    accuracy                           0.67      4785\n",
      "   macro avg       0.67      0.67      0.67      4785\n",
      "weighted avg       0.67      0.67      0.67      4785\n",
      "\n",
      "AUC: \u001b[31m67.20335908410625\u001b[0m\n"
     ]
    },
    {
     "data": {
      "image/png": "[encoded data removed]",
      "text/plain": [
       "<Figure size 432x288 with 1 Axes>"
      ]
     },
     "metadata": {},
     "output_type": "display_data"
    }
   ],
   "source": [
    "y_pred = keras_model.predict(X_test)>0.5\n",
    "evaluate(y_pred, y_test)"
   ]
  },
  {
   "cell_type": "markdown",
   "id": "5ca935c7",
   "metadata": {
    "papermill": {
     "duration": 0.023722,
     "end_time": "2022-11-18T12:45:55.426787",
     "exception": false,
     "start_time": "2022-11-18T12:45:55.403065",
     "status": "completed"
    },
    "tags": []
   },
   "source": [
    "# Random Forest"
   ]
  },
  {
   "cell_type": "code",
   "execution_count": 8,
   "id": "3222e126",
   "metadata": {
    "execution": {
     "iopub.execute_input": "2022-11-18T12:45:55.476053Z",
     "iopub.status.busy": "2022-11-18T12:45:55.475663Z",
     "iopub.status.idle": "2022-11-18T12:46:01.288484Z",
     "shell.execute_reply": "2022-11-18T12:46:01.287022Z"
    },
    "papermill": {
     "duration": 5.840369,
     "end_time": "2022-11-18T12:46:01.290849",
     "exception": false,
     "start_time": "2022-11-18T12:45:55.450480",
     "status": "completed"
    },
    "tags": []
   },
   "outputs": [
    {
     "name": "stdout",
     "output_type": "stream",
     "text": [
      "Accuracy score: \u001b[31m67.14733542319749\u001b[0m\n"
     ]
    },
    {
     "data": {
      "image/png": "[encoded data removed]",
      "text/plain": [
       "<Figure size 432x288 with 2 Axes>"
      ]
     },
     "metadata": {},
     "output_type": "display_data"
    },
    {
     "name": "stdout",
     "output_type": "stream",
     "text": [
      "              precision    recall  f1-score   support\n",
      "\n",
      "           0       0.68      0.67      0.68      2462\n",
      "           1       0.66      0.67      0.66      2323\n",
      "\n",
      "    accuracy                           0.67      4785\n",
      "   macro avg       0.67      0.67      0.67      4785\n",
      "weighted avg       0.67      0.67      0.67      4785\n",
      "\n",
      "AUC: \u001b[31m67.13903244949579\u001b[0m\n"
     ]
    },
    {
     "data": {
      "image/png": "[encoded data removed]",
      "text/plain": [
       "<Figure size 432x288 with 1 Axes>"
      ]
     },
     "metadata": {},
     "output_type": "display_data"
    }
   ],
   "source": [
    "RFmodel = RandomForestClassifier()\n",
    "RFmodel.fit(X_train, y_train)\n",
    "y_pred = RFmodel.predict(X_test)\n",
    "evaluate(y_pred, y_test)"
   ]
  },
  {
   "cell_type": "markdown",
   "id": "26981906",
   "metadata": {
    "papermill": {
     "duration": 0.02358,
     "end_time": "2022-11-18T12:46:01.338318",
     "exception": false,
     "start_time": "2022-11-18T12:46:01.314738",
     "status": "completed"
    },
    "tags": []
   },
   "source": [
    "# XGboost"
   ]
  },
  {
   "cell_type": "code",
   "execution_count": 9,
   "id": "ec21412e",
   "metadata": {
    "execution": {
     "iopub.execute_input": "2022-11-18T12:46:01.388100Z",
     "iopub.status.busy": "2022-11-18T12:46:01.387691Z",
     "iopub.status.idle": "2022-11-18T12:46:04.604657Z",
     "shell.execute_reply": "2022-11-18T12:46:04.603387Z"
    },
    "papermill": {
     "duration": 3.245387,
     "end_time": "2022-11-18T12:46:04.607399",
     "exception": false,
     "start_time": "2022-11-18T12:46:01.362012",
     "status": "completed"
    },
    "tags": []
   },
   "outputs": [
    {
     "name": "stdout",
     "output_type": "stream",
     "text": [
      "Accuracy score: \u001b[31m67.14733542319749\u001b[0m\n"
     ]
    },
    {
     "data": {
      "image/png": "[encoded data removed]",
      "text/plain": [
       "<Figure size 432x288 with 2 Axes>"
      ]
     },
     "metadata": {},
     "output_type": "display_data"
    },
    {
     "name": "stdout",
     "output_type": "stream",
     "text": [
      "              precision    recall  f1-score   support\n",
      "\n",
      "           0       0.68      0.67      0.68      2454\n",
      "           1       0.66      0.67      0.66      2331\n",
      "\n",
      "    accuracy                           0.67      4785\n",
      "   macro avg       0.67      0.67      0.67      4785\n",
      "weighted avg       0.67      0.67      0.67      4785\n",
      "\n",
      "AUC: \u001b[31m67.13851469352691\u001b[0m\n"
     ]
    },
    {
     "data": {
      "image/png": "[encoded data removed]",
      "text/plain": [
       "<Figure size 432x288 with 1 Axes>"
      ]
     },
     "metadata": {},
     "output_type": "display_data"
    }
   ],
   "source": [
    "xgbc = XGBClassifier()\n",
    "xgbc.fit(X_train, y_train)\n",
    "y_pred = xgbc.predict(X_test)\n",
    "evaluate(y_pred, y_test)"
   ]
  },
  {
   "cell_type": "markdown",
   "id": "01d5bf00",
   "metadata": {
    "papermill": {
     "duration": 0.027873,
     "end_time": "2022-11-18T12:46:04.663179",
     "exception": false,
     "start_time": "2022-11-18T12:46:04.635306",
     "status": "completed"
    },
    "tags": []
   },
   "source": [
    "<a id='p'></a>\n",
    "<h1 style=\"background-color:#7F1431; font-weight:600; font-size:50px; text-align:center; padding:15px; color:#ffffff; border-radius:20px; margin:auto auto 50px auto\">Predict World Cup winner ​🥇​</h1>"
   ]
  },
  {
   "cell_type": "markdown",
   "id": "758a78fc",
   "metadata": {
    "papermill": {
     "duration": 0.02674,
     "end_time": "2022-11-18T12:46:04.718419",
     "exception": false,
     "start_time": "2022-11-18T12:46:04.691679",
     "status": "completed"
    },
    "tags": []
   },
   "source": [
    "## First to predict two teams match's result we need to get their recent data in order to enter them into model to return match result, \n",
    "So we can split features entering models into three categories: \n",
    "1. Features remain constant over years.\n",
    "    * home_team_continent, away_team_continent.\n",
    "    \n",
    "2. Features from historical data.\n",
    "    * home_team_total_fifa_points, away_team_total_fifa_points.\n",
    "    * home_team_fifa_rank, away_team_fifa_rank.\n",
    "    * (home|away)_team_(goalkeeper|offense|defense|midfield)_score.\n",
    "    \n",
    "3. Features about match and relation between both teams.\n",
    "    * shoot_out.\n",
    "    * tournament.\n",
    "    * total_fifa_points_diff, total_fifa_points_sum.\n",
    "    * fifa_rank_diff, fifa_rank_sum."
   ]
  },
  {
   "cell_type": "code",
   "execution_count": 10,
   "id": "af646119",
   "metadata": {
    "execution": {
     "iopub.execute_input": "2022-11-18T12:46:04.774049Z",
     "iopub.status.busy": "2022-11-18T12:46:04.773631Z",
     "iopub.status.idle": "2022-11-18T12:46:04.795454Z",
     "shell.execute_reply": "2022-11-18T12:46:04.794255Z"
    },
    "papermill": {
     "duration": 0.053041,
     "end_time": "2022-11-18T12:46:04.797986",
     "exception": false,
     "start_time": "2022-11-18T12:46:04.744945",
     "status": "completed"
    },
    "tags": []
   },
   "outputs": [],
   "source": [
    "def get_team_data(team: str) -> list:\n",
    "    # team total fifa points\n",
    "    home_FP = df.loc[(df['home_team']==team).values & (df['year'] >= 2021).values & (df['away_team'].isin(teams_worldcup)).values, 'home_team_total_fifa_points'].mean()\n",
    "    away_FP = df.loc[(df['away_team']==team).values & (df['year'] >= 2021).values & (df['home_team'].isin(teams_worldcup)).values, 'away_team_total_fifa_points'].mean()\n",
    "    fifa_points = np.mean([home_FP, away_FP])\n",
    "    if np.isnan(fifa_points):\n",
    "        home_FP = df.loc[(df['home_team']==team).values & (df['away_team'].isin(teams_worldcup)).values, 'home_team_total_fifa_points'].iloc[:2].mean()\n",
    "        away_FP = df.loc[(df['away_team']==team).values & (df['home_team'].isin(teams_worldcup)).values, 'away_team_total_fifa_points'].iloc[:3].mean()\n",
    "        fifa_points = np.mean([home_FP, away_FP])\n",
    "\n",
    "    \n",
    "    # team fifa rank\n",
    "    home_FR = df.loc[(df['home_team']==team).values & (df['year'] >= 2021).values & (df['away_team'].isin(teams_worldcup)).values, 'home_team_fifa_rank'].mean()\n",
    "    away_FR = df.loc[(df['away_team']==team).values & (df['year'] >= 2021).values & (df['home_team'].isin(teams_worldcup)).values, 'away_team_fifa_rank'].mean()\n",
    "    fifa_rank = np.mean([home_FR, away_FR])\n",
    "    if np.isnan(fifa_rank):\n",
    "        home_FR = df.loc[(df['home_team']==team).values & (df['away_team'].isin(teams_worldcup)).values, 'home_team_fifa_rank'].iloc[:2].mean()\n",
    "        away_FR = df.loc[(df['away_team']==team).values & (df['home_team'].isin(teams_worldcup)).values, 'away_team_fifa_rank'].iloc[:3].mean()\n",
    "        fifa_rank= np.mean([home_FR, away_FR])\n",
    "\n",
    "    \n",
    "    # team continent\n",
    "    continent = df.loc[df['home_team']==team, 'home_team_continent_encoded'].mode()[0]\n",
    "    \n",
    "    # scores\n",
    "    home_scores = df.loc[(df['home_team']==team).values & (df['away_team'].isin(teams_worldcup)).values].sort_values(by='date').drop('home_team_score', axis=1).filter(regex='score').filter(regex='home').iloc[:5].mean()\n",
    "    away_scores = df.loc[(df['away_team']==team).values & (df['home_team'].isin(teams_worldcup)).values].sort_values(by='date').drop('away_team_score', axis=1).filter(regex='score').filter(regex='away').iloc[:5].mean()\n",
    "    scores = (home_scores.values + away_scores.values) / 2\n",
    "    \n",
    "    \n",
    "    return [fifa_rank, fifa_points, continent] +  [*scores]\n",
    "\n",
    "def prepare_data(team1_data: list, team2_data: list, tournament_rank:str, shoot_out:bool) -> np.ndarray:\n",
    "    fifa_pts_diff = team1_data[1] - team2_data[1]\n",
    "    fifa_pts_sum = team1_data[1] + team2_data[1]\n",
    "    fifa_rank_diff = team1_data[0] - team2_data[0]\n",
    "    fifa_rank_sum = team1_data[0] + team2_data[0]\n",
    "    tournaments = [*tournament_rank_encoder.transform(np.array(tournament_rank).reshape(-1, 1)).toarray()[0]]\n",
    "    X = np.array([team1_data[0], team2_data[0], team1_data[1], team2_data[1], shoot_out, team1_data[3], team2_data[3], *team1_data[4:], *team2_data[4:],\n",
    "                 fifa_pts_diff, fifa_pts_sum, fifa_rank_diff, fifa_rank_sum, *tournaments, team1_data[2], team2_data[2]])\n",
    "    return X.reshape(-1, 26)"
   ]
  },
  {
   "cell_type": "markdown",
   "id": "21a9beca",
   "metadata": {
    "papermill": {
     "duration": 0.026037,
     "end_time": "2022-11-18T12:46:04.851403",
     "exception": false,
     "start_time": "2022-11-18T12:46:04.825366",
     "status": "completed"
    },
    "tags": []
   },
   "source": [
    "<div style=\"background-color:#7F1431; color:#ffffff;\n",
    "          padding:12px; margin-left:auto;margin-right:auto; border-radius:10px;\">\n",
    "<h1 style=\"font-weight:200px; font-size:30px;\">\n",
    "    FIFA World cup Qatar 2022 qualification's system:\n",
    "</h1>\n",
    "<font size=4 color='black'><strong>First Group stage:</strong></font><br> \n",
    "- There are 8 groups (from A to H) each Group contains 4 teams, every team will play three matches (will face each of his group teams once), then points of each time is calculated according to his results in these matches where: <br>\n",
    "    \n",
    "<font color='black' size=4>3 points for winner, 1 point for each team in case of draw, 0 points for loser.<br></font>\n",
    "Only First and Second of each group will be qualified to the next stage (the round of 16).\n",
    "    \n",
    "<font color='black' size=4><strong>Second the round of 16:</strong></font><br>\n",
    "    - First of each group will play one knock out matches against second of the adjacent group, where adjacent groups are: [(A, B), (C, D), (E, F), (G, H)].\n",
    "    Winner of this match will pass to next stage (the round of 8).\n",
    "    \n",
    "<font color='black' size=4><strong>Third the round of 8:</strong></font><br>\n",
    "    - Winners of two adjacent matches in round of 16 will play against each other to decide which team will qualify to the round of 4.\n",
    "    \n",
    "<font size=4 color='black'><strong>Fourth the round of 4:</strong></font><br>\n",
    "    - Each pair of teams arrived to this stage will face to qualify to Final Match, since losers will face each other to determine third and forth place.\n",
    "    \n",
    "<font size=4 color='black'><strong>Final:</strong></font><br> \n",
    "    - The two winning teams will play the final to uncover the champion of FIFA World Cup Qatar 2022.    \n",
    "</div>\n"
   ]
  },
  {
   "cell_type": "markdown",
   "id": "7c0affc5",
   "metadata": {
    "papermill": {
     "duration": 0.027031,
     "end_time": "2022-11-18T12:46:04.904869",
     "exception": false,
     "start_time": "2022-11-18T12:46:04.877838",
     "status": "completed"
    },
    "tags": []
   },
   "source": [
    "<h1 style='color:#7f1431'>Group Stage</h1>\n",
    "<img src='https://scontent.fcai20-2.fna.fbcdn.net/v/t39.30808-6/277590874_8036989222992770_8675255456783230048_n.jpg?_nc_cat=103&ccb=1-7&_nc_sid=730e14&_nc_ohc=hbapudhtPv0AX_KlW28&_nc_ht=scontent.fcai20-2.fna&oh=00_AfDk1SRKP-keZHS8ub_j3PjWjGeSXNmqI7hvNAVdZADPug&oe=63790EA8'></img>"
   ]
  },
  {
   "cell_type": "code",
   "execution_count": 11,
   "id": "79f3f6c5",
   "metadata": {
    "execution": {
     "iopub.execute_input": "2022-11-18T12:46:04.960082Z",
     "iopub.status.busy": "2022-11-18T12:46:04.959665Z",
     "iopub.status.idle": "2022-11-18T12:46:12.891662Z",
     "shell.execute_reply": "2022-11-18T12:46:12.890474Z"
    },
    "papermill": {
     "duration": 7.963426,
     "end_time": "2022-11-18T12:46:12.895107",
     "exception": false,
     "start_time": "2022-11-18T12:46:04.931681",
     "status": "completed"
    },
    "tags": []
   },
   "outputs": [
    {
     "name": "stdout",
     "output_type": "stream",
     "text": [
      "Group 1: \n",
      "--------------------\n",
      "Qatar : 1 VS Ecuador : 1\n",
      "Qatar : 3 VS Senegal : 0\n",
      "Qatar : 0 VS Netherlands : 3\n",
      "Ecuador : 3 VS Senegal : 0\n",
      "Ecuador : 0 VS Netherlands : 3\n",
      "Senegal : 0 VS Netherlands : 3\n",
      "==============================\n",
      "Group 2: \n",
      "--------------------\n",
      "England : 3 VS IR Iran : 0\n",
      "England : 1 VS USA : 1\n",
      "England : 3 VS Wales : 0\n",
      "IR Iran : 1 VS USA : 1\n",
      "IR Iran : 1 VS Wales : 1\n",
      "USA : 1 VS Wales : 1\n",
      "==============================\n",
      "Group 3: \n",
      "--------------------\n",
      "Argentina : 3 VS Saudi Arabia : 0\n",
      "Argentina : 1 VS Mexico : 1\n",
      "Argentina : 3 VS Poland : 0\n",
      "Saudi Arabia : 0 VS Mexico : 3\n",
      "Saudi Arabia : 0 VS Poland : 3\n",
      "Mexico : 1 VS Poland : 1\n",
      "==============================\n",
      "Group 4: \n",
      "--------------------\n",
      "France : 3 VS Australia : 0\n",
      "France : 1 VS Denmark : 1\n",
      "France : 3 VS Tunisia : 0\n",
      "Australia : 0 VS Denmark : 3\n",
      "Australia : 3 VS Tunisia : 0\n",
      "Denmark : 3 VS Tunisia : 0\n",
      "==============================\n",
      "Group 5: \n",
      "--------------------\n",
      "Spain : 3 VS Costa Rica : 0\n",
      "Spain : 1 VS Germany : 1\n",
      "Spain : 3 VS Japan : 0\n",
      "Costa Rica : 0 VS Germany : 3\n",
      "Costa Rica : 0 VS Japan : 3\n",
      "Germany : 1 VS Japan : 1\n",
      "==============================\n",
      "Group 6: \n",
      "--------------------\n",
      "Belgium : 3 VS Canada : 0\n",
      "Belgium : 3 VS Morocco : 0\n",
      "Belgium : 3 VS Croatia : 0\n",
      "Canada : 0 VS Morocco : 3\n",
      "Canada : 0 VS Croatia : 3\n",
      "Morocco : 1 VS Croatia : 1\n",
      "==============================\n",
      "Group 7: \n",
      "--------------------\n",
      "Brazil : 3 VS Serbia : 0\n",
      "Brazil : 3 VS Switzerland : 0\n",
      "Brazil : 3 VS Cameroon : 0\n",
      "Serbia : 0 VS Switzerland : 3\n",
      "Serbia : 3 VS Cameroon : 0\n",
      "Switzerland : 3 VS Cameroon : 0\n",
      "==============================\n",
      "Group 8: \n",
      "--------------------\n",
      "Portugal : 3 VS Ghana : 0\n",
      "Portugal : 1 VS Uruguay : 1\n",
      "Portugal : 3 VS Korea Republic : 0\n",
      "Ghana : 0 VS Uruguay : 3\n",
      "Ghana : 0 VS Korea Republic : 3\n",
      "Uruguay : 3 VS Korea Republic : 0\n",
      "==============================\n"
     ]
    }
   ],
   "source": [
    "def predict_match(team1, team2, shoot_out=0):\n",
    "    team1 = get_team_data(team1)\n",
    "    team2 = get_team_data(team2)\n",
    "    inp1 = prepare_data(team1, team2, 'International', shoot_out=shoot_out)\n",
    "    y_pred1 = keras_model.predict(inp1)\n",
    "    \n",
    "    inp2 = prepare_data(team2, team1, 'International', shoot_out=shoot_out)\n",
    "    y_pred2 = keras_model.predict(inp2)\n",
    "    \n",
    "    y_pred = (1 + y_pred1 - y_pred2) / 2\n",
    "    return y_pred\n",
    "\n",
    "def calc_points(team1, team2):\n",
    "    y_pred = predict_match(team1, team2)\n",
    "    if (y_pred>=0.6):\n",
    "        return 3, 0\n",
    "    elif (y_pred<=0.4):\n",
    "        return 0, 3\n",
    "    else :\n",
    "        return 1, 1\n",
    "\n",
    "groups = np.array(teams_worldcup).reshape(8, 4)\n",
    "groups_pts = []\n",
    "for i, group in enumerate(groups):\n",
    "    print(f'Group {i+1}: ', end=f\"\\n{20*'-'}\\n\")\n",
    "    groups_pts.append(dict(zip(group, np.zeros(4))))\n",
    "    matches = [*combinations(group, 2)]\n",
    "    \n",
    "    # play matches\n",
    "    for team1, team2 in matches:\n",
    "        pt1, pt2 = calc_points(team1, team2)\n",
    "        print(f\"{team1} : {pt1} VS {team2} : {pt2}\")\n",
    "        groups_pts[i][team1] += pt1\n",
    "        groups_pts[i][team2] += pt2\n",
    "    print(30*'=')"
   ]
  },
  {
   "cell_type": "code",
   "execution_count": 12,
   "id": "d5cd2296",
   "metadata": {
    "execution": {
     "iopub.execute_input": "2022-11-18T12:46:12.952650Z",
     "iopub.status.busy": "2022-11-18T12:46:12.952238Z",
     "iopub.status.idle": "2022-11-18T12:46:14.832050Z",
     "shell.execute_reply": "2022-11-18T12:46:14.830835Z"
    },
    "papermill": {
     "duration": 1.911855,
     "end_time": "2022-11-18T12:46:14.835754",
     "exception": false,
     "start_time": "2022-11-18T12:46:12.923899",
     "status": "completed"
    },
    "tags": []
   },
   "outputs": [
    {
     "name": "stdout",
     "output_type": "stream",
     "text": [
      "\u001b[31mGroups after group stage: \n",
      "\u001b[0m\n",
      "{'Netherlands': 9.0, 'Qatar': 4.0, 'Ecuador': 4.0, 'Senegal': 0.0}\n",
      "--------------------------------------------------\n",
      "{'England': 7.0, 'USA': 3.0, 'Wales': 2.0, 'IR Iran': 2.0}\n",
      "--------------------------------------------------\n",
      "{'Argentina': 7.0, 'Mexico': 5.0, 'Poland': 4.0, 'Saudi Arabia': 0.0}\n",
      "--------------------------------------------------\n",
      "{'France': 7.0, 'Denmark': 7.0, 'Australia': 3.0, 'Tunisia': 0.0}\n",
      "--------------------------------------------------\n",
      "{'Spain': 7.0, 'Germany': 5.0, 'Japan': 4.0, 'Costa Rica': 0.0}\n",
      "--------------------------------------------------\n",
      "{'Belgium': 9.0, 'Croatia': 4.0, 'Morocco': 4.0, 'Canada': 0.0}\n",
      "--------------------------------------------------\n",
      "{'Brazil': 9.0, 'Switzerland': 6.0, 'Serbia': 3.0, 'Cameroon': 0.0}\n",
      "--------------------------------------------------\n",
      "{'Portugal': 7.0, 'Uruguay': 7.0, 'Korea Republic': 3.0, 'Ghana': 0.0}\n",
      "--------------------------------------------------\n",
      "\u001b[31m\n",
      "==================================================\n",
      "Matches results in the round of 16:\n",
      "--------------------------------------------------\u001b[0m\n",
      "Match1: Netherlands VS USA\n",
      "Winner: \u001b[32mNetherlands\u001b[0m\n",
      "Match2: England VS Qatar\n",
      "Winner: \u001b[32mEngland\u001b[0m\n",
      "Match3: Argentina VS Denmark\n",
      "Winner: \u001b[32mArgentina\u001b[0m\n",
      "Match4: France VS Mexico\n",
      "Winner: \u001b[32mFrance\u001b[0m\n",
      "Match5: Spain VS Croatia\n",
      "Winner: \u001b[32mSpain\u001b[0m\n",
      "Match6: Belgium VS Germany\n",
      "Winner: \u001b[32mBelgium\u001b[0m\n",
      "Match7: Brazil VS Uruguay\n",
      "Winner: \u001b[32mBrazil\u001b[0m\n",
      "Match8: Portugal VS Switzerland\n",
      "Winner: \u001b[32mPortugal\u001b[0m\n"
     ]
    }
   ],
   "source": [
    "sorted_groups_pts = []\n",
    "def draw_break(groups_pts):\n",
    "    for i, group_pts in enumerate(groups_pts):\n",
    "        group = dict(reversed(sorted(group_pts.items(), key=lambda item: item[1])))\n",
    "        teams = [*group.keys()]\n",
    "        points = [*group.values()]\n",
    "        \n",
    "        if points[0] <= points[1]:\n",
    "            out = predict_match(teams[0], teams[1])\n",
    "            if out < 0.5:\n",
    "                temp = teams[0]\n",
    "                teams[0] = teams[1]\n",
    "                teams[1] = temp\n",
    "\n",
    "        if points[1] <= points[2]:\n",
    "            out = predict_match(teams[1], teams[2])\n",
    "            if out < 0.5:\n",
    "                temp = teams[1]\n",
    "                teams[1] = teams[2]\n",
    "                teams[2] = temp\n",
    "                \n",
    "        sorted_groups_pts.append(dict(zip(teams, points)))\n",
    "    return sorted_groups_pts\n",
    "    \n",
    "sorted_groups_pts = draw_break(groups_pts)\n",
    "\n",
    "sorted_teams = []\n",
    "print(colored(\"Groups after group stage: \\n\", 'red'))\n",
    "for group in sorted_groups_pts:\n",
    "    print(group, end=f'\\n{50*\"-\"}\\n')\n",
    "    teams = [*group.keys()]\n",
    "    sorted_teams.append(teams[:2])\n",
    "    \n",
    "# the round of 16\n",
    "to_16 = []\n",
    "for i in range(0, 8, 2):\n",
    "    to_16.append((sorted_teams[i][0], sorted_teams[i+1][1]))\n",
    "    to_16.append((sorted_teams[i+1][0], sorted_teams[i][1]))\n",
    "    \n",
    "\n",
    "to_8 = []\n",
    "print(colored(f'\\n{50*\"=\"}\\nMatches results in the round of 16:\\n{50*\"-\"}', 'red'))\n",
    "for i, (team1, team2) in enumerate(to_16):\n",
    "    out =  predict_match(team1, team2, shoot_out=1)\n",
    "    winner = team1 if out > 0.5 else team2\n",
    "    print(f'Match{i+1}: {team1} VS {team2}')\n",
    "    print(f'Winner: {colored(winner, \"green\")}')\n",
    "    to_8.append(winner)"
   ]
  },
  {
   "cell_type": "code",
   "execution_count": 13,
   "id": "48cf2c36",
   "metadata": {
    "execution": {
     "iopub.execute_input": "2022-11-18T12:46:14.895454Z",
     "iopub.status.busy": "2022-11-18T12:46:14.894340Z",
     "iopub.status.idle": "2022-11-18T12:46:15.518511Z",
     "shell.execute_reply": "2022-11-18T12:46:15.517009Z"
    },
    "papermill": {
     "duration": 0.656545,
     "end_time": "2022-11-18T12:46:15.521146",
     "exception": false,
     "start_time": "2022-11-18T12:46:14.864601",
     "status": "completed"
    },
    "tags": []
   },
   "outputs": [
    {
     "name": "stdout",
     "output_type": "stream",
     "text": [
      "Match1: Netherlands VS England\n",
      "Winner: \u001b[32mEngland\u001b[0m\n",
      "Match2: Argentina VS France\n",
      "Winner: \u001b[32mFrance\u001b[0m\n",
      "Match3: Spain VS Belgium\n",
      "Winner: \u001b[32mBelgium\u001b[0m\n",
      "Match4: Brazil VS Portugal\n",
      "Winner: \u001b[32mBrazil\u001b[0m\n"
     ]
    }
   ],
   "source": [
    "# the round of 8\n",
    "to_8 = np.array(to_8).reshape(-1, 2)\n",
    "to_4 = []\n",
    "for i, (team1, team2) in enumerate(to_8):\n",
    "    out =  predict_match(team1, team2, shoot_out=1)\n",
    "    winner = team1 if out > 0.5 else team2\n",
    "    print(f'Match{i+1}: {team1} VS {team2}')\n",
    "    print(f'Winner: {colored(winner, \"green\")}')\n",
    "    to_4.append(winner)"
   ]
  },
  {
   "cell_type": "code",
   "execution_count": 14,
   "id": "ae2dfc6b",
   "metadata": {
    "execution": {
     "iopub.execute_input": "2022-11-18T12:46:15.578824Z",
     "iopub.status.busy": "2022-11-18T12:46:15.578434Z",
     "iopub.status.idle": "2022-11-18T12:46:15.891402Z",
     "shell.execute_reply": "2022-11-18T12:46:15.890200Z"
    },
    "papermill": {
     "duration": 0.343978,
     "end_time": "2022-11-18T12:46:15.894052",
     "exception": false,
     "start_time": "2022-11-18T12:46:15.550074",
     "status": "completed"
    },
    "tags": []
   },
   "outputs": [
    {
     "name": "stdout",
     "output_type": "stream",
     "text": [
      "Match1: England VS France\n",
      "Winner: \u001b[32mFrance\u001b[0m\n",
      "Match2: Belgium VS Brazil\n",
      "Winner: \u001b[32mBrazil\u001b[0m\n"
     ]
    }
   ],
   "source": [
    "# the round of 4\n",
    "to_4 = np.array(to_4).reshape(-1, 2)\n",
    "to_final = []\n",
    "to_third_place_playoff = []\n",
    "for i, (team1, team2) in enumerate(to_4):\n",
    "    out =  predict_match(team1, team2, shoot_out=1)\n",
    "    winner = team1 if out > 0.5 else team2\n",
    "    loser = team1 if out <= 0.5 else team2\n",
    "    print(f'Match{i+1}: {team1} VS {team2}')\n",
    "    print(f'Winner: {colored(winner, \"green\")}')\n",
    "    to_final.append(winner)\n",
    "    to_third_place_playoff.append(loser)"
   ]
  },
  {
   "cell_type": "code",
   "execution_count": 15,
   "id": "279b8e55",
   "metadata": {
    "execution": {
     "iopub.execute_input": "2022-11-18T12:46:15.951120Z",
     "iopub.status.busy": "2022-11-18T12:46:15.950727Z",
     "iopub.status.idle": "2022-11-18T12:46:16.270951Z",
     "shell.execute_reply": "2022-11-18T12:46:16.269697Z"
    },
    "papermill": {
     "duration": 0.351675,
     "end_time": "2022-11-18T12:46:16.273395",
     "exception": false,
     "start_time": "2022-11-18T12:46:15.921720",
     "status": "completed"
    },
    "tags": []
   },
   "outputs": [
    {
     "name": "stdout",
     "output_type": "stream",
     "text": [
      "Winner of the World Cup Qatar 2022: \u001b[33mBrazil\u001b[0m\n",
      "Second place of the World Cup Qatar 2022: \u001b[34mFrance\u001b[0m\n",
      "Third place of the World Cup Qatar 2022: \u001b[31mBelgium\u001b[0m\n",
      "Fourth place of the World Cup Qatar 2022: \u001b[40m\u001b[37mEngland\u001b[0m\n"
     ]
    }
   ],
   "source": [
    "# third place play-off\n",
    "third_out = predict_match(*to_third_place_playoff, shoot_out=1)\n",
    "third = to_third_place_playoff[1 - int(third_out>0.5)]\n",
    "fourth = to_third_place_playoff[int(third_out>0.5)]\n",
    "\n",
    "# Final \n",
    "final_out = predict_match(*to_final, shoot_out=1)\n",
    "Winner = to_final[1 - int(final_out>0.5)]\n",
    "second = to_final[int(final_out>0.5)]\n",
    "\n",
    "print(f\"Winner of the World Cup Qatar 2022: {colored(Winner, 'yellow')}\")\n",
    "print(f\"Second place of the World Cup Qatar 2022: {colored(second, 'blue')}\")\n",
    "print(f\"Third place of the World Cup Qatar 2022: {colored(third, 'red')}\")\n",
    "print(f\"Fourth place of the World Cup Qatar 2022:\", end=' ')\n",
    "cprint(fourth, 'white', 'on_grey')"
   ]
  }
 ],
 "metadata": {
  "kernelspec": {
   "display_name": "Python 3 (ipykernel)",
   "language": "python",
   "name": "python3"
  },
  "language_info": {
   "codemirror_mode": {
    "name": "ipython",
    "version": 3
   },
   "file_extension": ".py",
   "mimetype": "text/x-python",
   "name": "python",
   "nbconvert_exporter": "python",
   "pygments_lexer": "ipython3",
   "version": "3.8.10"
  },
  "papermill": {
   "default_parameters": {},
   "duration": 57.043328,
   "end_time": "2022-11-18T12:46:19.551005",
   "environment_variables": {},
   "exception": null,
   "input_path": "__notebook__.ipynb",
   "output_path": "__notebook__.ipynb",
   "parameters": {},
   "start_time": "2022-11-18T12:45:22.507677",
   "version": "2.3.4"
  }
 },
 "nbformat": 4,
 "nbformat_minor": 5
}
